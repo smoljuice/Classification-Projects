{
  "nbformat": 4,
  "nbformat_minor": 0,
  "metadata": {
    "colab": {
      "name": "PA 2 DW HW 4.ipynb",
      "provenance": []
    },
    "kernelspec": {
      "name": "python3",
      "display_name": "Python 3"
    },
    "language_info": {
      "name": "python"
    }
  },
  "cells": [
    {
      "cell_type": "code",
      "execution_count": 1,
      "metadata": {
        "colab": {
          "base_uri": "https://localhost:8080/"
        },
        "id": "ARC6VIs0Y6hT",
        "outputId": "82f24687-91c6-46f7-9ad9-78194855027a"
      },
      "outputs": [
        {
          "output_type": "stream",
          "name": "stdout",
          "text": [
            "Requirement already satisfied: dmba in /usr/local/lib/python3.7/dist-packages (0.1.0)\n",
            "no display found. Using non-interactive Agg backend\n"
          ]
        }
      ],
      "source": [
        "!pip install dmba\n",
        "import dmba\n",
        "import pandas as pd\n",
        "from sklearn.model_selection import train_test_split\n",
        "from sklearn.neural_network import MLPRegressor\n",
        "from dmba import regressionSummary"
      ]
    },
    {
      "cell_type": "code",
      "source": [
        "df = pd.read_csv('ToyotaCorolla.csv')"
      ],
      "metadata": {
        "id": "YJNm6Mi7aW-m"
      },
      "execution_count": 2,
      "outputs": []
    },
    {
      "cell_type": "code",
      "source": [
        "df.head()"
      ],
      "metadata": {
        "colab": {
          "base_uri": "https://localhost:8080/",
          "height": 803
        },
        "id": "2C5M1GMDa85M",
        "outputId": "5269e7be-b785-494f-cd13-9d84e8b7e7b2"
      },
      "execution_count": 3,
      "outputs": [
        {
          "output_type": "execute_result",
          "data": {
            "text/plain": [
              "   Id                                          Model  Price  Age_08_04  \\\n",
              "0   1  TOYOTA Corolla 2.0 D4D HATCHB TERRA 2/3-Doors  13500         23   \n",
              "1   2  TOYOTA Corolla 2.0 D4D HATCHB TERRA 2/3-Doors  13750         23   \n",
              "2   3  TOYOTA Corolla 2.0 D4D HATCHB TERRA 2/3-Doors  13950         24   \n",
              "3   4  TOYOTA Corolla 2.0 D4D HATCHB TERRA 2/3-Doors  14950         26   \n",
              "4   5    TOYOTA Corolla 2.0 D4D HATCHB SOL 2/3-Doors  13750         30   \n",
              "\n",
              "   Mfg_Month  Mfg_Year     KM Fuel_Type  HP  Met_Color  ... Powered_Windows  \\\n",
              "0         10      2002  46986    Diesel  90          1  ...               1   \n",
              "1         10      2002  72937    Diesel  90          1  ...               0   \n",
              "2          9      2002  41711    Diesel  90          1  ...               0   \n",
              "3          7      2002  48000    Diesel  90          0  ...               0   \n",
              "4          3      2002  38500    Diesel  90          0  ...               1   \n",
              "\n",
              "   Power_Steering  Radio  Mistlamps  Sport_Model  Backseat_Divider  \\\n",
              "0               1      0          0            0                 1   \n",
              "1               1      0          0            0                 1   \n",
              "2               1      0          0            0                 1   \n",
              "3               1      0          0            0                 1   \n",
              "4               1      0          1            0                 1   \n",
              "\n",
              "   Metallic_Rim  Radio_cassette  Parking_Assistant  Tow_Bar  \n",
              "0             0               0                  0        0  \n",
              "1             0               0                  0        0  \n",
              "2             0               0                  0        0  \n",
              "3             0               0                  0        0  \n",
              "4             0               0                  0        0  \n",
              "\n",
              "[5 rows x 39 columns]"
            ],
            "text/html": [
              "\n",
              "  <div id=\"df-59b38447-acc4-457a-8183-ce5a0c50aaed\">\n",
              "    <div class=\"colab-df-container\">\n",
              "      <div>\n",
              "<style scoped>\n",
              "    .dataframe tbody tr th:only-of-type {\n",
              "        vertical-align: middle;\n",
              "    }\n",
              "\n",
              "    .dataframe tbody tr th {\n",
              "        vertical-align: top;\n",
              "    }\n",
              "\n",
              "    .dataframe thead th {\n",
              "        text-align: right;\n",
              "    }\n",
              "</style>\n",
              "<table border=\"1\" class=\"dataframe\">\n",
              "  <thead>\n",
              "    <tr style=\"text-align: right;\">\n",
              "      <th></th>\n",
              "      <th>Id</th>\n",
              "      <th>Model</th>\n",
              "      <th>Price</th>\n",
              "      <th>Age_08_04</th>\n",
              "      <th>Mfg_Month</th>\n",
              "      <th>Mfg_Year</th>\n",
              "      <th>KM</th>\n",
              "      <th>Fuel_Type</th>\n",
              "      <th>HP</th>\n",
              "      <th>Met_Color</th>\n",
              "      <th>...</th>\n",
              "      <th>Powered_Windows</th>\n",
              "      <th>Power_Steering</th>\n",
              "      <th>Radio</th>\n",
              "      <th>Mistlamps</th>\n",
              "      <th>Sport_Model</th>\n",
              "      <th>Backseat_Divider</th>\n",
              "      <th>Metallic_Rim</th>\n",
              "      <th>Radio_cassette</th>\n",
              "      <th>Parking_Assistant</th>\n",
              "      <th>Tow_Bar</th>\n",
              "    </tr>\n",
              "  </thead>\n",
              "  <tbody>\n",
              "    <tr>\n",
              "      <th>0</th>\n",
              "      <td>1</td>\n",
              "      <td>TOYOTA Corolla 2.0 D4D HATCHB TERRA 2/3-Doors</td>\n",
              "      <td>13500</td>\n",
              "      <td>23</td>\n",
              "      <td>10</td>\n",
              "      <td>2002</td>\n",
              "      <td>46986</td>\n",
              "      <td>Diesel</td>\n",
              "      <td>90</td>\n",
              "      <td>1</td>\n",
              "      <td>...</td>\n",
              "      <td>1</td>\n",
              "      <td>1</td>\n",
              "      <td>0</td>\n",
              "      <td>0</td>\n",
              "      <td>0</td>\n",
              "      <td>1</td>\n",
              "      <td>0</td>\n",
              "      <td>0</td>\n",
              "      <td>0</td>\n",
              "      <td>0</td>\n",
              "    </tr>\n",
              "    <tr>\n",
              "      <th>1</th>\n",
              "      <td>2</td>\n",
              "      <td>TOYOTA Corolla 2.0 D4D HATCHB TERRA 2/3-Doors</td>\n",
              "      <td>13750</td>\n",
              "      <td>23</td>\n",
              "      <td>10</td>\n",
              "      <td>2002</td>\n",
              "      <td>72937</td>\n",
              "      <td>Diesel</td>\n",
              "      <td>90</td>\n",
              "      <td>1</td>\n",
              "      <td>...</td>\n",
              "      <td>0</td>\n",
              "      <td>1</td>\n",
              "      <td>0</td>\n",
              "      <td>0</td>\n",
              "      <td>0</td>\n",
              "      <td>1</td>\n",
              "      <td>0</td>\n",
              "      <td>0</td>\n",
              "      <td>0</td>\n",
              "      <td>0</td>\n",
              "    </tr>\n",
              "    <tr>\n",
              "      <th>2</th>\n",
              "      <td>3</td>\n",
              "      <td>TOYOTA Corolla 2.0 D4D HATCHB TERRA 2/3-Doors</td>\n",
              "      <td>13950</td>\n",
              "      <td>24</td>\n",
              "      <td>9</td>\n",
              "      <td>2002</td>\n",
              "      <td>41711</td>\n",
              "      <td>Diesel</td>\n",
              "      <td>90</td>\n",
              "      <td>1</td>\n",
              "      <td>...</td>\n",
              "      <td>0</td>\n",
              "      <td>1</td>\n",
              "      <td>0</td>\n",
              "      <td>0</td>\n",
              "      <td>0</td>\n",
              "      <td>1</td>\n",
              "      <td>0</td>\n",
              "      <td>0</td>\n",
              "      <td>0</td>\n",
              "      <td>0</td>\n",
              "    </tr>\n",
              "    <tr>\n",
              "      <th>3</th>\n",
              "      <td>4</td>\n",
              "      <td>TOYOTA Corolla 2.0 D4D HATCHB TERRA 2/3-Doors</td>\n",
              "      <td>14950</td>\n",
              "      <td>26</td>\n",
              "      <td>7</td>\n",
              "      <td>2002</td>\n",
              "      <td>48000</td>\n",
              "      <td>Diesel</td>\n",
              "      <td>90</td>\n",
              "      <td>0</td>\n",
              "      <td>...</td>\n",
              "      <td>0</td>\n",
              "      <td>1</td>\n",
              "      <td>0</td>\n",
              "      <td>0</td>\n",
              "      <td>0</td>\n",
              "      <td>1</td>\n",
              "      <td>0</td>\n",
              "      <td>0</td>\n",
              "      <td>0</td>\n",
              "      <td>0</td>\n",
              "    </tr>\n",
              "    <tr>\n",
              "      <th>4</th>\n",
              "      <td>5</td>\n",
              "      <td>TOYOTA Corolla 2.0 D4D HATCHB SOL 2/3-Doors</td>\n",
              "      <td>13750</td>\n",
              "      <td>30</td>\n",
              "      <td>3</td>\n",
              "      <td>2002</td>\n",
              "      <td>38500</td>\n",
              "      <td>Diesel</td>\n",
              "      <td>90</td>\n",
              "      <td>0</td>\n",
              "      <td>...</td>\n",
              "      <td>1</td>\n",
              "      <td>1</td>\n",
              "      <td>0</td>\n",
              "      <td>1</td>\n",
              "      <td>0</td>\n",
              "      <td>1</td>\n",
              "      <td>0</td>\n",
              "      <td>0</td>\n",
              "      <td>0</td>\n",
              "      <td>0</td>\n",
              "    </tr>\n",
              "  </tbody>\n",
              "</table>\n",
              "<p>5 rows × 39 columns</p>\n",
              "</div>\n",
              "      <button class=\"colab-df-convert\" onclick=\"convertToInteractive('df-59b38447-acc4-457a-8183-ce5a0c50aaed')\"\n",
              "              title=\"Convert this dataframe to an interactive table.\"\n",
              "              style=\"display:none;\">\n",
              "        \n",
              "  <svg xmlns=\"http://www.w3.org/2000/svg\" height=\"24px\"viewBox=\"0 0 24 24\"\n",
              "       width=\"24px\">\n",
              "    <path d=\"M0 0h24v24H0V0z\" fill=\"none\"/>\n",
              "    <path d=\"M18.56 5.44l.94 2.06.94-2.06 2.06-.94-2.06-.94-.94-2.06-.94 2.06-2.06.94zm-11 1L8.5 8.5l.94-2.06 2.06-.94-2.06-.94L8.5 2.5l-.94 2.06-2.06.94zm10 10l.94 2.06.94-2.06 2.06-.94-2.06-.94-.94-2.06-.94 2.06-2.06.94z\"/><path d=\"M17.41 7.96l-1.37-1.37c-.4-.4-.92-.59-1.43-.59-.52 0-1.04.2-1.43.59L10.3 9.45l-7.72 7.72c-.78.78-.78 2.05 0 2.83L4 21.41c.39.39.9.59 1.41.59.51 0 1.02-.2 1.41-.59l7.78-7.78 2.81-2.81c.8-.78.8-2.07 0-2.86zM5.41 20L4 18.59l7.72-7.72 1.47 1.35L5.41 20z\"/>\n",
              "  </svg>\n",
              "      </button>\n",
              "      \n",
              "  <style>\n",
              "    .colab-df-container {\n",
              "      display:flex;\n",
              "      flex-wrap:wrap;\n",
              "      gap: 12px;\n",
              "    }\n",
              "\n",
              "    .colab-df-convert {\n",
              "      background-color: #E8F0FE;\n",
              "      border: none;\n",
              "      border-radius: 50%;\n",
              "      cursor: pointer;\n",
              "      display: none;\n",
              "      fill: #1967D2;\n",
              "      height: 32px;\n",
              "      padding: 0 0 0 0;\n",
              "      width: 32px;\n",
              "    }\n",
              "\n",
              "    .colab-df-convert:hover {\n",
              "      background-color: #E2EBFA;\n",
              "      box-shadow: 0px 1px 2px rgba(60, 64, 67, 0.3), 0px 1px 3px 1px rgba(60, 64, 67, 0.15);\n",
              "      fill: #174EA6;\n",
              "    }\n",
              "\n",
              "    [theme=dark] .colab-df-convert {\n",
              "      background-color: #3B4455;\n",
              "      fill: #D2E3FC;\n",
              "    }\n",
              "\n",
              "    [theme=dark] .colab-df-convert:hover {\n",
              "      background-color: #434B5C;\n",
              "      box-shadow: 0px 1px 3px 1px rgba(0, 0, 0, 0.15);\n",
              "      filter: drop-shadow(0px 1px 2px rgba(0, 0, 0, 0.3));\n",
              "      fill: #FFFFFF;\n",
              "    }\n",
              "  </style>\n",
              "\n",
              "      <script>\n",
              "        const buttonEl =\n",
              "          document.querySelector('#df-59b38447-acc4-457a-8183-ce5a0c50aaed button.colab-df-convert');\n",
              "        buttonEl.style.display =\n",
              "          google.colab.kernel.accessAllowed ? 'block' : 'none';\n",
              "\n",
              "        async function convertToInteractive(key) {\n",
              "          const element = document.querySelector('#df-59b38447-acc4-457a-8183-ce5a0c50aaed');\n",
              "          const dataTable =\n",
              "            await google.colab.kernel.invokeFunction('convertToInteractive',\n",
              "                                                     [key], {});\n",
              "          if (!dataTable) return;\n",
              "\n",
              "          const docLinkHtml = 'Like what you see? Visit the ' +\n",
              "            '<a target=\"_blank\" href=https://colab.research.google.com/notebooks/data_table.ipynb>data table notebook</a>'\n",
              "            + ' to learn more about interactive tables.';\n",
              "          element.innerHTML = '';\n",
              "          dataTable['output_type'] = 'display_data';\n",
              "          await google.colab.output.renderOutput(dataTable, element);\n",
              "          const docLink = document.createElement('div');\n",
              "          docLink.innerHTML = docLinkHtml;\n",
              "          element.appendChild(docLink);\n",
              "        }\n",
              "      </script>\n",
              "    </div>\n",
              "  </div>\n",
              "  "
            ]
          },
          "metadata": {},
          "execution_count": 3
        }
      ]
    },
    {
      "cell_type": "code",
      "source": [
        "df.info()"
      ],
      "metadata": {
        "colab": {
          "base_uri": "https://localhost:8080/"
        },
        "id": "WGx16yD2bzWe",
        "outputId": "0a3e3b0f-8a29-462c-8806-270330a9acda"
      },
      "execution_count": 4,
      "outputs": [
        {
          "output_type": "stream",
          "name": "stdout",
          "text": [
            "<class 'pandas.core.frame.DataFrame'>\n",
            "RangeIndex: 1436 entries, 0 to 1435\n",
            "Data columns (total 39 columns):\n",
            " #   Column             Non-Null Count  Dtype \n",
            "---  ------             --------------  ----- \n",
            " 0   Id                 1436 non-null   int64 \n",
            " 1   Model              1436 non-null   object\n",
            " 2   Price              1436 non-null   int64 \n",
            " 3   Age_08_04          1436 non-null   int64 \n",
            " 4   Mfg_Month          1436 non-null   int64 \n",
            " 5   Mfg_Year           1436 non-null   int64 \n",
            " 6   KM                 1436 non-null   int64 \n",
            " 7   Fuel_Type          1436 non-null   object\n",
            " 8   HP                 1436 non-null   int64 \n",
            " 9   Met_Color          1436 non-null   int64 \n",
            " 10  Color              1436 non-null   object\n",
            " 11  Automatic          1436 non-null   int64 \n",
            " 12  CC                 1436 non-null   int64 \n",
            " 13  Doors              1436 non-null   int64 \n",
            " 14  Cylinders          1436 non-null   int64 \n",
            " 15  Gears              1436 non-null   int64 \n",
            " 16  Quarterly_Tax      1436 non-null   int64 \n",
            " 17  Weight             1436 non-null   int64 \n",
            " 18  Mfr_Guarantee      1436 non-null   int64 \n",
            " 19  BOVAG_Guarantee    1436 non-null   int64 \n",
            " 20  Guarantee_Period   1436 non-null   int64 \n",
            " 21  ABS                1436 non-null   int64 \n",
            " 22  Airbag_1           1436 non-null   int64 \n",
            " 23  Airbag_2           1436 non-null   int64 \n",
            " 24  Airco              1436 non-null   int64 \n",
            " 25  Automatic_airco    1436 non-null   int64 \n",
            " 26  Boardcomputer      1436 non-null   int64 \n",
            " 27  CD_Player          1436 non-null   int64 \n",
            " 28  Central_Lock       1436 non-null   int64 \n",
            " 29  Powered_Windows    1436 non-null   int64 \n",
            " 30  Power_Steering     1436 non-null   int64 \n",
            " 31  Radio              1436 non-null   int64 \n",
            " 32  Mistlamps          1436 non-null   int64 \n",
            " 33  Sport_Model        1436 non-null   int64 \n",
            " 34  Backseat_Divider   1436 non-null   int64 \n",
            " 35  Metallic_Rim       1436 non-null   int64 \n",
            " 36  Radio_cassette     1436 non-null   int64 \n",
            " 37  Parking_Assistant  1436 non-null   int64 \n",
            " 38  Tow_Bar            1436 non-null   int64 \n",
            "dtypes: int64(36), object(3)\n",
            "memory usage: 437.7+ KB\n"
          ]
        }
      ]
    },
    {
      "cell_type": "code",
      "source": [
        "predictors = ['Age_08_04','KM','Fuel_Type','HP','Automatic','Doors','Quarterly_Tax','Mfr_Guarantee','Guarantee_Period','Airco','Automatic_airco','CD_Player','Powered_Windows','Sport_Model','Tow_Bar']\n",
        "outcome = 'Price'"
      ],
      "metadata": {
        "id": "aRopMVPtaw05"
      },
      "execution_count": 5,
      "outputs": []
    },
    {
      "cell_type": "code",
      "source": [
        "# partition data\n",
        "X = pd.get_dummies(df[predictors], drop_first=True)\n",
        "y = df[outcome]\n",
        "minY = y.min()\n",
        "rangeY = (y.max() - y.min())\n",
        "y = (y - minY) / rangeY\n",
        "X_train, X_valid, y_train, y_valid = train_test_split(X, y, test_size = 0.4, random_state = 1)"
      ],
      "metadata": {
        "id": "LUD0P6jbcJOi"
      },
      "execution_count": 6,
      "outputs": []
    },
    {
      "cell_type": "code",
      "source": [
        "from sklearn.preprocessing import MinMaxScaler"
      ],
      "metadata": {
        "id": "FfJmRlfsd7hf"
      },
      "execution_count": 7,
      "outputs": []
    },
    {
      "cell_type": "code",
      "source": [
        "scaler = MinMaxScaler()"
      ],
      "metadata": {
        "id": "9x912Lo8d8vD"
      },
      "execution_count": 8,
      "outputs": []
    },
    {
      "cell_type": "code",
      "source": [
        "# standardize the data\n",
        "scaler.fit(X_train[['Age_08_04','KM','HP','Automatic','Doors','Quarterly_Tax','Mfr_Guarantee','Guarantee_Period','Airco','Automatic_airco','CD_Player','Powered_Windows','Sport_Model','Tow_Bar']])"
      ],
      "metadata": {
        "colab": {
          "base_uri": "https://localhost:8080/"
        },
        "id": "C5zddQYVc2Yp",
        "outputId": "3d14e220-b68f-4194-d900-c22ce8035d51"
      },
      "execution_count": 9,
      "outputs": [
        {
          "output_type": "execute_result",
          "data": {
            "text/plain": [
              "MinMaxScaler()"
            ]
          },
          "metadata": {},
          "execution_count": 9
        }
      ]
    },
    {
      "cell_type": "code",
      "source": [
        "priceNorm = pd.concat([pd.DataFrame(scaler.transform(df[['Age_08_04','KM','HP','Automatic','Doors','Quarterly_Tax','Mfr_Guarantee','Guarantee_Period','Airco','Automatic_airco','CD_Player','Powered_Windows','Sport_Model','Tow_Bar']]),\n",
        "                                  columns = ['zAge_08_04','zKM','zHP','zAutomatic','zDoors','zQuarterly_Tax','zMfr_Guarantee','zGuarantee_Period','zAirco','zAutomatic_airco','zCD_Player','zPowered_Windows','zSport_Model','zTow_Bar']),\n",
        "                     df[['Price']]], axis = 1)"
      ],
      "metadata": {
        "id": "cVo_XXE3ds7q"
      },
      "execution_count": 10,
      "outputs": []
    },
    {
      "cell_type": "code",
      "source": [
        "X_trainNorm = priceNorm.iloc[X_train.index]\n",
        "X_validNorm = priceNorm.iloc[X_valid.index]"
      ],
      "metadata": {
        "id": "qW8m0WEam8bv"
      },
      "execution_count": 11,
      "outputs": []
    },
    {
      "cell_type": "code",
      "source": [
        "X_train = X_trainNorm[['zAge_08_04','zKM','zHP','zAutomatic','zDoors','zQuarterly_Tax','zMfr_Guarantee','zGuarantee_Period','zAirco','zAutomatic_airco','zCD_Player','zPowered_Windows','zSport_Model','zTow_Bar']]\n",
        "X_valid = X_validNorm[['zAge_08_04','zKM','zHP','zAutomatic','zDoors','zQuarterly_Tax','zMfr_Guarantee','zGuarantee_Period','zAirco','zAutomatic_airco','zCD_Player','zPowered_Windows','zSport_Model','zTow_Bar']]"
      ],
      "metadata": {
        "id": "Yw65BOP0fwRJ"
      },
      "execution_count": 12,
      "outputs": []
    },
    {
      "cell_type": "code",
      "source": [
        "# fit the model \n",
        "model_1 = MLPRegressor(hidden_layer_sizes=(2), activation='logistic', solver='lbfgs', random_state=1)"
      ],
      "metadata": {
        "id": "7X-fkaa5gLVs"
      },
      "execution_count": 13,
      "outputs": []
    },
    {
      "cell_type": "code",
      "source": [
        "model_1.fit(X_train, y_train)"
      ],
      "metadata": {
        "colab": {
          "base_uri": "https://localhost:8080/"
        },
        "id": "dHHEQqDKhAal",
        "outputId": "3d8cd334-464a-4cdd-885c-1cfe96b324cd"
      },
      "execution_count": 14,
      "outputs": [
        {
          "output_type": "execute_result",
          "data": {
            "text/plain": [
              "MLPRegressor(activation='logistic', hidden_layer_sizes=2, random_state=1,\n",
              "             solver='lbfgs')"
            ]
          },
          "metadata": {},
          "execution_count": 14
        }
      ]
    },
    {
      "cell_type": "code",
      "source": [
        "y_pred_train = model_1.predict(X_train)"
      ],
      "metadata": {
        "id": "RouD3h8fo04l"
      },
      "execution_count": 15,
      "outputs": []
    },
    {
      "cell_type": "code",
      "source": [
        "y_pred_train = y_pred_train * rangeY + minY\n",
        "y_train = y_train * rangeY + minY"
      ],
      "metadata": {
        "id": "PlFbBGOlo0t9"
      },
      "execution_count": 16,
      "outputs": []
    },
    {
      "cell_type": "code",
      "source": [
        "# evaluate the model\n",
        "regressionSummary(y_train, y_pred_train)"
      ],
      "metadata": {
        "colab": {
          "base_uri": "https://localhost:8080/"
        },
        "id": "oOrvb8H9o0e4",
        "outputId": "71b5bfb6-cd52-47d5-abc1-196309e3f1a0"
      },
      "execution_count": 17,
      "outputs": [
        {
          "output_type": "stream",
          "name": "stdout",
          "text": [
            "\n",
            "Regression statistics\n",
            "\n",
            "                      Mean Error (ME) : -0.5884\n",
            "       Root Mean Squared Error (RMSE) : 1108.9802\n",
            "            Mean Absolute Error (MAE) : 827.7687\n",
            "          Mean Percentage Error (MPE) : -1.1549\n",
            "Mean Absolute Percentage Error (MAPE) : 8.0999\n"
          ]
        }
      ]
    },
    {
      "cell_type": "code",
      "source": [
        "y_pred = model_1.predict(X_valid)"
      ],
      "metadata": {
        "id": "xvyIMUp7li5u"
      },
      "execution_count": 18,
      "outputs": []
    },
    {
      "cell_type": "code",
      "source": [
        "y_pred = y_pred * rangeY + minY\n",
        "y_valid = y_valid * rangeY + minY"
      ],
      "metadata": {
        "id": "CjW73V0zlm5e"
      },
      "execution_count": 19,
      "outputs": []
    },
    {
      "cell_type": "code",
      "source": [
        "# evaluate the model\n",
        "regressionSummary(y_valid, y_pred)"
      ],
      "metadata": {
        "colab": {
          "base_uri": "https://localhost:8080/"
        },
        "id": "xkNnFXa3ksMD",
        "outputId": "73f596c3-f949-408f-84e0-c012355d889a"
      },
      "execution_count": 20,
      "outputs": [
        {
          "output_type": "stream",
          "name": "stdout",
          "text": [
            "\n",
            "Regression statistics\n",
            "\n",
            "                      Mean Error (ME) : 67.3723\n",
            "       Root Mean Squared Error (RMSE) : 1104.3089\n",
            "            Mean Absolute Error (MAE) : 872.9668\n",
            "          Mean Percentage Error (MPE) : -0.5376\n",
            "Mean Absolute Percentage Error (MAPE) : 8.7825\n"
          ]
        }
      ]
    },
    {
      "cell_type": "code",
      "source": [
        "# Question 1: RMSE for training data: 1108.9802, RMSE for validation data: 1104.3089"
      ],
      "metadata": {
        "id": "WFbndE49k1O1"
      },
      "execution_count": 21,
      "outputs": []
    },
    {
      "cell_type": "code",
      "source": [
        "# partition data\n",
        "X = pd.get_dummies(df[predictors], drop_first=True)\n",
        "y = df[outcome]\n",
        "minY = y.min()\n",
        "rangeY = (y.max() - y.min())\n",
        "y = (y - minY) / rangeY\n",
        "X_train, X_valid, y_train, y_valid = train_test_split(X, y, test_size = 0.4, random_state = 1)"
      ],
      "metadata": {
        "id": "MnEGKCZgp0uj"
      },
      "execution_count": 22,
      "outputs": []
    },
    {
      "cell_type": "code",
      "source": [
        "# standardize the data\n",
        "scaler.fit(X_train[['Age_08_04','KM','HP','Automatic','Doors','Quarterly_Tax','Mfr_Guarantee','Guarantee_Period','Airco','Automatic_airco','CD_Player','Powered_Windows','Sport_Model','Tow_Bar']])"
      ],
      "metadata": {
        "colab": {
          "base_uri": "https://localhost:8080/"
        },
        "id": "CyRopp2yqAPB",
        "outputId": "efda3d99-add0-4ab6-b71f-d5c3875fe7e5"
      },
      "execution_count": 23,
      "outputs": [
        {
          "output_type": "execute_result",
          "data": {
            "text/plain": [
              "MinMaxScaler()"
            ]
          },
          "metadata": {},
          "execution_count": 23
        }
      ]
    },
    {
      "cell_type": "code",
      "source": [
        "priceNorm = pd.concat([pd.DataFrame(scaler.transform(df[['Age_08_04','KM','HP','Automatic','Doors','Quarterly_Tax','Mfr_Guarantee','Guarantee_Period','Airco','Automatic_airco','CD_Player','Powered_Windows','Sport_Model','Tow_Bar']]),\n",
        "                                  columns = ['zAge_08_04','zKM','zHP','zAutomatic','zDoors','zQuarterly_Tax','zMfr_Guarantee','zGuarantee_Period','zAirco','zAutomatic_airco','zCD_Player','zPowered_Windows','zSport_Model','zTow_Bar']),\n",
        "                     df[['Price']]], axis = 1)"
      ],
      "metadata": {
        "id": "2aXlLlyoqHQz"
      },
      "execution_count": 24,
      "outputs": []
    },
    {
      "cell_type": "code",
      "source": [
        "X_trainNorm = priceNorm.iloc[X_train.index]\n",
        "X_validNorm = priceNorm.iloc[X_valid.index]"
      ],
      "metadata": {
        "id": "oTRq9LoEqM_S"
      },
      "execution_count": 25,
      "outputs": []
    },
    {
      "cell_type": "code",
      "source": [
        "X_train = X_trainNorm[['zAge_08_04','zKM','zHP','zAutomatic','zDoors','zQuarterly_Tax','zMfr_Guarantee','zGuarantee_Period','zAirco','zAutomatic_airco','zCD_Player','zPowered_Windows','zSport_Model','zTow_Bar']]\n",
        "X_valid = X_validNorm[['zAge_08_04','zKM','zHP','zAutomatic','zDoors','zQuarterly_Tax','zMfr_Guarantee','zGuarantee_Period','zAirco','zAutomatic_airco','zCD_Player','zPowered_Windows','zSport_Model','zTow_Bar']]"
      ],
      "metadata": {
        "id": "D1e2YGPpqPPi"
      },
      "execution_count": 26,
      "outputs": []
    },
    {
      "cell_type": "code",
      "source": [
        "# fit the model \n",
        "model_2 = MLPRegressor(hidden_layer_sizes=(5,5), activation='logistic', solver='lbfgs', random_state=1)"
      ],
      "metadata": {
        "id": "s1W-EIzGqROa"
      },
      "execution_count": 27,
      "outputs": []
    },
    {
      "cell_type": "code",
      "source": [
        "model_2.fit(X_train, y_train)"
      ],
      "metadata": {
        "colab": {
          "base_uri": "https://localhost:8080/"
        },
        "id": "V2CFuYR9qU7P",
        "outputId": "16addaf3-bfb1-4dba-98bb-4a67c09eae1e"
      },
      "execution_count": 28,
      "outputs": [
        {
          "output_type": "execute_result",
          "data": {
            "text/plain": [
              "MLPRegressor(activation='logistic', hidden_layer_sizes=(5, 5), random_state=1,\n",
              "             solver='lbfgs')"
            ]
          },
          "metadata": {},
          "execution_count": 28
        }
      ]
    },
    {
      "cell_type": "code",
      "source": [
        "y_pred_train = model_2.predict(X_train)"
      ],
      "metadata": {
        "id": "HNXa_40fqqrc"
      },
      "execution_count": 29,
      "outputs": []
    },
    {
      "cell_type": "code",
      "source": [
        "y_pred_train = y_pred_train * rangeY + minY\n",
        "y_train = y_train * rangeY + minY"
      ],
      "metadata": {
        "id": "Q0qE_XxQquPU"
      },
      "execution_count": 30,
      "outputs": []
    },
    {
      "cell_type": "code",
      "source": [
        "# evaluate the model\n",
        "regressionSummary(y_train, y_pred_train)"
      ],
      "metadata": {
        "colab": {
          "base_uri": "https://localhost:8080/"
        },
        "id": "9qqEK8Z3qwD9",
        "outputId": "f212b48c-9323-45bf-d0f6-7d1271f80828"
      },
      "execution_count": 31,
      "outputs": [
        {
          "output_type": "stream",
          "name": "stdout",
          "text": [
            "\n",
            "Regression statistics\n",
            "\n",
            "                      Mean Error (ME) : -0.9852\n",
            "       Root Mean Squared Error (RMSE) : 1098.7139\n",
            "            Mean Absolute Error (MAE) : 817.6844\n",
            "          Mean Percentage Error (MPE) : -1.1179\n",
            "Mean Absolute Percentage Error (MAPE) : 8.0340\n"
          ]
        }
      ]
    },
    {
      "cell_type": "code",
      "source": [
        "y_pred = model_2.predict(X_valid)"
      ],
      "metadata": {
        "id": "hRi3pCKWqygL"
      },
      "execution_count": 32,
      "outputs": []
    },
    {
      "cell_type": "code",
      "source": [
        "y_pred = y_pred * rangeY + minY\n",
        "y_valid = y_valid * rangeY + minY"
      ],
      "metadata": {
        "id": "PCbihwj4q1XB"
      },
      "execution_count": 33,
      "outputs": []
    },
    {
      "cell_type": "code",
      "source": [
        "# evaluate the model\n",
        "regressionSummary(y_valid, y_pred)"
      ],
      "metadata": {
        "colab": {
          "base_uri": "https://localhost:8080/"
        },
        "id": "lGLdwC9Eq23l",
        "outputId": "82a83562-95af-481f-e7d6-88451cebbd2e"
      },
      "execution_count": 34,
      "outputs": [
        {
          "output_type": "stream",
          "name": "stdout",
          "text": [
            "\n",
            "Regression statistics\n",
            "\n",
            "                      Mean Error (ME) : 64.5413\n",
            "       Root Mean Squared Error (RMSE) : 1084.7084\n",
            "            Mean Absolute Error (MAE) : 856.1120\n",
            "          Mean Percentage Error (MPE) : -0.5898\n",
            "Mean Absolute Percentage Error (MAPE) : 8.6758\n"
          ]
        }
      ]
    },
    {
      "cell_type": "code",
      "source": [
        "# Question 2: Increasing the number of both nodes and layers decreased the RMSE for both the training and validation data. \n",
        "# For this application, it seems that having 2 layers of 5 nodes each is preferable to a single layer with two nodes."
      ],
      "metadata": {
        "id": "wP41D4Yaq4RL"
      },
      "execution_count": 35,
      "outputs": []
    },
    {
      "cell_type": "code",
      "source": [
        ""
      ],
      "metadata": {
        "id": "-YpqlFjZrVTz"
      },
      "execution_count": null,
      "outputs": []
    }
  ]
}