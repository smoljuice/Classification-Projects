{
  "nbformat": 4,
  "nbformat_minor": 0,
  "metadata": {
    "colab": {
      "name": "PA2 DW HW 3.ipynb",
      "provenance": []
    },
    "kernelspec": {
      "name": "python3",
      "display_name": "Python 3"
    },
    "language_info": {
      "name": "python"
    }
  },
  "cells": [
    {
      "cell_type": "code",
      "execution_count": 1,
      "metadata": {
        "id": "YGCozmFVEbrm",
        "colab": {
          "base_uri": "https://localhost:8080/"
        },
        "outputId": "00b17265-9d4c-405b-f75d-29c5326ec4ff"
      },
      "outputs": [
        {
          "output_type": "stream",
          "name": "stdout",
          "text": [
            "Collecting dmba\n",
            "  Downloading dmba-0.1.0-py3-none-any.whl (11.8 MB)\n",
            "\u001b[K     |████████████████████████████████| 11.8 MB 6.9 MB/s \n",
            "\u001b[?25hInstalling collected packages: dmba\n",
            "Successfully installed dmba-0.1.0\n",
            "Collecting mord\n",
            "  Downloading mord-0.6.tar.gz (4.7 kB)\n",
            "Building wheels for collected packages: mord\n",
            "  Building wheel for mord (setup.py) ... \u001b[?25l\u001b[?25hdone\n",
            "  Created wheel for mord: filename=mord-0.6-py3-none-any.whl size=6006 sha256=04ff35eb998449808b28af363a71e26aee7e4e161b1083cebfdc967bb7f20afc\n",
            "  Stored in directory: /root/.cache/pip/wheels/80/1d/8a/bef1a01b6a3c91494905d161d5426c181819f9730a773141eb\n",
            "Successfully built mord\n",
            "Installing collected packages: mord\n",
            "Successfully installed mord-0.6\n"
          ]
        },
        {
          "output_type": "stream",
          "name": "stderr",
          "text": [
            "/usr/local/lib/python3.7/dist-packages/statsmodels/tools/_testing.py:19: FutureWarning: pandas.util.testing is deprecated. Use the functions in the public API at pandas.testing instead.\n",
            "  import pandas.util.testing as tm\n"
          ]
        },
        {
          "output_type": "stream",
          "name": "stdout",
          "text": [
            "no display found. Using non-interactive Agg backend\n"
          ]
        }
      ],
      "source": [
        "!pip install dmba\n",
        "!pip install mord\n",
        "import pandas as pd\n",
        "import numpy as np\n",
        "from sklearn.model_selection import train_test_split\n",
        "from sklearn.linear_model import LogisticRegression, LogisticRegressionCV\n",
        "import statsmodels.formula.api as sm\n",
        "from mord import LogisticIT\n",
        "import matplotlib.pylab as plt\n",
        "import seaborn as sns\n",
        "from dmba import classificationSummary, gainsChart, liftChart\n",
        "from dmba.metric import AIC_score"
      ]
    },
    {
      "cell_type": "code",
      "source": [
        "auctions_df = pd.read_csv('eBayAuctions.csv')"
      ],
      "metadata": {
        "id": "OC2JRwrBFpva"
      },
      "execution_count": 2,
      "outputs": []
    },
    {
      "cell_type": "code",
      "source": [
        "auctions_df.info()"
      ],
      "metadata": {
        "colab": {
          "base_uri": "https://localhost:8080/"
        },
        "id": "XYjVQMCFGAJs",
        "outputId": "8cd54eaa-2c00-46ea-8dea-0b5351acde0e"
      },
      "execution_count": 3,
      "outputs": [
        {
          "output_type": "stream",
          "name": "stdout",
          "text": [
            "<class 'pandas.core.frame.DataFrame'>\n",
            "RangeIndex: 1972 entries, 0 to 1971\n",
            "Data columns (total 8 columns):\n",
            " #   Column        Non-Null Count  Dtype  \n",
            "---  ------        --------------  -----  \n",
            " 0   Category      1972 non-null   object \n",
            " 1   currency      1972 non-null   object \n",
            " 2   sellerRating  1972 non-null   int64  \n",
            " 3   Duration      1972 non-null   int64  \n",
            " 4   endDay        1972 non-null   object \n",
            " 5   ClosePrice    1972 non-null   float64\n",
            " 6   OpenPrice     1972 non-null   float64\n",
            " 7   Competitive?  1972 non-null   int64  \n",
            "dtypes: float64(2), int64(3), object(3)\n",
            "memory usage: 123.4+ KB\n"
          ]
        }
      ]
    },
    {
      "cell_type": "code",
      "source": [
        "auctions_df.head()"
      ],
      "metadata": {
        "colab": {
          "base_uri": "https://localhost:8080/",
          "height": 206
        },
        "id": "MmoRLp7hGEuZ",
        "outputId": "9bf7098c-8460-4062-c2a3-a9730f0ddea1"
      },
      "execution_count": 4,
      "outputs": [
        {
          "output_type": "execute_result",
          "data": {
            "text/plain": [
              "           Category currency  sellerRating  Duration endDay  ClosePrice  \\\n",
              "0  Music/Movie/Game       US          3249         5    Mon        0.01   \n",
              "1  Music/Movie/Game       US          3249         5    Mon        0.01   \n",
              "2  Music/Movie/Game       US          3249         5    Mon        0.01   \n",
              "3  Music/Movie/Game       US          3249         5    Mon        0.01   \n",
              "4  Music/Movie/Game       US          3249         5    Mon        0.01   \n",
              "\n",
              "   OpenPrice  Competitive?  \n",
              "0       0.01             0  \n",
              "1       0.01             0  \n",
              "2       0.01             0  \n",
              "3       0.01             0  \n",
              "4       0.01             0  "
            ],
            "text/html": [
              "\n",
              "  <div id=\"df-23039823-847c-43ae-916e-22b40d9fed2c\">\n",
              "    <div class=\"colab-df-container\">\n",
              "      <div>\n",
              "<style scoped>\n",
              "    .dataframe tbody tr th:only-of-type {\n",
              "        vertical-align: middle;\n",
              "    }\n",
              "\n",
              "    .dataframe tbody tr th {\n",
              "        vertical-align: top;\n",
              "    }\n",
              "\n",
              "    .dataframe thead th {\n",
              "        text-align: right;\n",
              "    }\n",
              "</style>\n",
              "<table border=\"1\" class=\"dataframe\">\n",
              "  <thead>\n",
              "    <tr style=\"text-align: right;\">\n",
              "      <th></th>\n",
              "      <th>Category</th>\n",
              "      <th>currency</th>\n",
              "      <th>sellerRating</th>\n",
              "      <th>Duration</th>\n",
              "      <th>endDay</th>\n",
              "      <th>ClosePrice</th>\n",
              "      <th>OpenPrice</th>\n",
              "      <th>Competitive?</th>\n",
              "    </tr>\n",
              "  </thead>\n",
              "  <tbody>\n",
              "    <tr>\n",
              "      <th>0</th>\n",
              "      <td>Music/Movie/Game</td>\n",
              "      <td>US</td>\n",
              "      <td>3249</td>\n",
              "      <td>5</td>\n",
              "      <td>Mon</td>\n",
              "      <td>0.01</td>\n",
              "      <td>0.01</td>\n",
              "      <td>0</td>\n",
              "    </tr>\n",
              "    <tr>\n",
              "      <th>1</th>\n",
              "      <td>Music/Movie/Game</td>\n",
              "      <td>US</td>\n",
              "      <td>3249</td>\n",
              "      <td>5</td>\n",
              "      <td>Mon</td>\n",
              "      <td>0.01</td>\n",
              "      <td>0.01</td>\n",
              "      <td>0</td>\n",
              "    </tr>\n",
              "    <tr>\n",
              "      <th>2</th>\n",
              "      <td>Music/Movie/Game</td>\n",
              "      <td>US</td>\n",
              "      <td>3249</td>\n",
              "      <td>5</td>\n",
              "      <td>Mon</td>\n",
              "      <td>0.01</td>\n",
              "      <td>0.01</td>\n",
              "      <td>0</td>\n",
              "    </tr>\n",
              "    <tr>\n",
              "      <th>3</th>\n",
              "      <td>Music/Movie/Game</td>\n",
              "      <td>US</td>\n",
              "      <td>3249</td>\n",
              "      <td>5</td>\n",
              "      <td>Mon</td>\n",
              "      <td>0.01</td>\n",
              "      <td>0.01</td>\n",
              "      <td>0</td>\n",
              "    </tr>\n",
              "    <tr>\n",
              "      <th>4</th>\n",
              "      <td>Music/Movie/Game</td>\n",
              "      <td>US</td>\n",
              "      <td>3249</td>\n",
              "      <td>5</td>\n",
              "      <td>Mon</td>\n",
              "      <td>0.01</td>\n",
              "      <td>0.01</td>\n",
              "      <td>0</td>\n",
              "    </tr>\n",
              "  </tbody>\n",
              "</table>\n",
              "</div>\n",
              "      <button class=\"colab-df-convert\" onclick=\"convertToInteractive('df-23039823-847c-43ae-916e-22b40d9fed2c')\"\n",
              "              title=\"Convert this dataframe to an interactive table.\"\n",
              "              style=\"display:none;\">\n",
              "        \n",
              "  <svg xmlns=\"http://www.w3.org/2000/svg\" height=\"24px\"viewBox=\"0 0 24 24\"\n",
              "       width=\"24px\">\n",
              "    <path d=\"M0 0h24v24H0V0z\" fill=\"none\"/>\n",
              "    <path d=\"M18.56 5.44l.94 2.06.94-2.06 2.06-.94-2.06-.94-.94-2.06-.94 2.06-2.06.94zm-11 1L8.5 8.5l.94-2.06 2.06-.94-2.06-.94L8.5 2.5l-.94 2.06-2.06.94zm10 10l.94 2.06.94-2.06 2.06-.94-2.06-.94-.94-2.06-.94 2.06-2.06.94z\"/><path d=\"M17.41 7.96l-1.37-1.37c-.4-.4-.92-.59-1.43-.59-.52 0-1.04.2-1.43.59L10.3 9.45l-7.72 7.72c-.78.78-.78 2.05 0 2.83L4 21.41c.39.39.9.59 1.41.59.51 0 1.02-.2 1.41-.59l7.78-7.78 2.81-2.81c.8-.78.8-2.07 0-2.86zM5.41 20L4 18.59l7.72-7.72 1.47 1.35L5.41 20z\"/>\n",
              "  </svg>\n",
              "      </button>\n",
              "      \n",
              "  <style>\n",
              "    .colab-df-container {\n",
              "      display:flex;\n",
              "      flex-wrap:wrap;\n",
              "      gap: 12px;\n",
              "    }\n",
              "\n",
              "    .colab-df-convert {\n",
              "      background-color: #E8F0FE;\n",
              "      border: none;\n",
              "      border-radius: 50%;\n",
              "      cursor: pointer;\n",
              "      display: none;\n",
              "      fill: #1967D2;\n",
              "      height: 32px;\n",
              "      padding: 0 0 0 0;\n",
              "      width: 32px;\n",
              "    }\n",
              "\n",
              "    .colab-df-convert:hover {\n",
              "      background-color: #E2EBFA;\n",
              "      box-shadow: 0px 1px 2px rgba(60, 64, 67, 0.3), 0px 1px 3px 1px rgba(60, 64, 67, 0.15);\n",
              "      fill: #174EA6;\n",
              "    }\n",
              "\n",
              "    [theme=dark] .colab-df-convert {\n",
              "      background-color: #3B4455;\n",
              "      fill: #D2E3FC;\n",
              "    }\n",
              "\n",
              "    [theme=dark] .colab-df-convert:hover {\n",
              "      background-color: #434B5C;\n",
              "      box-shadow: 0px 1px 3px 1px rgba(0, 0, 0, 0.15);\n",
              "      filter: drop-shadow(0px 1px 2px rgba(0, 0, 0, 0.3));\n",
              "      fill: #FFFFFF;\n",
              "    }\n",
              "  </style>\n",
              "\n",
              "      <script>\n",
              "        const buttonEl =\n",
              "          document.querySelector('#df-23039823-847c-43ae-916e-22b40d9fed2c button.colab-df-convert');\n",
              "        buttonEl.style.display =\n",
              "          google.colab.kernel.accessAllowed ? 'block' : 'none';\n",
              "\n",
              "        async function convertToInteractive(key) {\n",
              "          const element = document.querySelector('#df-23039823-847c-43ae-916e-22b40d9fed2c');\n",
              "          const dataTable =\n",
              "            await google.colab.kernel.invokeFunction('convertToInteractive',\n",
              "                                                     [key], {});\n",
              "          if (!dataTable) return;\n",
              "\n",
              "          const docLinkHtml = 'Like what you see? Visit the ' +\n",
              "            '<a target=\"_blank\" href=https://colab.research.google.com/notebooks/data_table.ipynb>data table notebook</a>'\n",
              "            + ' to learn more about interactive tables.';\n",
              "          element.innerHTML = '';\n",
              "          dataTable['output_type'] = 'display_data';\n",
              "          await google.colab.output.renderOutput(dataTable, element);\n",
              "          const docLink = document.createElement('div');\n",
              "          docLink.innerHTML = docLinkHtml;\n",
              "          element.appendChild(docLink);\n",
              "        }\n",
              "      </script>\n",
              "    </div>\n",
              "  </div>\n",
              "  "
            ]
          },
          "metadata": {},
          "execution_count": 4
        }
      ]
    },
    {
      "cell_type": "code",
      "source": [
        "predictors = ['Category','currency','sellerRating','Duration','endDay','ClosePrice','OpenPrice']\n",
        "outcome = 'Competitive?'"
      ],
      "metadata": {
        "id": "6mS5FUXvGGXt"
      },
      "execution_count": 5,
      "outputs": []
    },
    {
      "cell_type": "code",
      "source": [
        "# partition data\n",
        "X = pd.get_dummies(auctions_df[predictors], drop_first=True)\n",
        "y = auctions_df[outcome]\n",
        "X_train, X_valid, y_train, y_valid = train_test_split(X, y, test_size = 0.4, random_state = 1)"
      ],
      "metadata": {
        "id": "zlA9hetRGoHV"
      },
      "execution_count": 6,
      "outputs": []
    },
    {
      "cell_type": "code",
      "source": [
        "log_re = LogisticRegression()"
      ],
      "metadata": {
        "id": "1xcV_HTLGtb3"
      },
      "execution_count": 7,
      "outputs": []
    },
    {
      "cell_type": "code",
      "source": [
        "# fit the model\n",
        "log_re.fit(X_train, y_train)"
      ],
      "metadata": {
        "colab": {
          "base_uri": "https://localhost:8080/"
        },
        "id": "Lua_ND4HHBAV",
        "outputId": "d5b3d3e2-3451-4bfd-da3d-b74ea6e81d6f"
      },
      "execution_count": 8,
      "outputs": [
        {
          "output_type": "stream",
          "name": "stderr",
          "text": [
            "/usr/local/lib/python3.7/dist-packages/sklearn/linear_model/_logistic.py:818: ConvergenceWarning: lbfgs failed to converge (status=1):\n",
            "STOP: TOTAL NO. of ITERATIONS REACHED LIMIT.\n",
            "\n",
            "Increase the number of iterations (max_iter) or scale the data as shown in:\n",
            "    https://scikit-learn.org/stable/modules/preprocessing.html\n",
            "Please also refer to the documentation for alternative solver options:\n",
            "    https://scikit-learn.org/stable/modules/linear_model.html#logistic-regression\n",
            "  extra_warning_msg=_LOGISTIC_SOLVER_CONVERGENCE_MSG,\n"
          ]
        },
        {
          "output_type": "execute_result",
          "data": {
            "text/plain": [
              "LogisticRegression()"
            ]
          },
          "metadata": {},
          "execution_count": 8
        }
      ]
    },
    {
      "cell_type": "code",
      "source": [
        "print(pd.DataFrame({'coeff':log_re.coef_[0]}, index = X.columns).transpose())"
      ],
      "metadata": {
        "colab": {
          "base_uri": "https://localhost:8080/"
        },
        "id": "KvT-VicvJHns",
        "outputId": "54136e5e-9cca-4dcf-8376-e5b26153c044"
      },
      "execution_count": 9,
      "outputs": [
        {
          "output_type": "stream",
          "name": "stdout",
          "text": [
            "       sellerRating  Duration  ClosePrice  OpenPrice  Category_Automotive  \\\n",
            "coeff     -0.000032 -0.044752    0.083976  -0.098913            -0.329282   \n",
            "\n",
            "       Category_Books  Category_Business/Industrial  \\\n",
            "coeff        0.163053                      0.145616   \n",
            "\n",
            "       Category_Clothing/Accessories  Category_Coins/Stamps  \\\n",
            "coeff                      -0.810461              -0.294596   \n",
            "\n",
            "       Category_Collectibles  ...  Category_SportingGoods  \\\n",
            "coeff               0.176205  ...                0.034903   \n",
            "\n",
            "       Category_Toys/Hobbies  currency_GBP  currency_US  endDay_Mon  \\\n",
            "coeff               0.484906       0.70578     0.086494    0.550648   \n",
            "\n",
            "       endDay_Sat  endDay_Sun  endDay_Thu  endDay_Tue  endDay_Wed  \n",
            "coeff   -0.543776   -0.288633    0.385482    0.022653    -0.26504  \n",
            "\n",
            "[1 rows x 29 columns]\n"
          ]
        }
      ]
    },
    {
      "cell_type": "code",
      "source": [
        "# Q1: An interesting find is that duration is negatively correlated with competitiveness. This could be because items with low demand tend to be listed for a longer duration, \n",
        "# so it is not necessarily that a long duration causes a listing to become less competitive in and of itself.\n",
        "# ClosePrice is positively correlated with competitiveness, which isn't really a surprise. The higher the closing price, the more likely it is that multiple bids were placed.\n",
        "# OpenPrice is negatively correlated with competitiveness, which again isn't really a surprise. The lower the opening price, the more likely it is that people will bid.\n",
        "# Among the categories, Clothing/Accessories, Automotive, and Coins/Stamps seem to be the least competitive, while Toys/Hobbies, Collectibles, and Books seem to be more competitive."
      ],
      "metadata": {
        "id": "6mwheC3SJmKw"
      },
      "execution_count": 10,
      "outputs": []
    },
    {
      "cell_type": "code",
      "source": [
        "# evaluate the model\n",
        "classificationSummary(y_valid, log_re.predict(X_valid))"
      ],
      "metadata": {
        "colab": {
          "base_uri": "https://localhost:8080/"
        },
        "id": "H36fkYYBHNxc",
        "outputId": "c6ba8989-5aa4-4175-ee78-7fbe5a3bbab0"
      },
      "execution_count": 11,
      "outputs": [
        {
          "output_type": "stream",
          "name": "stdout",
          "text": [
            "Confusion Matrix (Accuracy 0.7465)\n",
            "\n",
            "       Prediction\n",
            "Actual   0   1\n",
            "     0 288  65\n",
            "     1 135 301\n"
          ]
        }
      ]
    },
    {
      "cell_type": "code",
      "source": [
        "# Q2 The model is able to predict reasonably well, but it is unrealistic for this model to perform this well in a real-world scenario.\n",
        "# This is because the model has access to the ClosePrice column, which is impossible to know in a real-world situation."
      ],
      "metadata": {
        "id": "yPLtHIAWK-pM"
      },
      "execution_count": 12,
      "outputs": []
    },
    {
      "cell_type": "code",
      "source": [
        "rw_predictors = predictors = ['Category','currency','sellerRating','Duration','endDay','OpenPrice']"
      ],
      "metadata": {
        "id": "rU4syD_JHY3s"
      },
      "execution_count": 13,
      "outputs": []
    },
    {
      "cell_type": "code",
      "source": [
        "# partition data\n",
        "X = pd.get_dummies(auctions_df[rw_predictors], drop_first=True)\n",
        "y = auctions_df[outcome]\n",
        "X_train, X_valid, y_train, y_valid = train_test_split(X, y, test_size = 0.4, random_state = 1)"
      ],
      "metadata": {
        "id": "_YwCGxKwKehf"
      },
      "execution_count": 14,
      "outputs": []
    },
    {
      "cell_type": "code",
      "source": [
        "# fit the model\n",
        "log_re.fit(X_train, y_train)"
      ],
      "metadata": {
        "colab": {
          "base_uri": "https://localhost:8080/"
        },
        "id": "CX6qizSiKh_3",
        "outputId": "28aa460e-89ff-4094-f656-4ee561791f78"
      },
      "execution_count": 15,
      "outputs": [
        {
          "output_type": "execute_result",
          "data": {
            "text/plain": [
              "LogisticRegression()"
            ]
          },
          "metadata": {},
          "execution_count": 15
        }
      ]
    },
    {
      "cell_type": "code",
      "source": [
        "log_re_pred = log_re.predict(X_valid)\n",
        "log_re_proba = log_re.predict_proba(X_valid)\n",
        "log_result = pd.DataFrame({'actual':y_valid, \n",
        "                           'p(0)':[p[0]for p in log_re_proba],\n",
        "                           'p(1)':[p[1]for p in log_re_proba],\n",
        "                           'predicted':log_re_pred})"
      ],
      "metadata": {
        "id": "YLw-mfZnRPNS"
      },
      "execution_count": 16,
      "outputs": []
    },
    {
      "cell_type": "code",
      "source": [
        "df = log_result.sort_values(by=['p(1)'], ascending = False)\n",
        "fig, axes = plt.subplots(nrows = 1, ncols = 2, figsize = (10,4))\n",
        "\n",
        "gainsChart(df.actual, ax=axes[0])\n",
        "liftChart(df.actual, title=False, ax=axes[1])\n",
        "\n",
        "plt.show()"
      ],
      "metadata": {
        "colab": {
          "base_uri": "https://localhost:8080/",
          "height": 289
        },
        "id": "Eh3GafXnRO7x",
        "outputId": "4172c2ee-9003-4ece-be22-2d73473e21ee"
      },
      "execution_count": 17,
      "outputs": [
        {
          "output_type": "display_data",
          "data": {
            "text/plain": [
              "<Figure size 720x288 with 2 Axes>"
            ],
            "image/png": "[encoded data removed]"
          },
          "metadata": {
            "needs_background": "light"
          }
        }
      ]
    },
    {
      "cell_type": "code",
      "source": [
        "# evaluate the model\n",
        "classificationSummary(y_valid, log_re.predict(X_valid))"
      ],
      "metadata": {
        "colab": {
          "base_uri": "https://localhost:8080/"
        },
        "id": "nmW3K_C5Kl1x",
        "outputId": "fa0a544e-08c8-473e-a1c1-670387d8ce8b"
      },
      "execution_count": 18,
      "outputs": [
        {
          "output_type": "stream",
          "name": "stdout",
          "text": [
            "Confusion Matrix (Accuracy 0.5856)\n",
            "\n",
            "       Prediction\n",
            "Actual   0   1\n",
            "     0  70 283\n",
            "     1  44 392\n"
          ]
        }
      ]
    },
    {
      "cell_type": "code",
      "source": [
        "# Q3 The accuracy seems to have gone way down without being able to use the data from the ClosePrice column. In particular, the model seems to overclassify competitiveness more often.\n",
        "# However, this is more representative of a real-world scenario as in the real world it is impossible to know the closing price ahead of time."
      ],
      "metadata": {
        "id": "78Rt23tlKoUd"
      },
      "execution_count": 21,
      "outputs": []
    },
    {
      "cell_type": "code",
      "source": [
        "# Q4 Again, ClosePrice is positively correlated with competitiveness, because the higher the closing price, the more likely it is that multiple bids were placed.\n",
        "# This is why it isn't useful as a real-world predictor. However, it does have practical use as an outcome rather than a predictor variable.\n",
        "# In a real-world situation, the next step could be to not only predict competitiveness but also closing price. This would likely require more data and would no longer be a simple classification problem."
      ],
      "metadata": {
        "id": "FakEb0TdWzer"
      },
      "execution_count": 22,
      "outputs": []
    },
    {
      "cell_type": "code",
      "source": [
        ""
      ],
      "metadata": {
        "id": "m_G_jG9TXtPl"
      },
      "execution_count": null,
      "outputs": []
    }
  ]
}