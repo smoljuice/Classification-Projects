{
  "nbformat": 4,
  "nbformat_minor": 0,
  "metadata": {
    "colab": {
      "name": "PA3 HW 5.2.ipynb",
      "provenance": []
    },
    "kernelspec": {
      "name": "python3",
      "display_name": "Python 3"
    },
    "language_info": {
      "name": "python"
    }
  },
  "cells": [
    {
      "cell_type": "code",
      "execution_count": 1,
      "metadata": {
        "colab": {
          "base_uri": "https://localhost:8080/"
        },
        "id": "cGRS0J4LhSjm",
        "outputId": "c88841c5-b7a4-4fe0-f993-6f9fffc978e2"
      },
      "outputs": [
        {
          "output_type": "stream",
          "name": "stdout",
          "text": [
            "Looking in indexes: https://pypi.org/simple, https://us-python.pkg.dev/colab-wheels/public/simple/\n",
            "Requirement already satisfied: surprise in /usr/local/lib/python3.7/dist-packages (0.1)\n",
            "Requirement already satisfied: scikit-surprise in /usr/local/lib/python3.7/dist-packages (from surprise) (1.1.1)\n",
            "Requirement already satisfied: numpy>=1.11.2 in /usr/local/lib/python3.7/dist-packages (from scikit-surprise->surprise) (1.21.6)\n",
            "Requirement already satisfied: six>=1.10.0 in /usr/local/lib/python3.7/dist-packages (from scikit-surprise->surprise) (1.15.0)\n",
            "Requirement already satisfied: joblib>=0.11 in /usr/local/lib/python3.7/dist-packages (from scikit-surprise->surprise) (1.1.0)\n",
            "Requirement already satisfied: scipy>=1.0.0 in /usr/local/lib/python3.7/dist-packages (from scikit-surprise->surprise) (1.4.1)\n"
          ]
        }
      ],
      "source": [
        "!pip install surprise\n",
        "\n",
        "import heapq\n",
        "from collections import defaultdict\n",
        "import pandas as pd\n",
        "import matplotlib.pylab as plt\n",
        "from mlxtend.frequent_patterns import apriori\n",
        "from mlxtend.frequent_patterns import association_rules\n",
        "\n",
        "from surprise import Dataset, Reader, KNNBasic\n",
        "from surprise.model_selection import train_test_split"
      ]
    },
    {
      "cell_type": "code",
      "source": [
        "df = pd.read_csv('Cosmetics.csv')"
      ],
      "metadata": {
        "id": "l8AVWfDWhi7m"
      },
      "execution_count": 9,
      "outputs": []
    },
    {
      "cell_type": "code",
      "source": [
        "# df.set_index(df['Trans. '], inplace=True)\n",
        "df.drop('Trans. ',axis=1,inplace=True)"
      ],
      "metadata": {
        "id": "O8TpKbiPh-jm"
      },
      "execution_count": 13,
      "outputs": []
    },
    {
      "cell_type": "code",
      "source": [
        "df.head()"
      ],
      "metadata": {
        "colab": {
          "base_uri": "https://localhost:8080/",
          "height": 238
        },
        "id": "Gj6KHW09hmX4",
        "outputId": "ad0a2710-0103-47c5-d22b-e92d7bbfe1e1"
      },
      "execution_count": 14,
      "outputs": [
        {
          "output_type": "execute_result",
          "data": {
            "text/plain": [
              "         Bag  Blush  Nail Polish  Brushes  Concealer  Eyebrow Pencils  \\\n",
              "Trans.                                                                  \n",
              "1          0      1            1        1          1                0   \n",
              "2          0      0            1        0          1                0   \n",
              "3          0      1            0        0          1                1   \n",
              "4          0      0            1        1          1                0   \n",
              "5          0      1            0        0          1                0   \n",
              "\n",
              "         Bronzer  Lip liner  Mascara  Eye shadow  Foundation  Lip Gloss  \\\n",
              "Trans.                                                                    \n",
              "1              1          1        1           0           0          0   \n",
              "2              1          1        0           0           1          1   \n",
              "3              1          1        1           1           1          1   \n",
              "4              1          0        0           0           1          0   \n",
              "5              1          1        1           1           0          1   \n",
              "\n",
              "         Lipstick  Eyeliner  \n",
              "Trans.                       \n",
              "1               0         1  \n",
              "2               0         0  \n",
              "3               1         0  \n",
              "4               0         1  \n",
              "5               1         0  "
            ],
            "text/html": [
              "\n",
              "  <div id=\"df-fa8b76d1-0171-4ae8-a12f-fa9adec37659\">\n",
              "    <div class=\"colab-df-container\">\n",
              "      <div>\n",
              "<style scoped>\n",
              "    .dataframe tbody tr th:only-of-type {\n",
              "        vertical-align: middle;\n",
              "    }\n",
              "\n",
              "    .dataframe tbody tr th {\n",
              "        vertical-align: top;\n",
              "    }\n",
              "\n",
              "    .dataframe thead th {\n",
              "        text-align: right;\n",
              "    }\n",
              "</style>\n",
              "<table border=\"1\" class=\"dataframe\">\n",
              "  <thead>\n",
              "    <tr style=\"text-align: right;\">\n",
              "      <th></th>\n",
              "      <th>Bag</th>\n",
              "      <th>Blush</th>\n",
              "      <th>Nail Polish</th>\n",
              "      <th>Brushes</th>\n",
              "      <th>Concealer</th>\n",
              "      <th>Eyebrow Pencils</th>\n",
              "      <th>Bronzer</th>\n",
              "      <th>Lip liner</th>\n",
              "      <th>Mascara</th>\n",
              "      <th>Eye shadow</th>\n",
              "      <th>Foundation</th>\n",
              "      <th>Lip Gloss</th>\n",
              "      <th>Lipstick</th>\n",
              "      <th>Eyeliner</th>\n",
              "    </tr>\n",
              "    <tr>\n",
              "      <th>Trans.</th>\n",
              "      <th></th>\n",
              "      <th></th>\n",
              "      <th></th>\n",
              "      <th></th>\n",
              "      <th></th>\n",
              "      <th></th>\n",
              "      <th></th>\n",
              "      <th></th>\n",
              "      <th></th>\n",
              "      <th></th>\n",
              "      <th></th>\n",
              "      <th></th>\n",
              "      <th></th>\n",
              "      <th></th>\n",
              "    </tr>\n",
              "  </thead>\n",
              "  <tbody>\n",
              "    <tr>\n",
              "      <th>1</th>\n",
              "      <td>0</td>\n",
              "      <td>1</td>\n",
              "      <td>1</td>\n",
              "      <td>1</td>\n",
              "      <td>1</td>\n",
              "      <td>0</td>\n",
              "      <td>1</td>\n",
              "      <td>1</td>\n",
              "      <td>1</td>\n",
              "      <td>0</td>\n",
              "      <td>0</td>\n",
              "      <td>0</td>\n",
              "      <td>0</td>\n",
              "      <td>1</td>\n",
              "    </tr>\n",
              "    <tr>\n",
              "      <th>2</th>\n",
              "      <td>0</td>\n",
              "      <td>0</td>\n",
              "      <td>1</td>\n",
              "      <td>0</td>\n",
              "      <td>1</td>\n",
              "      <td>0</td>\n",
              "      <td>1</td>\n",
              "      <td>1</td>\n",
              "      <td>0</td>\n",
              "      <td>0</td>\n",
              "      <td>1</td>\n",
              "      <td>1</td>\n",
              "      <td>0</td>\n",
              "      <td>0</td>\n",
              "    </tr>\n",
              "    <tr>\n",
              "      <th>3</th>\n",
              "      <td>0</td>\n",
              "      <td>1</td>\n",
              "      <td>0</td>\n",
              "      <td>0</td>\n",
              "      <td>1</td>\n",
              "      <td>1</td>\n",
              "      <td>1</td>\n",
              "      <td>1</td>\n",
              "      <td>1</td>\n",
              "      <td>1</td>\n",
              "      <td>1</td>\n",
              "      <td>1</td>\n",
              "      <td>1</td>\n",
              "      <td>0</td>\n",
              "    </tr>\n",
              "    <tr>\n",
              "      <th>4</th>\n",
              "      <td>0</td>\n",
              "      <td>0</td>\n",
              "      <td>1</td>\n",
              "      <td>1</td>\n",
              "      <td>1</td>\n",
              "      <td>0</td>\n",
              "      <td>1</td>\n",
              "      <td>0</td>\n",
              "      <td>0</td>\n",
              "      <td>0</td>\n",
              "      <td>1</td>\n",
              "      <td>0</td>\n",
              "      <td>0</td>\n",
              "      <td>1</td>\n",
              "    </tr>\n",
              "    <tr>\n",
              "      <th>5</th>\n",
              "      <td>0</td>\n",
              "      <td>1</td>\n",
              "      <td>0</td>\n",
              "      <td>0</td>\n",
              "      <td>1</td>\n",
              "      <td>0</td>\n",
              "      <td>1</td>\n",
              "      <td>1</td>\n",
              "      <td>1</td>\n",
              "      <td>1</td>\n",
              "      <td>0</td>\n",
              "      <td>1</td>\n",
              "      <td>1</td>\n",
              "      <td>0</td>\n",
              "    </tr>\n",
              "  </tbody>\n",
              "</table>\n",
              "</div>\n",
              "      <button class=\"colab-df-convert\" onclick=\"convertToInteractive('df-fa8b76d1-0171-4ae8-a12f-fa9adec37659')\"\n",
              "              title=\"Convert this dataframe to an interactive table.\"\n",
              "              style=\"display:none;\">\n",
              "        \n",
              "  <svg xmlns=\"http://www.w3.org/2000/svg\" height=\"24px\"viewBox=\"0 0 24 24\"\n",
              "       width=\"24px\">\n",
              "    <path d=\"M0 0h24v24H0V0z\" fill=\"none\"/>\n",
              "    <path d=\"M18.56 5.44l.94 2.06.94-2.06 2.06-.94-2.06-.94-.94-2.06-.94 2.06-2.06.94zm-11 1L8.5 8.5l.94-2.06 2.06-.94-2.06-.94L8.5 2.5l-.94 2.06-2.06.94zm10 10l.94 2.06.94-2.06 2.06-.94-2.06-.94-.94-2.06-.94 2.06-2.06.94z\"/><path d=\"M17.41 7.96l-1.37-1.37c-.4-.4-.92-.59-1.43-.59-.52 0-1.04.2-1.43.59L10.3 9.45l-7.72 7.72c-.78.78-.78 2.05 0 2.83L4 21.41c.39.39.9.59 1.41.59.51 0 1.02-.2 1.41-.59l7.78-7.78 2.81-2.81c.8-.78.8-2.07 0-2.86zM5.41 20L4 18.59l7.72-7.72 1.47 1.35L5.41 20z\"/>\n",
              "  </svg>\n",
              "      </button>\n",
              "      \n",
              "  <style>\n",
              "    .colab-df-container {\n",
              "      display:flex;\n",
              "      flex-wrap:wrap;\n",
              "      gap: 12px;\n",
              "    }\n",
              "\n",
              "    .colab-df-convert {\n",
              "      background-color: #E8F0FE;\n",
              "      border: none;\n",
              "      border-radius: 50%;\n",
              "      cursor: pointer;\n",
              "      display: none;\n",
              "      fill: #1967D2;\n",
              "      height: 32px;\n",
              "      padding: 0 0 0 0;\n",
              "      width: 32px;\n",
              "    }\n",
              "\n",
              "    .colab-df-convert:hover {\n",
              "      background-color: #E2EBFA;\n",
              "      box-shadow: 0px 1px 2px rgba(60, 64, 67, 0.3), 0px 1px 3px 1px rgba(60, 64, 67, 0.15);\n",
              "      fill: #174EA6;\n",
              "    }\n",
              "\n",
              "    [theme=dark] .colab-df-convert {\n",
              "      background-color: #3B4455;\n",
              "      fill: #D2E3FC;\n",
              "    }\n",
              "\n",
              "    [theme=dark] .colab-df-convert:hover {\n",
              "      background-color: #434B5C;\n",
              "      box-shadow: 0px 1px 3px 1px rgba(0, 0, 0, 0.15);\n",
              "      filter: drop-shadow(0px 1px 2px rgba(0, 0, 0, 0.3));\n",
              "      fill: #FFFFFF;\n",
              "    }\n",
              "  </style>\n",
              "\n",
              "      <script>\n",
              "        const buttonEl =\n",
              "          document.querySelector('#df-fa8b76d1-0171-4ae8-a12f-fa9adec37659 button.colab-df-convert');\n",
              "        buttonEl.style.display =\n",
              "          google.colab.kernel.accessAllowed ? 'block' : 'none';\n",
              "\n",
              "        async function convertToInteractive(key) {\n",
              "          const element = document.querySelector('#df-fa8b76d1-0171-4ae8-a12f-fa9adec37659');\n",
              "          const dataTable =\n",
              "            await google.colab.kernel.invokeFunction('convertToInteractive',\n",
              "                                                     [key], {});\n",
              "          if (!dataTable) return;\n",
              "\n",
              "          const docLinkHtml = 'Like what you see? Visit the ' +\n",
              "            '<a target=\"_blank\" href=https://colab.research.google.com/notebooks/data_table.ipynb>data table notebook</a>'\n",
              "            + ' to learn more about interactive tables.';\n",
              "          element.innerHTML = '';\n",
              "          dataTable['output_type'] = 'display_data';\n",
              "          await google.colab.output.renderOutput(dataTable, element);\n",
              "          const docLink = document.createElement('div');\n",
              "          docLink.innerHTML = docLinkHtml;\n",
              "          element.appendChild(docLink);\n",
              "        }\n",
              "      </script>\n",
              "    </div>\n",
              "  </div>\n",
              "  "
            ]
          },
          "metadata": {},
          "execution_count": 14
        }
      ]
    },
    {
      "cell_type": "code",
      "source": [
        "itemsets = apriori(df, min_support=0.1, use_colnames=True)"
      ],
      "metadata": {
        "id": "U6i1fSUMhni5"
      },
      "execution_count": 17,
      "outputs": []
    },
    {
      "cell_type": "code",
      "source": [
        "rules = association_rules(itemsets, metric='confidence', min_threshold=0.8)\n",
        "rules.sort_values(by=['lift'], ascending=False).head(6)\n",
        "print(rules.sort_values(by=['lift'], ascending=False)\n",
        "  .drop(columns=['antecedent support','consequent support','conviction'])\n",
        "  .head(20))"
      ],
      "metadata": {
        "colab": {
          "base_uri": "https://localhost:8080/"
        },
        "id": "LmhnlmDQhoya",
        "outputId": "ad44c466-0f0e-42b7-9780-7d8fd71f556a"
      },
      "execution_count": 19,
      "outputs": [
        {
          "output_type": "stream",
          "name": "stdout",
          "text": [
            "                          antecedents    consequents  support  confidence  \\\n",
            "0                           (Brushes)  (Nail Polish)    0.149    1.000000   \n",
            "22     (Eye shadow, Blush, Concealer)      (Mascara)    0.119    0.959677   \n",
            "5                 (Eye shadow, Blush)      (Mascara)    0.169    0.928571   \n",
            "6           (Eye shadow, Nail Polish)      (Mascara)    0.119    0.908397   \n",
            "11            (Eye shadow, Concealer)      (Mascara)    0.179    0.890547   \n",
            "13              (Bronzer, Eye shadow)      (Mascara)    0.124    0.879433   \n",
            "23  (Eyeliner, Eye shadow, Concealer)      (Mascara)    0.114    0.876923   \n",
            "4                    (Mascara, Blush)   (Eye shadow)    0.169    0.918478   \n",
            "17             (Lipstick, Eye shadow)      (Mascara)    0.110    0.852713   \n",
            "18                (Lipstick, Mascara)   (Eye shadow)    0.110    0.909091   \n",
            "21        (Mascara, Blush, Concealer)   (Eye shadow)    0.119    0.908397   \n",
            "14                 (Bronzer, Mascara)   (Eye shadow)    0.124    0.905109   \n",
            "1                        (Eye shadow)      (Mascara)    0.321    0.842520   \n",
            "2                           (Mascara)   (Eye shadow)    0.321    0.899160   \n",
            "7              (Mascara, Nail Polish)   (Eye shadow)    0.119    0.888060   \n",
            "19             (Eyeliner, Eye shadow)      (Mascara)    0.151    0.829670   \n",
            "12               (Mascara, Concealer)   (Eye shadow)    0.179    0.877451   \n",
            "16               (Mascara, Lip Gloss)   (Eye shadow)    0.158    0.872928   \n",
            "15              (Mascara, Foundation)   (Eye shadow)    0.166    0.864583   \n",
            "20                (Eyeliner, Mascara)   (Eye shadow)    0.151    0.862857   \n",
            "\n",
            "        lift  leverage  \n",
            "0   3.571429  0.107280  \n",
            "22  2.688172  0.074732  \n",
            "5   2.601040  0.104026  \n",
            "6   2.544529  0.072233  \n",
            "11  2.494530  0.107243  \n",
            "13  2.463397  0.073663  \n",
            "23  2.456367  0.067590  \n",
            "4   2.410704  0.098896  \n",
            "17  2.388552  0.063947  \n",
            "18  2.386065  0.063899  \n",
            "21  2.384244  0.069089  \n",
            "14  2.375615  0.071803  \n",
            "1   2.359999  0.184983  \n",
            "2   2.359999  0.184983  \n",
            "7   2.330865  0.067946  \n",
            "19  2.324007  0.086026  \n",
            "12  2.303021  0.101276  \n",
            "16  2.291150  0.089039  \n",
            "15  2.269248  0.092848  \n",
            "20  2.264717  0.084325  \n"
          ]
        }
      ]
    },
    {
      "cell_type": "code",
      "source": [
        "# The first rule is pretty clear. When brushes are bought, nail polish is very likely to be bought as well. In fact, every single time brushes were bought, nail polish was bought as well. Perhaps the brushes are used to apply the nail polish.\n",
        "# The second and third rules are pretty similar. They seem to indicate that eye shadow, blush, and mascara are often bought together. This makes sense, as all 3 are used on areas around or near the eyes."
      ],
      "metadata": {
        "id": "HUWz-Ef8hqBx"
      },
      "execution_count": 20,
      "outputs": []
    },
    {
      "cell_type": "code",
      "source": [
        "# After reviewing the first 20 or so rules, it becomes clear that the vast majority of these first 20 rules are fairly redundant. They indicate that mascara and eye shadow are commonly purchased together along with a couple other items.\n",
        "# Are these rules useful? Probably. They do give some information on some items that are purchased alongside mascara and eye shadow, after all. However, these rules could definitely be condensed and stated in a more concise form."
      ],
      "metadata": {
        "id": "lyTEpWPGpoCF"
      },
      "execution_count": 21,
      "outputs": []
    },
    {
      "cell_type": "code",
      "source": [
        ""
      ],
      "metadata": {
        "id": "wiOEp8_XrQKl"
      },
      "execution_count": null,
      "outputs": []
    }
  ]
}