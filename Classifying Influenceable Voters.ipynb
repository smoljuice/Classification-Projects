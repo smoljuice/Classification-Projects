{
 "cells": [
  {
   "cell_type": "code",
   "execution_count": 1,
   "metadata": {
    "colab": {
     "base_uri": "https://localhost:8080/"
    },
    "id": "997vhTubhZWi",
    "outputId": "df55c338-c064-4e88-b524-1f06506e758e"
   },
   "outputs": [
    {
     "name": "stdout",
     "output_type": "stream",
     "text": [
      "Looking in indexes: https://pypi.org/simple, https://us-python.pkg.dev/colab-wheels/public/simple/\n",
      "Requirement already satisfied: dmba in /usr/local/lib/python3.9/dist-packages (0.2.2)\n",
      "no display found. Using non-interactive Agg backend\n"
     ]
    }
   ],
   "source": [
    "# import packages\n",
    "!pip install dmba\n",
    "import dmba\n",
    "import pandas as pd\n",
    "import numpy as np\n",
    "from sklearn.tree import DecisionTreeClassifier\n",
    "from sklearn.linear_model import LogisticRegression\n",
    "from sklearn.model_selection import train_test_split, cross_val_score, GridSearchCV\n",
    "from sklearn.ensemble import RandomForestClassifier, GradientBoostingClassifier\n",
    "from sklearn.preprocessing import LabelEncoder\n",
    "from sklearn.metrics import confusion_matrix\n",
    "import matplotlib.pylab as plt\n",
    "from dmba import plotDecisionTree, classificationSummary, regressionSummary"
   ]
  },
  {
   "cell_type": "code",
   "execution_count": 2,
   "metadata": {
    "id": "0uigL6jUha0p"
   },
   "outputs": [],
   "source": [
    "# load dataset\n",
    "voter_df = pd.read_csv('FX_indicators_2020.csv', on_bad_lines='skip')"
   ]
  },
  {
   "cell_type": "code",
   "execution_count": 3,
   "metadata": {
    "colab": {
     "base_uri": "https://localhost:8080/",
     "height": 300
    },
    "id": "FIQsyLpKhjc7",
    "outputId": "86bd8e07-9500-4f58-8168-b7d3da11b468"
   },
   "outputs": [
    {
     "data": {
      "text/html": [
       "\n",
       "  <div id=\"df-1ae04427-4902-4265-9ae3-8f3861eea793\">\n",
       "    <div class=\"colab-df-container\">\n",
       "      <div>\n",
       "<style scoped>\n",
       "    .dataframe tbody tr th:only-of-type {\n",
       "        vertical-align: middle;\n",
       "    }\n",
       "\n",
       "    .dataframe tbody tr th {\n",
       "        vertical-align: top;\n",
       "    }\n",
       "\n",
       "    .dataframe thead th {\n",
       "        text-align: right;\n",
       "    }\n",
       "</style>\n",
       "<table border=\"1\" class=\"dataframe\">\n",
       "  <thead>\n",
       "    <tr style=\"text-align: right;\">\n",
       "      <th></th>\n",
       "      <th>VOTER_ID</th>\n",
       "      <th>SET_NO</th>\n",
       "      <th>OPP_SEX</th>\n",
       "      <th>AGE</th>\n",
       "      <th>HH_ND</th>\n",
       "      <th>HH_NR</th>\n",
       "      <th>HH_NI</th>\n",
       "      <th>MED_AGE</th>\n",
       "      <th>MED_AGE_M</th>\n",
       "      <th>MED_AGE_F</th>\n",
       "      <th>...</th>\n",
       "      <th>MOVED_RDMA</th>\n",
       "      <th>MOVED_DRMA</th>\n",
       "      <th>MOVED_AWMA</th>\n",
       "      <th>MOVED_ADMA</th>\n",
       "      <th>MOVED_ARMA</th>\n",
       "      <th>MOVED_RDMB</th>\n",
       "      <th>MOVED_DRMB</th>\n",
       "      <th>MOVED_AWMB</th>\n",
       "      <th>MOVED_ADMB</th>\n",
       "      <th>MOVED_ARMB</th>\n",
       "    </tr>\n",
       "  </thead>\n",
       "  <tbody>\n",
       "    <tr>\n",
       "      <th>0</th>\n",
       "      <td>84508</td>\n",
       "      <td>3</td>\n",
       "      <td>0</td>\n",
       "      <td>25</td>\n",
       "      <td>4</td>\n",
       "      <td>0</td>\n",
       "      <td>0</td>\n",
       "      <td>38</td>\n",
       "      <td>39</td>\n",
       "      <td>38</td>\n",
       "      <td>...</td>\n",
       "      <td>NaN</td>\n",
       "      <td>NaN</td>\n",
       "      <td>NaN</td>\n",
       "      <td>NaN</td>\n",
       "      <td>NaN</td>\n",
       "      <td>NaN</td>\n",
       "      <td>NaN</td>\n",
       "      <td>NaN</td>\n",
       "      <td>NaN</td>\n",
       "      <td>NaN</td>\n",
       "    </tr>\n",
       "    <tr>\n",
       "      <th>1</th>\n",
       "      <td>608312</td>\n",
       "      <td>1</td>\n",
       "      <td>0</td>\n",
       "      <td>35</td>\n",
       "      <td>0</td>\n",
       "      <td>0</td>\n",
       "      <td>3</td>\n",
       "      <td>46</td>\n",
       "      <td>46</td>\n",
       "      <td>46</td>\n",
       "      <td>...</td>\n",
       "      <td>NaN</td>\n",
       "      <td>NaN</td>\n",
       "      <td>NaN</td>\n",
       "      <td>NaN</td>\n",
       "      <td>NaN</td>\n",
       "      <td>NaN</td>\n",
       "      <td>NaN</td>\n",
       "      <td>NaN</td>\n",
       "      <td>NaN</td>\n",
       "      <td>NaN</td>\n",
       "    </tr>\n",
       "    <tr>\n",
       "      <th>2</th>\n",
       "      <td>222821</td>\n",
       "      <td>3</td>\n",
       "      <td>0</td>\n",
       "      <td>73</td>\n",
       "      <td>3</td>\n",
       "      <td>0</td>\n",
       "      <td>0</td>\n",
       "      <td>42</td>\n",
       "      <td>36</td>\n",
       "      <td>48</td>\n",
       "      <td>...</td>\n",
       "      <td>NaN</td>\n",
       "      <td>NaN</td>\n",
       "      <td>NaN</td>\n",
       "      <td>NaN</td>\n",
       "      <td>NaN</td>\n",
       "      <td>NaN</td>\n",
       "      <td>NaN</td>\n",
       "      <td>NaN</td>\n",
       "      <td>NaN</td>\n",
       "      <td>NaN</td>\n",
       "    </tr>\n",
       "    <tr>\n",
       "      <th>3</th>\n",
       "      <td>137882</td>\n",
       "      <td>2</td>\n",
       "      <td>0</td>\n",
       "      <td>54</td>\n",
       "      <td>1</td>\n",
       "      <td>1</td>\n",
       "      <td>0</td>\n",
       "      <td>37</td>\n",
       "      <td>34</td>\n",
       "      <td>51</td>\n",
       "      <td>...</td>\n",
       "      <td>NaN</td>\n",
       "      <td>NaN</td>\n",
       "      <td>NaN</td>\n",
       "      <td>NaN</td>\n",
       "      <td>NaN</td>\n",
       "      <td>NaN</td>\n",
       "      <td>NaN</td>\n",
       "      <td>NaN</td>\n",
       "      <td>NaN</td>\n",
       "      <td>NaN</td>\n",
       "    </tr>\n",
       "    <tr>\n",
       "      <th>4</th>\n",
       "      <td>531303</td>\n",
       "      <td>2</td>\n",
       "      <td>0</td>\n",
       "      <td>51</td>\n",
       "      <td>0</td>\n",
       "      <td>3</td>\n",
       "      <td>0</td>\n",
       "      <td>46</td>\n",
       "      <td>46</td>\n",
       "      <td>46</td>\n",
       "      <td>...</td>\n",
       "      <td>NaN</td>\n",
       "      <td>NaN</td>\n",
       "      <td>NaN</td>\n",
       "      <td>NaN</td>\n",
       "      <td>NaN</td>\n",
       "      <td>NaN</td>\n",
       "      <td>NaN</td>\n",
       "      <td>NaN</td>\n",
       "      <td>NaN</td>\n",
       "      <td>NaN</td>\n",
       "    </tr>\n",
       "  </tbody>\n",
       "</table>\n",
       "<p>5 rows × 152 columns</p>\n",
       "</div>\n",
       "      <button class=\"colab-df-convert\" onclick=\"convertToInteractive('df-1ae04427-4902-4265-9ae3-8f3861eea793')\"\n",
       "              title=\"Convert this dataframe to an interactive table.\"\n",
       "              style=\"display:none;\">\n",
       "        \n",
       "  <svg xmlns=\"http://www.w3.org/2000/svg\" height=\"24px\"viewBox=\"0 0 24 24\"\n",
       "       width=\"24px\">\n",
       "    <path d=\"M0 0h24v24H0V0z\" fill=\"none\"/>\n",
       "    <path d=\"M18.56 5.44l.94 2.06.94-2.06 2.06-.94-2.06-.94-.94-2.06-.94 2.06-2.06.94zm-11 1L8.5 8.5l.94-2.06 2.06-.94-2.06-.94L8.5 2.5l-.94 2.06-2.06.94zm10 10l.94 2.06.94-2.06 2.06-.94-2.06-.94-.94-2.06-.94 2.06-2.06.94z\"/><path d=\"M17.41 7.96l-1.37-1.37c-.4-.4-.92-.59-1.43-.59-.52 0-1.04.2-1.43.59L10.3 9.45l-7.72 7.72c-.78.78-.78 2.05 0 2.83L4 21.41c.39.39.9.59 1.41.59.51 0 1.02-.2 1.41-.59l7.78-7.78 2.81-2.81c.8-.78.8-2.07 0-2.86zM5.41 20L4 18.59l7.72-7.72 1.47 1.35L5.41 20z\"/>\n",
       "  </svg>\n",
       "      </button>\n",
       "      \n",
       "  <style>\n",
       "    .colab-df-container {\n",
       "      display:flex;\n",
       "      flex-wrap:wrap;\n",
       "      gap: 12px;\n",
       "    }\n",
       "\n",
       "    .colab-df-convert {\n",
       "      background-color: #E8F0FE;\n",
       "      border: none;\n",
       "      border-radius: 50%;\n",
       "      cursor: pointer;\n",
       "      display: none;\n",
       "      fill: #1967D2;\n",
       "      height: 32px;\n",
       "      padding: 0 0 0 0;\n",
       "      width: 32px;\n",
       "    }\n",
       "\n",
       "    .colab-df-convert:hover {\n",
       "      background-color: #E2EBFA;\n",
       "      box-shadow: 0px 1px 2px rgba(60, 64, 67, 0.3), 0px 1px 3px 1px rgba(60, 64, 67, 0.15);\n",
       "      fill: #174EA6;\n",
       "    }\n",
       "\n",
       "    [theme=dark] .colab-df-convert {\n",
       "      background-color: #3B4455;\n",
       "      fill: #D2E3FC;\n",
       "    }\n",
       "\n",
       "    [theme=dark] .colab-df-convert:hover {\n",
       "      background-color: #434B5C;\n",
       "      box-shadow: 0px 1px 3px 1px rgba(0, 0, 0, 0.15);\n",
       "      filter: drop-shadow(0px 1px 2px rgba(0, 0, 0, 0.3));\n",
       "      fill: #FFFFFF;\n",
       "    }\n",
       "  </style>\n",
       "\n",
       "      <script>\n",
       "        const buttonEl =\n",
       "          document.querySelector('#df-1ae04427-4902-4265-9ae3-8f3861eea793 button.colab-df-convert');\n",
       "        buttonEl.style.display =\n",
       "          google.colab.kernel.accessAllowed ? 'block' : 'none';\n",
       "\n",
       "        async function convertToInteractive(key) {\n",
       "          const element = document.querySelector('#df-1ae04427-4902-4265-9ae3-8f3861eea793');\n",
       "          const dataTable =\n",
       "            await google.colab.kernel.invokeFunction('convertToInteractive',\n",
       "                                                     [key], {});\n",
       "          if (!dataTable) return;\n",
       "\n",
       "          const docLinkHtml = 'Like what you see? Visit the ' +\n",
       "            '<a target=\"_blank\" href=https://colab.research.google.com/notebooks/data_table.ipynb>data table notebook</a>'\n",
       "            + ' to learn more about interactive tables.';\n",
       "          element.innerHTML = '';\n",
       "          dataTable['output_type'] = 'display_data';\n",
       "          await google.colab.output.renderOutput(dataTable, element);\n",
       "          const docLink = document.createElement('div');\n",
       "          docLink.innerHTML = docLinkHtml;\n",
       "          element.appendChild(docLink);\n",
       "        }\n",
       "      </script>\n",
       "    </div>\n",
       "  </div>\n",
       "  "
      ],
      "text/plain": [
       "   VOTER_ID  SET_NO  OPP_SEX  AGE  HH_ND  HH_NR  HH_NI  MED_AGE  MED_AGE_M  \\\n",
       "0     84508       3        0   25      4      0      0       38         39   \n",
       "1    608312       1        0   35      0      0      3       46         46   \n",
       "2    222821       3        0   73      3      0      0       42         36   \n",
       "3    137882       2        0   54      1      1      0       37         34   \n",
       "4    531303       2        0   51      0      3      0       46         46   \n",
       "\n",
       "   MED_AGE_F  ...  MOVED_RDMA  MOVED_DRMA  MOVED_AWMA  MOVED_ADMA  MOVED_ARMA  \\\n",
       "0         38  ...         NaN         NaN         NaN         NaN         NaN   \n",
       "1         46  ...         NaN         NaN         NaN         NaN         NaN   \n",
       "2         48  ...         NaN         NaN         NaN         NaN         NaN   \n",
       "3         51  ...         NaN         NaN         NaN         NaN         NaN   \n",
       "4         46  ...         NaN         NaN         NaN         NaN         NaN   \n",
       "\n",
       "   MOVED_RDMB  MOVED_DRMB  MOVED_AWMB  MOVED_ADMB  MOVED_ARMB  \n",
       "0         NaN         NaN         NaN         NaN         NaN  \n",
       "1         NaN         NaN         NaN         NaN         NaN  \n",
       "2         NaN         NaN         NaN         NaN         NaN  \n",
       "3         NaN         NaN         NaN         NaN         NaN  \n",
       "4         NaN         NaN         NaN         NaN         NaN  \n",
       "\n",
       "[5 rows x 152 columns]"
      ]
     },
     "execution_count": 3,
     "metadata": {},
     "output_type": "execute_result"
    }
   ],
   "source": [
    "voter_df.head()"
   ]
  },
  {
   "cell_type": "code",
   "execution_count": 4,
   "metadata": {
    "colab": {
     "base_uri": "https://localhost:8080/"
    },
    "id": "-b54iN6altRU",
    "outputId": "dbaaa2a2-cd19-4c7e-c514-9dc774032582"
   },
   "outputs": [
    {
     "name": "stdout",
     "output_type": "stream",
     "text": [
      "<class 'pandas.core.frame.DataFrame'>\n",
      "RangeIndex: 384987 entries, 0 to 384986\n",
      "Columns: 152 entries, VOTER_ID to MOVED_ARMB\n",
      "dtypes: float64(2), int64(105), object(45)\n",
      "memory usage: 446.5+ MB\n"
     ]
    }
   ],
   "source": [
    "voter_df.info()"
   ]
  },
  {
   "cell_type": "code",
   "execution_count": 5,
   "metadata": {
    "colab": {
     "base_uri": "https://localhost:8080/"
    },
    "id": "dIU-74DMDnx5",
    "outputId": "2c69b2d4-fd84-4f17-b4fe-581ef012ac07"
   },
   "outputs": [
    {
     "data": {
      "text/plain": [
       "['VOTER_ID',\n",
       " 'SET_NO',\n",
       " 'OPP_SEX',\n",
       " 'AGE',\n",
       " 'HH_ND',\n",
       " 'HH_NR',\n",
       " 'HH_NI',\n",
       " 'MED_AGE',\n",
       " 'MED_AGE_M',\n",
       " 'MED_AGE_F',\n",
       " 'NH_WHITE',\n",
       " 'NH_AA',\n",
       " 'NH_NATAM',\n",
       " 'NH_ASIAN',\n",
       " 'NH_HPI',\n",
       " 'NH_OTHER',\n",
       " 'NH_MULT',\n",
       " 'HISP',\n",
       " 'COMM_LT10',\n",
       " 'COMM_609P',\n",
       " 'MED_HH_INC',\n",
       " 'COMM_CAR',\n",
       " 'COMM_CP',\n",
       " 'COMM_PT',\n",
       " 'COMM_WALK',\n",
       " 'KIDS',\n",
       " 'KIDS_MC',\n",
       " 'M_NEV_MAR',\n",
       " 'M_MAR',\n",
       " 'M_MAR_SP',\n",
       " 'M_MAR_SNP',\n",
       " 'F_NEV_MAR',\n",
       " 'F_MAR',\n",
       " 'F_MAR_SP',\n",
       " 'F_MAR_SNP',\n",
       " 'ED_ASSOC',\n",
       " 'ED_BACH',\n",
       " 'ED_MD',\n",
       " 'ED_PROF',\n",
       " 'ED_DOC',\n",
       " 'ED_4COL',\n",
       " 'GENDER_F',\n",
       " 'GENDER_M',\n",
       " 'H_AFDLN3P',\n",
       " 'H_AFSSLN3P',\n",
       " 'H_F1',\n",
       " 'H_FFDLN2',\n",
       " 'H_FFSLN2',\n",
       " 'H_M1',\n",
       " 'H_MFDLN2',\n",
       " 'H_MFDLN3P',\n",
       " 'H_MFSLN2',\n",
       " 'H_MFSLN3P',\n",
       " 'H_MFSSLN3P',\n",
       " 'H_MMDLN2',\n",
       " 'H_MMSLN2',\n",
       " 'PARTY_D',\n",
       " 'PARTY_I',\n",
       " 'PARTY_R',\n",
       " 'HHP_D',\n",
       " 'HHP_DD',\n",
       " 'HHP_DI',\n",
       " 'HHP_DR',\n",
       " 'HHP_I',\n",
       " 'HHP_II',\n",
       " 'HHP_R',\n",
       " 'HHP_RI',\n",
       " 'HHP_RR',\n",
       " 'VPP_12',\n",
       " 'VPP_16',\n",
       " 'VPR_12',\n",
       " 'VPR_14',\n",
       " 'VPR_16',\n",
       " 'VG_08',\n",
       " 'VG_10',\n",
       " 'VG_12',\n",
       " 'VG_14',\n",
       " 'VG_16',\n",
       " 'PP_PELIG',\n",
       " 'PR_PELIG',\n",
       " 'AP_PELIG',\n",
       " 'G_PELIG',\n",
       " 'E_PELIG',\n",
       " 'NL5G',\n",
       " 'NL3PR',\n",
       " 'NL5AP',\n",
       " 'NL2PP',\n",
       " 'REG_DAYS',\n",
       " 'UPSCALEBUY',\n",
       " 'UPSCALEMAL',\n",
       " 'UPSCALEFEM',\n",
       " 'BOOKBUYERI',\n",
       " 'FAMILYMAGA',\n",
       " 'FEMALEORIE',\n",
       " 'RELIGIOUSM',\n",
       " 'GARDENINGM',\n",
       " 'CULINARYIN',\n",
       " 'HEALTHFITN',\n",
       " 'DOITYOURSE',\n",
       " 'FINANCIALM',\n",
       " 'RELIGIOUSC',\n",
       " 'POLITICALC',\n",
       " 'MEDIANEDUC',\n",
       " 'PRS16_PD',\n",
       " 'PRS16_PR',\n",
       " 'MSG_A',\n",
       " 'MSG_B',\n",
       " 'CAND1S',\n",
       " 'CAND2S',\n",
       " 'MESSAGE',\n",
       " 'VG_14_DV',\n",
       " 'D2',\n",
       " 'R2',\n",
       " 'D3',\n",
       " 'R3',\n",
       " 'I3',\n",
       " 'CAND1_UND',\n",
       " 'CAND1_SD2',\n",
       " 'CAND1_SDA',\n",
       " 'CAND1_LD2',\n",
       " 'CAND1_LDA',\n",
       " 'CAND1_SR2',\n",
       " 'CAND1_SRA',\n",
       " 'CAND1_LRA',\n",
       " 'CAND1_LR2',\n",
       " 'CAND1_SFT',\n",
       " 'CAND2_UND',\n",
       " 'CAND2_SD2',\n",
       " 'CAND2_SDA',\n",
       " 'CAND2_LD2',\n",
       " 'CAND2_LDA',\n",
       " 'CAND2_SR2',\n",
       " 'CAND2_SRA',\n",
       " 'CAND2_LRA',\n",
       " 'CAND2_LR2',\n",
       " 'CAND2_SFT',\n",
       " 'MOVED_RD',\n",
       " 'MOVED_DR',\n",
       " 'MOVED_AW',\n",
       " 'MOVED_U',\n",
       " 'MOVED_AD',\n",
       " 'MOVED_AR',\n",
       " 'MOVED_RDMA',\n",
       " 'MOVED_DRMA',\n",
       " 'MOVED_AWMA',\n",
       " 'MOVED_ADMA',\n",
       " 'MOVED_ARMA',\n",
       " 'MOVED_RDMB',\n",
       " 'MOVED_DRMB',\n",
       " 'MOVED_AWMB',\n",
       " 'MOVED_ADMB',\n",
       " 'MOVED_ARMB']"
      ]
     },
     "execution_count": 5,
     "metadata": {},
     "output_type": "execute_result"
    }
   ],
   "source": [
    "column_names = voter_df.columns.tolist()\n",
    "column_names"
   ]
  },
  {
   "cell_type": "code",
   "execution_count": 6,
   "metadata": {
    "colab": {
     "base_uri": "https://localhost:8080/",
     "height": 300
    },
    "id": "CIZiYKAJkNgQ",
    "outputId": "06eacbf7-0a84-4aa6-98a4-8922c6e1ebd3"
   },
   "outputs": [
    {
     "data": {
      "text/html": [
       "\n",
       "  <div id=\"df-0e3f8ec1-f90b-4b0a-8d15-e5ccb5f8b6d7\">\n",
       "    <div class=\"colab-df-container\">\n",
       "      <div>\n",
       "<style scoped>\n",
       "    .dataframe tbody tr th:only-of-type {\n",
       "        vertical-align: middle;\n",
       "    }\n",
       "\n",
       "    .dataframe tbody tr th {\n",
       "        vertical-align: top;\n",
       "    }\n",
       "\n",
       "    .dataframe thead th {\n",
       "        text-align: right;\n",
       "    }\n",
       "</style>\n",
       "<table border=\"1\" class=\"dataframe\">\n",
       "  <thead>\n",
       "    <tr style=\"text-align: right;\">\n",
       "      <th></th>\n",
       "      <th>VOTER_ID</th>\n",
       "      <th>SET_NO</th>\n",
       "      <th>OPP_SEX</th>\n",
       "      <th>AGE</th>\n",
       "      <th>HH_ND</th>\n",
       "      <th>HH_NR</th>\n",
       "      <th>HH_NI</th>\n",
       "      <th>MED_AGE</th>\n",
       "      <th>MED_AGE_M</th>\n",
       "      <th>MED_AGE_F</th>\n",
       "      <th>...</th>\n",
       "      <th>MOVED_RDMA</th>\n",
       "      <th>MOVED_DRMA</th>\n",
       "      <th>MOVED_AWMA</th>\n",
       "      <th>MOVED_ADMA</th>\n",
       "      <th>MOVED_ARMA</th>\n",
       "      <th>MOVED_RDMB</th>\n",
       "      <th>MOVED_DRMB</th>\n",
       "      <th>MOVED_AWMB</th>\n",
       "      <th>MOVED_ADMB</th>\n",
       "      <th>MOVED_ARMB</th>\n",
       "    </tr>\n",
       "  </thead>\n",
       "  <tbody>\n",
       "    <tr>\n",
       "      <th>0</th>\n",
       "      <td>84508</td>\n",
       "      <td>3</td>\n",
       "      <td>0</td>\n",
       "      <td>25</td>\n",
       "      <td>4</td>\n",
       "      <td>0</td>\n",
       "      <td>0</td>\n",
       "      <td>38</td>\n",
       "      <td>39</td>\n",
       "      <td>38</td>\n",
       "      <td>...</td>\n",
       "      <td>NaN</td>\n",
       "      <td>NaN</td>\n",
       "      <td>NaN</td>\n",
       "      <td>NaN</td>\n",
       "      <td>NaN</td>\n",
       "      <td>NaN</td>\n",
       "      <td>NaN</td>\n",
       "      <td>NaN</td>\n",
       "      <td>NaN</td>\n",
       "      <td>NaN</td>\n",
       "    </tr>\n",
       "    <tr>\n",
       "      <th>1</th>\n",
       "      <td>608312</td>\n",
       "      <td>1</td>\n",
       "      <td>0</td>\n",
       "      <td>35</td>\n",
       "      <td>0</td>\n",
       "      <td>0</td>\n",
       "      <td>3</td>\n",
       "      <td>46</td>\n",
       "      <td>46</td>\n",
       "      <td>46</td>\n",
       "      <td>...</td>\n",
       "      <td>NaN</td>\n",
       "      <td>NaN</td>\n",
       "      <td>NaN</td>\n",
       "      <td>NaN</td>\n",
       "      <td>NaN</td>\n",
       "      <td>NaN</td>\n",
       "      <td>NaN</td>\n",
       "      <td>NaN</td>\n",
       "      <td>NaN</td>\n",
       "      <td>NaN</td>\n",
       "    </tr>\n",
       "    <tr>\n",
       "      <th>2</th>\n",
       "      <td>222821</td>\n",
       "      <td>3</td>\n",
       "      <td>0</td>\n",
       "      <td>73</td>\n",
       "      <td>3</td>\n",
       "      <td>0</td>\n",
       "      <td>0</td>\n",
       "      <td>42</td>\n",
       "      <td>36</td>\n",
       "      <td>48</td>\n",
       "      <td>...</td>\n",
       "      <td>NaN</td>\n",
       "      <td>NaN</td>\n",
       "      <td>NaN</td>\n",
       "      <td>NaN</td>\n",
       "      <td>NaN</td>\n",
       "      <td>NaN</td>\n",
       "      <td>NaN</td>\n",
       "      <td>NaN</td>\n",
       "      <td>NaN</td>\n",
       "      <td>NaN</td>\n",
       "    </tr>\n",
       "    <tr>\n",
       "      <th>3</th>\n",
       "      <td>137882</td>\n",
       "      <td>2</td>\n",
       "      <td>0</td>\n",
       "      <td>54</td>\n",
       "      <td>1</td>\n",
       "      <td>1</td>\n",
       "      <td>0</td>\n",
       "      <td>37</td>\n",
       "      <td>34</td>\n",
       "      <td>51</td>\n",
       "      <td>...</td>\n",
       "      <td>NaN</td>\n",
       "      <td>NaN</td>\n",
       "      <td>NaN</td>\n",
       "      <td>NaN</td>\n",
       "      <td>NaN</td>\n",
       "      <td>NaN</td>\n",
       "      <td>NaN</td>\n",
       "      <td>NaN</td>\n",
       "      <td>NaN</td>\n",
       "      <td>NaN</td>\n",
       "    </tr>\n",
       "    <tr>\n",
       "      <th>4</th>\n",
       "      <td>531303</td>\n",
       "      <td>2</td>\n",
       "      <td>0</td>\n",
       "      <td>51</td>\n",
       "      <td>0</td>\n",
       "      <td>3</td>\n",
       "      <td>0</td>\n",
       "      <td>46</td>\n",
       "      <td>46</td>\n",
       "      <td>46</td>\n",
       "      <td>...</td>\n",
       "      <td>NaN</td>\n",
       "      <td>NaN</td>\n",
       "      <td>NaN</td>\n",
       "      <td>NaN</td>\n",
       "      <td>NaN</td>\n",
       "      <td>NaN</td>\n",
       "      <td>NaN</td>\n",
       "      <td>NaN</td>\n",
       "      <td>NaN</td>\n",
       "      <td>NaN</td>\n",
       "    </tr>\n",
       "  </tbody>\n",
       "</table>\n",
       "<p>5 rows × 152 columns</p>\n",
       "</div>\n",
       "      <button class=\"colab-df-convert\" onclick=\"convertToInteractive('df-0e3f8ec1-f90b-4b0a-8d15-e5ccb5f8b6d7')\"\n",
       "              title=\"Convert this dataframe to an interactive table.\"\n",
       "              style=\"display:none;\">\n",
       "        \n",
       "  <svg xmlns=\"http://www.w3.org/2000/svg\" height=\"24px\"viewBox=\"0 0 24 24\"\n",
       "       width=\"24px\">\n",
       "    <path d=\"M0 0h24v24H0V0z\" fill=\"none\"/>\n",
       "    <path d=\"M18.56 5.44l.94 2.06.94-2.06 2.06-.94-2.06-.94-.94-2.06-.94 2.06-2.06.94zm-11 1L8.5 8.5l.94-2.06 2.06-.94-2.06-.94L8.5 2.5l-.94 2.06-2.06.94zm10 10l.94 2.06.94-2.06 2.06-.94-2.06-.94-.94-2.06-.94 2.06-2.06.94z\"/><path d=\"M17.41 7.96l-1.37-1.37c-.4-.4-.92-.59-1.43-.59-.52 0-1.04.2-1.43.59L10.3 9.45l-7.72 7.72c-.78.78-.78 2.05 0 2.83L4 21.41c.39.39.9.59 1.41.59.51 0 1.02-.2 1.41-.59l7.78-7.78 2.81-2.81c.8-.78.8-2.07 0-2.86zM5.41 20L4 18.59l7.72-7.72 1.47 1.35L5.41 20z\"/>\n",
       "  </svg>\n",
       "      </button>\n",
       "      \n",
       "  <style>\n",
       "    .colab-df-container {\n",
       "      display:flex;\n",
       "      flex-wrap:wrap;\n",
       "      gap: 12px;\n",
       "    }\n",
       "\n",
       "    .colab-df-convert {\n",
       "      background-color: #E8F0FE;\n",
       "      border: none;\n",
       "      border-radius: 50%;\n",
       "      cursor: pointer;\n",
       "      display: none;\n",
       "      fill: #1967D2;\n",
       "      height: 32px;\n",
       "      padding: 0 0 0 0;\n",
       "      width: 32px;\n",
       "    }\n",
       "\n",
       "    .colab-df-convert:hover {\n",
       "      background-color: #E2EBFA;\n",
       "      box-shadow: 0px 1px 2px rgba(60, 64, 67, 0.3), 0px 1px 3px 1px rgba(60, 64, 67, 0.15);\n",
       "      fill: #174EA6;\n",
       "    }\n",
       "\n",
       "    [theme=dark] .colab-df-convert {\n",
       "      background-color: #3B4455;\n",
       "      fill: #D2E3FC;\n",
       "    }\n",
       "\n",
       "    [theme=dark] .colab-df-convert:hover {\n",
       "      background-color: #434B5C;\n",
       "      box-shadow: 0px 1px 3px 1px rgba(0, 0, 0, 0.15);\n",
       "      filter: drop-shadow(0px 1px 2px rgba(0, 0, 0, 0.3));\n",
       "      fill: #FFFFFF;\n",
       "    }\n",
       "  </style>\n",
       "\n",
       "      <script>\n",
       "        const buttonEl =\n",
       "          document.querySelector('#df-0e3f8ec1-f90b-4b0a-8d15-e5ccb5f8b6d7 button.colab-df-convert');\n",
       "        buttonEl.style.display =\n",
       "          google.colab.kernel.accessAllowed ? 'block' : 'none';\n",
       "\n",
       "        async function convertToInteractive(key) {\n",
       "          const element = document.querySelector('#df-0e3f8ec1-f90b-4b0a-8d15-e5ccb5f8b6d7');\n",
       "          const dataTable =\n",
       "            await google.colab.kernel.invokeFunction('convertToInteractive',\n",
       "                                                     [key], {});\n",
       "          if (!dataTable) return;\n",
       "\n",
       "          const docLinkHtml = 'Like what you see? Visit the ' +\n",
       "            '<a target=\"_blank\" href=https://colab.research.google.com/notebooks/data_table.ipynb>data table notebook</a>'\n",
       "            + ' to learn more about interactive tables.';\n",
       "          element.innerHTML = '';\n",
       "          dataTable['output_type'] = 'display_data';\n",
       "          await google.colab.output.renderOutput(dataTable, element);\n",
       "          const docLink = document.createElement('div');\n",
       "          docLink.innerHTML = docLinkHtml;\n",
       "          element.appendChild(docLink);\n",
       "        }\n",
       "      </script>\n",
       "    </div>\n",
       "  </div>\n",
       "  "
      ],
      "text/plain": [
       "   VOTER_ID  SET_NO  OPP_SEX  AGE  HH_ND  HH_NR  HH_NI  MED_AGE  MED_AGE_M  \\\n",
       "0     84508       3        0   25      4      0      0       38         39   \n",
       "1    608312       1        0   35      0      0      3       46         46   \n",
       "2    222821       3        0   73      3      0      0       42         36   \n",
       "3    137882       2        0   54      1      1      0       37         34   \n",
       "4    531303       2        0   51      0      3      0       46         46   \n",
       "\n",
       "   MED_AGE_F  ...  MOVED_RDMA  MOVED_DRMA  MOVED_AWMA  MOVED_ADMA  MOVED_ARMA  \\\n",
       "0         38  ...         NaN         NaN         NaN         NaN         NaN   \n",
       "1         46  ...         NaN         NaN         NaN         NaN         NaN   \n",
       "2         48  ...         NaN         NaN         NaN         NaN         NaN   \n",
       "3         51  ...         NaN         NaN         NaN         NaN         NaN   \n",
       "4         46  ...         NaN         NaN         NaN         NaN         NaN   \n",
       "\n",
       "   MOVED_RDMB  MOVED_DRMB  MOVED_AWMB  MOVED_ADMB  MOVED_ARMB  \n",
       "0         NaN         NaN         NaN         NaN         NaN  \n",
       "1         NaN         NaN         NaN         NaN         NaN  \n",
       "2         NaN         NaN         NaN         NaN         NaN  \n",
       "3         NaN         NaN         NaN         NaN         NaN  \n",
       "4         NaN         NaN         NaN         NaN         NaN  \n",
       "\n",
       "[5 rows x 152 columns]"
      ]
     },
     "execution_count": 6,
     "metadata": {},
     "output_type": "execute_result"
    }
   ],
   "source": [
    "voter_df.head()"
   ]
  },
  {
   "cell_type": "code",
   "execution_count": 7,
   "metadata": {
    "id": "1rRZQhpqL3Jl"
   },
   "outputs": [],
   "source": [
    "voter_df = voter_df.replace({'Y': 1, 'N': 0})"
   ]
  },
  {
   "cell_type": "code",
   "execution_count": 8,
   "metadata": {
    "id": "m3PZWumZa8Fa"
   },
   "outputs": [],
   "source": [
    "voter_df = voter_df.fillna(voter_df.mode())"
   ]
  },
  {
   "cell_type": "code",
   "execution_count": 9,
   "metadata": {
    "id": "Puu3kpbAlOw0"
   },
   "outputs": [],
   "source": [
    "voter_df = voter_df.apply(pd.to_numeric, errors='coerce').fillna(0)"
   ]
  },
  {
   "cell_type": "code",
   "execution_count": 10,
   "metadata": {
    "id": "xjpNPgHubmEJ"
   },
   "outputs": [],
   "source": [
    "# split the dataset on which message each voter received\n",
    "df_a = voter_df.loc[voter_df['MSG_A'] == 1].copy()\n",
    "df_b = voter_df.loc[voter_df['MSG_B'] == 1].copy()"
   ]
  },
  {
   "cell_type": "code",
   "execution_count": 11,
   "metadata": {
    "id": "UMX_Wga2hUxY"
   },
   "outputs": [],
   "source": [
    "# create a new column in each dataframe indicating whether the message received was effective in any way\n",
    "df_a['a_effective'] = (df_a['MSG_A'] == 1) & (df_a['MOVED_ADMA'] == 1)\n",
    "df_b['b_effective'] = (df_b['MSG_B'] == 1) & (df_b['MOVED_ADMB'] == 1)"
   ]
  },
  {
   "cell_type": "code",
   "execution_count": 12,
   "metadata": {
    "id": "xSNKbr4P1nrt"
   },
   "outputs": [],
   "source": [
    "# run a model for dataset a\n",
    "X = pd.get_dummies(df_a.drop(['MESSAGE','MSG_A','MSG_B','CAND1_UND', 'CAND1_SD2', 'CAND1_SDA', 'CAND1_LD2', 'CAND1_LDA', 'CAND1_SR2', 'CAND1_SRA', 'CAND1_LRA', 'CAND1_LR2', 'CAND1_SFT', 'CAND2_UND', 'CAND2_SD2', 'CAND2_SDA', 'CAND2_LD2', 'CAND2_LDA', 'CAND2_SR2', 'CAND2_SRA', 'CAND2_LRA', 'CAND2_LR2', 'CAND2_SFT', 'MOVED_RD', 'MOVED_DR', 'MOVED_AW', 'MOVED_U', 'MOVED_AD', 'MOVED_AR', 'MOVED_RDMA', 'MOVED_DRMA', 'MOVED_AWMA', 'MOVED_ADMA', 'MOVED_ARMA', 'MOVED_RDMB', 'MOVED_DRMB', 'MOVED_AWMB', 'MOVED_ADMB', 'MOVED_ARMB', 'a_effective','VOTER_ID'], axis=1))\n",
    "y = df_a['a_effective']"
   ]
  },
  {
   "cell_type": "code",
   "execution_count": 13,
   "metadata": {
    "id": "cIv3YFQk2aIo"
   },
   "outputs": [],
   "source": [
    "# partition the data\n",
    "X_train, X_valid, y_train, y_valid = train_test_split(X, y, test_size = 0.4, random_state = 1)"
   ]
  },
  {
   "cell_type": "code",
   "execution_count": 14,
   "metadata": {
    "id": "YX8K6VQs2d1J"
   },
   "outputs": [],
   "source": [
    "dtc = DecisionTreeClassifier(max_depth = 20, random_state = 1)"
   ]
  },
  {
   "cell_type": "code",
   "execution_count": 15,
   "metadata": {
    "colab": {
     "base_uri": "https://localhost:8080/",
     "height": 75
    },
    "id": "2bSJagIg3KKF",
    "outputId": "332d934d-75a9-4dfc-b98f-8e0ed5083740"
   },
   "outputs": [
    {
     "data": {
      "text/html": [
       "<style>#sk-container-id-1 {color: black;background-color: white;}#sk-container-id-1 pre{padding: 0;}#sk-container-id-1 div.sk-toggleable {background-color: white;}#sk-container-id-1 label.sk-toggleable__label {cursor: pointer;display: block;width: 100%;margin-bottom: 0;padding: 0.3em;box-sizing: border-box;text-align: center;}#sk-container-id-1 label.sk-toggleable__label-arrow:before {content: \"▸\";float: left;margin-right: 0.25em;color: #696969;}#sk-container-id-1 label.sk-toggleable__label-arrow:hover:before {color: black;}#sk-container-id-1 div.sk-estimator:hover label.sk-toggleable__label-arrow:before {color: black;}#sk-container-id-1 div.sk-toggleable__content {max-height: 0;max-width: 0;overflow: hidden;text-align: left;background-color: #f0f8ff;}#sk-container-id-1 div.sk-toggleable__content pre {margin: 0.2em;color: black;border-radius: 0.25em;background-color: #f0f8ff;}#sk-container-id-1 input.sk-toggleable__control:checked~div.sk-toggleable__content {max-height: 200px;max-width: 100%;overflow: auto;}#sk-container-id-1 input.sk-toggleable__control:checked~label.sk-toggleable__label-arrow:before {content: \"▾\";}#sk-container-id-1 div.sk-estimator input.sk-toggleable__control:checked~label.sk-toggleable__label {background-color: #d4ebff;}#sk-container-id-1 div.sk-label input.sk-toggleable__control:checked~label.sk-toggleable__label {background-color: #d4ebff;}#sk-container-id-1 input.sk-hidden--visually {border: 0;clip: rect(1px 1px 1px 1px);clip: rect(1px, 1px, 1px, 1px);height: 1px;margin: -1px;overflow: hidden;padding: 0;position: absolute;width: 1px;}#sk-container-id-1 div.sk-estimator {font-family: monospace;background-color: #f0f8ff;border: 1px dotted black;border-radius: 0.25em;box-sizing: border-box;margin-bottom: 0.5em;}#sk-container-id-1 div.sk-estimator:hover {background-color: #d4ebff;}#sk-container-id-1 div.sk-parallel-item::after {content: \"\";width: 100%;border-bottom: 1px solid gray;flex-grow: 1;}#sk-container-id-1 div.sk-label:hover label.sk-toggleable__label {background-color: #d4ebff;}#sk-container-id-1 div.sk-serial::before {content: \"\";position: absolute;border-left: 1px solid gray;box-sizing: border-box;top: 0;bottom: 0;left: 50%;z-index: 0;}#sk-container-id-1 div.sk-serial {display: flex;flex-direction: column;align-items: center;background-color: white;padding-right: 0.2em;padding-left: 0.2em;position: relative;}#sk-container-id-1 div.sk-item {position: relative;z-index: 1;}#sk-container-id-1 div.sk-parallel {display: flex;align-items: stretch;justify-content: center;background-color: white;position: relative;}#sk-container-id-1 div.sk-item::before, #sk-container-id-1 div.sk-parallel-item::before {content: \"\";position: absolute;border-left: 1px solid gray;box-sizing: border-box;top: 0;bottom: 0;left: 50%;z-index: -1;}#sk-container-id-1 div.sk-parallel-item {display: flex;flex-direction: column;z-index: 1;position: relative;background-color: white;}#sk-container-id-1 div.sk-parallel-item:first-child::after {align-self: flex-end;width: 50%;}#sk-container-id-1 div.sk-parallel-item:last-child::after {align-self: flex-start;width: 50%;}#sk-container-id-1 div.sk-parallel-item:only-child::after {width: 0;}#sk-container-id-1 div.sk-dashed-wrapped {border: 1px dashed gray;margin: 0 0.4em 0.5em 0.4em;box-sizing: border-box;padding-bottom: 0.4em;background-color: white;}#sk-container-id-1 div.sk-label label {font-family: monospace;font-weight: bold;display: inline-block;line-height: 1.2em;}#sk-container-id-1 div.sk-label-container {text-align: center;}#sk-container-id-1 div.sk-container {/* jupyter's `normalize.less` sets `[hidden] { display: none; }` but bootstrap.min.css set `[hidden] { display: none !important; }` so we also need the `!important` here to be able to override the default hidden behavior on the sphinx rendered scikit-learn.org. See: https://github.com/scikit-learn/scikit-learn/issues/21755 */display: inline-block !important;position: relative;}#sk-container-id-1 div.sk-text-repr-fallback {display: none;}</style><div id=\"sk-container-id-1\" class=\"sk-top-container\"><div class=\"sk-text-repr-fallback\"><pre>DecisionTreeClassifier(max_depth=20, random_state=1)</pre><b>In a Jupyter environment, please rerun this cell to show the HTML representation or trust the notebook. <br />On GitHub, the HTML representation is unable to render, please try loading this page with nbviewer.org.</b></div><div class=\"sk-container\" hidden><div class=\"sk-item\"><div class=\"sk-estimator sk-toggleable\"><input class=\"sk-toggleable__control sk-hidden--visually\" id=\"sk-estimator-id-1\" type=\"checkbox\" checked><label for=\"sk-estimator-id-1\" class=\"sk-toggleable__label sk-toggleable__label-arrow\">DecisionTreeClassifier</label><div class=\"sk-toggleable__content\"><pre>DecisionTreeClassifier(max_depth=20, random_state=1)</pre></div></div></div></div></div>"
      ],
      "text/plain": [
       "DecisionTreeClassifier(max_depth=20, random_state=1)"
      ]
     },
     "execution_count": 15,
     "metadata": {},
     "output_type": "execute_result"
    }
   ],
   "source": [
    "# train the model\n",
    "dtc.fit(X_train, y_train)"
   ]
  },
  {
   "cell_type": "code",
   "execution_count": 16,
   "metadata": {
    "colab": {
     "base_uri": "https://localhost:8080/"
    },
    "id": "vQ_XrF0j4VvQ",
    "outputId": "d204d1c1-7fb4-41be-c878-d500aa0a4f1e"
   },
   "outputs": [
    {
     "name": "stdout",
     "output_type": "stream",
     "text": [
      "Confusion Matrix (Accuracy 0.9483)\n",
      "\n",
      "       Prediction\n",
      "Actual     0     1\n",
      "     0 15150    73\n",
      "     1   856  1898\n"
     ]
    }
   ],
   "source": [
    "classificationSummary(y_train, dtc.predict(X_train))"
   ]
  },
  {
   "cell_type": "code",
   "execution_count": 17,
   "metadata": {
    "colab": {
     "base_uri": "https://localhost:8080/"
    },
    "id": "wO5JiFfWOhZE",
    "outputId": "cbdcca71-0750-466a-eaa6-305444fe447b"
   },
   "outputs": [
    {
     "name": "stdout",
     "output_type": "stream",
     "text": [
      "Confusion Matrix (Accuracy 0.7763)\n",
      "\n",
      "       Prediction\n",
      "Actual    0    1\n",
      "     0 9050 1123\n",
      "     1 1558  255\n"
     ]
    }
   ],
   "source": [
    "classificationSummary(y_valid, dtc.predict(X_valid))"
   ]
  },
  {
   "cell_type": "code",
   "execution_count": 18,
   "metadata": {
    "id": "RmCFMEc98qov"
   },
   "outputs": [],
   "source": [
    "importances = dtc.feature_importances_"
   ]
  },
  {
   "cell_type": "code",
   "execution_count": 19,
   "metadata": {
    "colab": {
     "base_uri": "https://localhost:8080/"
    },
    "id": "wKhbtRQMGzZF",
    "outputId": "26d0d72e-6e0e-47ef-e604-75414e28abba"
   },
   "outputs": [
    {
     "name": "stdout",
     "output_type": "stream",
     "text": [
      "        feature  importance\n",
      "93   RELIGIOUSM    0.000000\n",
      "47         H_M1    0.000000\n",
      "105      CAND2S    0.000000\n",
      "68       VPP_16    0.000000\n",
      "104      CAND1S    0.000000\n",
      "..          ...         ...\n",
      "101  MEDIANEDUC    0.023981\n",
      "102    PRS16_PD    0.068228\n",
      "103    PRS16_PR    0.073090\n",
      "86     REG_DAYS    0.102848\n",
      "2           AGE    0.131155\n",
      "\n",
      "[112 rows x 2 columns]\n"
     ]
    }
   ],
   "source": [
    "importance_df = pd.DataFrame({'feature': X_train.columns, 'importance':importances})\n",
    "importance_df = importance_df.sort_values('importance')\n",
    "print(importance_df)"
   ]
  },
  {
   "cell_type": "code",
   "execution_count": 20,
   "metadata": {
    "id": "sybsP1qHWcGc"
   },
   "outputs": [],
   "source": [
    "# Generate predicted probabilities\n",
    "y_pred_prob = dtc.predict_proba(X_valid)[:, 1]"
   ]
  },
  {
   "cell_type": "code",
   "execution_count": 21,
   "metadata": {
    "id": "B5NPszezW8oL"
   },
   "outputs": [],
   "source": [
    "# Create dataframe with predicted probabilities and true labels\n",
    "df = pd.DataFrame({'y_true': y_valid, 'y_pred_prob': y_pred_prob})"
   ]
  },
  {
   "cell_type": "code",
   "execution_count": 22,
   "metadata": {
    "id": "tI4DBRC8XEEq"
   },
   "outputs": [],
   "source": [
    "# Sort dataframe by predicted probabilities\n",
    "df = df.sort_values('y_pred_prob', ascending=False)"
   ]
  },
  {
   "cell_type": "code",
   "execution_count": 23,
   "metadata": {
    "id": "SBtv5Ip3XEBN"
   },
   "outputs": [],
   "source": [
    "# Divide dataframe into deciles\n",
    "n = len(df)\n",
    "df['decile'] = pd.qcut(range(n), 10, labels=False)"
   ]
  },
  {
   "cell_type": "code",
   "execution_count": 24,
   "metadata": {
    "colab": {
     "base_uri": "https://localhost:8080/"
    },
    "id": "vuRzGpV6XD5m",
    "outputId": "721d55b2-ac8a-429f-80b8-32ebc20656c8"
   },
   "outputs": [
    {
     "name": "stdout",
     "output_type": "stream",
     "text": [
      "Lift per decile: [5.376681614349776, 0.671696924073458, 0.0, 0.0, 0.0, 0.0, 0.0, 0.0, 0.0, 0.0]\n"
     ]
    }
   ],
   "source": [
    "# Calculate lift for each decile\n",
    "lifts = []\n",
    "for i in range(10):\n",
    "    decile = df[df['decile'] == i]\n",
    "    tn, fp, fn, tp = confusion_matrix(decile['y_true'], decile['y_pred_prob'] > 0.5).ravel()\n",
    "    true_positive_rate = tp / (tp + fn)\n",
    "    base_rate = (tp + fn) / (tp + fp + tn + fn)\n",
    "    lift = true_positive_rate / base_rate\n",
    "    lifts.append(lift)\n",
    "\n",
    "# Print the lifts for each decile\n",
    "print(\"Lift per decile:\", lifts)"
   ]
  },
  {
   "cell_type": "code",
   "execution_count": 25,
   "metadata": {
    "colab": {
     "base_uri": "https://localhost:8080/",
     "height": 472
    },
    "id": "gBGT3oUtZlLk",
    "outputId": "61f4c97c-8237-4e2c-d7d4-578270facb0f"
   },
   "outputs": [
    {
     "data": {
      "image/png": "[encoded data removed]",
      "text/plain": [
       "<Figure size 640x480 with 1 Axes>"
      ]
     },
     "metadata": {},
     "output_type": "display_data"
    }
   ],
   "source": [
    "%matplotlib inline\n",
    "# Create list of decile labels\n",
    "decile_labels = [str(i+1) for i in range(10)]\n",
    "\n",
    "# Create bar chart\n",
    "plt.bar(decile_labels, lifts)\n",
    "\n",
    "# Add labels and title\n",
    "plt.xlabel('Decile')\n",
    "plt.ylabel('Lift')\n",
    "plt.title('Lift per Decile')\n",
    "\n",
    "# Display chart\n",
    "plt.show()"
   ]
  },
  {
   "cell_type": "code",
   "execution_count": 26,
   "metadata": {
    "id": "ijGlJJRAofic"
   },
   "outputs": [],
   "source": [
    "# run model on the whole dataset to predict the voters on which message A will have a positive effect\n",
    "X = pd.get_dummies(voter_df.drop(['MESSAGE','MSG_A','MSG_B','CAND1_UND', 'CAND1_SD2', 'CAND1_SDA', 'CAND1_LD2', 'CAND1_LDA', 'CAND1_SR2', 'CAND1_SRA', 'CAND1_LRA', 'CAND1_LR2', 'CAND1_SFT', 'CAND2_UND', 'CAND2_SD2', 'CAND2_SDA', 'CAND2_LD2', 'CAND2_LDA', 'CAND2_SR2', 'CAND2_SRA', 'CAND2_LRA', 'CAND2_LR2', 'CAND2_SFT', 'MOVED_RD', 'MOVED_DR', 'MOVED_AW', 'MOVED_U', 'MOVED_AD', 'MOVED_AR', 'MOVED_RDMA', 'MOVED_DRMA', 'MOVED_AWMA', 'MOVED_ADMA', 'MOVED_ARMA', 'MOVED_RDMB', 'MOVED_DRMB', 'MOVED_AWMB', 'MOVED_ADMB', 'MOVED_ARMB', 'VOTER_ID'], axis=1))"
   ]
  },
  {
   "cell_type": "code",
   "execution_count": 27,
   "metadata": {
    "id": "776MJWebpN7d"
   },
   "outputs": [],
   "source": [
    "voter_df['a_effective'] = dtc.predict(X)"
   ]
  },
  {
   "cell_type": "code",
   "execution_count": 28,
   "metadata": {
    "colab": {
     "base_uri": "https://localhost:8080/",
     "height": 300
    },
    "id": "IMihuEm4qEqY",
    "outputId": "a3fabe6d-7995-4e52-86e5-ae77350cd236"
   },
   "outputs": [
    {
     "data": {
      "text/html": [
       "\n",
       "  <div id=\"df-4c3fc229-91d1-4ae0-baa1-adeb2fc088a7\">\n",
       "    <div class=\"colab-df-container\">\n",
       "      <div>\n",
       "<style scoped>\n",
       "    .dataframe tbody tr th:only-of-type {\n",
       "        vertical-align: middle;\n",
       "    }\n",
       "\n",
       "    .dataframe tbody tr th {\n",
       "        vertical-align: top;\n",
       "    }\n",
       "\n",
       "    .dataframe thead th {\n",
       "        text-align: right;\n",
       "    }\n",
       "</style>\n",
       "<table border=\"1\" class=\"dataframe\">\n",
       "  <thead>\n",
       "    <tr style=\"text-align: right;\">\n",
       "      <th></th>\n",
       "      <th>VOTER_ID</th>\n",
       "      <th>SET_NO</th>\n",
       "      <th>OPP_SEX</th>\n",
       "      <th>AGE</th>\n",
       "      <th>HH_ND</th>\n",
       "      <th>HH_NR</th>\n",
       "      <th>HH_NI</th>\n",
       "      <th>MED_AGE</th>\n",
       "      <th>MED_AGE_M</th>\n",
       "      <th>MED_AGE_F</th>\n",
       "      <th>...</th>\n",
       "      <th>MOVED_DRMA</th>\n",
       "      <th>MOVED_AWMA</th>\n",
       "      <th>MOVED_ADMA</th>\n",
       "      <th>MOVED_ARMA</th>\n",
       "      <th>MOVED_RDMB</th>\n",
       "      <th>MOVED_DRMB</th>\n",
       "      <th>MOVED_AWMB</th>\n",
       "      <th>MOVED_ADMB</th>\n",
       "      <th>MOVED_ARMB</th>\n",
       "      <th>a_effective</th>\n",
       "    </tr>\n",
       "  </thead>\n",
       "  <tbody>\n",
       "    <tr>\n",
       "      <th>0</th>\n",
       "      <td>84508</td>\n",
       "      <td>3</td>\n",
       "      <td>0</td>\n",
       "      <td>25</td>\n",
       "      <td>4</td>\n",
       "      <td>0</td>\n",
       "      <td>0</td>\n",
       "      <td>38</td>\n",
       "      <td>39</td>\n",
       "      <td>38</td>\n",
       "      <td>...</td>\n",
       "      <td>0.0</td>\n",
       "      <td>0.0</td>\n",
       "      <td>0.0</td>\n",
       "      <td>0.0</td>\n",
       "      <td>0.0</td>\n",
       "      <td>0.0</td>\n",
       "      <td>0.0</td>\n",
       "      <td>0.0</td>\n",
       "      <td>0.0</td>\n",
       "      <td>False</td>\n",
       "    </tr>\n",
       "    <tr>\n",
       "      <th>1</th>\n",
       "      <td>608312</td>\n",
       "      <td>1</td>\n",
       "      <td>0</td>\n",
       "      <td>35</td>\n",
       "      <td>0</td>\n",
       "      <td>0</td>\n",
       "      <td>3</td>\n",
       "      <td>46</td>\n",
       "      <td>46</td>\n",
       "      <td>46</td>\n",
       "      <td>...</td>\n",
       "      <td>0.0</td>\n",
       "      <td>0.0</td>\n",
       "      <td>0.0</td>\n",
       "      <td>0.0</td>\n",
       "      <td>0.0</td>\n",
       "      <td>0.0</td>\n",
       "      <td>0.0</td>\n",
       "      <td>0.0</td>\n",
       "      <td>0.0</td>\n",
       "      <td>False</td>\n",
       "    </tr>\n",
       "    <tr>\n",
       "      <th>2</th>\n",
       "      <td>222821</td>\n",
       "      <td>3</td>\n",
       "      <td>0</td>\n",
       "      <td>73</td>\n",
       "      <td>3</td>\n",
       "      <td>0</td>\n",
       "      <td>0</td>\n",
       "      <td>42</td>\n",
       "      <td>36</td>\n",
       "      <td>48</td>\n",
       "      <td>...</td>\n",
       "      <td>0.0</td>\n",
       "      <td>0.0</td>\n",
       "      <td>0.0</td>\n",
       "      <td>0.0</td>\n",
       "      <td>0.0</td>\n",
       "      <td>0.0</td>\n",
       "      <td>0.0</td>\n",
       "      <td>0.0</td>\n",
       "      <td>0.0</td>\n",
       "      <td>False</td>\n",
       "    </tr>\n",
       "    <tr>\n",
       "      <th>3</th>\n",
       "      <td>137882</td>\n",
       "      <td>2</td>\n",
       "      <td>0</td>\n",
       "      <td>54</td>\n",
       "      <td>1</td>\n",
       "      <td>1</td>\n",
       "      <td>0</td>\n",
       "      <td>37</td>\n",
       "      <td>34</td>\n",
       "      <td>51</td>\n",
       "      <td>...</td>\n",
       "      <td>0.0</td>\n",
       "      <td>0.0</td>\n",
       "      <td>0.0</td>\n",
       "      <td>0.0</td>\n",
       "      <td>0.0</td>\n",
       "      <td>0.0</td>\n",
       "      <td>0.0</td>\n",
       "      <td>0.0</td>\n",
       "      <td>0.0</td>\n",
       "      <td>False</td>\n",
       "    </tr>\n",
       "    <tr>\n",
       "      <th>4</th>\n",
       "      <td>531303</td>\n",
       "      <td>2</td>\n",
       "      <td>0</td>\n",
       "      <td>51</td>\n",
       "      <td>0</td>\n",
       "      <td>3</td>\n",
       "      <td>0</td>\n",
       "      <td>46</td>\n",
       "      <td>46</td>\n",
       "      <td>46</td>\n",
       "      <td>...</td>\n",
       "      <td>0.0</td>\n",
       "      <td>0.0</td>\n",
       "      <td>0.0</td>\n",
       "      <td>0.0</td>\n",
       "      <td>0.0</td>\n",
       "      <td>0.0</td>\n",
       "      <td>0.0</td>\n",
       "      <td>0.0</td>\n",
       "      <td>0.0</td>\n",
       "      <td>False</td>\n",
       "    </tr>\n",
       "  </tbody>\n",
       "</table>\n",
       "<p>5 rows × 153 columns</p>\n",
       "</div>\n",
       "      <button class=\"colab-df-convert\" onclick=\"convertToInteractive('df-4c3fc229-91d1-4ae0-baa1-adeb2fc088a7')\"\n",
       "              title=\"Convert this dataframe to an interactive table.\"\n",
       "              style=\"display:none;\">\n",
       "        \n",
       "  <svg xmlns=\"http://www.w3.org/2000/svg\" height=\"24px\"viewBox=\"0 0 24 24\"\n",
       "       width=\"24px\">\n",
       "    <path d=\"M0 0h24v24H0V0z\" fill=\"none\"/>\n",
       "    <path d=\"M18.56 5.44l.94 2.06.94-2.06 2.06-.94-2.06-.94-.94-2.06-.94 2.06-2.06.94zm-11 1L8.5 8.5l.94-2.06 2.06-.94-2.06-.94L8.5 2.5l-.94 2.06-2.06.94zm10 10l.94 2.06.94-2.06 2.06-.94-2.06-.94-.94-2.06-.94 2.06-2.06.94z\"/><path d=\"M17.41 7.96l-1.37-1.37c-.4-.4-.92-.59-1.43-.59-.52 0-1.04.2-1.43.59L10.3 9.45l-7.72 7.72c-.78.78-.78 2.05 0 2.83L4 21.41c.39.39.9.59 1.41.59.51 0 1.02-.2 1.41-.59l7.78-7.78 2.81-2.81c.8-.78.8-2.07 0-2.86zM5.41 20L4 18.59l7.72-7.72 1.47 1.35L5.41 20z\"/>\n",
       "  </svg>\n",
       "      </button>\n",
       "      \n",
       "  <style>\n",
       "    .colab-df-container {\n",
       "      display:flex;\n",
       "      flex-wrap:wrap;\n",
       "      gap: 12px;\n",
       "    }\n",
       "\n",
       "    .colab-df-convert {\n",
       "      background-color: #E8F0FE;\n",
       "      border: none;\n",
       "      border-radius: 50%;\n",
       "      cursor: pointer;\n",
       "      display: none;\n",
       "      fill: #1967D2;\n",
       "      height: 32px;\n",
       "      padding: 0 0 0 0;\n",
       "      width: 32px;\n",
       "    }\n",
       "\n",
       "    .colab-df-convert:hover {\n",
       "      background-color: #E2EBFA;\n",
       "      box-shadow: 0px 1px 2px rgba(60, 64, 67, 0.3), 0px 1px 3px 1px rgba(60, 64, 67, 0.15);\n",
       "      fill: #174EA6;\n",
       "    }\n",
       "\n",
       "    [theme=dark] .colab-df-convert {\n",
       "      background-color: #3B4455;\n",
       "      fill: #D2E3FC;\n",
       "    }\n",
       "\n",
       "    [theme=dark] .colab-df-convert:hover {\n",
       "      background-color: #434B5C;\n",
       "      box-shadow: 0px 1px 3px 1px rgba(0, 0, 0, 0.15);\n",
       "      filter: drop-shadow(0px 1px 2px rgba(0, 0, 0, 0.3));\n",
       "      fill: #FFFFFF;\n",
       "    }\n",
       "  </style>\n",
       "\n",
       "      <script>\n",
       "        const buttonEl =\n",
       "          document.querySelector('#df-4c3fc229-91d1-4ae0-baa1-adeb2fc088a7 button.colab-df-convert');\n",
       "        buttonEl.style.display =\n",
       "          google.colab.kernel.accessAllowed ? 'block' : 'none';\n",
       "\n",
       "        async function convertToInteractive(key) {\n",
       "          const element = document.querySelector('#df-4c3fc229-91d1-4ae0-baa1-adeb2fc088a7');\n",
       "          const dataTable =\n",
       "            await google.colab.kernel.invokeFunction('convertToInteractive',\n",
       "                                                     [key], {});\n",
       "          if (!dataTable) return;\n",
       "\n",
       "          const docLinkHtml = 'Like what you see? Visit the ' +\n",
       "            '<a target=\"_blank\" href=https://colab.research.google.com/notebooks/data_table.ipynb>data table notebook</a>'\n",
       "            + ' to learn more about interactive tables.';\n",
       "          element.innerHTML = '';\n",
       "          dataTable['output_type'] = 'display_data';\n",
       "          await google.colab.output.renderOutput(dataTable, element);\n",
       "          const docLink = document.createElement('div');\n",
       "          docLink.innerHTML = docLinkHtml;\n",
       "          element.appendChild(docLink);\n",
       "        }\n",
       "      </script>\n",
       "    </div>\n",
       "  </div>\n",
       "  "
      ],
      "text/plain": [
       "   VOTER_ID  SET_NO  OPP_SEX  AGE  HH_ND  HH_NR  HH_NI  MED_AGE  MED_AGE_M  \\\n",
       "0     84508       3        0   25      4      0      0       38         39   \n",
       "1    608312       1        0   35      0      0      3       46         46   \n",
       "2    222821       3        0   73      3      0      0       42         36   \n",
       "3    137882       2        0   54      1      1      0       37         34   \n",
       "4    531303       2        0   51      0      3      0       46         46   \n",
       "\n",
       "   MED_AGE_F  ...  MOVED_DRMA  MOVED_AWMA  MOVED_ADMA  MOVED_ARMA  MOVED_RDMB  \\\n",
       "0         38  ...         0.0         0.0         0.0         0.0         0.0   \n",
       "1         46  ...         0.0         0.0         0.0         0.0         0.0   \n",
       "2         48  ...         0.0         0.0         0.0         0.0         0.0   \n",
       "3         51  ...         0.0         0.0         0.0         0.0         0.0   \n",
       "4         46  ...         0.0         0.0         0.0         0.0         0.0   \n",
       "\n",
       "   MOVED_DRMB  MOVED_AWMB  MOVED_ADMB  MOVED_ARMB  a_effective  \n",
       "0         0.0         0.0         0.0         0.0        False  \n",
       "1         0.0         0.0         0.0         0.0        False  \n",
       "2         0.0         0.0         0.0         0.0        False  \n",
       "3         0.0         0.0         0.0         0.0        False  \n",
       "4         0.0         0.0         0.0         0.0        False  \n",
       "\n",
       "[5 rows x 153 columns]"
      ]
     },
     "execution_count": 28,
     "metadata": {},
     "output_type": "execute_result"
    }
   ],
   "source": [
    "voter_df.head()"
   ]
  },
  {
   "cell_type": "code",
   "execution_count": 29,
   "metadata": {
    "id": "a8b3uav4m71x"
   },
   "outputs": [],
   "source": [
    "# run a model for dataset b\n",
    "X = pd.get_dummies(df_b.drop(['MESSAGE','MSG_A','MSG_B','CAND1_UND', 'CAND1_SD2', 'CAND1_SDA', 'CAND1_LD2', 'CAND1_LDA', 'CAND1_SR2', 'CAND1_SRA', 'CAND1_LRA', 'CAND1_LR2', 'CAND1_SFT', 'CAND2_UND', 'CAND2_SD2', 'CAND2_SDA', 'CAND2_LD2', 'CAND2_LDA', 'CAND2_SR2', 'CAND2_SRA', 'CAND2_LRA', 'CAND2_LR2', 'CAND2_SFT', 'MOVED_RD', 'MOVED_DR', 'MOVED_AW', 'MOVED_U', 'MOVED_AD', 'MOVED_AR', 'MOVED_RDMA', 'MOVED_DRMA', 'MOVED_AWMA', 'MOVED_ADMA', 'MOVED_ARMA', 'MOVED_RDMB', 'MOVED_DRMB', 'MOVED_AWMB', 'MOVED_ADMB', 'MOVED_ARMB', 'b_effective','VOTER_ID'], axis=1))\n",
    "y = df_b['b_effective']"
   ]
  },
  {
   "cell_type": "code",
   "execution_count": 30,
   "metadata": {
    "id": "lK7V6yWvm7y4"
   },
   "outputs": [],
   "source": [
    "# partition the data\n",
    "X_train, X_valid, y_train, y_valid = train_test_split(X, y, test_size = 0.4, random_state = 1)"
   ]
  },
  {
   "cell_type": "code",
   "execution_count": 31,
   "metadata": {
    "id": "O5vKvtg1m7wD"
   },
   "outputs": [],
   "source": [
    "dtc = DecisionTreeClassifier(max_depth = 20, random_state = 1)"
   ]
  },
  {
   "cell_type": "code",
   "execution_count": 32,
   "metadata": {
    "colab": {
     "base_uri": "https://localhost:8080/",
     "height": 75
    },
    "id": "ZaWqpbwbm7s4",
    "outputId": "4c26da4c-4063-47b7-b412-77bcb0ab25bf"
   },
   "outputs": [
    {
     "data": {
      "text/html": [
       "<style>#sk-container-id-2 {color: black;background-color: white;}#sk-container-id-2 pre{padding: 0;}#sk-container-id-2 div.sk-toggleable {background-color: white;}#sk-container-id-2 label.sk-toggleable__label {cursor: pointer;display: block;width: 100%;margin-bottom: 0;padding: 0.3em;box-sizing: border-box;text-align: center;}#sk-container-id-2 label.sk-toggleable__label-arrow:before {content: \"▸\";float: left;margin-right: 0.25em;color: #696969;}#sk-container-id-2 label.sk-toggleable__label-arrow:hover:before {color: black;}#sk-container-id-2 div.sk-estimator:hover label.sk-toggleable__label-arrow:before {color: black;}#sk-container-id-2 div.sk-toggleable__content {max-height: 0;max-width: 0;overflow: hidden;text-align: left;background-color: #f0f8ff;}#sk-container-id-2 div.sk-toggleable__content pre {margin: 0.2em;color: black;border-radius: 0.25em;background-color: #f0f8ff;}#sk-container-id-2 input.sk-toggleable__control:checked~div.sk-toggleable__content {max-height: 200px;max-width: 100%;overflow: auto;}#sk-container-id-2 input.sk-toggleable__control:checked~label.sk-toggleable__label-arrow:before {content: \"▾\";}#sk-container-id-2 div.sk-estimator input.sk-toggleable__control:checked~label.sk-toggleable__label {background-color: #d4ebff;}#sk-container-id-2 div.sk-label input.sk-toggleable__control:checked~label.sk-toggleable__label {background-color: #d4ebff;}#sk-container-id-2 input.sk-hidden--visually {border: 0;clip: rect(1px 1px 1px 1px);clip: rect(1px, 1px, 1px, 1px);height: 1px;margin: -1px;overflow: hidden;padding: 0;position: absolute;width: 1px;}#sk-container-id-2 div.sk-estimator {font-family: monospace;background-color: #f0f8ff;border: 1px dotted black;border-radius: 0.25em;box-sizing: border-box;margin-bottom: 0.5em;}#sk-container-id-2 div.sk-estimator:hover {background-color: #d4ebff;}#sk-container-id-2 div.sk-parallel-item::after {content: \"\";width: 100%;border-bottom: 1px solid gray;flex-grow: 1;}#sk-container-id-2 div.sk-label:hover label.sk-toggleable__label {background-color: #d4ebff;}#sk-container-id-2 div.sk-serial::before {content: \"\";position: absolute;border-left: 1px solid gray;box-sizing: border-box;top: 0;bottom: 0;left: 50%;z-index: 0;}#sk-container-id-2 div.sk-serial {display: flex;flex-direction: column;align-items: center;background-color: white;padding-right: 0.2em;padding-left: 0.2em;position: relative;}#sk-container-id-2 div.sk-item {position: relative;z-index: 1;}#sk-container-id-2 div.sk-parallel {display: flex;align-items: stretch;justify-content: center;background-color: white;position: relative;}#sk-container-id-2 div.sk-item::before, #sk-container-id-2 div.sk-parallel-item::before {content: \"\";position: absolute;border-left: 1px solid gray;box-sizing: border-box;top: 0;bottom: 0;left: 50%;z-index: -1;}#sk-container-id-2 div.sk-parallel-item {display: flex;flex-direction: column;z-index: 1;position: relative;background-color: white;}#sk-container-id-2 div.sk-parallel-item:first-child::after {align-self: flex-end;width: 50%;}#sk-container-id-2 div.sk-parallel-item:last-child::after {align-self: flex-start;width: 50%;}#sk-container-id-2 div.sk-parallel-item:only-child::after {width: 0;}#sk-container-id-2 div.sk-dashed-wrapped {border: 1px dashed gray;margin: 0 0.4em 0.5em 0.4em;box-sizing: border-box;padding-bottom: 0.4em;background-color: white;}#sk-container-id-2 div.sk-label label {font-family: monospace;font-weight: bold;display: inline-block;line-height: 1.2em;}#sk-container-id-2 div.sk-label-container {text-align: center;}#sk-container-id-2 div.sk-container {/* jupyter's `normalize.less` sets `[hidden] { display: none; }` but bootstrap.min.css set `[hidden] { display: none !important; }` so we also need the `!important` here to be able to override the default hidden behavior on the sphinx rendered scikit-learn.org. See: https://github.com/scikit-learn/scikit-learn/issues/21755 */display: inline-block !important;position: relative;}#sk-container-id-2 div.sk-text-repr-fallback {display: none;}</style><div id=\"sk-container-id-2\" class=\"sk-top-container\"><div class=\"sk-text-repr-fallback\"><pre>DecisionTreeClassifier(max_depth=20, random_state=1)</pre><b>In a Jupyter environment, please rerun this cell to show the HTML representation or trust the notebook. <br />On GitHub, the HTML representation is unable to render, please try loading this page with nbviewer.org.</b></div><div class=\"sk-container\" hidden><div class=\"sk-item\"><div class=\"sk-estimator sk-toggleable\"><input class=\"sk-toggleable__control sk-hidden--visually\" id=\"sk-estimator-id-2\" type=\"checkbox\" checked><label for=\"sk-estimator-id-2\" class=\"sk-toggleable__label sk-toggleable__label-arrow\">DecisionTreeClassifier</label><div class=\"sk-toggleable__content\"><pre>DecisionTreeClassifier(max_depth=20, random_state=1)</pre></div></div></div></div></div>"
      ],
      "text/plain": [
       "DecisionTreeClassifier(max_depth=20, random_state=1)"
      ]
     },
     "execution_count": 32,
     "metadata": {},
     "output_type": "execute_result"
    }
   ],
   "source": [
    "# train the model\n",
    "dtc.fit(X_train, y_train)"
   ]
  },
  {
   "cell_type": "code",
   "execution_count": 33,
   "metadata": {
    "colab": {
     "base_uri": "https://localhost:8080/"
    },
    "id": "s3TM4Id-m7pT",
    "outputId": "9afd40ca-aef8-48af-d79d-07caa9a6ab2a"
   },
   "outputs": [
    {
     "name": "stdout",
     "output_type": "stream",
     "text": [
      "Confusion Matrix (Accuracy 0.9513)\n",
      "\n",
      "       Prediction\n",
      "Actual     0     1\n",
      "     0 15206    75\n",
      "     1   800  1881\n"
     ]
    }
   ],
   "source": [
    "classificationSummary(y_train, dtc.predict(X_train))"
   ]
  },
  {
   "cell_type": "code",
   "execution_count": 34,
   "metadata": {
    "colab": {
     "base_uri": "https://localhost:8080/"
    },
    "id": "R-MEtMX7m7lS",
    "outputId": "9ef91d6e-22fe-427c-9a7d-123b9e052a45"
   },
   "outputs": [
    {
     "name": "stdout",
     "output_type": "stream",
     "text": [
      "Confusion Matrix (Accuracy 0.7762)\n",
      "\n",
      "       Prediction\n",
      "Actual    0    1\n",
      "     0 8988 1165\n",
      "     1 1515  308\n"
     ]
    }
   ],
   "source": [
    "classificationSummary(y_valid, dtc.predict(X_valid))"
   ]
  },
  {
   "cell_type": "code",
   "execution_count": 35,
   "metadata": {
    "id": "j9E2MtEem7hJ"
   },
   "outputs": [],
   "source": [
    "importances = dtc.feature_importances_"
   ]
  },
  {
   "cell_type": "code",
   "execution_count": 36,
   "metadata": {
    "colab": {
     "base_uri": "https://localhost:8080/"
    },
    "id": "uWF3fpTum7Xm",
    "outputId": "dd478b3a-ebcd-4f6b-8cee-03ca95c653fa"
   },
   "outputs": [
    {
     "name": "stdout",
     "output_type": "stream",
     "text": [
      "        feature  importance\n",
      "104      CAND1S    0.000000\n",
      "105      CAND2S    0.000000\n",
      "47         H_M1    0.000108\n",
      "40     GENDER_F    0.000161\n",
      "93   RELIGIOUSM    0.000397\n",
      "..          ...         ...\n",
      "3         HH_ND    0.028284\n",
      "103    PRS16_PR    0.065916\n",
      "102    PRS16_PD    0.072615\n",
      "86     REG_DAYS    0.105769\n",
      "2           AGE    0.111809\n",
      "\n",
      "[112 rows x 2 columns]\n"
     ]
    }
   ],
   "source": [
    "importance_df = pd.DataFrame({'feature': X_train.columns, 'importance':importances})\n",
    "importance_df = importance_df.sort_values('importance')\n",
    "print(importance_df)"
   ]
  },
  {
   "cell_type": "code",
   "execution_count": 37,
   "metadata": {
    "id": "ZZfyQRAybEC_"
   },
   "outputs": [],
   "source": [
    "# Generate predicted probabilities\n",
    "y_pred_prob = dtc.predict_proba(X_valid)[:, 1]"
   ]
  },
  {
   "cell_type": "code",
   "execution_count": 38,
   "metadata": {
    "id": "kO3vp0iobEAD"
   },
   "outputs": [],
   "source": [
    "# Create dataframe with predicted probabilities and true labels\n",
    "df = pd.DataFrame({'y_true': y_valid, 'y_pred_prob': y_pred_prob})"
   ]
  },
  {
   "cell_type": "code",
   "execution_count": 39,
   "metadata": {
    "id": "tPy5jxCbbD9M"
   },
   "outputs": [],
   "source": [
    "# Sort dataframe by predicted probabilities\n",
    "df = df.sort_values('y_pred_prob', ascending=False)"
   ]
  },
  {
   "cell_type": "code",
   "execution_count": 40,
   "metadata": {
    "id": "hP1AxCj_bD6G"
   },
   "outputs": [],
   "source": [
    "# Divide dataframe into deciles\n",
    "n = len(df)\n",
    "df['decile'] = pd.qcut(range(n), 10, labels=False)"
   ]
  },
  {
   "cell_type": "code",
   "execution_count": 41,
   "metadata": {
    "colab": {
     "base_uri": "https://localhost:8080/"
    },
    "id": "nOuI-Ld2bD2a",
    "outputId": "4ce2c11d-78de-457b-e1da-b16bc1ea9ae8"
   },
   "outputs": [
    {
     "name": "stdout",
     "output_type": "stream",
     "text": [
      "Lift per decile: [4.889795918367347, 1.1426970885251857, 0.0, 0.0, 0.0, 0.0, 0.0, 0.0, 0.0, 0.0]\n"
     ]
    }
   ],
   "source": [
    "# Calculate lift for each decile\n",
    "lifts = []\n",
    "for i in range(10):\n",
    "    decile = df[df['decile'] == i]\n",
    "    tn, fp, fn, tp = confusion_matrix(decile['y_true'], decile['y_pred_prob'] > 0.5).ravel()\n",
    "    true_positive_rate = tp / (tp + fn)\n",
    "    base_rate = (tp + fn) / (tp + fp + tn + fn)\n",
    "    lift = true_positive_rate / base_rate\n",
    "    lifts.append(lift)\n",
    "\n",
    "# Print the lifts for each decile\n",
    "print(\"Lift per decile:\", lifts)"
   ]
  },
  {
   "cell_type": "code",
   "execution_count": 42,
   "metadata": {
    "colab": {
     "base_uri": "https://localhost:8080/",
     "height": 472
    },
    "id": "2lRX5rmTbDtr",
    "outputId": "ca07eef2-ec39-4325-9ca5-43b372151162"
   },
   "outputs": [
    {
     "data": {
      "image/png": "[encoded data removed]",
      "text/plain": [
       "<Figure size 640x480 with 1 Axes>"
      ]
     },
     "metadata": {},
     "output_type": "display_data"
    }
   ],
   "source": [
    "%matplotlib inline\n",
    "# Create list of decile labels\n",
    "decile_labels = [str(i+1) for i in range(10)]\n",
    "\n",
    "# Create bar chart\n",
    "plt.bar(decile_labels, lifts)\n",
    "\n",
    "# Add labels and title\n",
    "plt.xlabel('Decile')\n",
    "plt.ylabel('Lift')\n",
    "plt.title('Lift per Decile')\n",
    "\n",
    "# Display chart\n",
    "plt.show()"
   ]
  },
  {
   "cell_type": "code",
   "execution_count": 43,
   "metadata": {
    "id": "8U8n7l3Vm7Kq"
   },
   "outputs": [],
   "source": [
    "# run model on the whole dataset to predict the voters on which message B will have a positive effect\n",
    "X = pd.get_dummies(voter_df.drop(['MESSAGE','MSG_A','MSG_B','CAND1_UND', 'CAND1_SD2', 'CAND1_SDA', 'CAND1_LD2', 'CAND1_LDA', 'CAND1_SR2', 'CAND1_SRA', 'CAND1_LRA', 'CAND1_LR2', 'CAND1_SFT', 'CAND2_UND', 'CAND2_SD2', 'CAND2_SDA', 'CAND2_LD2', 'CAND2_LDA', 'CAND2_SR2', 'CAND2_SRA', 'CAND2_LRA', 'CAND2_LR2', 'CAND2_SFT', 'MOVED_RD', 'MOVED_DR', 'MOVED_AW', 'MOVED_U', 'MOVED_AD', 'MOVED_AR', 'MOVED_RDMA', 'MOVED_DRMA', 'MOVED_AWMA', 'MOVED_ADMA', 'MOVED_ARMA', 'MOVED_RDMB', 'MOVED_DRMB', 'MOVED_AWMB', 'MOVED_ADMB', 'MOVED_ARMB', 'VOTER_ID','a_effective'], axis=1))"
   ]
  },
  {
   "cell_type": "code",
   "execution_count": 44,
   "metadata": {
    "id": "HdPwv--Xq_M2"
   },
   "outputs": [],
   "source": [
    "voter_df['b_effective'] = dtc.predict(X)"
   ]
  },
  {
   "cell_type": "code",
   "execution_count": 45,
   "metadata": {
    "colab": {
     "base_uri": "https://localhost:8080/",
     "height": 300
    },
    "id": "2Y1ppKr5rHC6",
    "outputId": "549fcd19-db80-4ad7-9487-75df34e36c17"
   },
   "outputs": [
    {
     "data": {
      "text/html": [
       "\n",
       "  <div id=\"df-49ade1f5-1c1b-459c-aa63-b1e2f827728a\">\n",
       "    <div class=\"colab-df-container\">\n",
       "      <div>\n",
       "<style scoped>\n",
       "    .dataframe tbody tr th:only-of-type {\n",
       "        vertical-align: middle;\n",
       "    }\n",
       "\n",
       "    .dataframe tbody tr th {\n",
       "        vertical-align: top;\n",
       "    }\n",
       "\n",
       "    .dataframe thead th {\n",
       "        text-align: right;\n",
       "    }\n",
       "</style>\n",
       "<table border=\"1\" class=\"dataframe\">\n",
       "  <thead>\n",
       "    <tr style=\"text-align: right;\">\n",
       "      <th></th>\n",
       "      <th>VOTER_ID</th>\n",
       "      <th>SET_NO</th>\n",
       "      <th>OPP_SEX</th>\n",
       "      <th>AGE</th>\n",
       "      <th>HH_ND</th>\n",
       "      <th>HH_NR</th>\n",
       "      <th>HH_NI</th>\n",
       "      <th>MED_AGE</th>\n",
       "      <th>MED_AGE_M</th>\n",
       "      <th>MED_AGE_F</th>\n",
       "      <th>...</th>\n",
       "      <th>MOVED_AWMA</th>\n",
       "      <th>MOVED_ADMA</th>\n",
       "      <th>MOVED_ARMA</th>\n",
       "      <th>MOVED_RDMB</th>\n",
       "      <th>MOVED_DRMB</th>\n",
       "      <th>MOVED_AWMB</th>\n",
       "      <th>MOVED_ADMB</th>\n",
       "      <th>MOVED_ARMB</th>\n",
       "      <th>a_effective</th>\n",
       "      <th>b_effective</th>\n",
       "    </tr>\n",
       "  </thead>\n",
       "  <tbody>\n",
       "    <tr>\n",
       "      <th>0</th>\n",
       "      <td>84508</td>\n",
       "      <td>3</td>\n",
       "      <td>0</td>\n",
       "      <td>25</td>\n",
       "      <td>4</td>\n",
       "      <td>0</td>\n",
       "      <td>0</td>\n",
       "      <td>38</td>\n",
       "      <td>39</td>\n",
       "      <td>38</td>\n",
       "      <td>...</td>\n",
       "      <td>0.0</td>\n",
       "      <td>0.0</td>\n",
       "      <td>0.0</td>\n",
       "      <td>0.0</td>\n",
       "      <td>0.0</td>\n",
       "      <td>0.0</td>\n",
       "      <td>0.0</td>\n",
       "      <td>0.0</td>\n",
       "      <td>False</td>\n",
       "      <td>False</td>\n",
       "    </tr>\n",
       "    <tr>\n",
       "      <th>1</th>\n",
       "      <td>608312</td>\n",
       "      <td>1</td>\n",
       "      <td>0</td>\n",
       "      <td>35</td>\n",
       "      <td>0</td>\n",
       "      <td>0</td>\n",
       "      <td>3</td>\n",
       "      <td>46</td>\n",
       "      <td>46</td>\n",
       "      <td>46</td>\n",
       "      <td>...</td>\n",
       "      <td>0.0</td>\n",
       "      <td>0.0</td>\n",
       "      <td>0.0</td>\n",
       "      <td>0.0</td>\n",
       "      <td>0.0</td>\n",
       "      <td>0.0</td>\n",
       "      <td>0.0</td>\n",
       "      <td>0.0</td>\n",
       "      <td>False</td>\n",
       "      <td>False</td>\n",
       "    </tr>\n",
       "    <tr>\n",
       "      <th>2</th>\n",
       "      <td>222821</td>\n",
       "      <td>3</td>\n",
       "      <td>0</td>\n",
       "      <td>73</td>\n",
       "      <td>3</td>\n",
       "      <td>0</td>\n",
       "      <td>0</td>\n",
       "      <td>42</td>\n",
       "      <td>36</td>\n",
       "      <td>48</td>\n",
       "      <td>...</td>\n",
       "      <td>0.0</td>\n",
       "      <td>0.0</td>\n",
       "      <td>0.0</td>\n",
       "      <td>0.0</td>\n",
       "      <td>0.0</td>\n",
       "      <td>0.0</td>\n",
       "      <td>0.0</td>\n",
       "      <td>0.0</td>\n",
       "      <td>False</td>\n",
       "      <td>False</td>\n",
       "    </tr>\n",
       "    <tr>\n",
       "      <th>3</th>\n",
       "      <td>137882</td>\n",
       "      <td>2</td>\n",
       "      <td>0</td>\n",
       "      <td>54</td>\n",
       "      <td>1</td>\n",
       "      <td>1</td>\n",
       "      <td>0</td>\n",
       "      <td>37</td>\n",
       "      <td>34</td>\n",
       "      <td>51</td>\n",
       "      <td>...</td>\n",
       "      <td>0.0</td>\n",
       "      <td>0.0</td>\n",
       "      <td>0.0</td>\n",
       "      <td>0.0</td>\n",
       "      <td>0.0</td>\n",
       "      <td>0.0</td>\n",
       "      <td>0.0</td>\n",
       "      <td>0.0</td>\n",
       "      <td>False</td>\n",
       "      <td>False</td>\n",
       "    </tr>\n",
       "    <tr>\n",
       "      <th>4</th>\n",
       "      <td>531303</td>\n",
       "      <td>2</td>\n",
       "      <td>0</td>\n",
       "      <td>51</td>\n",
       "      <td>0</td>\n",
       "      <td>3</td>\n",
       "      <td>0</td>\n",
       "      <td>46</td>\n",
       "      <td>46</td>\n",
       "      <td>46</td>\n",
       "      <td>...</td>\n",
       "      <td>0.0</td>\n",
       "      <td>0.0</td>\n",
       "      <td>0.0</td>\n",
       "      <td>0.0</td>\n",
       "      <td>0.0</td>\n",
       "      <td>0.0</td>\n",
       "      <td>0.0</td>\n",
       "      <td>0.0</td>\n",
       "      <td>False</td>\n",
       "      <td>False</td>\n",
       "    </tr>\n",
       "  </tbody>\n",
       "</table>\n",
       "<p>5 rows × 154 columns</p>\n",
       "</div>\n",
       "      <button class=\"colab-df-convert\" onclick=\"convertToInteractive('df-49ade1f5-1c1b-459c-aa63-b1e2f827728a')\"\n",
       "              title=\"Convert this dataframe to an interactive table.\"\n",
       "              style=\"display:none;\">\n",
       "        \n",
       "  <svg xmlns=\"http://www.w3.org/2000/svg\" height=\"24px\"viewBox=\"0 0 24 24\"\n",
       "       width=\"24px\">\n",
       "    <path d=\"M0 0h24v24H0V0z\" fill=\"none\"/>\n",
       "    <path d=\"M18.56 5.44l.94 2.06.94-2.06 2.06-.94-2.06-.94-.94-2.06-.94 2.06-2.06.94zm-11 1L8.5 8.5l.94-2.06 2.06-.94-2.06-.94L8.5 2.5l-.94 2.06-2.06.94zm10 10l.94 2.06.94-2.06 2.06-.94-2.06-.94-.94-2.06-.94 2.06-2.06.94z\"/><path d=\"M17.41 7.96l-1.37-1.37c-.4-.4-.92-.59-1.43-.59-.52 0-1.04.2-1.43.59L10.3 9.45l-7.72 7.72c-.78.78-.78 2.05 0 2.83L4 21.41c.39.39.9.59 1.41.59.51 0 1.02-.2 1.41-.59l7.78-7.78 2.81-2.81c.8-.78.8-2.07 0-2.86zM5.41 20L4 18.59l7.72-7.72 1.47 1.35L5.41 20z\"/>\n",
       "  </svg>\n",
       "      </button>\n",
       "      \n",
       "  <style>\n",
       "    .colab-df-container {\n",
       "      display:flex;\n",
       "      flex-wrap:wrap;\n",
       "      gap: 12px;\n",
       "    }\n",
       "\n",
       "    .colab-df-convert {\n",
       "      background-color: #E8F0FE;\n",
       "      border: none;\n",
       "      border-radius: 50%;\n",
       "      cursor: pointer;\n",
       "      display: none;\n",
       "      fill: #1967D2;\n",
       "      height: 32px;\n",
       "      padding: 0 0 0 0;\n",
       "      width: 32px;\n",
       "    }\n",
       "\n",
       "    .colab-df-convert:hover {\n",
       "      background-color: #E2EBFA;\n",
       "      box-shadow: 0px 1px 2px rgba(60, 64, 67, 0.3), 0px 1px 3px 1px rgba(60, 64, 67, 0.15);\n",
       "      fill: #174EA6;\n",
       "    }\n",
       "\n",
       "    [theme=dark] .colab-df-convert {\n",
       "      background-color: #3B4455;\n",
       "      fill: #D2E3FC;\n",
       "    }\n",
       "\n",
       "    [theme=dark] .colab-df-convert:hover {\n",
       "      background-color: #434B5C;\n",
       "      box-shadow: 0px 1px 3px 1px rgba(0, 0, 0, 0.15);\n",
       "      filter: drop-shadow(0px 1px 2px rgba(0, 0, 0, 0.3));\n",
       "      fill: #FFFFFF;\n",
       "    }\n",
       "  </style>\n",
       "\n",
       "      <script>\n",
       "        const buttonEl =\n",
       "          document.querySelector('#df-49ade1f5-1c1b-459c-aa63-b1e2f827728a button.colab-df-convert');\n",
       "        buttonEl.style.display =\n",
       "          google.colab.kernel.accessAllowed ? 'block' : 'none';\n",
       "\n",
       "        async function convertToInteractive(key) {\n",
       "          const element = document.querySelector('#df-49ade1f5-1c1b-459c-aa63-b1e2f827728a');\n",
       "          const dataTable =\n",
       "            await google.colab.kernel.invokeFunction('convertToInteractive',\n",
       "                                                     [key], {});\n",
       "          if (!dataTable) return;\n",
       "\n",
       "          const docLinkHtml = 'Like what you see? Visit the ' +\n",
       "            '<a target=\"_blank\" href=https://colab.research.google.com/notebooks/data_table.ipynb>data table notebook</a>'\n",
       "            + ' to learn more about interactive tables.';\n",
       "          element.innerHTML = '';\n",
       "          dataTable['output_type'] = 'display_data';\n",
       "          await google.colab.output.renderOutput(dataTable, element);\n",
       "          const docLink = document.createElement('div');\n",
       "          docLink.innerHTML = docLinkHtml;\n",
       "          element.appendChild(docLink);\n",
       "        }\n",
       "      </script>\n",
       "    </div>\n",
       "  </div>\n",
       "  "
      ],
      "text/plain": [
       "   VOTER_ID  SET_NO  OPP_SEX  AGE  HH_ND  HH_NR  HH_NI  MED_AGE  MED_AGE_M  \\\n",
       "0     84508       3        0   25      4      0      0       38         39   \n",
       "1    608312       1        0   35      0      0      3       46         46   \n",
       "2    222821       3        0   73      3      0      0       42         36   \n",
       "3    137882       2        0   54      1      1      0       37         34   \n",
       "4    531303       2        0   51      0      3      0       46         46   \n",
       "\n",
       "   MED_AGE_F  ...  MOVED_AWMA  MOVED_ADMA  MOVED_ARMA  MOVED_RDMB  MOVED_DRMB  \\\n",
       "0         38  ...         0.0         0.0         0.0         0.0         0.0   \n",
       "1         46  ...         0.0         0.0         0.0         0.0         0.0   \n",
       "2         48  ...         0.0         0.0         0.0         0.0         0.0   \n",
       "3         51  ...         0.0         0.0         0.0         0.0         0.0   \n",
       "4         46  ...         0.0         0.0         0.0         0.0         0.0   \n",
       "\n",
       "   MOVED_AWMB  MOVED_ADMB  MOVED_ARMB  a_effective  b_effective  \n",
       "0         0.0         0.0         0.0        False        False  \n",
       "1         0.0         0.0         0.0        False        False  \n",
       "2         0.0         0.0         0.0        False        False  \n",
       "3         0.0         0.0         0.0        False        False  \n",
       "4         0.0         0.0         0.0        False        False  \n",
       "\n",
       "[5 rows x 154 columns]"
      ]
     },
     "execution_count": 45,
     "metadata": {},
     "output_type": "execute_result"
    }
   ],
   "source": [
    "voter_df.head()"
   ]
  },
  {
   "cell_type": "code",
   "execution_count": 46,
   "metadata": {
    "colab": {
     "base_uri": "https://localhost:8080/"
    },
    "id": "z74pGDlorPpI",
    "outputId": "0693ea22-b5d7-4f5f-ee25-ae6b4c8cb290"
   },
   "outputs": [
    {
     "data": {
      "text/plain": [
       "False    339795\n",
       "True      45192\n",
       "Name: a_effective, dtype: int64"
      ]
     },
     "execution_count": 46,
     "metadata": {},
     "output_type": "execute_result"
    }
   ],
   "source": [
    "voter_df['a_effective'].value_counts()"
   ]
  },
  {
   "cell_type": "code",
   "execution_count": 47,
   "metadata": {
    "colab": {
     "base_uri": "https://localhost:8080/"
    },
    "id": "dDSIsJzurW8y",
    "outputId": "bae0d6c0-099d-4ac2-c3c2-ec98c16bad29"
   },
   "outputs": [
    {
     "data": {
      "text/plain": [
       "False    338635\n",
       "True      46352\n",
       "Name: b_effective, dtype: int64"
      ]
     },
     "execution_count": 47,
     "metadata": {},
     "output_type": "execute_result"
    }
   ],
   "source": [
    "voter_df['b_effective'].value_counts()"
   ]
  },
  {
   "cell_type": "code",
   "execution_count": 48,
   "metadata": {
    "id": "gAQJ6LJ1cBZy"
   },
   "outputs": [],
   "source": [
    "output = voter_df[['VOTER_ID','a_effective','b_effective']]"
   ]
  },
  {
   "cell_type": "code",
   "execution_count": 49,
   "metadata": {
    "id": "hihPmhRzcLrF"
   },
   "outputs": [],
   "source": [
    "output.to_csv('recommendations.csv', index=False)"
   ]
  },
  {
   "cell_type": "code",
   "execution_count": 49,
   "metadata": {
    "id": "eXwTC0P-c7Dm"
   },
   "outputs": [],
   "source": []
  }
 ],
 "metadata": {
  "colab": {
   "provenance": []
  },
  "kernelspec": {
   "display_name": "Python 3",
   "language": "python",
   "name": "python3"
  },
  "language_info": {
   "codemirror_mode": {
    "name": "ipython",
    "version": 3
   },
   "file_extension": ".py",
   "mimetype": "text/x-python",
   "name": "python",
   "nbconvert_exporter": "python",
   "pygments_lexer": "ipython3",
   "version": "3.8.5"
  }
 },
 "nbformat": 4,
 "nbformat_minor": 1
}
