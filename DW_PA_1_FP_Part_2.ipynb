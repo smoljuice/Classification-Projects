{
 "cells": [
  {
   "cell_type": "code",
   "execution_count": 1,
   "metadata": {
    "colab": {
     "base_uri": "https://localhost:8080/"
    },
    "id": "ihWOD4SPXP69",
    "outputId": "cf8b7b35-f070-4a76-8103-54a42a46c885"
   },
   "outputs": [
    {
     "name": "stdout",
     "output_type": "stream",
     "text": [
      "Collecting dmba\n",
      "  Downloading dmba-0.0.19-py3-none-any.whl (11.8 MB)\n",
      "\u001b[K     |████████████████████████████████| 11.8 MB 23.3 MB/s \n",
      "\u001b[?25hInstalling collected packages: dmba\n",
      "Successfully installed dmba-0.0.19\n",
      "no display found. Using non-interactive Agg backend\n"
     ]
    }
   ],
   "source": [
    "# import packages\n",
    "!pip install dmba\n",
    "import dmba\n",
    "import pandas as pd\n",
    "import numpy as np\n",
    "import matplotlib.pyplot as plt\n",
    "from sklearn import preprocessing\n",
    "from sklearn.tree import DecisionTreeClassifier\n",
    "from sklearn.model_selection import train_test_split, cross_val_score, GridSearchCV\n",
    "from sklearn.metrics import accuracy_score\n",
    "from sklearn.naive_bayes import MultinomialNB\n",
    "from sklearn.ensemble import RandomForestClassifier, GradientBoostingClassifier\n",
    "from sklearn.ensemble import AdaBoostClassifier\n",
    "from sklearn.ensemble import BaggingClassifier\n",
    "from sklearn.neighbors import NearestNeighbors, KNeighborsClassifier\n",
    "from dmba import plotDecisionTree, classificationSummary, liftChart, gainsChart"
   ]
  },
  {
   "cell_type": "code",
   "execution_count": 2,
   "metadata": {
    "id": "xUE1XvaIZ7b_"
   },
   "outputs": [],
   "source": [
    "df = pd.read_csv('UniversalBankSample.csv')"
   ]
  },
  {
   "cell_type": "code",
   "execution_count": 3,
   "metadata": {
    "colab": {
     "base_uri": "https://localhost:8080/"
    },
    "id": "Ur5OMePgaEZL",
    "outputId": "ceb15416-7570-497f-fad1-4cd0238bd3c1"
   },
   "outputs": [
    {
     "name": "stdout",
     "output_type": "stream",
     "text": [
      "<class 'pandas.core.frame.DataFrame'>\n",
      "RangeIndex: 4000 entries, 0 to 3999\n",
      "Data columns (total 14 columns):\n",
      " #   Column              Non-Null Count  Dtype  \n",
      "---  ------              --------------  -----  \n",
      " 0   ID                  4000 non-null   int64  \n",
      " 1   Age                 4000 non-null   int64  \n",
      " 2   Experience          4000 non-null   int64  \n",
      " 3   Income              4000 non-null   int64  \n",
      " 4   ZIP.Code            4000 non-null   int64  \n",
      " 5   Family              4000 non-null   int64  \n",
      " 6   CCAvg               4000 non-null   float64\n",
      " 7   Education           4000 non-null   int64  \n",
      " 8   Mortgage            4000 non-null   int64  \n",
      " 9   Personal.Loan       4000 non-null   int64  \n",
      " 10  Securities.Account  4000 non-null   int64  \n",
      " 11  CD.Account          4000 non-null   int64  \n",
      " 12  Online              4000 non-null   int64  \n",
      " 13  CreditCard          4000 non-null   int64  \n",
      "dtypes: float64(1), int64(13)\n",
      "memory usage: 437.6 KB\n"
     ]
    }
   ],
   "source": [
    "df.info()"
   ]
  },
  {
   "cell_type": "code",
   "execution_count": 4,
   "metadata": {
    "id": "1dbuCJnYaGhM"
   },
   "outputs": [],
   "source": [
    "df = df.drop(columns = ['ID', 'ZIP.Code'])"
   ]
  },
  {
   "cell_type": "code",
   "execution_count": 5,
   "metadata": {
    "id": "GNNsMmkuahaW"
   },
   "outputs": [],
   "source": [
    "predictors = ['Age','Experience','Income','Family','CCAvg','Education','Mortgage','Securities.Account','CD.Account','Online','CreditCard']\n",
    "outcome = 'Personal.Loan'"
   ]
  },
  {
   "cell_type": "code",
   "execution_count": 6,
   "metadata": {
    "id": "b9NUEZbWbAz8"
   },
   "outputs": [],
   "source": [
    "X = pd.get_dummies(df[predictors])\n",
    "y = df[outcome]"
   ]
  },
  {
   "cell_type": "code",
   "execution_count": 7,
   "metadata": {
    "id": "y5qSnvZJbCQN"
   },
   "outputs": [],
   "source": [
    "# partition the data\n",
    "X_train, X_valid, y_train, y_valid = train_test_split(X, y, test_size = 0.4, random_state = 1)"
   ]
  },
  {
   "cell_type": "code",
   "execution_count": 8,
   "metadata": {
    "id": "5VMgUmF3bHDW"
   },
   "outputs": [],
   "source": [
    "# Run a preliminary tree to determine important features\n",
    "preTree = DecisionTreeClassifier(random_state = 1)"
   ]
  },
  {
   "cell_type": "code",
   "execution_count": 9,
   "metadata": {
    "colab": {
     "base_uri": "https://localhost:8080/"
    },
    "id": "cKMzEDCEb8hy",
    "outputId": "80a5de19-922f-4e53-ecba-f9011c945a75"
   },
   "outputs": [
    {
     "data": {
      "text/plain": [
       "DecisionTreeClassifier(random_state=1)"
      ]
     },
     "execution_count": 9,
     "metadata": {},
     "output_type": "execute_result"
    }
   ],
   "source": [
    "preTree.fit(X_train, y_train)"
   ]
  },
  {
   "cell_type": "code",
   "execution_count": 10,
   "metadata": {
    "colab": {
     "base_uri": "https://localhost:8080/"
    },
    "id": "V6qbBXvqcB8_",
    "outputId": "503d24b0-e172-4465-958b-13806dbc7a83"
   },
   "outputs": [
    {
     "name": "stdout",
     "output_type": "stream",
     "text": [
      "Confusion Matrix (Accuracy 0.9769)\n",
      "\n",
      "       Prediction\n",
      "Actual    0    1\n",
      "     0 1425   19\n",
      "     1   18  138\n"
     ]
    }
   ],
   "source": [
    "# Evaluate the tree\n",
    "classificationSummary(y_valid, preTree.predict(X_valid))"
   ]
  },
  {
   "cell_type": "code",
   "execution_count": 11,
   "metadata": {
    "id": "mgMrfBoLcHgP"
   },
   "outputs": [],
   "source": [
    "# Find feature importances\n",
    "importances = preTree.feature_importances_"
   ]
  },
  {
   "cell_type": "code",
   "execution_count": 12,
   "metadata": {
    "colab": {
     "base_uri": "https://localhost:8080/"
    },
    "id": "_7BIdNvUcQae",
    "outputId": "47a9f729-7ddd-4c0e-8dd2-d39e493fe983"
   },
   "outputs": [
    {
     "name": "stdout",
     "output_type": "stream",
     "text": [
      "               feature  importance\n",
      "7   Securities.Account    0.000000\n",
      "10          CreditCard    0.000000\n",
      "6             Mortgage    0.008570\n",
      "0                  Age    0.012948\n",
      "8           CD.Account    0.013465\n",
      "9               Online    0.014262\n",
      "1           Experience    0.022660\n",
      "4                CCAvg    0.050240\n",
      "3               Family    0.129769\n",
      "2               Income    0.355853\n",
      "5            Education    0.392234\n"
     ]
    }
   ],
   "source": [
    "importance_df = pd.DataFrame({'feature': X_train.columns, 'importance':importances})\n",
    "importance_df = importance_df.sort_values('importance')\n",
    "print(importance_df)"
   ]
  },
  {
   "cell_type": "code",
   "execution_count": 13,
   "metadata": {
    "id": "QVm1hvnJcToC"
   },
   "outputs": [],
   "source": [
    "# Education, Income, Family, CCAvg, and Experience seem to be the most significant columns, so the others can be dropped.\n",
    "predictors = ['Experience','Income','Family','CCAvg','Education']\n",
    "outcome = 'Personal.Loan'"
   ]
  },
  {
   "cell_type": "code",
   "execution_count": 14,
   "metadata": {
    "id": "BcTV4pogdcz7"
   },
   "outputs": [],
   "source": [
    "X = pd.get_dummies(df[predictors])\n",
    "y = df[outcome]"
   ]
  },
  {
   "cell_type": "code",
   "execution_count": 15,
   "metadata": {
    "id": "nqnmB16Ud6gd"
   },
   "outputs": [],
   "source": [
    "# partition the data\n",
    "X_train, X_valid, y_train, y_valid = train_test_split(X, y, test_size = 0.4, random_state = 1)"
   ]
  },
  {
   "cell_type": "code",
   "execution_count": 17,
   "metadata": {
    "id": "qFXw1EnVd8VR"
   },
   "outputs": [],
   "source": [
    "# Run a second tree to determine evaluate the narrower dataset and find best parameters\n",
    "secTree = DecisionTreeClassifier(random_state = 1)"
   ]
  },
  {
   "cell_type": "code",
   "execution_count": 18,
   "metadata": {
    "colab": {
     "base_uri": "https://localhost:8080/"
    },
    "id": "pgH-BqdiQPzJ",
    "outputId": "dd36f851-3af5-4f67-ace5-fd15d5af8356"
   },
   "outputs": [
    {
     "data": {
      "text/plain": [
       "DecisionTreeClassifier(random_state=1)"
      ]
     },
     "execution_count": 18,
     "metadata": {},
     "output_type": "execute_result"
    }
   ],
   "source": [
    "secTree.fit(X_train, y_train)"
   ]
  },
  {
   "cell_type": "code",
   "execution_count": 19,
   "metadata": {
    "colab": {
     "base_uri": "https://localhost:8080/"
    },
    "id": "R6PZRlH2QR76",
    "outputId": "9e1a3045-b1dc-4634-e994-d73691ea9172"
   },
   "outputs": [
    {
     "name": "stdout",
     "output_type": "stream",
     "text": [
      "Confusion Matrix (Accuracy 0.9794)\n",
      "\n",
      "       Prediction\n",
      "Actual    0    1\n",
      "     0 1428   16\n",
      "     1   17  139\n"
     ]
    }
   ],
   "source": [
    "# Evaluate the tree\n",
    "classificationSummary(y_valid, secTree.predict(X_valid))"
   ]
  },
  {
   "cell_type": "code",
   "execution_count": 20,
   "metadata": {
    "id": "sp_jxJbhQUu_"
   },
   "outputs": [],
   "source": [
    "# Find best parameters\n",
    "param_grid = {\n",
    "    'max_depth': [5,10,15,20,25],\n",
    "    'min_impurity_decrease':[0,0.001,0.005,0.01],\n",
    "    'min_samples_split':[10,20,30,40,50],\n",
    "}"
   ]
  },
  {
   "cell_type": "code",
   "execution_count": 21,
   "metadata": {
    "id": "Utv4jbOlRNPo"
   },
   "outputs": [],
   "source": [
    "gridSearch = GridSearchCV(DecisionTreeClassifier(), param_grid, cv = 5, n_jobs = 1)"
   ]
  },
  {
   "cell_type": "code",
   "execution_count": 22,
   "metadata": {
    "colab": {
     "base_uri": "https://localhost:8080/"
    },
    "id": "qabpyICVRSCc",
    "outputId": "1282adfe-a3f9-4219-a0d6-6438d7f7bd3b"
   },
   "outputs": [
    {
     "data": {
      "text/plain": [
       "GridSearchCV(cv=5, estimator=DecisionTreeClassifier(), n_jobs=1,\n",
       "             param_grid={'max_depth': [5, 10, 15, 20, 25],\n",
       "                         'min_impurity_decrease': [0, 0.001, 0.005, 0.01],\n",
       "                         'min_samples_split': [10, 20, 30, 40, 50]})"
      ]
     },
     "execution_count": 22,
     "metadata": {},
     "output_type": "execute_result"
    }
   ],
   "source": [
    "gridSearch.fit(X_train, y_train)"
   ]
  },
  {
   "cell_type": "code",
   "execution_count": 23,
   "metadata": {
    "colab": {
     "base_uri": "https://localhost:8080/"
    },
    "id": "43vOF-0zRT0P",
    "outputId": "c90498a6-cce7-46cd-9665-90b852767efa"
   },
   "outputs": [
    {
     "name": "stdout",
     "output_type": "stream",
     "text": [
      "Initial parameters  {'max_depth': 10, 'min_impurity_decrease': 0, 'min_samples_split': 10}\n"
     ]
    }
   ],
   "source": [
    "print('Initial parameters ', gridSearch.best_params_)"
   ]
  },
  {
   "cell_type": "code",
   "execution_count": 24,
   "metadata": {
    "id": "oVMNH7kMRWfS"
   },
   "outputs": [],
   "source": [
    "param_grid = {\n",
    "    'max_depth': [3,4,5,6,7,8,9,10,11,12],\n",
    "    'min_impurity_decrease':[0,0.001,0.002,0.003,0.004,0.005,0.006,0.007,0.008],\n",
    "    'min_samples_split':[4,6,8,10,12,14,16,18,20],\n",
    "}"
   ]
  },
  {
   "cell_type": "code",
   "execution_count": 25,
   "metadata": {
    "id": "IZapqir5RiK4"
   },
   "outputs": [],
   "source": [
    "gridSearch = GridSearchCV(DecisionTreeClassifier(), param_grid, cv = 5, n_jobs = 1)"
   ]
  },
  {
   "cell_type": "code",
   "execution_count": 26,
   "metadata": {
    "colab": {
     "base_uri": "https://localhost:8080/"
    },
    "id": "xo92Yf7FRkDC",
    "outputId": "803d6ba5-5f81-4371-bde8-bb4992095b75"
   },
   "outputs": [
    {
     "data": {
      "text/plain": [
       "GridSearchCV(cv=5, estimator=DecisionTreeClassifier(), n_jobs=1,\n",
       "             param_grid={'max_depth': [3, 4, 5, 6, 7, 8, 9, 10, 11, 12],\n",
       "                         'min_impurity_decrease': [0, 0.001, 0.002, 0.003,\n",
       "                                                   0.004, 0.005, 0.006, 0.007,\n",
       "                                                   0.008],\n",
       "                         'min_samples_split': [4, 6, 8, 10, 12, 14, 16, 18,\n",
       "                                               20]})"
      ]
     },
     "execution_count": 26,
     "metadata": {},
     "output_type": "execute_result"
    }
   ],
   "source": [
    "gridSearch.fit(X_train, y_train)"
   ]
  },
  {
   "cell_type": "code",
   "execution_count": 27,
   "metadata": {
    "colab": {
     "base_uri": "https://localhost:8080/"
    },
    "id": "X3YWvQIHRlgg",
    "outputId": "77330604-8883-4dbf-f10c-cea994756042"
   },
   "outputs": [
    {
     "name": "stdout",
     "output_type": "stream",
     "text": [
      "Improved parameters  {'max_depth': 8, 'min_impurity_decrease': 0, 'min_samples_split': 12}\n"
     ]
    }
   ],
   "source": [
    "print('Improved parameters ', gridSearch.best_params_)"
   ]
  },
  {
   "cell_type": "code",
   "execution_count": 28,
   "metadata": {
    "id": "mYURRr1zRnQG"
   },
   "outputs": [],
   "source": [
    "# run a model with improved parameters\n",
    "classTree = gridSearch.best_estimator_"
   ]
  },
  {
   "cell_type": "code",
   "execution_count": 31,
   "metadata": {
    "colab": {
     "base_uri": "https://localhost:8080/"
    },
    "id": "1mgan5DOR0oU",
    "outputId": "0d13890b-19d5-4eab-cda4-7e338c25986d"
   },
   "outputs": [
    {
     "name": "stdout",
     "output_type": "stream",
     "text": [
      "Confusion Matrix (Accuracy 0.9806)\n",
      "\n",
      "       Prediction\n",
      "Actual    0    1\n",
      "     0 1433   11\n",
      "     1   20  136\n"
     ]
    }
   ],
   "source": [
    "classificationSummary(y_valid, classTree.predict(X_valid))"
   ]
  },
  {
   "cell_type": "code",
   "execution_count": 32,
   "metadata": {
    "id": "UWYSDu1iR5Ng"
   },
   "outputs": [],
   "source": [
    "# run a boosted tree\n",
    "boostedTree = AdaBoostClassifier(DecisionTreeClassifier(random_state = 1), n_estimators=100, random_state=1)"
   ]
  },
  {
   "cell_type": "code",
   "execution_count": 33,
   "metadata": {
    "colab": {
     "base_uri": "https://localhost:8080/"
    },
    "id": "-kasB-O8S01t",
    "outputId": "677f2452-f1b2-4b41-d281-1f22deb31e04"
   },
   "outputs": [
    {
     "data": {
      "text/plain": [
       "AdaBoostClassifier(base_estimator=DecisionTreeClassifier(random_state=1),\n",
       "                   n_estimators=100, random_state=1)"
      ]
     },
     "execution_count": 33,
     "metadata": {},
     "output_type": "execute_result"
    }
   ],
   "source": [
    "boostedTree.fit(X_train, y_train)"
   ]
  },
  {
   "cell_type": "code",
   "execution_count": 35,
   "metadata": {
    "id": "xYTzuHMYS7nE"
   },
   "outputs": [],
   "source": [
    "classes = classTree.classes_"
   ]
  },
  {
   "cell_type": "code",
   "execution_count": 36,
   "metadata": {
    "colab": {
     "base_uri": "https://localhost:8080/"
    },
    "id": "wRjsORScS2IA",
    "outputId": "5b782ff5-13c5-4d33-dfa7-9ffbfb1cce2e"
   },
   "outputs": [
    {
     "name": "stdout",
     "output_type": "stream",
     "text": [
      "Confusion Matrix (Accuracy 0.9794)\n",
      "\n",
      "       Prediction\n",
      "Actual    0    1\n",
      "     0 1428   16\n",
      "     1   17  139\n"
     ]
    }
   ],
   "source": [
    "classificationSummary(y_valid, boostedTree.predict(X_valid), class_names = classes)"
   ]
  },
  {
   "cell_type": "code",
   "execution_count": 38,
   "metadata": {
    "colab": {
     "base_uri": "https://localhost:8080/",
     "height": 288
    },
    "id": "1_lokgdPS3x8",
    "outputId": "faf848ba-c035-42b3-f7ec-9888dbad4604"
   },
   "outputs": [
    {
     "data": {
      "image/png": "[encoded data removed]",
      "text/plain": [
       "<Figure size 432x288 with 1 Axes>"
      ]
     },
     "metadata": {
      "needs_background": "light"
     },
     "output_type": "display_data"
    }
   ],
   "source": [
    "# Create the information for the lift chart\n",
    "proba = boostedTree.predict_proba(X_valid)\n",
    "result = pd.DataFrame({'actual': y_valid, \n",
    "                       'p(0)': [p[0] for p in proba],\n",
    "                       'p(1)': [p[1] for p in proba],\n",
    "                       'predicted': boostedTree.predict(X_valid) })\n",
    "\n",
    "df = result.sort_values(by=['p(1)'], ascending=False)\n",
    "liftChart(df['actual'], title=False)\n",
    "plt.show()\n",
    "# the lift on the first decile is 8.9"
   ]
  },
  {
   "cell_type": "code",
   "execution_count": 39,
   "metadata": {
    "id": "FPO6qzyxTKmu"
   },
   "outputs": [],
   "source": [
    "# run a random forest\n",
    "rforest = RandomForestClassifier(n_estimators=500, random_state=1)"
   ]
  },
  {
   "cell_type": "code",
   "execution_count": 40,
   "metadata": {
    "colab": {
     "base_uri": "https://localhost:8080/"
    },
    "id": "ZU_drzy8TT1I",
    "outputId": "716629db-c959-4afb-b74a-a3d318679841"
   },
   "outputs": [
    {
     "data": {
      "text/plain": [
       "RandomForestClassifier(n_estimators=500, random_state=1)"
      ]
     },
     "execution_count": 40,
     "metadata": {},
     "output_type": "execute_result"
    }
   ],
   "source": [
    "rforest.fit(X_train, y_train)"
   ]
  },
  {
   "cell_type": "code",
   "execution_count": 41,
   "metadata": {
    "colab": {
     "base_uri": "https://localhost:8080/"
    },
    "id": "V-tzj6HbTU8X",
    "outputId": "a122fd1a-f553-487b-fb75-18ff9b7b9a79"
   },
   "outputs": [
    {
     "name": "stdout",
     "output_type": "stream",
     "text": [
      "Confusion Matrix (Accuracy 0.9888)\n",
      "\n",
      "       Prediction\n",
      "Actual    0    1\n",
      "     0 1444    0\n",
      "     1   18  138\n"
     ]
    }
   ],
   "source": [
    "classificationSummary(y_valid, rforest.predict(X_valid), class_names = classes)"
   ]
  },
  {
   "cell_type": "code",
   "execution_count": 43,
   "metadata": {
    "colab": {
     "base_uri": "https://localhost:8080/",
     "height": 288
    },
    "id": "ge0Kj3y6TWqH",
    "outputId": "98410255-cd7b-4bce-f2ee-24586d16c5a3"
   },
   "outputs": [
    {
     "data": {
      "image/png": "[encoded data removed]",
      "text/plain": [
       "<Figure size 432x288 with 1 Axes>"
      ]
     },
     "metadata": {
      "needs_background": "light"
     },
     "output_type": "display_data"
    }
   ],
   "source": [
    "# Create the information for the lift chart\n",
    "proba = rforest.predict_proba(X_valid)\n",
    "result = pd.DataFrame({'actual': y_valid, \n",
    "                       'p(0)': [p[0] for p in proba],\n",
    "                       'p(1)': [p[1] for p in proba],\n",
    "                       'predicted': rforest.predict(X_valid) })\n",
    "\n",
    "df = result.sort_values(by=['p(1)'], ascending=False)\n",
    "liftChart(df['actual'], title=False)\n",
    "plt.show()\n",
    "# the lift on the first decile is 9.5"
   ]
  },
  {
   "cell_type": "code",
   "execution_count": null,
   "metadata": {
    "id": "8J10UwOoTbex"
   },
   "outputs": [],
   "source": []
  }
 ],
 "metadata": {
  "colab": {
   "collapsed_sections": [],
   "name": "DW PA 1 FP Part 2.ipynb",
   "provenance": []
  },
  "kernelspec": {
   "display_name": "Python 3",
   "language": "python",
   "name": "python3"
  },
  "language_info": {
   "codemirror_mode": {
    "name": "ipython",
    "version": 3
   },
   "file_extension": ".py",
   "mimetype": "text/x-python",
   "name": "python",
   "nbconvert_exporter": "python",
   "pygments_lexer": "ipython3",
   "version": "3.8.5"
  }
 },
 "nbformat": 4,
 "nbformat_minor": 1
}
