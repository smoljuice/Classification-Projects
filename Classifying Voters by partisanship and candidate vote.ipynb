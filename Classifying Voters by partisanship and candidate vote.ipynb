{
 "cells": [
  {
   "cell_type": "code",
   "execution_count": 1,
   "metadata": {
    "colab": {
     "base_uri": "https://localhost:8080/"
    },
    "id": "997vhTubhZWi",
    "outputId": "8f47efb6-13d8-4d0d-bc8f-710665bf7d30"
   },
   "outputs": [
    {
     "name": "stdout",
     "output_type": "stream",
     "text": [
      "Looking in indexes: https://pypi.org/simple, https://us-python.pkg.dev/colab-wheels/public/simple/\n",
      "Collecting dmba\n",
      "  Downloading dmba-0.1.0-py3-none-any.whl (11.8 MB)\n",
      "\u001b[2K     \u001b[90m━━━━━━━━━━━━━━━━━━━━━━━━━━━━━━━━━━━━━━━━\u001b[0m \u001b[32m11.8/11.8 MB\u001b[0m \u001b[31m68.8 MB/s\u001b[0m eta \u001b[36m0:00:00\u001b[0m\n",
      "\u001b[?25hInstalling collected packages: dmba\n",
      "Successfully installed dmba-0.1.0\n",
      "no display found. Using non-interactive Agg backend\n"
     ]
    }
   ],
   "source": [
    "# import packages\n",
    "!pip install dmba\n",
    "import dmba\n",
    "import pandas as pd\n",
    "import numpy as np\n",
    "from sklearn.tree import DecisionTreeClassifier\n",
    "from sklearn.linear_model import LogisticRegression\n",
    "from sklearn.model_selection import train_test_split, cross_val_score, GridSearchCV\n",
    "from sklearn.ensemble import RandomForestClassifier, GradientBoostingClassifier\n",
    "from sklearn.preprocessing import LabelEncoder\n",
    "import matplotlib.pylab as plt\n",
    "from dmba import plotDecisionTree, classificationSummary, regressionSummary"
   ]
  },
  {
   "cell_type": "code",
   "execution_count": 2,
   "metadata": {
    "id": "0uigL6jUha0p"
   },
   "outputs": [],
   "source": [
    "# load dataset\n",
    "voter_df = pd.read_csv('FX_indicators_2020.csv', on_bad_lines='skip')"
   ]
  },
  {
   "cell_type": "code",
   "execution_count": 3,
   "metadata": {
    "colab": {
     "base_uri": "https://localhost:8080/",
     "height": 300
    },
    "id": "FIQsyLpKhjc7",
    "outputId": "c2f6a5a3-f1f2-4b9a-b6a1-8871d958e3f1"
   },
   "outputs": [
    {
     "data": {
      "text/html": [
       "\n",
       "  <div id=\"df-21f6b067-af8d-4775-b2ce-003527c0467e\">\n",
       "    <div class=\"colab-df-container\">\n",
       "      <div>\n",
       "<style scoped>\n",
       "    .dataframe tbody tr th:only-of-type {\n",
       "        vertical-align: middle;\n",
       "    }\n",
       "\n",
       "    .dataframe tbody tr th {\n",
       "        vertical-align: top;\n",
       "    }\n",
       "\n",
       "    .dataframe thead th {\n",
       "        text-align: right;\n",
       "    }\n",
       "</style>\n",
       "<table border=\"1\" class=\"dataframe\">\n",
       "  <thead>\n",
       "    <tr style=\"text-align: right;\">\n",
       "      <th></th>\n",
       "      <th>VOTER_ID</th>\n",
       "      <th>SET_NO</th>\n",
       "      <th>OPP_SEX</th>\n",
       "      <th>AGE</th>\n",
       "      <th>HH_ND</th>\n",
       "      <th>HH_NR</th>\n",
       "      <th>HH_NI</th>\n",
       "      <th>MED_AGE</th>\n",
       "      <th>MED_AGE_M</th>\n",
       "      <th>MED_AGE_F</th>\n",
       "      <th>...</th>\n",
       "      <th>MOVED_RDMA</th>\n",
       "      <th>MOVED_DRMA</th>\n",
       "      <th>MOVED_AWMA</th>\n",
       "      <th>MOVED_ADMA</th>\n",
       "      <th>MOVED_ARMA</th>\n",
       "      <th>MOVED_RDMB</th>\n",
       "      <th>MOVED_DRMB</th>\n",
       "      <th>MOVED_AWMB</th>\n",
       "      <th>MOVED_ADMB</th>\n",
       "      <th>MOVED_ARMB</th>\n",
       "    </tr>\n",
       "  </thead>\n",
       "  <tbody>\n",
       "    <tr>\n",
       "      <th>0</th>\n",
       "      <td>84508</td>\n",
       "      <td>3</td>\n",
       "      <td>0</td>\n",
       "      <td>25</td>\n",
       "      <td>4</td>\n",
       "      <td>0</td>\n",
       "      <td>0</td>\n",
       "      <td>38</td>\n",
       "      <td>39</td>\n",
       "      <td>38</td>\n",
       "      <td>...</td>\n",
       "      <td>NaN</td>\n",
       "      <td>NaN</td>\n",
       "      <td>NaN</td>\n",
       "      <td>NaN</td>\n",
       "      <td>NaN</td>\n",
       "      <td>NaN</td>\n",
       "      <td>NaN</td>\n",
       "      <td>NaN</td>\n",
       "      <td>NaN</td>\n",
       "      <td>NaN</td>\n",
       "    </tr>\n",
       "    <tr>\n",
       "      <th>1</th>\n",
       "      <td>608312</td>\n",
       "      <td>1</td>\n",
       "      <td>0</td>\n",
       "      <td>35</td>\n",
       "      <td>0</td>\n",
       "      <td>0</td>\n",
       "      <td>3</td>\n",
       "      <td>46</td>\n",
       "      <td>46</td>\n",
       "      <td>46</td>\n",
       "      <td>...</td>\n",
       "      <td>NaN</td>\n",
       "      <td>NaN</td>\n",
       "      <td>NaN</td>\n",
       "      <td>NaN</td>\n",
       "      <td>NaN</td>\n",
       "      <td>NaN</td>\n",
       "      <td>NaN</td>\n",
       "      <td>NaN</td>\n",
       "      <td>NaN</td>\n",
       "      <td>NaN</td>\n",
       "    </tr>\n",
       "    <tr>\n",
       "      <th>2</th>\n",
       "      <td>222821</td>\n",
       "      <td>3</td>\n",
       "      <td>0</td>\n",
       "      <td>73</td>\n",
       "      <td>3</td>\n",
       "      <td>0</td>\n",
       "      <td>0</td>\n",
       "      <td>42</td>\n",
       "      <td>36</td>\n",
       "      <td>48</td>\n",
       "      <td>...</td>\n",
       "      <td>NaN</td>\n",
       "      <td>NaN</td>\n",
       "      <td>NaN</td>\n",
       "      <td>NaN</td>\n",
       "      <td>NaN</td>\n",
       "      <td>NaN</td>\n",
       "      <td>NaN</td>\n",
       "      <td>NaN</td>\n",
       "      <td>NaN</td>\n",
       "      <td>NaN</td>\n",
       "    </tr>\n",
       "    <tr>\n",
       "      <th>3</th>\n",
       "      <td>137882</td>\n",
       "      <td>2</td>\n",
       "      <td>0</td>\n",
       "      <td>54</td>\n",
       "      <td>1</td>\n",
       "      <td>1</td>\n",
       "      <td>0</td>\n",
       "      <td>37</td>\n",
       "      <td>34</td>\n",
       "      <td>51</td>\n",
       "      <td>...</td>\n",
       "      <td>NaN</td>\n",
       "      <td>NaN</td>\n",
       "      <td>NaN</td>\n",
       "      <td>NaN</td>\n",
       "      <td>NaN</td>\n",
       "      <td>NaN</td>\n",
       "      <td>NaN</td>\n",
       "      <td>NaN</td>\n",
       "      <td>NaN</td>\n",
       "      <td>NaN</td>\n",
       "    </tr>\n",
       "    <tr>\n",
       "      <th>4</th>\n",
       "      <td>531303</td>\n",
       "      <td>2</td>\n",
       "      <td>0</td>\n",
       "      <td>51</td>\n",
       "      <td>0</td>\n",
       "      <td>3</td>\n",
       "      <td>0</td>\n",
       "      <td>46</td>\n",
       "      <td>46</td>\n",
       "      <td>46</td>\n",
       "      <td>...</td>\n",
       "      <td>NaN</td>\n",
       "      <td>NaN</td>\n",
       "      <td>NaN</td>\n",
       "      <td>NaN</td>\n",
       "      <td>NaN</td>\n",
       "      <td>NaN</td>\n",
       "      <td>NaN</td>\n",
       "      <td>NaN</td>\n",
       "      <td>NaN</td>\n",
       "      <td>NaN</td>\n",
       "    </tr>\n",
       "  </tbody>\n",
       "</table>\n",
       "<p>5 rows × 152 columns</p>\n",
       "</div>\n",
       "      <button class=\"colab-df-convert\" onclick=\"convertToInteractive('df-21f6b067-af8d-4775-b2ce-003527c0467e')\"\n",
       "              title=\"Convert this dataframe to an interactive table.\"\n",
       "              style=\"display:none;\">\n",
       "        \n",
       "  <svg xmlns=\"http://www.w3.org/2000/svg\" height=\"24px\"viewBox=\"0 0 24 24\"\n",
       "       width=\"24px\">\n",
       "    <path d=\"M0 0h24v24H0V0z\" fill=\"none\"/>\n",
       "    <path d=\"M18.56 5.44l.94 2.06.94-2.06 2.06-.94-2.06-.94-.94-2.06-.94 2.06-2.06.94zm-11 1L8.5 8.5l.94-2.06 2.06-.94-2.06-.94L8.5 2.5l-.94 2.06-2.06.94zm10 10l.94 2.06.94-2.06 2.06-.94-2.06-.94-.94-2.06-.94 2.06-2.06.94z\"/><path d=\"M17.41 7.96l-1.37-1.37c-.4-.4-.92-.59-1.43-.59-.52 0-1.04.2-1.43.59L10.3 9.45l-7.72 7.72c-.78.78-.78 2.05 0 2.83L4 21.41c.39.39.9.59 1.41.59.51 0 1.02-.2 1.41-.59l7.78-7.78 2.81-2.81c.8-.78.8-2.07 0-2.86zM5.41 20L4 18.59l7.72-7.72 1.47 1.35L5.41 20z\"/>\n",
       "  </svg>\n",
       "      </button>\n",
       "      \n",
       "  <style>\n",
       "    .colab-df-container {\n",
       "      display:flex;\n",
       "      flex-wrap:wrap;\n",
       "      gap: 12px;\n",
       "    }\n",
       "\n",
       "    .colab-df-convert {\n",
       "      background-color: #E8F0FE;\n",
       "      border: none;\n",
       "      border-radius: 50%;\n",
       "      cursor: pointer;\n",
       "      display: none;\n",
       "      fill: #1967D2;\n",
       "      height: 32px;\n",
       "      padding: 0 0 0 0;\n",
       "      width: 32px;\n",
       "    }\n",
       "\n",
       "    .colab-df-convert:hover {\n",
       "      background-color: #E2EBFA;\n",
       "      box-shadow: 0px 1px 2px rgba(60, 64, 67, 0.3), 0px 1px 3px 1px rgba(60, 64, 67, 0.15);\n",
       "      fill: #174EA6;\n",
       "    }\n",
       "\n",
       "    [theme=dark] .colab-df-convert {\n",
       "      background-color: #3B4455;\n",
       "      fill: #D2E3FC;\n",
       "    }\n",
       "\n",
       "    [theme=dark] .colab-df-convert:hover {\n",
       "      background-color: #434B5C;\n",
       "      box-shadow: 0px 1px 3px 1px rgba(0, 0, 0, 0.15);\n",
       "      filter: drop-shadow(0px 1px 2px rgba(0, 0, 0, 0.3));\n",
       "      fill: #FFFFFF;\n",
       "    }\n",
       "  </style>\n",
       "\n",
       "      <script>\n",
       "        const buttonEl =\n",
       "          document.querySelector('#df-21f6b067-af8d-4775-b2ce-003527c0467e button.colab-df-convert');\n",
       "        buttonEl.style.display =\n",
       "          google.colab.kernel.accessAllowed ? 'block' : 'none';\n",
       "\n",
       "        async function convertToInteractive(key) {\n",
       "          const element = document.querySelector('#df-21f6b067-af8d-4775-b2ce-003527c0467e');\n",
       "          const dataTable =\n",
       "            await google.colab.kernel.invokeFunction('convertToInteractive',\n",
       "                                                     [key], {});\n",
       "          if (!dataTable) return;\n",
       "\n",
       "          const docLinkHtml = 'Like what you see? Visit the ' +\n",
       "            '<a target=\"_blank\" href=https://colab.research.google.com/notebooks/data_table.ipynb>data table notebook</a>'\n",
       "            + ' to learn more about interactive tables.';\n",
       "          element.innerHTML = '';\n",
       "          dataTable['output_type'] = 'display_data';\n",
       "          await google.colab.output.renderOutput(dataTable, element);\n",
       "          const docLink = document.createElement('div');\n",
       "          docLink.innerHTML = docLinkHtml;\n",
       "          element.appendChild(docLink);\n",
       "        }\n",
       "      </script>\n",
       "    </div>\n",
       "  </div>\n",
       "  "
      ],
      "text/plain": [
       "   VOTER_ID  SET_NO  OPP_SEX  AGE  HH_ND  HH_NR  HH_NI  MED_AGE  MED_AGE_M  \\\n",
       "0     84508       3        0   25      4      0      0       38         39   \n",
       "1    608312       1        0   35      0      0      3       46         46   \n",
       "2    222821       3        0   73      3      0      0       42         36   \n",
       "3    137882       2        0   54      1      1      0       37         34   \n",
       "4    531303       2        0   51      0      3      0       46         46   \n",
       "\n",
       "   MED_AGE_F  ...  MOVED_RDMA  MOVED_DRMA  MOVED_AWMA  MOVED_ADMA  MOVED_ARMA  \\\n",
       "0         38  ...         NaN         NaN         NaN         NaN         NaN   \n",
       "1         46  ...         NaN         NaN         NaN         NaN         NaN   \n",
       "2         48  ...         NaN         NaN         NaN         NaN         NaN   \n",
       "3         51  ...         NaN         NaN         NaN         NaN         NaN   \n",
       "4         46  ...         NaN         NaN         NaN         NaN         NaN   \n",
       "\n",
       "   MOVED_RDMB  MOVED_DRMB  MOVED_AWMB  MOVED_ADMB  MOVED_ARMB  \n",
       "0         NaN         NaN         NaN         NaN         NaN  \n",
       "1         NaN         NaN         NaN         NaN         NaN  \n",
       "2         NaN         NaN         NaN         NaN         NaN  \n",
       "3         NaN         NaN         NaN         NaN         NaN  \n",
       "4         NaN         NaN         NaN         NaN         NaN  \n",
       "\n",
       "[5 rows x 152 columns]"
      ]
     },
     "execution_count": 3,
     "metadata": {},
     "output_type": "execute_result"
    }
   ],
   "source": [
    "voter_df.head()"
   ]
  },
  {
   "cell_type": "code",
   "execution_count": 4,
   "metadata": {
    "colab": {
     "base_uri": "https://localhost:8080/"
    },
    "id": "-b54iN6altRU",
    "outputId": "62101f6c-69f1-4ff2-8de4-66f5371657ae"
   },
   "outputs": [
    {
     "name": "stdout",
     "output_type": "stream",
     "text": [
      "<class 'pandas.core.frame.DataFrame'>\n",
      "RangeIndex: 54311 entries, 0 to 54310\n",
      "Columns: 152 entries, VOTER_ID to MOVED_ARMB\n",
      "dtypes: float64(28), int64(79), object(45)\n",
      "memory usage: 63.0+ MB\n"
     ]
    }
   ],
   "source": [
    "voter_df.info()"
   ]
  },
  {
   "cell_type": "code",
   "execution_count": 5,
   "metadata": {
    "colab": {
     "base_uri": "https://localhost:8080/"
    },
    "id": "dIU-74DMDnx5",
    "outputId": "6855d949-c0d6-448a-f5ac-04befb3a0dde"
   },
   "outputs": [
    {
     "data": {
      "text/plain": [
       "['VOTER_ID',\n",
       " 'SET_NO',\n",
       " 'OPP_SEX',\n",
       " 'AGE',\n",
       " 'HH_ND',\n",
       " 'HH_NR',\n",
       " 'HH_NI',\n",
       " 'MED_AGE',\n",
       " 'MED_AGE_M',\n",
       " 'MED_AGE_F',\n",
       " 'NH_WHITE',\n",
       " 'NH_AA',\n",
       " 'NH_NATAM',\n",
       " 'NH_ASIAN',\n",
       " 'NH_HPI',\n",
       " 'NH_OTHER',\n",
       " 'NH_MULT',\n",
       " 'HISP',\n",
       " 'COMM_LT10',\n",
       " 'COMM_609P',\n",
       " 'MED_HH_INC',\n",
       " 'COMM_CAR',\n",
       " 'COMM_CP',\n",
       " 'COMM_PT',\n",
       " 'COMM_WALK',\n",
       " 'KIDS',\n",
       " 'KIDS_MC',\n",
       " 'M_NEV_MAR',\n",
       " 'M_MAR',\n",
       " 'M_MAR_SP',\n",
       " 'M_MAR_SNP',\n",
       " 'F_NEV_MAR',\n",
       " 'F_MAR',\n",
       " 'F_MAR_SP',\n",
       " 'F_MAR_SNP',\n",
       " 'ED_ASSOC',\n",
       " 'ED_BACH',\n",
       " 'ED_MD',\n",
       " 'ED_PROF',\n",
       " 'ED_DOC',\n",
       " 'ED_4COL',\n",
       " 'GENDER_F',\n",
       " 'GENDER_M',\n",
       " 'H_AFDLN3P',\n",
       " 'H_AFSSLN3P',\n",
       " 'H_F1',\n",
       " 'H_FFDLN2',\n",
       " 'H_FFSLN2',\n",
       " 'H_M1',\n",
       " 'H_MFDLN2',\n",
       " 'H_MFDLN3P',\n",
       " 'H_MFSLN2',\n",
       " 'H_MFSLN3P',\n",
       " 'H_MFSSLN3P',\n",
       " 'H_MMDLN2',\n",
       " 'H_MMSLN2',\n",
       " 'PARTY_D',\n",
       " 'PARTY_I',\n",
       " 'PARTY_R',\n",
       " 'HHP_D',\n",
       " 'HHP_DD',\n",
       " 'HHP_DI',\n",
       " 'HHP_DR',\n",
       " 'HHP_I',\n",
       " 'HHP_II',\n",
       " 'HHP_R',\n",
       " 'HHP_RI',\n",
       " 'HHP_RR',\n",
       " 'VPP_12',\n",
       " 'VPP_16',\n",
       " 'VPR_12',\n",
       " 'VPR_14',\n",
       " 'VPR_16',\n",
       " 'VG_08',\n",
       " 'VG_10',\n",
       " 'VG_12',\n",
       " 'VG_14',\n",
       " 'VG_16',\n",
       " 'PP_PELIG',\n",
       " 'PR_PELIG',\n",
       " 'AP_PELIG',\n",
       " 'G_PELIG',\n",
       " 'E_PELIG',\n",
       " 'NL5G',\n",
       " 'NL3PR',\n",
       " 'NL5AP',\n",
       " 'NL2PP',\n",
       " 'REG_DAYS',\n",
       " 'UPSCALEBUY',\n",
       " 'UPSCALEMAL',\n",
       " 'UPSCALEFEM',\n",
       " 'BOOKBUYERI',\n",
       " 'FAMILYMAGA',\n",
       " 'FEMALEORIE',\n",
       " 'RELIGIOUSM',\n",
       " 'GARDENINGM',\n",
       " 'CULINARYIN',\n",
       " 'HEALTHFITN',\n",
       " 'DOITYOURSE',\n",
       " 'FINANCIALM',\n",
       " 'RELIGIOUSC',\n",
       " 'POLITICALC',\n",
       " 'MEDIANEDUC',\n",
       " 'PRS16_PD',\n",
       " 'PRS16_PR',\n",
       " 'MSG_A',\n",
       " 'MSG_B',\n",
       " 'CAND1S',\n",
       " 'CAND2S',\n",
       " 'MESSAGE',\n",
       " 'VG_14_DV',\n",
       " 'D2',\n",
       " 'R2',\n",
       " 'D3',\n",
       " 'R3',\n",
       " 'I3',\n",
       " 'CAND1_UND',\n",
       " 'CAND1_SD2',\n",
       " 'CAND1_SDA',\n",
       " 'CAND1_LD2',\n",
       " 'CAND1_LDA',\n",
       " 'CAND1_SR2',\n",
       " 'CAND1_SRA',\n",
       " 'CAND1_LRA',\n",
       " 'CAND1_LR2',\n",
       " 'CAND1_SFT',\n",
       " 'CAND2_UND',\n",
       " 'CAND2_SD2',\n",
       " 'CAND2_SDA',\n",
       " 'CAND2_LD2',\n",
       " 'CAND2_LDA',\n",
       " 'CAND2_SR2',\n",
       " 'CAND2_SRA',\n",
       " 'CAND2_LRA',\n",
       " 'CAND2_LR2',\n",
       " 'CAND2_SFT',\n",
       " 'MOVED_RD',\n",
       " 'MOVED_DR',\n",
       " 'MOVED_AW',\n",
       " 'MOVED_U',\n",
       " 'MOVED_AD',\n",
       " 'MOVED_AR',\n",
       " 'MOVED_RDMA',\n",
       " 'MOVED_DRMA',\n",
       " 'MOVED_AWMA',\n",
       " 'MOVED_ADMA',\n",
       " 'MOVED_ARMA',\n",
       " 'MOVED_RDMB',\n",
       " 'MOVED_DRMB',\n",
       " 'MOVED_AWMB',\n",
       " 'MOVED_ADMB',\n",
       " 'MOVED_ARMB']"
      ]
     },
     "execution_count": 5,
     "metadata": {},
     "output_type": "execute_result"
    }
   ],
   "source": [
    "column_names = voter_df.columns.tolist()\n",
    "column_names"
   ]
  },
  {
   "cell_type": "code",
   "execution_count": 6,
   "metadata": {
    "id": "9y_pfRtziEFn"
   },
   "outputs": [],
   "source": [
    "voter_df = voter_df.fillna(0)"
   ]
  },
  {
   "cell_type": "code",
   "execution_count": 7,
   "metadata": {
    "colab": {
     "base_uri": "https://localhost:8080/",
     "height": 300
    },
    "id": "CIZiYKAJkNgQ",
    "outputId": "02210f49-1008-481d-bc65-1f10ea3dfb49"
   },
   "outputs": [
    {
     "data": {
      "text/html": [
       "\n",
       "  <div id=\"df-12a459a2-109a-4f5d-9d66-2c3cde54239e\">\n",
       "    <div class=\"colab-df-container\">\n",
       "      <div>\n",
       "<style scoped>\n",
       "    .dataframe tbody tr th:only-of-type {\n",
       "        vertical-align: middle;\n",
       "    }\n",
       "\n",
       "    .dataframe tbody tr th {\n",
       "        vertical-align: top;\n",
       "    }\n",
       "\n",
       "    .dataframe thead th {\n",
       "        text-align: right;\n",
       "    }\n",
       "</style>\n",
       "<table border=\"1\" class=\"dataframe\">\n",
       "  <thead>\n",
       "    <tr style=\"text-align: right;\">\n",
       "      <th></th>\n",
       "      <th>VOTER_ID</th>\n",
       "      <th>SET_NO</th>\n",
       "      <th>OPP_SEX</th>\n",
       "      <th>AGE</th>\n",
       "      <th>HH_ND</th>\n",
       "      <th>HH_NR</th>\n",
       "      <th>HH_NI</th>\n",
       "      <th>MED_AGE</th>\n",
       "      <th>MED_AGE_M</th>\n",
       "      <th>MED_AGE_F</th>\n",
       "      <th>...</th>\n",
       "      <th>MOVED_RDMA</th>\n",
       "      <th>MOVED_DRMA</th>\n",
       "      <th>MOVED_AWMA</th>\n",
       "      <th>MOVED_ADMA</th>\n",
       "      <th>MOVED_ARMA</th>\n",
       "      <th>MOVED_RDMB</th>\n",
       "      <th>MOVED_DRMB</th>\n",
       "      <th>MOVED_AWMB</th>\n",
       "      <th>MOVED_ADMB</th>\n",
       "      <th>MOVED_ARMB</th>\n",
       "    </tr>\n",
       "  </thead>\n",
       "  <tbody>\n",
       "    <tr>\n",
       "      <th>0</th>\n",
       "      <td>84508</td>\n",
       "      <td>3</td>\n",
       "      <td>0</td>\n",
       "      <td>25</td>\n",
       "      <td>4</td>\n",
       "      <td>0</td>\n",
       "      <td>0</td>\n",
       "      <td>38</td>\n",
       "      <td>39</td>\n",
       "      <td>38</td>\n",
       "      <td>...</td>\n",
       "      <td>0</td>\n",
       "      <td>0</td>\n",
       "      <td>0</td>\n",
       "      <td>0</td>\n",
       "      <td>0</td>\n",
       "      <td>0</td>\n",
       "      <td>0</td>\n",
       "      <td>0</td>\n",
       "      <td>0</td>\n",
       "      <td>0</td>\n",
       "    </tr>\n",
       "    <tr>\n",
       "      <th>1</th>\n",
       "      <td>608312</td>\n",
       "      <td>1</td>\n",
       "      <td>0</td>\n",
       "      <td>35</td>\n",
       "      <td>0</td>\n",
       "      <td>0</td>\n",
       "      <td>3</td>\n",
       "      <td>46</td>\n",
       "      <td>46</td>\n",
       "      <td>46</td>\n",
       "      <td>...</td>\n",
       "      <td>0</td>\n",
       "      <td>0</td>\n",
       "      <td>0</td>\n",
       "      <td>0</td>\n",
       "      <td>0</td>\n",
       "      <td>0</td>\n",
       "      <td>0</td>\n",
       "      <td>0</td>\n",
       "      <td>0</td>\n",
       "      <td>0</td>\n",
       "    </tr>\n",
       "    <tr>\n",
       "      <th>2</th>\n",
       "      <td>222821</td>\n",
       "      <td>3</td>\n",
       "      <td>0</td>\n",
       "      <td>73</td>\n",
       "      <td>3</td>\n",
       "      <td>0</td>\n",
       "      <td>0</td>\n",
       "      <td>42</td>\n",
       "      <td>36</td>\n",
       "      <td>48</td>\n",
       "      <td>...</td>\n",
       "      <td>0</td>\n",
       "      <td>0</td>\n",
       "      <td>0</td>\n",
       "      <td>0</td>\n",
       "      <td>0</td>\n",
       "      <td>0</td>\n",
       "      <td>0</td>\n",
       "      <td>0</td>\n",
       "      <td>0</td>\n",
       "      <td>0</td>\n",
       "    </tr>\n",
       "    <tr>\n",
       "      <th>3</th>\n",
       "      <td>137882</td>\n",
       "      <td>2</td>\n",
       "      <td>0</td>\n",
       "      <td>54</td>\n",
       "      <td>1</td>\n",
       "      <td>1</td>\n",
       "      <td>0</td>\n",
       "      <td>37</td>\n",
       "      <td>34</td>\n",
       "      <td>51</td>\n",
       "      <td>...</td>\n",
       "      <td>0</td>\n",
       "      <td>0</td>\n",
       "      <td>0</td>\n",
       "      <td>0</td>\n",
       "      <td>0</td>\n",
       "      <td>0</td>\n",
       "      <td>0</td>\n",
       "      <td>0</td>\n",
       "      <td>0</td>\n",
       "      <td>0</td>\n",
       "    </tr>\n",
       "    <tr>\n",
       "      <th>4</th>\n",
       "      <td>531303</td>\n",
       "      <td>2</td>\n",
       "      <td>0</td>\n",
       "      <td>51</td>\n",
       "      <td>0</td>\n",
       "      <td>3</td>\n",
       "      <td>0</td>\n",
       "      <td>46</td>\n",
       "      <td>46</td>\n",
       "      <td>46</td>\n",
       "      <td>...</td>\n",
       "      <td>0</td>\n",
       "      <td>0</td>\n",
       "      <td>0</td>\n",
       "      <td>0</td>\n",
       "      <td>0</td>\n",
       "      <td>0</td>\n",
       "      <td>0</td>\n",
       "      <td>0</td>\n",
       "      <td>0</td>\n",
       "      <td>0</td>\n",
       "    </tr>\n",
       "  </tbody>\n",
       "</table>\n",
       "<p>5 rows × 152 columns</p>\n",
       "</div>\n",
       "      <button class=\"colab-df-convert\" onclick=\"convertToInteractive('df-12a459a2-109a-4f5d-9d66-2c3cde54239e')\"\n",
       "              title=\"Convert this dataframe to an interactive table.\"\n",
       "              style=\"display:none;\">\n",
       "        \n",
       "  <svg xmlns=\"http://www.w3.org/2000/svg\" height=\"24px\"viewBox=\"0 0 24 24\"\n",
       "       width=\"24px\">\n",
       "    <path d=\"M0 0h24v24H0V0z\" fill=\"none\"/>\n",
       "    <path d=\"M18.56 5.44l.94 2.06.94-2.06 2.06-.94-2.06-.94-.94-2.06-.94 2.06-2.06.94zm-11 1L8.5 8.5l.94-2.06 2.06-.94-2.06-.94L8.5 2.5l-.94 2.06-2.06.94zm10 10l.94 2.06.94-2.06 2.06-.94-2.06-.94-.94-2.06-.94 2.06-2.06.94z\"/><path d=\"M17.41 7.96l-1.37-1.37c-.4-.4-.92-.59-1.43-.59-.52 0-1.04.2-1.43.59L10.3 9.45l-7.72 7.72c-.78.78-.78 2.05 0 2.83L4 21.41c.39.39.9.59 1.41.59.51 0 1.02-.2 1.41-.59l7.78-7.78 2.81-2.81c.8-.78.8-2.07 0-2.86zM5.41 20L4 18.59l7.72-7.72 1.47 1.35L5.41 20z\"/>\n",
       "  </svg>\n",
       "      </button>\n",
       "      \n",
       "  <style>\n",
       "    .colab-df-container {\n",
       "      display:flex;\n",
       "      flex-wrap:wrap;\n",
       "      gap: 12px;\n",
       "    }\n",
       "\n",
       "    .colab-df-convert {\n",
       "      background-color: #E8F0FE;\n",
       "      border: none;\n",
       "      border-radius: 50%;\n",
       "      cursor: pointer;\n",
       "      display: none;\n",
       "      fill: #1967D2;\n",
       "      height: 32px;\n",
       "      padding: 0 0 0 0;\n",
       "      width: 32px;\n",
       "    }\n",
       "\n",
       "    .colab-df-convert:hover {\n",
       "      background-color: #E2EBFA;\n",
       "      box-shadow: 0px 1px 2px rgba(60, 64, 67, 0.3), 0px 1px 3px 1px rgba(60, 64, 67, 0.15);\n",
       "      fill: #174EA6;\n",
       "    }\n",
       "\n",
       "    [theme=dark] .colab-df-convert {\n",
       "      background-color: #3B4455;\n",
       "      fill: #D2E3FC;\n",
       "    }\n",
       "\n",
       "    [theme=dark] .colab-df-convert:hover {\n",
       "      background-color: #434B5C;\n",
       "      box-shadow: 0px 1px 3px 1px rgba(0, 0, 0, 0.15);\n",
       "      filter: drop-shadow(0px 1px 2px rgba(0, 0, 0, 0.3));\n",
       "      fill: #FFFFFF;\n",
       "    }\n",
       "  </style>\n",
       "\n",
       "      <script>\n",
       "        const buttonEl =\n",
       "          document.querySelector('#df-12a459a2-109a-4f5d-9d66-2c3cde54239e button.colab-df-convert');\n",
       "        buttonEl.style.display =\n",
       "          google.colab.kernel.accessAllowed ? 'block' : 'none';\n",
       "\n",
       "        async function convertToInteractive(key) {\n",
       "          const element = document.querySelector('#df-12a459a2-109a-4f5d-9d66-2c3cde54239e');\n",
       "          const dataTable =\n",
       "            await google.colab.kernel.invokeFunction('convertToInteractive',\n",
       "                                                     [key], {});\n",
       "          if (!dataTable) return;\n",
       "\n",
       "          const docLinkHtml = 'Like what you see? Visit the ' +\n",
       "            '<a target=\"_blank\" href=https://colab.research.google.com/notebooks/data_table.ipynb>data table notebook</a>'\n",
       "            + ' to learn more about interactive tables.';\n",
       "          element.innerHTML = '';\n",
       "          dataTable['output_type'] = 'display_data';\n",
       "          await google.colab.output.renderOutput(dataTable, element);\n",
       "          const docLink = document.createElement('div');\n",
       "          docLink.innerHTML = docLinkHtml;\n",
       "          element.appendChild(docLink);\n",
       "        }\n",
       "      </script>\n",
       "    </div>\n",
       "  </div>\n",
       "  "
      ],
      "text/plain": [
       "   VOTER_ID  SET_NO  OPP_SEX  AGE  HH_ND  HH_NR  HH_NI  MED_AGE  MED_AGE_M  \\\n",
       "0     84508       3        0   25      4      0      0       38         39   \n",
       "1    608312       1        0   35      0      0      3       46         46   \n",
       "2    222821       3        0   73      3      0      0       42         36   \n",
       "3    137882       2        0   54      1      1      0       37         34   \n",
       "4    531303       2        0   51      0      3      0       46         46   \n",
       "\n",
       "   MED_AGE_F  ...  MOVED_RDMA  MOVED_DRMA  MOVED_AWMA  MOVED_ADMA  MOVED_ARMA  \\\n",
       "0         38  ...           0           0           0           0           0   \n",
       "1         46  ...           0           0           0           0           0   \n",
       "2         48  ...           0           0           0           0           0   \n",
       "3         51  ...           0           0           0           0           0   \n",
       "4         46  ...           0           0           0           0           0   \n",
       "\n",
       "   MOVED_RDMB  MOVED_DRMB  MOVED_AWMB  MOVED_ADMB  MOVED_ARMB  \n",
       "0           0           0           0           0           0  \n",
       "1           0           0           0           0           0  \n",
       "2           0           0           0           0           0  \n",
       "3           0           0           0           0           0  \n",
       "4           0           0           0           0           0  \n",
       "\n",
       "[5 rows x 152 columns]"
      ]
     },
     "execution_count": 7,
     "metadata": {},
     "output_type": "execute_result"
    }
   ],
   "source": [
    "voter_df.head()"
   ]
  },
  {
   "cell_type": "code",
   "execution_count": 8,
   "metadata": {
    "id": "1rRZQhpqL3Jl"
   },
   "outputs": [],
   "source": [
    "voter_df = voter_df.replace({'Y': 1, 'N': 0})"
   ]
  },
  {
   "cell_type": "code",
   "execution_count": 9,
   "metadata": {
    "id": "Puu3kpbAlOw0"
   },
   "outputs": [],
   "source": [
    "voter_df = voter_df.apply(pd.to_numeric, errors='coerce').fillna(0)"
   ]
  },
  {
   "cell_type": "code",
   "execution_count": 10,
   "metadata": {
    "id": "vRGJnF1btt6E"
   },
   "outputs": [],
   "source": [
    "# predictors = ['AGE', 'HH_ND', 'HH_NR', 'HH_NI', 'MED_AGE', 'MED_AGE_M', 'MED_AGE_F',  'NH_WHITE', 'NH_AA', 'NH_NATAM', 'NH_ASIAN', 'NH_HPI', 'NH_OTHER', 'NH_MULT', 'HISP', 'COMM_LT10', 'COMM_609P', 'MED_HH_INC', 'COMM_CAR', 'COMM_CP', 'COMM_PT', 'COMM_WALK', 'KIDS', 'KIDS_MC', 'M_NEV_MAR', 'M_MAR', 'M_MAR_SP', 'M_MAR_SNP', 'F_NEV_MAR', 'F_MAR', 'F_MAR_SP', 'F_MAR_SNP', 'ED_ASSOC', 'ED_BACH', 'ED_MD', 'ED_PROF', 'ED_DOC', 'ED_4COL', 'GENDER_F', 'GENDER_M', 'H_AFDLN3P', 'H_AFSSLN3P', 'H_F1', 'H_FFDLN2', 'H_FFSLN2', 'H_M1', 'H_MFDLN2', 'H_MFDLN3P', 'H_MFSLN2', 'H_MFSLN3P', 'H_MFSSLN3P', 'H_MMDLN2', 'H_MMSLN2']\n",
    "outcome = 'PARTY_D'"
   ]
  },
  {
   "cell_type": "code",
   "execution_count": 11,
   "metadata": {
    "id": "k1LTlJXi6DKf"
   },
   "outputs": [],
   "source": [
    "voter_df.drop(voter_df[~voter_df['PARTY_D'].isin([0, 1,'0','1'])].index, inplace=True)"
   ]
  },
  {
   "cell_type": "code",
   "execution_count": 12,
   "metadata": {
    "id": "xSNKbr4P1nrt"
   },
   "outputs": [],
   "source": [
    "X = pd.get_dummies(voter_df.drop(['PARTY_D', 'PARTY_I', 'PARTY_R', 'D3', 'D2', 'R2', 'R3','I3'], axis=1))\n",
    "y = voter_df[outcome]\n",
    "y=y.astype('int')"
   ]
  },
  {
   "cell_type": "code",
   "execution_count": 13,
   "metadata": {
    "id": "cIv3YFQk2aIo"
   },
   "outputs": [],
   "source": [
    "# partition the data\n",
    "X_train, X_valid, y_train, y_valid = train_test_split(X, y, test_size = 0.4, random_state = 1)"
   ]
  },
  {
   "cell_type": "code",
   "execution_count": 14,
   "metadata": {
    "id": "YX8K6VQs2d1J"
   },
   "outputs": [],
   "source": [
    "dtc = DecisionTreeClassifier(max_depth = 20, random_state = 1)"
   ]
  },
  {
   "cell_type": "code",
   "execution_count": 15,
   "metadata": {
    "colab": {
     "base_uri": "https://localhost:8080/",
     "height": 75
    },
    "id": "2bSJagIg3KKF",
    "outputId": "ad46c7f2-3c2b-4fd4-9619-9e240c924975"
   },
   "outputs": [
    {
     "data": {
      "text/html": [
       "<style>#sk-container-id-1 {color: black;background-color: white;}#sk-container-id-1 pre{padding: 0;}#sk-container-id-1 div.sk-toggleable {background-color: white;}#sk-container-id-1 label.sk-toggleable__label {cursor: pointer;display: block;width: 100%;margin-bottom: 0;padding: 0.3em;box-sizing: border-box;text-align: center;}#sk-container-id-1 label.sk-toggleable__label-arrow:before {content: \"▸\";float: left;margin-right: 0.25em;color: #696969;}#sk-container-id-1 label.sk-toggleable__label-arrow:hover:before {color: black;}#sk-container-id-1 div.sk-estimator:hover label.sk-toggleable__label-arrow:before {color: black;}#sk-container-id-1 div.sk-toggleable__content {max-height: 0;max-width: 0;overflow: hidden;text-align: left;background-color: #f0f8ff;}#sk-container-id-1 div.sk-toggleable__content pre {margin: 0.2em;color: black;border-radius: 0.25em;background-color: #f0f8ff;}#sk-container-id-1 input.sk-toggleable__control:checked~div.sk-toggleable__content {max-height: 200px;max-width: 100%;overflow: auto;}#sk-container-id-1 input.sk-toggleable__control:checked~label.sk-toggleable__label-arrow:before {content: \"▾\";}#sk-container-id-1 div.sk-estimator input.sk-toggleable__control:checked~label.sk-toggleable__label {background-color: #d4ebff;}#sk-container-id-1 div.sk-label input.sk-toggleable__control:checked~label.sk-toggleable__label {background-color: #d4ebff;}#sk-container-id-1 input.sk-hidden--visually {border: 0;clip: rect(1px 1px 1px 1px);clip: rect(1px, 1px, 1px, 1px);height: 1px;margin: -1px;overflow: hidden;padding: 0;position: absolute;width: 1px;}#sk-container-id-1 div.sk-estimator {font-family: monospace;background-color: #f0f8ff;border: 1px dotted black;border-radius: 0.25em;box-sizing: border-box;margin-bottom: 0.5em;}#sk-container-id-1 div.sk-estimator:hover {background-color: #d4ebff;}#sk-container-id-1 div.sk-parallel-item::after {content: \"\";width: 100%;border-bottom: 1px solid gray;flex-grow: 1;}#sk-container-id-1 div.sk-label:hover label.sk-toggleable__label {background-color: #d4ebff;}#sk-container-id-1 div.sk-serial::before {content: \"\";position: absolute;border-left: 1px solid gray;box-sizing: border-box;top: 0;bottom: 0;left: 50%;z-index: 0;}#sk-container-id-1 div.sk-serial {display: flex;flex-direction: column;align-items: center;background-color: white;padding-right: 0.2em;padding-left: 0.2em;position: relative;}#sk-container-id-1 div.sk-item {position: relative;z-index: 1;}#sk-container-id-1 div.sk-parallel {display: flex;align-items: stretch;justify-content: center;background-color: white;position: relative;}#sk-container-id-1 div.sk-item::before, #sk-container-id-1 div.sk-parallel-item::before {content: \"\";position: absolute;border-left: 1px solid gray;box-sizing: border-box;top: 0;bottom: 0;left: 50%;z-index: -1;}#sk-container-id-1 div.sk-parallel-item {display: flex;flex-direction: column;z-index: 1;position: relative;background-color: white;}#sk-container-id-1 div.sk-parallel-item:first-child::after {align-self: flex-end;width: 50%;}#sk-container-id-1 div.sk-parallel-item:last-child::after {align-self: flex-start;width: 50%;}#sk-container-id-1 div.sk-parallel-item:only-child::after {width: 0;}#sk-container-id-1 div.sk-dashed-wrapped {border: 1px dashed gray;margin: 0 0.4em 0.5em 0.4em;box-sizing: border-box;padding-bottom: 0.4em;background-color: white;}#sk-container-id-1 div.sk-label label {font-family: monospace;font-weight: bold;display: inline-block;line-height: 1.2em;}#sk-container-id-1 div.sk-label-container {text-align: center;}#sk-container-id-1 div.sk-container {/* jupyter's `normalize.less` sets `[hidden] { display: none; }` but bootstrap.min.css set `[hidden] { display: none !important; }` so we also need the `!important` here to be able to override the default hidden behavior on the sphinx rendered scikit-learn.org. See: https://github.com/scikit-learn/scikit-learn/issues/21755 */display: inline-block !important;position: relative;}#sk-container-id-1 div.sk-text-repr-fallback {display: none;}</style><div id=\"sk-container-id-1\" class=\"sk-top-container\"><div class=\"sk-text-repr-fallback\"><pre>DecisionTreeClassifier(max_depth=20, random_state=1)</pre><b>In a Jupyter environment, please rerun this cell to show the HTML representation or trust the notebook. <br />On GitHub, the HTML representation is unable to render, please try loading this page with nbviewer.org.</b></div><div class=\"sk-container\" hidden><div class=\"sk-item\"><div class=\"sk-estimator sk-toggleable\"><input class=\"sk-toggleable__control sk-hidden--visually\" id=\"sk-estimator-id-1\" type=\"checkbox\" checked><label for=\"sk-estimator-id-1\" class=\"sk-toggleable__label sk-toggleable__label-arrow\">DecisionTreeClassifier</label><div class=\"sk-toggleable__content\"><pre>DecisionTreeClassifier(max_depth=20, random_state=1)</pre></div></div></div></div></div>"
      ],
      "text/plain": [
       "DecisionTreeClassifier(max_depth=20, random_state=1)"
      ]
     },
     "execution_count": 15,
     "metadata": {},
     "output_type": "execute_result"
    }
   ],
   "source": [
    "# train the model\n",
    "dtc.fit(X_train, y_train)"
   ]
  },
  {
   "cell_type": "code",
   "execution_count": 16,
   "metadata": {
    "colab": {
     "base_uri": "https://localhost:8080/"
    },
    "id": "vQ_XrF0j4VvQ",
    "outputId": "ac55ff76-4834-40ab-dffd-321d249dac3e"
   },
   "outputs": [
    {
     "name": "stdout",
     "output_type": "stream",
     "text": [
      "Confusion Matrix (Accuracy 0.8583)\n",
      "\n",
      "       Prediction\n",
      "Actual     0     1\n",
      "     0 15840  1249\n",
      "     1  3370 12127\n"
     ]
    }
   ],
   "source": [
    "classificationSummary(y_train, dtc.predict(X_train))"
   ]
  },
  {
   "cell_type": "code",
   "execution_count": 17,
   "metadata": {
    "colab": {
     "base_uri": "https://localhost:8080/"
    },
    "id": "wO5JiFfWOhZE",
    "outputId": "d3d3d1f8-42ad-4dfd-b8eb-4b9825623190"
   },
   "outputs": [
    {
     "name": "stdout",
     "output_type": "stream",
     "text": [
      "Confusion Matrix (Accuracy 0.5481)\n",
      "\n",
      "       Prediction\n",
      "Actual    0    1\n",
      "     0 7306 4247\n",
      "     1 5571 4601\n"
     ]
    }
   ],
   "source": [
    "classificationSummary(y_valid, dtc.predict(X_valid))"
   ]
  },
  {
   "cell_type": "code",
   "execution_count": 18,
   "metadata": {
    "id": "RmCFMEc98qov"
   },
   "outputs": [],
   "source": [
    "importances = dtc.feature_importances_"
   ]
  },
  {
   "cell_type": "code",
   "execution_count": 19,
   "metadata": {
    "colab": {
     "base_uri": "https://localhost:8080/"
    },
    "id": "wKhbtRQMGzZF",
    "outputId": "2dd68a06-a0e0-44a4-c52f-8bace960d593"
   },
   "outputs": [
    {
     "name": "stdout",
     "output_type": "stream",
     "text": [
      "        feature  importance\n",
      "85   UPSCALEBUY    0.000000\n",
      "105      CAND2S    0.000000\n",
      "104      CAND1S    0.000000\n",
      "140  MOVED_DRMB    0.000000\n",
      "139  MOVED_RDMB    0.000000\n",
      "..          ...         ...\n",
      "100    PRS16_PD    0.031967\n",
      "3           AGE    0.069349\n",
      "84     REG_DAYS    0.091167\n",
      "0      VOTER_ID    0.106457\n",
      "101    PRS16_PR    0.126582\n",
      "\n",
      "[144 rows x 2 columns]\n"
     ]
    }
   ],
   "source": [
    "importance_df = pd.DataFrame({'feature': X_train.columns, 'importance':importances})\n",
    "importance_df = importance_df.sort_values('importance')\n",
    "print(importance_df)"
   ]
  },
  {
   "cell_type": "code",
   "execution_count": 20,
   "metadata": {
    "id": "xV9pgRr9G2_8"
   },
   "outputs": [],
   "source": [
    "# Initially, the model was run with every column except the 3 party columns. However, it seemed that the D2, D3, R2, R3, and I3 columns were too closely related (near 100% for D3 and D2) to the dependent variable PARTY_D \n",
    "# So I ran the analysis again with the D2, D3, R2, R3, and I3 columns excluded"
   ]
  },
  {
   "cell_type": "code",
   "execution_count": 21,
   "metadata": {
    "id": "BWRgXhuaPEva"
   },
   "outputs": [],
   "source": [
    "voter_ids = X_valid['VOTER_ID']\n",
    "model_scores = dtc.predict_proba(X_valid)[:, 1] * 100\n",
    "output = pd.DataFrame({'VOTER_ID': voter_ids, 'model_score': model_scores, 'partisanship': y_valid})"
   ]
  },
  {
   "cell_type": "code",
   "execution_count": 22,
   "metadata": {
    "colab": {
     "base_uri": "https://localhost:8080/"
    },
    "id": "GVgGRR6sx2mR",
    "outputId": "eea43255-922e-4fbc-fdc2-a167f55865c6"
   },
   "outputs": [
    {
     "data": {
      "text/plain": [
       "0.0"
      ]
     },
     "execution_count": 22,
     "metadata": {},
     "output_type": "execute_result"
    }
   ],
   "source": [
    "output['model_score'].min()"
   ]
  },
  {
   "cell_type": "code",
   "execution_count": 23,
   "metadata": {
    "colab": {
     "base_uri": "https://localhost:8080/"
    },
    "id": "MjV7uuJRx254",
    "outputId": "7b306a95-213c-4ca7-8473-f53a02c64987"
   },
   "outputs": [
    {
     "data": {
      "text/plain": [
       "100.0"
      ]
     },
     "execution_count": 23,
     "metadata": {},
     "output_type": "execute_result"
    }
   ],
   "source": [
    "output['model_score'].max()"
   ]
  },
  {
   "cell_type": "code",
   "execution_count": 24,
   "metadata": {
    "colab": {
     "base_uri": "https://localhost:8080/"
    },
    "id": "Zojp9M26x3NH",
    "outputId": "e7f18d7a-d8b6-4747-a5d1-c11804b517bd"
   },
   "outputs": [
    {
     "data": {
      "text/plain": [
       "100.000000    6171\n",
       "0.000000      5989\n",
       "41.120886     2124\n",
       "27.240978      588\n",
       "61.809045      246\n",
       "              ... \n",
       "86.666667        5\n",
       "62.500000        5\n",
       "61.538462        4\n",
       "58.333333        4\n",
       "54.545455        3\n",
       "Name: model_score, Length: 189, dtype: int64"
      ]
     },
     "execution_count": 24,
     "metadata": {},
     "output_type": "execute_result"
    }
   ],
   "source": [
    "output['model_score'].value_counts()"
   ]
  },
  {
   "cell_type": "code",
   "execution_count": 25,
   "metadata": {
    "id": "aU4Rkb717Z2l"
   },
   "outputs": [],
   "source": [
    "# introduce a small amount of noise in order to prevent an error that arises when bin edges are not unique\n",
    "output['model_score'] += np.random.normal(0, 0.0001, len(output))"
   ]
  },
  {
   "cell_type": "code",
   "execution_count": 26,
   "metadata": {
    "colab": {
     "base_uri": "https://localhost:8080/"
    },
    "id": "9DnvTHD5_9dO",
    "outputId": "ea003224-08d8-4105-abe6-7c3ed0c08329"
   },
   "outputs": [
    {
     "name": "stdout",
     "output_type": "stream",
     "text": [
      "       VOTER_ID  model_score  partisanship    quintile\n",
      "28035    324817   100.000027             1  Quintile 5\n",
      "21205    346173    55.319074             1  Quintile 4\n",
      "39319    206216    41.120866             0  Quintile 3\n",
      "23432    278908     0.000004             0  Quintile 1\n",
      "2951     585259    41.120843             0  Quintile 3\n"
     ]
    }
   ],
   "source": [
    "output['quintile'] = pd.qcut(output['model_score'], q=5, labels=['Quintile 1', 'Quintile 2', 'Quintile 3', 'Quintile 4', 'Quintile 5'])\n",
    "\n",
    "print(output.head())"
   ]
  },
  {
   "cell_type": "code",
   "execution_count": 27,
   "metadata": {
    "id": "-_DNvmKa7acI"
   },
   "outputs": [],
   "source": [
    "# calculate y percentage for each quantile in the test set\n",
    "test_set_y_percent = output.groupby('quintile')['partisanship'].mean()"
   ]
  },
  {
   "cell_type": "code",
   "execution_count": 28,
   "metadata": {
    "id": "7X7cz0pP7cNe"
   },
   "outputs": [],
   "source": [
    "# calculate y percentage for the whole test set\n",
    "test_set_y_total_percent = y_valid.mean()"
   ]
  },
  {
   "cell_type": "code",
   "execution_count": 29,
   "metadata": {
    "colab": {
     "base_uri": "https://localhost:8080/"
    },
    "id": "Ta6CWgrV9Smk",
    "outputId": "3051f936-bc6c-4314-9bf0-c0163a3d5a08"
   },
   "outputs": [
    {
     "name": "stdout",
     "output_type": "stream",
     "text": [
      "quintile\n",
      "Quintile 1    0.467894\n",
      "Quintile 2    0.412428\n",
      "Quintile 3    0.416571\n",
      "Quintile 4    0.504948\n",
      "Quintile 5    0.539241\n",
      "Name: partisanship, dtype: float64\n",
      "Test set Y percentage for entire test set: 0.46821634062140394\n"
     ]
    }
   ],
   "source": [
    "print(test_set_y_percent)\n",
    "print('Test set Y percentage for entire test set:', test_set_y_total_percent)"
   ]
  },
  {
   "cell_type": "code",
   "execution_count": 30,
   "metadata": {
    "id": "Ir8bQUdG9YjF"
   },
   "outputs": [],
   "source": [
    "lift = test_set_y_percent / test_set_y_total_percent"
   ]
  },
  {
   "cell_type": "code",
   "execution_count": 31,
   "metadata": {
    "colab": {
     "base_uri": "https://localhost:8080/"
    },
    "id": "RKNqZcjd-ERG",
    "outputId": "52b47e16-d3f8-4d33-bfde-d4a097fb626a"
   },
   "outputs": [
    {
     "name": "stdout",
     "output_type": "stream",
     "text": [
      "quintile\n",
      "Quintile 1    0.999312\n",
      "Quintile 2    0.880849\n",
      "Quintile 3    0.889697\n",
      "Quintile 4    1.078451\n",
      "Quintile 5    1.151691\n",
      "Name: partisanship, dtype: float64\n"
     ]
    }
   ],
   "source": [
    "# Question 1 answer:\n",
    "print(lift)"
   ]
  },
  {
   "cell_type": "code",
   "execution_count": 32,
   "metadata": {
    "id": "Tw0palHpYgDR"
   },
   "outputs": [],
   "source": [
    "# training logistic regression model\n",
    "lr = LogisticRegression()"
   ]
  },
  {
   "cell_type": "code",
   "execution_count": 33,
   "metadata": {
    "colab": {
     "base_uri": "https://localhost:8080/",
     "height": 75
    },
    "id": "KF-GUlkfYk0E",
    "outputId": "6271a601-5a5b-4f82-80a4-30bab1213f54"
   },
   "outputs": [
    {
     "data": {
      "text/html": [
       "<style>#sk-container-id-2 {color: black;background-color: white;}#sk-container-id-2 pre{padding: 0;}#sk-container-id-2 div.sk-toggleable {background-color: white;}#sk-container-id-2 label.sk-toggleable__label {cursor: pointer;display: block;width: 100%;margin-bottom: 0;padding: 0.3em;box-sizing: border-box;text-align: center;}#sk-container-id-2 label.sk-toggleable__label-arrow:before {content: \"▸\";float: left;margin-right: 0.25em;color: #696969;}#sk-container-id-2 label.sk-toggleable__label-arrow:hover:before {color: black;}#sk-container-id-2 div.sk-estimator:hover label.sk-toggleable__label-arrow:before {color: black;}#sk-container-id-2 div.sk-toggleable__content {max-height: 0;max-width: 0;overflow: hidden;text-align: left;background-color: #f0f8ff;}#sk-container-id-2 div.sk-toggleable__content pre {margin: 0.2em;color: black;border-radius: 0.25em;background-color: #f0f8ff;}#sk-container-id-2 input.sk-toggleable__control:checked~div.sk-toggleable__content {max-height: 200px;max-width: 100%;overflow: auto;}#sk-container-id-2 input.sk-toggleable__control:checked~label.sk-toggleable__label-arrow:before {content: \"▾\";}#sk-container-id-2 div.sk-estimator input.sk-toggleable__control:checked~label.sk-toggleable__label {background-color: #d4ebff;}#sk-container-id-2 div.sk-label input.sk-toggleable__control:checked~label.sk-toggleable__label {background-color: #d4ebff;}#sk-container-id-2 input.sk-hidden--visually {border: 0;clip: rect(1px 1px 1px 1px);clip: rect(1px, 1px, 1px, 1px);height: 1px;margin: -1px;overflow: hidden;padding: 0;position: absolute;width: 1px;}#sk-container-id-2 div.sk-estimator {font-family: monospace;background-color: #f0f8ff;border: 1px dotted black;border-radius: 0.25em;box-sizing: border-box;margin-bottom: 0.5em;}#sk-container-id-2 div.sk-estimator:hover {background-color: #d4ebff;}#sk-container-id-2 div.sk-parallel-item::after {content: \"\";width: 100%;border-bottom: 1px solid gray;flex-grow: 1;}#sk-container-id-2 div.sk-label:hover label.sk-toggleable__label {background-color: #d4ebff;}#sk-container-id-2 div.sk-serial::before {content: \"\";position: absolute;border-left: 1px solid gray;box-sizing: border-box;top: 0;bottom: 0;left: 50%;z-index: 0;}#sk-container-id-2 div.sk-serial {display: flex;flex-direction: column;align-items: center;background-color: white;padding-right: 0.2em;padding-left: 0.2em;position: relative;}#sk-container-id-2 div.sk-item {position: relative;z-index: 1;}#sk-container-id-2 div.sk-parallel {display: flex;align-items: stretch;justify-content: center;background-color: white;position: relative;}#sk-container-id-2 div.sk-item::before, #sk-container-id-2 div.sk-parallel-item::before {content: \"\";position: absolute;border-left: 1px solid gray;box-sizing: border-box;top: 0;bottom: 0;left: 50%;z-index: -1;}#sk-container-id-2 div.sk-parallel-item {display: flex;flex-direction: column;z-index: 1;position: relative;background-color: white;}#sk-container-id-2 div.sk-parallel-item:first-child::after {align-self: flex-end;width: 50%;}#sk-container-id-2 div.sk-parallel-item:last-child::after {align-self: flex-start;width: 50%;}#sk-container-id-2 div.sk-parallel-item:only-child::after {width: 0;}#sk-container-id-2 div.sk-dashed-wrapped {border: 1px dashed gray;margin: 0 0.4em 0.5em 0.4em;box-sizing: border-box;padding-bottom: 0.4em;background-color: white;}#sk-container-id-2 div.sk-label label {font-family: monospace;font-weight: bold;display: inline-block;line-height: 1.2em;}#sk-container-id-2 div.sk-label-container {text-align: center;}#sk-container-id-2 div.sk-container {/* jupyter's `normalize.less` sets `[hidden] { display: none; }` but bootstrap.min.css set `[hidden] { display: none !important; }` so we also need the `!important` here to be able to override the default hidden behavior on the sphinx rendered scikit-learn.org. See: https://github.com/scikit-learn/scikit-learn/issues/21755 */display: inline-block !important;position: relative;}#sk-container-id-2 div.sk-text-repr-fallback {display: none;}</style><div id=\"sk-container-id-2\" class=\"sk-top-container\"><div class=\"sk-text-repr-fallback\"><pre>LogisticRegression()</pre><b>In a Jupyter environment, please rerun this cell to show the HTML representation or trust the notebook. <br />On GitHub, the HTML representation is unable to render, please try loading this page with nbviewer.org.</b></div><div class=\"sk-container\" hidden><div class=\"sk-item\"><div class=\"sk-estimator sk-toggleable\"><input class=\"sk-toggleable__control sk-hidden--visually\" id=\"sk-estimator-id-2\" type=\"checkbox\" checked><label for=\"sk-estimator-id-2\" class=\"sk-toggleable__label sk-toggleable__label-arrow\">LogisticRegression</label><div class=\"sk-toggleable__content\"><pre>LogisticRegression()</pre></div></div></div></div></div>"
      ],
      "text/plain": [
       "LogisticRegression()"
      ]
     },
     "execution_count": 33,
     "metadata": {},
     "output_type": "execute_result"
    }
   ],
   "source": [
    "lr.fit(X_train, y_train)"
   ]
  },
  {
   "cell_type": "code",
   "execution_count": 34,
   "metadata": {
    "colab": {
     "base_uri": "https://localhost:8080/"
    },
    "id": "9FPU54hlY8EN",
    "outputId": "5e9743d0-9d4e-40ed-8a82-d7e4eda1203f"
   },
   "outputs": [
    {
     "name": "stdout",
     "output_type": "stream",
     "text": [
      "Confusion Matrix (Accuracy 0.5245)\n",
      "\n",
      "       Prediction\n",
      "Actual     0     1\n",
      "     0 17084     5\n",
      "     1 15489     8\n"
     ]
    }
   ],
   "source": [
    "classificationSummary(y_train, lr.predict(X_train))"
   ]
  },
  {
   "cell_type": "code",
   "execution_count": 35,
   "metadata": {
    "colab": {
     "base_uri": "https://localhost:8080/"
    },
    "id": "Fs6nvru7YrYd",
    "outputId": "82f086a9-1b04-4f25-8308-5ee3b5825ea5"
   },
   "outputs": [
    {
     "name": "stdout",
     "output_type": "stream",
     "text": [
      "Confusion Matrix (Accuracy 0.5317)\n",
      "\n",
      "       Prediction\n",
      "Actual     0     1\n",
      "     0 11547     6\n",
      "     1 10168     4\n"
     ]
    }
   ],
   "source": [
    "classificationSummary(y_valid, lr.predict(X_valid))"
   ]
  },
  {
   "cell_type": "code",
   "execution_count": 36,
   "metadata": {
    "id": "kf8SSvJ5Y20B"
   },
   "outputs": [],
   "source": [
    "voter_ids = X_valid['VOTER_ID']\n",
    "model_scores = lr.predict_proba(X_valid)[:, 1] * 100\n",
    "output = pd.DataFrame({'VOTER_ID': voter_ids, 'model_score': model_scores, 'partisanship': y_valid})"
   ]
  },
  {
   "cell_type": "code",
   "execution_count": 37,
   "metadata": {
    "colab": {
     "base_uri": "https://localhost:8080/"
    },
    "id": "YWbWWHn7x6me",
    "outputId": "2cde1fe1-ccea-4d68-9a2e-e13b4785b544"
   },
   "outputs": [
    {
     "data": {
      "text/plain": [
       "42.4405340233531"
      ]
     },
     "execution_count": 37,
     "metadata": {},
     "output_type": "execute_result"
    }
   ],
   "source": [
    "output['model_score'].min()"
   ]
  },
  {
   "cell_type": "code",
   "execution_count": 38,
   "metadata": {
    "colab": {
     "base_uri": "https://localhost:8080/"
    },
    "id": "4vtQYx7Vx69k",
    "outputId": "4ce040cd-79b0-4a24-cbde-1e8ef94e736c"
   },
   "outputs": [
    {
     "data": {
      "text/plain": [
       "50.71249155731452"
      ]
     },
     "execution_count": 38,
     "metadata": {},
     "output_type": "execute_result"
    }
   ],
   "source": [
    "output['model_score'].max()"
   ]
  },
  {
   "cell_type": "code",
   "execution_count": 39,
   "metadata": {
    "colab": {
     "base_uri": "https://localhost:8080/"
    },
    "id": "U0rpIypFx7RB",
    "outputId": "24403e9d-ee96-452f-e5be-e836d4975fb5"
   },
   "outputs": [
    {
     "data": {
      "text/plain": [
       "48.075866    1\n",
       "49.414825    1\n",
       "47.911459    1\n",
       "45.621799    1\n",
       "47.753229    1\n",
       "            ..\n",
       "48.379408    1\n",
       "47.510973    1\n",
       "47.099470    1\n",
       "45.622787    1\n",
       "48.251537    1\n",
       "Name: model_score, Length: 21725, dtype: int64"
      ]
     },
     "execution_count": 39,
     "metadata": {},
     "output_type": "execute_result"
    }
   ],
   "source": [
    "output['model_score'].value_counts()"
   ]
  },
  {
   "cell_type": "code",
   "execution_count": 40,
   "metadata": {
    "id": "ItuFgk6PJQ9-"
   },
   "outputs": [],
   "source": [
    "# introduce a small amount of noise in order to prevent an error that arises when bin edges are not unique\n",
    "output['model_score'] += np.random.normal(0, 0.0001, len(output))"
   ]
  },
  {
   "cell_type": "code",
   "execution_count": 41,
   "metadata": {
    "colab": {
     "base_uri": "https://localhost:8080/"
    },
    "id": "xfdWaXB0JR30",
    "outputId": "47588109-5a3f-47fc-9496-93711d63cbcb"
   },
   "outputs": [
    {
     "name": "stdout",
     "output_type": "stream",
     "text": [
      "       VOTER_ID  model_score  partisanship    quintile\n",
      "28035    324817    48.075902             1  Quintile 3\n",
      "21205    346173    48.040476             1  Quintile 3\n",
      "39319    206216    47.913450             0  Quintile 3\n",
      "23432    278908    47.965127             0  Quintile 3\n",
      "2951     585259    47.791430             0  Quintile 3\n"
     ]
    }
   ],
   "source": [
    "output['quintile'] = pd.qcut(output['model_score'], q=5, labels=['Quintile 1', 'Quintile 2', 'Quintile 3', 'Quintile 4', 'Quintile 5'])\n",
    "\n",
    "print(output.head())"
   ]
  },
  {
   "cell_type": "code",
   "execution_count": 42,
   "metadata": {
    "id": "1gu5uq4CJUv-"
   },
   "outputs": [],
   "source": [
    "# calculate y percentage for each quantile in the test set\n",
    "test_set_y_percent = output.groupby('quintile')['partisanship'].mean()"
   ]
  },
  {
   "cell_type": "code",
   "execution_count": 43,
   "metadata": {
    "id": "HMLzd2qDJXS9"
   },
   "outputs": [],
   "source": [
    "# calculate y percentage for the whole test set\n",
    "test_set_y_total_percent = y_valid.mean()"
   ]
  },
  {
   "cell_type": "code",
   "execution_count": 44,
   "metadata": {
    "colab": {
     "base_uri": "https://localhost:8080/"
    },
    "id": "w-DYo78wJZ5O",
    "outputId": "82daac45-3fd6-4676-ddf9-0f0f95c3af07"
   },
   "outputs": [
    {
     "name": "stdout",
     "output_type": "stream",
     "text": [
      "quintile\n",
      "Quintile 1    0.464212\n",
      "Quintile 2    0.468354\n",
      "Quintile 3    0.461680\n",
      "Quintile 4    0.479402\n",
      "Quintile 5    0.467434\n",
      "Name: partisanship, dtype: float64\n",
      "Test set Y percentage for entire test set: 0.46821634062140394\n"
     ]
    }
   ],
   "source": [
    "print(test_set_y_percent)\n",
    "print('Test set Y percentage for entire test set:', test_set_y_total_percent)"
   ]
  },
  {
   "cell_type": "code",
   "execution_count": 45,
   "metadata": {
    "id": "Cb3GZ0JfJdRh"
   },
   "outputs": [],
   "source": [
    "lift = test_set_y_percent / test_set_y_total_percent"
   ]
  },
  {
   "cell_type": "code",
   "execution_count": 46,
   "metadata": {
    "colab": {
     "base_uri": "https://localhost:8080/"
    },
    "id": "fTzGd99vNszf",
    "outputId": "b1fe0a9b-5cf4-4896-9900-ef7caa59ffde"
   },
   "outputs": [
    {
     "name": "stdout",
     "output_type": "stream",
     "text": [
      "quintile\n",
      "Quintile 1    0.991447\n",
      "Quintile 2    1.000295\n",
      "Quintile 3    0.986040\n",
      "Quintile 4    1.023889\n",
      "Quintile 5    0.998329\n",
      "Name: partisanship, dtype: float64\n"
     ]
    }
   ],
   "source": [
    "# Question 1 answer:\n",
    "print(lift)"
   ]
  },
  {
   "cell_type": "code",
   "execution_count": 47,
   "metadata": {
    "id": "qiRadVsvN7wc"
   },
   "outputs": [],
   "source": [
    "# Question 2 answer: combine two models into an ensemble to make predictions\n",
    "# gather predictions to combine into an ensemble model\n",
    "dtc_predictions = dtc.predict(X_valid)\n",
    "lr_predictions = lr.predict(X_valid)\n",
    "dtc_scores = dtc.predict_proba(X_valid)[:, 1] * 100\n",
    "lr_scores = lr.predict_proba(X_valid)[:, 1] * 100\n",
    "\n",
    "# assign weights to each model based on their accuracy\n",
    "dtc_weight = 0.55\n",
    "lr_weight = 0.45\n",
    "\n",
    "# combine predictions using a weighted average\n",
    "ensemble_predictions = (dtc_weight * dtc_predictions) + (lr_weight * lr_predictions)\n",
    "ensemble_scores = (dtc_weight * dtc_scores) + (lr_weight * lr_scores)\n",
    "\n",
    "# set threshold for final prediction\n",
    "threshold = 0.5\n",
    "\n",
    "# generate final predictions based on the threshold\n",
    "final_predictions = np.where(ensemble_predictions > threshold, 1, 0)\n"
   ]
  },
  {
   "cell_type": "code",
   "execution_count": 48,
   "metadata": {
    "colab": {
     "base_uri": "https://localhost:8080/"
    },
    "id": "qRf5NcRCQd1Y",
    "outputId": "55ca6e44-5635-4731-8883-efd4c1b7c392"
   },
   "outputs": [
    {
     "name": "stdout",
     "output_type": "stream",
     "text": [
      "Confusion Matrix (Accuracy 0.5481)\n",
      "\n",
      "       Prediction\n",
      "Actual    0    1\n",
      "     0 7306 4247\n",
      "     1 5571 4601\n"
     ]
    }
   ],
   "source": [
    "classificationSummary(y_valid, final_predictions)"
   ]
  },
  {
   "cell_type": "code",
   "execution_count": 49,
   "metadata": {
    "id": "Ep4nRrVRTVC9"
   },
   "outputs": [],
   "source": [
    "voter_ids = X_valid['VOTER_ID']\n",
    "model_scores = ensemble_predictions * 100\n",
    "output = pd.DataFrame({'VOTER_ID': voter_ids, 'model_score': ensemble_scores, 'partisanship': y_valid})"
   ]
  },
  {
   "cell_type": "code",
   "execution_count": 50,
   "metadata": {
    "colab": {
     "base_uri": "https://localhost:8080/"
    },
    "id": "KJDcDyvHWVOj",
    "outputId": "3d6003bb-ccb6-41cb-928d-5adfc6ad5e1a"
   },
   "outputs": [
    {
     "data": {
      "text/plain": [
       "76.634140    1\n",
       "22.236671    1\n",
       "21.560157    1\n",
       "22.921114    1\n",
       "76.488953    1\n",
       "            ..\n",
       "21.770734    1\n",
       "43.996426    1\n",
       "21.194761    1\n",
       "40.995370    1\n",
       "44.329679    1\n",
       "Name: model_score, Length: 21725, dtype: int64"
      ]
     },
     "execution_count": 50,
     "metadata": {},
     "output_type": "execute_result"
    }
   ],
   "source": [
    "output['model_score'].value_counts()"
   ]
  },
  {
   "cell_type": "code",
   "execution_count": 51,
   "metadata": {
    "id": "_ntubXpBVvkz"
   },
   "outputs": [],
   "source": [
    "# introduce a small amount of noise in order to prevent an error that arises when bin edges are not unique\n",
    "output['model_score'] += np.random.normal(0, 0.0001, len(output))"
   ]
  },
  {
   "cell_type": "code",
   "execution_count": 52,
   "metadata": {
    "colab": {
     "base_uri": "https://localhost:8080/"
    },
    "id": "rzVXufP6WSik",
    "outputId": "55ae872f-59d8-40a7-9409-f96c2aa5417b"
   },
   "outputs": [
    {
     "name": "stdout",
     "output_type": "stream",
     "text": [
      "       VOTER_ID  model_score  partisanship    quintile\n",
      "28035    324817    76.634246             1  Quintile 5\n",
      "21205    346173    52.043600             1  Quintile 4\n",
      "39319    206216    44.177514             0  Quintile 3\n",
      "23432    278908    21.584361             0  Quintile 1\n",
      "2951     585259    44.122687             0  Quintile 3\n"
     ]
    }
   ],
   "source": [
    "output['quintile'] = pd.qcut(output['model_score'], q=5, labels=['Quintile 1', 'Quintile 2', 'Quintile 3', 'Quintile 4', 'Quintile 5'])\n",
    "\n",
    "print(output.head())"
   ]
  },
  {
   "cell_type": "code",
   "execution_count": 53,
   "metadata": {
    "id": "oysfM6RtYK1e"
   },
   "outputs": [],
   "source": [
    "# calculate y percentage for each quantile in the test set\n",
    "test_set_y_percent = output.groupby('quintile')['partisanship'].mean()"
   ]
  },
  {
   "cell_type": "code",
   "execution_count": 54,
   "metadata": {
    "id": "1MbS7SjfYRAO"
   },
   "outputs": [],
   "source": [
    "# calculate y percentage for the whole test set\n",
    "test_set_y_total_percent = y_valid.mean()"
   ]
  },
  {
   "cell_type": "code",
   "execution_count": 55,
   "metadata": {
    "colab": {
     "base_uri": "https://localhost:8080/"
    },
    "id": "lqdlpC1AYRkk",
    "outputId": "2210f111-5f7a-403c-c8e7-7e51dbc38b00"
   },
   "outputs": [
    {
     "name": "stdout",
     "output_type": "stream",
     "text": [
      "quintile\n",
      "Quintile 1    0.466743\n",
      "Quintile 2    0.415880\n",
      "Quintile 3    0.414960\n",
      "Quintile 4    0.510702\n",
      "Quintile 5    0.532796\n",
      "Name: partisanship, dtype: float64\n",
      "Test set Y percentage for entire test set: 0.46821634062140394\n"
     ]
    }
   ],
   "source": [
    "print(test_set_y_percent)\n",
    "print('Test set Y percentage for entire test set:', test_set_y_total_percent)"
   ]
  },
  {
   "cell_type": "code",
   "execution_count": 56,
   "metadata": {
    "id": "LUG-ZJOTYXIm"
   },
   "outputs": [],
   "source": [
    "lift = test_set_y_percent / test_set_y_total_percent"
   ]
  },
  {
   "cell_type": "code",
   "execution_count": 57,
   "metadata": {
    "colab": {
     "base_uri": "https://localhost:8080/"
    },
    "id": "Zg17F0YKYmj6",
    "outputId": "fe65c1c0-579b-4268-cbdf-34fbbc63ef58"
   },
   "outputs": [
    {
     "name": "stdout",
     "output_type": "stream",
     "text": [
      "quintile\n",
      "Quintile 1    0.996854\n",
      "Quintile 2    0.888223\n",
      "Quintile 3    0.886256\n",
      "Quintile 4    1.090739\n",
      "Quintile 5    1.137928\n",
      "Name: partisanship, dtype: float64\n"
     ]
    }
   ],
   "source": [
    "# Question 3 answer:\n",
    "print(lift)"
   ]
  },
  {
   "cell_type": "code",
   "execution_count": 58,
   "metadata": {
    "id": "1ZtVVUbbvmSs"
   },
   "outputs": [],
   "source": [
    "# create a model to predict candidate support rather than partisanship\n",
    "# load dataset\n",
    "voter_df = pd.read_csv('FX_indicators_2020.csv', on_bad_lines='skip')"
   ]
  },
  {
   "cell_type": "code",
   "execution_count": 59,
   "metadata": {
    "id": "d1aiYTcSxKfK"
   },
   "outputs": [],
   "source": [
    "voter_df = voter_df.replace({'Y': 1, 'N': 0})"
   ]
  },
  {
   "cell_type": "code",
   "execution_count": 60,
   "metadata": {
    "id": "fjaA468dw0nF"
   },
   "outputs": [],
   "source": [
    "numeric_cols = voter_df.select_dtypes(include=np.number).columns\n",
    "voter_df[numeric_cols] = voter_df[numeric_cols].fillna(voter_df[numeric_cols].mean())"
   ]
  },
  {
   "cell_type": "code",
   "execution_count": 61,
   "metadata": {
    "id": "toIMSPPixdQ8"
   },
   "outputs": [],
   "source": [
    "voter_df = voter_df.fillna(0)"
   ]
  },
  {
   "cell_type": "code",
   "execution_count": 62,
   "metadata": {
    "colab": {
     "base_uri": "https://localhost:8080/"
    },
    "id": "kIgLtOkgvpG7",
    "outputId": "fc3f208c-4b9e-4050-cc0e-78bbdf60546f"
   },
   "outputs": [
    {
     "data": {
      "text/plain": [
       "0     54433\n",
       "SR     6468\n",
       "SD     3556\n",
       "U      3429\n",
       "LR     1944\n",
       "LD     1455\n",
       "Name: CAND1S, dtype: int64"
      ]
     },
     "execution_count": 62,
     "metadata": {},
     "output_type": "execute_result"
    }
   ],
   "source": [
    "voter_df['CAND1S'].value_counts()"
   ]
  },
  {
   "cell_type": "code",
   "execution_count": 63,
   "metadata": {
    "id": "3WCr_TmDlaBQ"
   },
   "outputs": [],
   "source": [
    "outcome = 'CAND1S'"
   ]
  },
  {
   "cell_type": "code",
   "execution_count": 64,
   "metadata": {
    "id": "QhZ9xIawsTmu"
   },
   "outputs": [],
   "source": [
    "X = pd.get_dummies(voter_df.drop(['CAND1S','CAND2S','CAND1_LD2','CAND1_UND', 'CAND1_SRA','CAND1_LRA','CAND1_SDA','CAND1_SFT','CAND1_LR2','CAND1_LDA','CAND1_SR2','CAND1_SD2'], axis=1))\n",
    "y = voter_df[outcome]"
   ]
  },
  {
   "cell_type": "code",
   "execution_count": 65,
   "metadata": {
    "id": "Itw0R30S4LPp"
   },
   "outputs": [],
   "source": [
    "le = LabelEncoder()\n",
    "\n",
    "y = y.astype(str)\n",
    "\n",
    "# fit the encoder to your categorical data\n",
    "le.fit(y)\n",
    "\n",
    "# transform your categorical data into numeric labels\n",
    "y_encoded = le.transform(y)"
   ]
  },
  {
   "cell_type": "code",
   "execution_count": 66,
   "metadata": {
    "id": "g57-IPVwsUDl"
   },
   "outputs": [],
   "source": [
    "# partition the data\n",
    "X_train, X_valid, y_train, y_valid = train_test_split(X, y, test_size = 0.4, random_state = 1)"
   ]
  },
  {
   "cell_type": "code",
   "execution_count": 67,
   "metadata": {
    "id": "kIKEyIJIsUV6"
   },
   "outputs": [],
   "source": [
    "dtc = DecisionTreeClassifier(max_depth = 20, random_state = 1)"
   ]
  },
  {
   "cell_type": "code",
   "execution_count": 68,
   "metadata": {
    "colab": {
     "base_uri": "https://localhost:8080/",
     "height": 75
    },
    "id": "2jwb0p7BsUmi",
    "outputId": "a3471746-a2ee-4be6-e0b2-dd5965ce8f68"
   },
   "outputs": [
    {
     "data": {
      "text/html": [
       "<style>#sk-container-id-3 {color: black;background-color: white;}#sk-container-id-3 pre{padding: 0;}#sk-container-id-3 div.sk-toggleable {background-color: white;}#sk-container-id-3 label.sk-toggleable__label {cursor: pointer;display: block;width: 100%;margin-bottom: 0;padding: 0.3em;box-sizing: border-box;text-align: center;}#sk-container-id-3 label.sk-toggleable__label-arrow:before {content: \"▸\";float: left;margin-right: 0.25em;color: #696969;}#sk-container-id-3 label.sk-toggleable__label-arrow:hover:before {color: black;}#sk-container-id-3 div.sk-estimator:hover label.sk-toggleable__label-arrow:before {color: black;}#sk-container-id-3 div.sk-toggleable__content {max-height: 0;max-width: 0;overflow: hidden;text-align: left;background-color: #f0f8ff;}#sk-container-id-3 div.sk-toggleable__content pre {margin: 0.2em;color: black;border-radius: 0.25em;background-color: #f0f8ff;}#sk-container-id-3 input.sk-toggleable__control:checked~div.sk-toggleable__content {max-height: 200px;max-width: 100%;overflow: auto;}#sk-container-id-3 input.sk-toggleable__control:checked~label.sk-toggleable__label-arrow:before {content: \"▾\";}#sk-container-id-3 div.sk-estimator input.sk-toggleable__control:checked~label.sk-toggleable__label {background-color: #d4ebff;}#sk-container-id-3 div.sk-label input.sk-toggleable__control:checked~label.sk-toggleable__label {background-color: #d4ebff;}#sk-container-id-3 input.sk-hidden--visually {border: 0;clip: rect(1px 1px 1px 1px);clip: rect(1px, 1px, 1px, 1px);height: 1px;margin: -1px;overflow: hidden;padding: 0;position: absolute;width: 1px;}#sk-container-id-3 div.sk-estimator {font-family: monospace;background-color: #f0f8ff;border: 1px dotted black;border-radius: 0.25em;box-sizing: border-box;margin-bottom: 0.5em;}#sk-container-id-3 div.sk-estimator:hover {background-color: #d4ebff;}#sk-container-id-3 div.sk-parallel-item::after {content: \"\";width: 100%;border-bottom: 1px solid gray;flex-grow: 1;}#sk-container-id-3 div.sk-label:hover label.sk-toggleable__label {background-color: #d4ebff;}#sk-container-id-3 div.sk-serial::before {content: \"\";position: absolute;border-left: 1px solid gray;box-sizing: border-box;top: 0;bottom: 0;left: 50%;z-index: 0;}#sk-container-id-3 div.sk-serial {display: flex;flex-direction: column;align-items: center;background-color: white;padding-right: 0.2em;padding-left: 0.2em;position: relative;}#sk-container-id-3 div.sk-item {position: relative;z-index: 1;}#sk-container-id-3 div.sk-parallel {display: flex;align-items: stretch;justify-content: center;background-color: white;position: relative;}#sk-container-id-3 div.sk-item::before, #sk-container-id-3 div.sk-parallel-item::before {content: \"\";position: absolute;border-left: 1px solid gray;box-sizing: border-box;top: 0;bottom: 0;left: 50%;z-index: -1;}#sk-container-id-3 div.sk-parallel-item {display: flex;flex-direction: column;z-index: 1;position: relative;background-color: white;}#sk-container-id-3 div.sk-parallel-item:first-child::after {align-self: flex-end;width: 50%;}#sk-container-id-3 div.sk-parallel-item:last-child::after {align-self: flex-start;width: 50%;}#sk-container-id-3 div.sk-parallel-item:only-child::after {width: 0;}#sk-container-id-3 div.sk-dashed-wrapped {border: 1px dashed gray;margin: 0 0.4em 0.5em 0.4em;box-sizing: border-box;padding-bottom: 0.4em;background-color: white;}#sk-container-id-3 div.sk-label label {font-family: monospace;font-weight: bold;display: inline-block;line-height: 1.2em;}#sk-container-id-3 div.sk-label-container {text-align: center;}#sk-container-id-3 div.sk-container {/* jupyter's `normalize.less` sets `[hidden] { display: none; }` but bootstrap.min.css set `[hidden] { display: none !important; }` so we also need the `!important` here to be able to override the default hidden behavior on the sphinx rendered scikit-learn.org. See: https://github.com/scikit-learn/scikit-learn/issues/21755 */display: inline-block !important;position: relative;}#sk-container-id-3 div.sk-text-repr-fallback {display: none;}</style><div id=\"sk-container-id-3\" class=\"sk-top-container\"><div class=\"sk-text-repr-fallback\"><pre>DecisionTreeClassifier(max_depth=20, random_state=1)</pre><b>In a Jupyter environment, please rerun this cell to show the HTML representation or trust the notebook. <br />On GitHub, the HTML representation is unable to render, please try loading this page with nbviewer.org.</b></div><div class=\"sk-container\" hidden><div class=\"sk-item\"><div class=\"sk-estimator sk-toggleable\"><input class=\"sk-toggleable__control sk-hidden--visually\" id=\"sk-estimator-id-3\" type=\"checkbox\" checked><label for=\"sk-estimator-id-3\" class=\"sk-toggleable__label sk-toggleable__label-arrow\">DecisionTreeClassifier</label><div class=\"sk-toggleable__content\"><pre>DecisionTreeClassifier(max_depth=20, random_state=1)</pre></div></div></div></div></div>"
      ],
      "text/plain": [
       "DecisionTreeClassifier(max_depth=20, random_state=1)"
      ]
     },
     "execution_count": 68,
     "metadata": {},
     "output_type": "execute_result"
    }
   ],
   "source": [
    "# train the model\n",
    "dtc.fit(X_train, y_train)"
   ]
  },
  {
   "cell_type": "code",
   "execution_count": 69,
   "metadata": {
    "colab": {
     "base_uri": "https://localhost:8080/"
    },
    "id": "WOxpjHzmsU2a",
    "outputId": "cf10479b-f1ed-44ad-e54b-df5666169690"
   },
   "outputs": [
    {
     "name": "stdout",
     "output_type": "stream",
     "text": [
      "Confusion Matrix (Accuracy 0.9558)\n",
      "\n",
      "       Prediction\n",
      "Actual     0     1     2     3     4     5\n",
      "     0 32553     1     0     1     2     1\n",
      "     1   123   605     1    76    20    30\n",
      "     2   142     4   938    85    20    12\n",
      "     3   324    14     5  1764     8    16\n",
      "     4   402     5     5    96  3436    22\n",
      "     5   296    21     7   128    23  1585\n"
     ]
    }
   ],
   "source": [
    "classificationSummary(y_train, dtc.predict(X_train))"
   ]
  },
  {
   "cell_type": "code",
   "execution_count": 70,
   "metadata": {
    "colab": {
     "base_uri": "https://localhost:8080/"
    },
    "id": "Vhv8hO-WtHw4",
    "outputId": "77b7393e-1cbb-4dcb-a8b8-ff31d73e64bb"
   },
   "outputs": [
    {
     "name": "stdout",
     "output_type": "stream",
     "text": [
      "Confusion Matrix (Accuracy 0.8690)\n",
      "\n",
      "       Prediction\n",
      "Actual     0     1     2     3     4     5\n",
      "     0 21348    45    49    53   302    78\n",
      "     1   114   148    26    97    55   160\n",
      "     2   123    13   275    85   162    85\n",
      "     3   261    48    34   897    67   118\n",
      "     4   439    53   147   150  1538   175\n",
      "     5   233   148    93   162   161   572\n"
     ]
    }
   ],
   "source": [
    "#Question 4 answer:\n",
    "classificationSummary(y_valid, dtc.predict(X_valid))"
   ]
  },
  {
   "cell_type": "code",
   "execution_count": 71,
   "metadata": {
    "id": "LJXaaEhmtImv"
   },
   "outputs": [],
   "source": [
    "importances = dtc.feature_importances_"
   ]
  },
  {
   "cell_type": "code",
   "execution_count": 72,
   "metadata": {
    "colab": {
     "base_uri": "https://localhost:8080/"
    },
    "id": "x8y7026FtI7i",
    "outputId": "5527849f-b53d-4958-c4e1-b4b9b2ce83fb"
   },
   "outputs": [
    {
     "name": "stdout",
     "output_type": "stream",
     "text": [
      "        feature  importance\n",
      "118   CAND2_SR2    0.000000\n",
      "137  MOVED_ADMB    0.000000\n",
      "136  MOVED_AWMB    0.000000\n",
      "134  MOVED_RDMB    0.000000\n",
      "133  MOVED_ARMA    0.000000\n",
      "..          ...         ...\n",
      "114   CAND2_SD2    0.032012\n",
      "119   CAND2_SRA    0.032264\n",
      "125    MOVED_AW    0.058271\n",
      "124    MOVED_DR    0.119631\n",
      "139   MESSAGE_0    0.411576\n",
      "\n",
      "[142 rows x 2 columns]\n"
     ]
    }
   ],
   "source": [
    "importance_df = pd.DataFrame({'feature': X_train.columns, 'importance':importances})\n",
    "importance_df = importance_df.sort_values('importance')\n",
    "print(importance_df)"
   ]
  },
  {
   "cell_type": "code",
   "execution_count": 73,
   "metadata": {
    "id": "5UFSfONktb9h"
   },
   "outputs": [],
   "source": [
    "# Question 5: Build a model predicting persuadability. \n",
    "# I decided to use the MOVED_AW column as the dependent variable"
   ]
  },
  {
   "cell_type": "code",
   "execution_count": 74,
   "metadata": {
    "id": "9nDrxbALtcVk"
   },
   "outputs": [],
   "source": [
    "outcome = 'MOVED_AW'"
   ]
  },
  {
   "cell_type": "code",
   "execution_count": 75,
   "metadata": {
    "id": "OxIYtHoytc_C"
   },
   "outputs": [],
   "source": [
    "X = pd.get_dummies(voter_df.drop(['CAND2S','MOVED_AW','MOVED_RD','MOVED_DR','MOVED_U','MOVED_AD','MOVED_AR','MOVED_RDMA','MOVED_DRMA','MOVED_AWMA','MOVED_ADMA','MOVED_ARMA','MOVED_RDMB','MOVED_DRMB','MOVED_AWMB','MOVED_ADMB','MOVED_ARMB','CAND2_UND','CAND2_SD2','CAND2_SDA','CAND2_LD2','CAND2_LDA','CAND2_SR2','CAND2_SRA','CAND2_LRA','CAND2_LR2','CAND2_SFT'], axis=1))\n",
    "y = voter_df[outcome].astype('int')"
   ]
  },
  {
   "cell_type": "code",
   "execution_count": 76,
   "metadata": {
    "id": "eFfInyScfadB"
   },
   "outputs": [],
   "source": [
    "# partition the data\n",
    "X_train, X_valid, y_train, y_valid = train_test_split(X, y, test_size = 0.4, random_state = 1)"
   ]
  },
  {
   "cell_type": "code",
   "execution_count": 77,
   "metadata": {
    "id": "sW-AOFaefata"
   },
   "outputs": [],
   "source": [
    "dtc = DecisionTreeClassifier(max_depth = 20, random_state = 1)"
   ]
  },
  {
   "cell_type": "code",
   "execution_count": 78,
   "metadata": {
    "colab": {
     "base_uri": "https://localhost:8080/",
     "height": 75
    },
    "id": "xQ0h5rmofa7W",
    "outputId": "9eb593e8-ae0b-4ae3-87a9-63911d3c35e2"
   },
   "outputs": [
    {
     "data": {
      "text/html": [
       "<style>#sk-container-id-4 {color: black;background-color: white;}#sk-container-id-4 pre{padding: 0;}#sk-container-id-4 div.sk-toggleable {background-color: white;}#sk-container-id-4 label.sk-toggleable__label {cursor: pointer;display: block;width: 100%;margin-bottom: 0;padding: 0.3em;box-sizing: border-box;text-align: center;}#sk-container-id-4 label.sk-toggleable__label-arrow:before {content: \"▸\";float: left;margin-right: 0.25em;color: #696969;}#sk-container-id-4 label.sk-toggleable__label-arrow:hover:before {color: black;}#sk-container-id-4 div.sk-estimator:hover label.sk-toggleable__label-arrow:before {color: black;}#sk-container-id-4 div.sk-toggleable__content {max-height: 0;max-width: 0;overflow: hidden;text-align: left;background-color: #f0f8ff;}#sk-container-id-4 div.sk-toggleable__content pre {margin: 0.2em;color: black;border-radius: 0.25em;background-color: #f0f8ff;}#sk-container-id-4 input.sk-toggleable__control:checked~div.sk-toggleable__content {max-height: 200px;max-width: 100%;overflow: auto;}#sk-container-id-4 input.sk-toggleable__control:checked~label.sk-toggleable__label-arrow:before {content: \"▾\";}#sk-container-id-4 div.sk-estimator input.sk-toggleable__control:checked~label.sk-toggleable__label {background-color: #d4ebff;}#sk-container-id-4 div.sk-label input.sk-toggleable__control:checked~label.sk-toggleable__label {background-color: #d4ebff;}#sk-container-id-4 input.sk-hidden--visually {border: 0;clip: rect(1px 1px 1px 1px);clip: rect(1px, 1px, 1px, 1px);height: 1px;margin: -1px;overflow: hidden;padding: 0;position: absolute;width: 1px;}#sk-container-id-4 div.sk-estimator {font-family: monospace;background-color: #f0f8ff;border: 1px dotted black;border-radius: 0.25em;box-sizing: border-box;margin-bottom: 0.5em;}#sk-container-id-4 div.sk-estimator:hover {background-color: #d4ebff;}#sk-container-id-4 div.sk-parallel-item::after {content: \"\";width: 100%;border-bottom: 1px solid gray;flex-grow: 1;}#sk-container-id-4 div.sk-label:hover label.sk-toggleable__label {background-color: #d4ebff;}#sk-container-id-4 div.sk-serial::before {content: \"\";position: absolute;border-left: 1px solid gray;box-sizing: border-box;top: 0;bottom: 0;left: 50%;z-index: 0;}#sk-container-id-4 div.sk-serial {display: flex;flex-direction: column;align-items: center;background-color: white;padding-right: 0.2em;padding-left: 0.2em;position: relative;}#sk-container-id-4 div.sk-item {position: relative;z-index: 1;}#sk-container-id-4 div.sk-parallel {display: flex;align-items: stretch;justify-content: center;background-color: white;position: relative;}#sk-container-id-4 div.sk-item::before, #sk-container-id-4 div.sk-parallel-item::before {content: \"\";position: absolute;border-left: 1px solid gray;box-sizing: border-box;top: 0;bottom: 0;left: 50%;z-index: -1;}#sk-container-id-4 div.sk-parallel-item {display: flex;flex-direction: column;z-index: 1;position: relative;background-color: white;}#sk-container-id-4 div.sk-parallel-item:first-child::after {align-self: flex-end;width: 50%;}#sk-container-id-4 div.sk-parallel-item:last-child::after {align-self: flex-start;width: 50%;}#sk-container-id-4 div.sk-parallel-item:only-child::after {width: 0;}#sk-container-id-4 div.sk-dashed-wrapped {border: 1px dashed gray;margin: 0 0.4em 0.5em 0.4em;box-sizing: border-box;padding-bottom: 0.4em;background-color: white;}#sk-container-id-4 div.sk-label label {font-family: monospace;font-weight: bold;display: inline-block;line-height: 1.2em;}#sk-container-id-4 div.sk-label-container {text-align: center;}#sk-container-id-4 div.sk-container {/* jupyter's `normalize.less` sets `[hidden] { display: none; }` but bootstrap.min.css set `[hidden] { display: none !important; }` so we also need the `!important` here to be able to override the default hidden behavior on the sphinx rendered scikit-learn.org. See: https://github.com/scikit-learn/scikit-learn/issues/21755 */display: inline-block !important;position: relative;}#sk-container-id-4 div.sk-text-repr-fallback {display: none;}</style><div id=\"sk-container-id-4\" class=\"sk-top-container\"><div class=\"sk-text-repr-fallback\"><pre>DecisionTreeClassifier(max_depth=20, random_state=1)</pre><b>In a Jupyter environment, please rerun this cell to show the HTML representation or trust the notebook. <br />On GitHub, the HTML representation is unable to render, please try loading this page with nbviewer.org.</b></div><div class=\"sk-container\" hidden><div class=\"sk-item\"><div class=\"sk-estimator sk-toggleable\"><input class=\"sk-toggleable__control sk-hidden--visually\" id=\"sk-estimator-id-4\" type=\"checkbox\" checked><label for=\"sk-estimator-id-4\" class=\"sk-toggleable__label sk-toggleable__label-arrow\">DecisionTreeClassifier</label><div class=\"sk-toggleable__content\"><pre>DecisionTreeClassifier(max_depth=20, random_state=1)</pre></div></div></div></div></div>"
      ],
      "text/plain": [
       "DecisionTreeClassifier(max_depth=20, random_state=1)"
      ]
     },
     "execution_count": 78,
     "metadata": {},
     "output_type": "execute_result"
    }
   ],
   "source": [
    "# train the model\n",
    "dtc.fit(X_train, y_train)"
   ]
  },
  {
   "cell_type": "code",
   "execution_count": 79,
   "metadata": {
    "colab": {
     "base_uri": "https://localhost:8080/"
    },
    "id": "AWMi1FrNfbKM",
    "outputId": "0e4b1fb5-a303-42db-95cd-0d4b57960be6"
   },
   "outputs": [
    {
     "name": "stdout",
     "output_type": "stream",
     "text": [
      "Confusion Matrix (Accuracy 0.9882)\n",
      "\n",
      "       Prediction\n",
      "Actual     0     1\n",
      "     0 40872    60\n",
      "     1   445  1394\n"
     ]
    }
   ],
   "source": [
    "classificationSummary(y_train, dtc.predict(X_train))"
   ]
  },
  {
   "cell_type": "code",
   "execution_count": 80,
   "metadata": {
    "colab": {
     "base_uri": "https://localhost:8080/"
    },
    "id": "wo3tJk2WfbYL",
    "outputId": "c2b59559-b660-4ede-e9fa-5151bb222d7c"
   },
   "outputs": [
    {
     "name": "stdout",
     "output_type": "stream",
     "text": [
      "Confusion Matrix (Accuracy 0.9478)\n",
      "\n",
      "       Prediction\n",
      "Actual     0     1\n",
      "     0 26664   660\n",
      "     1   829   361\n"
     ]
    }
   ],
   "source": [
    "classificationSummary(y_valid, dtc.predict(X_valid))"
   ]
  },
  {
   "cell_type": "code",
   "execution_count": 81,
   "metadata": {
    "id": "x2nP_jkWgCzI"
   },
   "outputs": [],
   "source": [
    "importances = dtc.feature_importances_"
   ]
  },
  {
   "cell_type": "code",
   "execution_count": 82,
   "metadata": {
    "colab": {
     "base_uri": "https://localhost:8080/"
    },
    "id": "d3Bnsg3RgDHY",
    "outputId": "bce41017-67c0-4fb0-b4f9-b1f15f8fcc5d"
   },
   "outputs": [
    {
     "name": "stdout",
     "output_type": "stream",
     "text": [
      "        feature  importance\n",
      "15     NH_OTHER    0.000000\n",
      "43    H_AFDLN3P    0.000000\n",
      "96   CULINARYIN    0.000000\n",
      "52    H_MFSLN3P    0.000000\n",
      "55     H_MMSLN2    0.000000\n",
      "..          ...         ...\n",
      "103    PRS16_PD    0.034227\n",
      "3           AGE    0.037160\n",
      "87     REG_DAYS    0.054434\n",
      "0      VOTER_ID    0.062762\n",
      "122   CAND1_SFT    0.381837\n",
      "\n",
      "[132 rows x 2 columns]\n"
     ]
    }
   ],
   "source": [
    "importance_df = pd.DataFrame({'feature': X_train.columns, 'importance':importances})\n",
    "importance_df = importance_df.sort_values('importance')\n",
    "print(importance_df)"
   ]
  },
  {
   "cell_type": "code",
   "execution_count": 83,
   "metadata": {
    "id": "1FCG6i7UgDWG"
   },
   "outputs": [],
   "source": [
    "# Question 6: Build two uplift models predicting how likely it is that a voter will become more likely to support the Democratic candidate based on the test mailings for message A and message B. \n",
    "# I decided to use the MOVED_ADMA and MOVED_ADMB columns as the dependent variables"
   ]
  },
  {
   "cell_type": "code",
   "execution_count": 84,
   "metadata": {
    "id": "9kql5C_sIZCl"
   },
   "outputs": [],
   "source": [
    "# first, the model predicting motion after receiving message A\n",
    "outcome = 'MOVED_ADMA'"
   ]
  },
  {
   "cell_type": "code",
   "execution_count": 85,
   "metadata": {
    "id": "fRPTTJqkIe7D"
   },
   "outputs": [],
   "source": [
    "X = pd.get_dummies(voter_df.drop(['CAND2S','MOVED_AW','MOVED_RD','MOVED_DR','MOVED_U','MOVED_AD','MOVED_AR','MOVED_RDMA','MOVED_DRMA','MOVED_AWMA','MOVED_ADMA','MOVED_ARMA','MOVED_RDMB','MOVED_DRMB','MOVED_AWMB','MOVED_ADMB','MOVED_ARMB','CAND2_UND','CAND2_SD2','CAND2_SDA','CAND2_LD2','CAND2_LDA','CAND2_SR2','CAND2_SRA','CAND2_LRA','CAND2_LR2','CAND2_SFT'], axis=1))\n",
    "y = voter_df[outcome].astype('int')"
   ]
  },
  {
   "cell_type": "code",
   "execution_count": 86,
   "metadata": {
    "id": "UaCpkcTxIfLm"
   },
   "outputs": [],
   "source": [
    "# partition the data\n",
    "X_train, X_valid, y_train, y_valid = train_test_split(X, y, test_size = 0.4, random_state = 1)"
   ]
  },
  {
   "cell_type": "code",
   "execution_count": 87,
   "metadata": {
    "id": "yi4LJrwAIfZt"
   },
   "outputs": [],
   "source": [
    "dtc = DecisionTreeClassifier(max_depth = 20, random_state = 1)"
   ]
  },
  {
   "cell_type": "code",
   "execution_count": 88,
   "metadata": {
    "colab": {
     "base_uri": "https://localhost:8080/",
     "height": 75
    },
    "id": "VktrYMF3Igqn",
    "outputId": "68ee42b2-e91d-44f2-c0d2-f086410f381d"
   },
   "outputs": [
    {
     "data": {
      "text/html": [
       "<style>#sk-container-id-5 {color: black;background-color: white;}#sk-container-id-5 pre{padding: 0;}#sk-container-id-5 div.sk-toggleable {background-color: white;}#sk-container-id-5 label.sk-toggleable__label {cursor: pointer;display: block;width: 100%;margin-bottom: 0;padding: 0.3em;box-sizing: border-box;text-align: center;}#sk-container-id-5 label.sk-toggleable__label-arrow:before {content: \"▸\";float: left;margin-right: 0.25em;color: #696969;}#sk-container-id-5 label.sk-toggleable__label-arrow:hover:before {color: black;}#sk-container-id-5 div.sk-estimator:hover label.sk-toggleable__label-arrow:before {color: black;}#sk-container-id-5 div.sk-toggleable__content {max-height: 0;max-width: 0;overflow: hidden;text-align: left;background-color: #f0f8ff;}#sk-container-id-5 div.sk-toggleable__content pre {margin: 0.2em;color: black;border-radius: 0.25em;background-color: #f0f8ff;}#sk-container-id-5 input.sk-toggleable__control:checked~div.sk-toggleable__content {max-height: 200px;max-width: 100%;overflow: auto;}#sk-container-id-5 input.sk-toggleable__control:checked~label.sk-toggleable__label-arrow:before {content: \"▾\";}#sk-container-id-5 div.sk-estimator input.sk-toggleable__control:checked~label.sk-toggleable__label {background-color: #d4ebff;}#sk-container-id-5 div.sk-label input.sk-toggleable__control:checked~label.sk-toggleable__label {background-color: #d4ebff;}#sk-container-id-5 input.sk-hidden--visually {border: 0;clip: rect(1px 1px 1px 1px);clip: rect(1px, 1px, 1px, 1px);height: 1px;margin: -1px;overflow: hidden;padding: 0;position: absolute;width: 1px;}#sk-container-id-5 div.sk-estimator {font-family: monospace;background-color: #f0f8ff;border: 1px dotted black;border-radius: 0.25em;box-sizing: border-box;margin-bottom: 0.5em;}#sk-container-id-5 div.sk-estimator:hover {background-color: #d4ebff;}#sk-container-id-5 div.sk-parallel-item::after {content: \"\";width: 100%;border-bottom: 1px solid gray;flex-grow: 1;}#sk-container-id-5 div.sk-label:hover label.sk-toggleable__label {background-color: #d4ebff;}#sk-container-id-5 div.sk-serial::before {content: \"\";position: absolute;border-left: 1px solid gray;box-sizing: border-box;top: 0;bottom: 0;left: 50%;z-index: 0;}#sk-container-id-5 div.sk-serial {display: flex;flex-direction: column;align-items: center;background-color: white;padding-right: 0.2em;padding-left: 0.2em;position: relative;}#sk-container-id-5 div.sk-item {position: relative;z-index: 1;}#sk-container-id-5 div.sk-parallel {display: flex;align-items: stretch;justify-content: center;background-color: white;position: relative;}#sk-container-id-5 div.sk-item::before, #sk-container-id-5 div.sk-parallel-item::before {content: \"\";position: absolute;border-left: 1px solid gray;box-sizing: border-box;top: 0;bottom: 0;left: 50%;z-index: -1;}#sk-container-id-5 div.sk-parallel-item {display: flex;flex-direction: column;z-index: 1;position: relative;background-color: white;}#sk-container-id-5 div.sk-parallel-item:first-child::after {align-self: flex-end;width: 50%;}#sk-container-id-5 div.sk-parallel-item:last-child::after {align-self: flex-start;width: 50%;}#sk-container-id-5 div.sk-parallel-item:only-child::after {width: 0;}#sk-container-id-5 div.sk-dashed-wrapped {border: 1px dashed gray;margin: 0 0.4em 0.5em 0.4em;box-sizing: border-box;padding-bottom: 0.4em;background-color: white;}#sk-container-id-5 div.sk-label label {font-family: monospace;font-weight: bold;display: inline-block;line-height: 1.2em;}#sk-container-id-5 div.sk-label-container {text-align: center;}#sk-container-id-5 div.sk-container {/* jupyter's `normalize.less` sets `[hidden] { display: none; }` but bootstrap.min.css set `[hidden] { display: none !important; }` so we also need the `!important` here to be able to override the default hidden behavior on the sphinx rendered scikit-learn.org. See: https://github.com/scikit-learn/scikit-learn/issues/21755 */display: inline-block !important;position: relative;}#sk-container-id-5 div.sk-text-repr-fallback {display: none;}</style><div id=\"sk-container-id-5\" class=\"sk-top-container\"><div class=\"sk-text-repr-fallback\"><pre>DecisionTreeClassifier(max_depth=20, random_state=1)</pre><b>In a Jupyter environment, please rerun this cell to show the HTML representation or trust the notebook. <br />On GitHub, the HTML representation is unable to render, please try loading this page with nbviewer.org.</b></div><div class=\"sk-container\" hidden><div class=\"sk-item\"><div class=\"sk-estimator sk-toggleable\"><input class=\"sk-toggleable__control sk-hidden--visually\" id=\"sk-estimator-id-5\" type=\"checkbox\" checked><label for=\"sk-estimator-id-5\" class=\"sk-toggleable__label sk-toggleable__label-arrow\">DecisionTreeClassifier</label><div class=\"sk-toggleable__content\"><pre>DecisionTreeClassifier(max_depth=20, random_state=1)</pre></div></div></div></div></div>"
      ],
      "text/plain": [
       "DecisionTreeClassifier(max_depth=20, random_state=1)"
      ]
     },
     "execution_count": 88,
     "metadata": {},
     "output_type": "execute_result"
    }
   ],
   "source": [
    "# train the model\n",
    "dtc.fit(X_train, y_train)"
   ]
  },
  {
   "cell_type": "code",
   "execution_count": 89,
   "metadata": {
    "colab": {
     "base_uri": "https://localhost:8080/"
    },
    "id": "wNMlP79dIgk1",
    "outputId": "94b2a2f4-2115-4aa6-cba6-d9b926e91b41"
   },
   "outputs": [
    {
     "name": "stdout",
     "output_type": "stream",
     "text": [
      "Confusion Matrix (Accuracy 0.9999)\n",
      "\n",
      "       Prediction\n",
      "Actual     0     1\n",
      "     0 42200     0\n",
      "     1     4   567\n"
     ]
    }
   ],
   "source": [
    "classificationSummary(y_train, dtc.predict(X_train))"
   ]
  },
  {
   "cell_type": "code",
   "execution_count": 90,
   "metadata": {
    "colab": {
     "base_uri": "https://localhost:8080/"
    },
    "id": "eMqFCysnIgcg",
    "outputId": "9e316aa6-ef5f-42e6-cb32-94a828c4d0a8"
   },
   "outputs": [
    {
     "name": "stdout",
     "output_type": "stream",
     "text": [
      "Confusion Matrix (Accuracy 0.9843)\n",
      "\n",
      "       Prediction\n",
      "Actual     0     1\n",
      "     0 27940   234\n",
      "     1   214   126\n"
     ]
    }
   ],
   "source": [
    "classificationSummary(y_valid, dtc.predict(X_valid))"
   ]
  },
  {
   "cell_type": "code",
   "execution_count": 91,
   "metadata": {
    "id": "sDAXy2GPIfnW"
   },
   "outputs": [],
   "source": [
    "importances = dtc.feature_importances_"
   ]
  },
  {
   "cell_type": "code",
   "execution_count": 92,
   "metadata": {
    "colab": {
     "base_uri": "https://localhost:8080/"
    },
    "id": "av9OqCCVIfxp",
    "outputId": "daedf284-55e7-4622-a547-83d2fcb62bdb"
   },
   "outputs": [
    {
     "name": "stdout",
     "output_type": "stream",
     "text": [
      "       feature  importance\n",
      "65       HHP_R    0.000000\n",
      "55    H_MMSLN2    0.000000\n",
      "61      HHP_DI    0.000000\n",
      "64      HHP_II    0.000000\n",
      "68      VPP_12    0.000000\n",
      "..         ...         ...\n",
      "87    REG_DAYS    0.044022\n",
      "0     VOTER_ID    0.075723\n",
      "3          AGE    0.083428\n",
      "122  CAND1_SFT    0.126497\n",
      "130  MESSAGE_A    0.157928\n",
      "\n",
      "[132 rows x 2 columns]\n"
     ]
    }
   ],
   "source": [
    "importance_df = pd.DataFrame({'feature': X_train.columns, 'importance':importances})\n",
    "importance_df = importance_df.sort_values('importance')\n",
    "print(importance_df)"
   ]
  },
  {
   "cell_type": "code",
   "execution_count": 93,
   "metadata": {
    "id": "JpOFdizYIgEO"
   },
   "outputs": [],
   "source": [
    "# next, the model predicting motion after receiving message B\n",
    "outcome = 'MOVED_ADMB'"
   ]
  },
  {
   "cell_type": "code",
   "execution_count": 94,
   "metadata": {
    "id": "pPMJBO_JJPOV"
   },
   "outputs": [],
   "source": [
    "X = pd.get_dummies(voter_df.drop(['CAND2S','MOVED_AW','MOVED_RD','MOVED_DR','MOVED_U','MOVED_AD','MOVED_AR','MOVED_RDMA','MOVED_DRMA','MOVED_AWMA','MOVED_ADMA','MOVED_ARMA','MOVED_RDMB','MOVED_DRMB','MOVED_AWMB','MOVED_ADMB','MOVED_ARMB','CAND2_UND','CAND2_SD2','CAND2_SDA','CAND2_LD2','CAND2_LDA','CAND2_SR2','CAND2_SRA','CAND2_LRA','CAND2_LR2','CAND2_SFT'], axis=1))\n",
    "y = voter_df[outcome].astype('int')"
   ]
  },
  {
   "cell_type": "code",
   "execution_count": 95,
   "metadata": {
    "id": "Tnzwl546JPL2"
   },
   "outputs": [],
   "source": [
    "# partition the data\n",
    "X_train, X_valid, y_train, y_valid = train_test_split(X, y, test_size = 0.4, random_state = 1)"
   ]
  },
  {
   "cell_type": "code",
   "execution_count": 96,
   "metadata": {
    "id": "3JaABsaXJPI-"
   },
   "outputs": [],
   "source": [
    "dtc = DecisionTreeClassifier(max_depth = 20, random_state = 1)"
   ]
  },
  {
   "cell_type": "code",
   "execution_count": 97,
   "metadata": {
    "colab": {
     "base_uri": "https://localhost:8080/",
     "height": 75
    },
    "id": "S3gzE4CIJPGB",
    "outputId": "e14833ba-406d-426b-8480-f952272d0e2e"
   },
   "outputs": [
    {
     "data": {
      "text/html": [
       "<style>#sk-container-id-6 {color: black;background-color: white;}#sk-container-id-6 pre{padding: 0;}#sk-container-id-6 div.sk-toggleable {background-color: white;}#sk-container-id-6 label.sk-toggleable__label {cursor: pointer;display: block;width: 100%;margin-bottom: 0;padding: 0.3em;box-sizing: border-box;text-align: center;}#sk-container-id-6 label.sk-toggleable__label-arrow:before {content: \"▸\";float: left;margin-right: 0.25em;color: #696969;}#sk-container-id-6 label.sk-toggleable__label-arrow:hover:before {color: black;}#sk-container-id-6 div.sk-estimator:hover label.sk-toggleable__label-arrow:before {color: black;}#sk-container-id-6 div.sk-toggleable__content {max-height: 0;max-width: 0;overflow: hidden;text-align: left;background-color: #f0f8ff;}#sk-container-id-6 div.sk-toggleable__content pre {margin: 0.2em;color: black;border-radius: 0.25em;background-color: #f0f8ff;}#sk-container-id-6 input.sk-toggleable__control:checked~div.sk-toggleable__content {max-height: 200px;max-width: 100%;overflow: auto;}#sk-container-id-6 input.sk-toggleable__control:checked~label.sk-toggleable__label-arrow:before {content: \"▾\";}#sk-container-id-6 div.sk-estimator input.sk-toggleable__control:checked~label.sk-toggleable__label {background-color: #d4ebff;}#sk-container-id-6 div.sk-label input.sk-toggleable__control:checked~label.sk-toggleable__label {background-color: #d4ebff;}#sk-container-id-6 input.sk-hidden--visually {border: 0;clip: rect(1px 1px 1px 1px);clip: rect(1px, 1px, 1px, 1px);height: 1px;margin: -1px;overflow: hidden;padding: 0;position: absolute;width: 1px;}#sk-container-id-6 div.sk-estimator {font-family: monospace;background-color: #f0f8ff;border: 1px dotted black;border-radius: 0.25em;box-sizing: border-box;margin-bottom: 0.5em;}#sk-container-id-6 div.sk-estimator:hover {background-color: #d4ebff;}#sk-container-id-6 div.sk-parallel-item::after {content: \"\";width: 100%;border-bottom: 1px solid gray;flex-grow: 1;}#sk-container-id-6 div.sk-label:hover label.sk-toggleable__label {background-color: #d4ebff;}#sk-container-id-6 div.sk-serial::before {content: \"\";position: absolute;border-left: 1px solid gray;box-sizing: border-box;top: 0;bottom: 0;left: 50%;z-index: 0;}#sk-container-id-6 div.sk-serial {display: flex;flex-direction: column;align-items: center;background-color: white;padding-right: 0.2em;padding-left: 0.2em;position: relative;}#sk-container-id-6 div.sk-item {position: relative;z-index: 1;}#sk-container-id-6 div.sk-parallel {display: flex;align-items: stretch;justify-content: center;background-color: white;position: relative;}#sk-container-id-6 div.sk-item::before, #sk-container-id-6 div.sk-parallel-item::before {content: \"\";position: absolute;border-left: 1px solid gray;box-sizing: border-box;top: 0;bottom: 0;left: 50%;z-index: -1;}#sk-container-id-6 div.sk-parallel-item {display: flex;flex-direction: column;z-index: 1;position: relative;background-color: white;}#sk-container-id-6 div.sk-parallel-item:first-child::after {align-self: flex-end;width: 50%;}#sk-container-id-6 div.sk-parallel-item:last-child::after {align-self: flex-start;width: 50%;}#sk-container-id-6 div.sk-parallel-item:only-child::after {width: 0;}#sk-container-id-6 div.sk-dashed-wrapped {border: 1px dashed gray;margin: 0 0.4em 0.5em 0.4em;box-sizing: border-box;padding-bottom: 0.4em;background-color: white;}#sk-container-id-6 div.sk-label label {font-family: monospace;font-weight: bold;display: inline-block;line-height: 1.2em;}#sk-container-id-6 div.sk-label-container {text-align: center;}#sk-container-id-6 div.sk-container {/* jupyter's `normalize.less` sets `[hidden] { display: none; }` but bootstrap.min.css set `[hidden] { display: none !important; }` so we also need the `!important` here to be able to override the default hidden behavior on the sphinx rendered scikit-learn.org. See: https://github.com/scikit-learn/scikit-learn/issues/21755 */display: inline-block !important;position: relative;}#sk-container-id-6 div.sk-text-repr-fallback {display: none;}</style><div id=\"sk-container-id-6\" class=\"sk-top-container\"><div class=\"sk-text-repr-fallback\"><pre>DecisionTreeClassifier(max_depth=20, random_state=1)</pre><b>In a Jupyter environment, please rerun this cell to show the HTML representation or trust the notebook. <br />On GitHub, the HTML representation is unable to render, please try loading this page with nbviewer.org.</b></div><div class=\"sk-container\" hidden><div class=\"sk-item\"><div class=\"sk-estimator sk-toggleable\"><input class=\"sk-toggleable__control sk-hidden--visually\" id=\"sk-estimator-id-6\" type=\"checkbox\" checked><label for=\"sk-estimator-id-6\" class=\"sk-toggleable__label sk-toggleable__label-arrow\">DecisionTreeClassifier</label><div class=\"sk-toggleable__content\"><pre>DecisionTreeClassifier(max_depth=20, random_state=1)</pre></div></div></div></div></div>"
      ],
      "text/plain": [
       "DecisionTreeClassifier(max_depth=20, random_state=1)"
      ]
     },
     "execution_count": 97,
     "metadata": {},
     "output_type": "execute_result"
    }
   ],
   "source": [
    "# train the model\n",
    "dtc.fit(X_train, y_train)"
   ]
  },
  {
   "cell_type": "code",
   "execution_count": 98,
   "metadata": {
    "colab": {
     "base_uri": "https://localhost:8080/"
    },
    "id": "QA5SN5POJPCz",
    "outputId": "eead9948-f3fc-4da6-9979-d526b01ea9f7"
   },
   "outputs": [
    {
     "name": "stdout",
     "output_type": "stream",
     "text": [
      "Confusion Matrix (Accuracy 1.0000)\n",
      "\n",
      "       Prediction\n",
      "Actual     0     1\n",
      "     0 42323     0\n",
      "     1     0   448\n"
     ]
    }
   ],
   "source": [
    "classificationSummary(y_train, dtc.predict(X_train))"
   ]
  },
  {
   "cell_type": "code",
   "execution_count": 99,
   "metadata": {
    "colab": {
     "base_uri": "https://localhost:8080/"
    },
    "id": "XD6FmuqYJO-8",
    "outputId": "c14db41e-5af3-4cf1-bdc9-49b5aa5c0df7"
   },
   "outputs": [
    {
     "name": "stdout",
     "output_type": "stream",
     "text": [
      "Confusion Matrix (Accuracy 0.9852)\n",
      "\n",
      "       Prediction\n",
      "Actual     0     1\n",
      "     0 28000   216\n",
      "     1   205    93\n"
     ]
    }
   ],
   "source": [
    "classificationSummary(y_valid, dtc.predict(X_valid))"
   ]
  },
  {
   "cell_type": "code",
   "execution_count": 100,
   "metadata": {
    "id": "SBFYoHbeJOw_"
   },
   "outputs": [],
   "source": [
    "importances = dtc.feature_importances_"
   ]
  },
  {
   "cell_type": "code",
   "execution_count": 101,
   "metadata": {
    "colab": {
     "base_uri": "https://localhost:8080/"
    },
    "id": "C9T6slXGJk-R",
    "outputId": "6147802e-d565-4f5d-d3ed-da492151b0c1"
   },
   "outputs": [
    {
     "name": "stdout",
     "output_type": "stream",
     "text": [
      "        feature  importance\n",
      "131   MESSAGE_B    0.000000\n",
      "34    F_MAR_SNP    0.000000\n",
      "90   UPSCALEFEM    0.000000\n",
      "89   UPSCALEMAL    0.000000\n",
      "37        ED_MD    0.000000\n",
      "..          ...         ...\n",
      "103    PRS16_PD    0.052214\n",
      "87     REG_DAYS    0.052751\n",
      "0      VOTER_ID    0.098604\n",
      "106       MSG_B    0.123959\n",
      "122   CAND1_SFT    0.128589\n",
      "\n",
      "[132 rows x 2 columns]\n"
     ]
    }
   ],
   "source": [
    "importance_df = pd.DataFrame({'feature': X_train.columns, 'importance':importances})\n",
    "importance_df = importance_df.sort_values('importance')\n",
    "print(importance_df)"
   ]
  },
  {
   "cell_type": "code",
   "execution_count": 102,
   "metadata": {
    "id": "_JQK_P17xYHm"
   },
   "outputs": [],
   "source": [
    "# prepare smaller dataset for use with the models from questions 1 and 2\n",
    "small_df = pd.read_csv('FX_indicators_2020_rand_10k.csv', on_bad_lines='skip')"
   ]
  },
  {
   "cell_type": "code",
   "execution_count": 103,
   "metadata": {
    "id": "-aCxFD-xf6i4"
   },
   "outputs": [],
   "source": [
    "small_df = small_df.fillna(0)"
   ]
  },
  {
   "cell_type": "code",
   "execution_count": 104,
   "metadata": {
    "id": "d86UagMUgKOd"
   },
   "outputs": [],
   "source": [
    "small_df = small_df.replace({'Y': 1, 'N': 0})"
   ]
  },
  {
   "cell_type": "code",
   "execution_count": 105,
   "metadata": {
    "id": "T11_UaWOgOJm"
   },
   "outputs": [],
   "source": [
    "small_df = small_df.apply(pd.to_numeric, errors='coerce').fillna(0)"
   ]
  },
  {
   "cell_type": "code",
   "execution_count": 106,
   "metadata": {
    "colab": {
     "base_uri": "https://localhost:8080/",
     "height": 300
    },
    "id": "T08_ERP5n9PM",
    "outputId": "97133ce9-730f-451e-a6d4-1d9190d6d168"
   },
   "outputs": [
    {
     "data": {
      "text/html": [
       "\n",
       "  <div id=\"df-fe5d0f2b-b185-490c-b43b-9756938f3a48\">\n",
       "    <div class=\"colab-df-container\">\n",
       "      <div>\n",
       "<style scoped>\n",
       "    .dataframe tbody tr th:only-of-type {\n",
       "        vertical-align: middle;\n",
       "    }\n",
       "\n",
       "    .dataframe tbody tr th {\n",
       "        vertical-align: top;\n",
       "    }\n",
       "\n",
       "    .dataframe thead th {\n",
       "        text-align: right;\n",
       "    }\n",
       "</style>\n",
       "<table border=\"1\" class=\"dataframe\">\n",
       "  <thead>\n",
       "    <tr style=\"text-align: right;\">\n",
       "      <th></th>\n",
       "      <th>VOTER_ID</th>\n",
       "      <th>SET_NO</th>\n",
       "      <th>OPP_SEX</th>\n",
       "      <th>AGE</th>\n",
       "      <th>HH_ND</th>\n",
       "      <th>HH_NR</th>\n",
       "      <th>HH_NI</th>\n",
       "      <th>MED_AGE</th>\n",
       "      <th>MED_AGE_M</th>\n",
       "      <th>MED_AGE_F</th>\n",
       "      <th>...</th>\n",
       "      <th>MOVED_RDMA</th>\n",
       "      <th>MOVED_DRMA</th>\n",
       "      <th>MOVED_AWMA</th>\n",
       "      <th>MOVED_ADMA</th>\n",
       "      <th>MOVED_ARMA</th>\n",
       "      <th>MOVED_RDMB</th>\n",
       "      <th>MOVED_DRMB</th>\n",
       "      <th>MOVED_AWMB</th>\n",
       "      <th>MOVED_ADMB</th>\n",
       "      <th>MOVED_ARMB</th>\n",
       "    </tr>\n",
       "  </thead>\n",
       "  <tbody>\n",
       "    <tr>\n",
       "      <th>0</th>\n",
       "      <td>84508</td>\n",
       "      <td>3</td>\n",
       "      <td>0</td>\n",
       "      <td>25</td>\n",
       "      <td>4</td>\n",
       "      <td>0</td>\n",
       "      <td>0</td>\n",
       "      <td>38</td>\n",
       "      <td>39</td>\n",
       "      <td>38</td>\n",
       "      <td>...</td>\n",
       "      <td>0</td>\n",
       "      <td>0</td>\n",
       "      <td>0</td>\n",
       "      <td>0</td>\n",
       "      <td>0</td>\n",
       "      <td>0</td>\n",
       "      <td>0</td>\n",
       "      <td>0</td>\n",
       "      <td>0</td>\n",
       "      <td>0</td>\n",
       "    </tr>\n",
       "    <tr>\n",
       "      <th>1</th>\n",
       "      <td>35758</td>\n",
       "      <td>2</td>\n",
       "      <td>0</td>\n",
       "      <td>45</td>\n",
       "      <td>3</td>\n",
       "      <td>0</td>\n",
       "      <td>1</td>\n",
       "      <td>34</td>\n",
       "      <td>33</td>\n",
       "      <td>35</td>\n",
       "      <td>...</td>\n",
       "      <td>0</td>\n",
       "      <td>0</td>\n",
       "      <td>0</td>\n",
       "      <td>0</td>\n",
       "      <td>0</td>\n",
       "      <td>0</td>\n",
       "      <td>0</td>\n",
       "      <td>0</td>\n",
       "      <td>0</td>\n",
       "      <td>0</td>\n",
       "    </tr>\n",
       "    <tr>\n",
       "      <th>2</th>\n",
       "      <td>32007</td>\n",
       "      <td>2</td>\n",
       "      <td>0</td>\n",
       "      <td>23</td>\n",
       "      <td>1</td>\n",
       "      <td>1</td>\n",
       "      <td>0</td>\n",
       "      <td>37</td>\n",
       "      <td>34</td>\n",
       "      <td>51</td>\n",
       "      <td>...</td>\n",
       "      <td>0</td>\n",
       "      <td>0</td>\n",
       "      <td>0</td>\n",
       "      <td>0</td>\n",
       "      <td>0</td>\n",
       "      <td>0</td>\n",
       "      <td>0</td>\n",
       "      <td>0</td>\n",
       "      <td>0</td>\n",
       "      <td>0</td>\n",
       "    </tr>\n",
       "    <tr>\n",
       "      <th>3</th>\n",
       "      <td>631210</td>\n",
       "      <td>1</td>\n",
       "      <td>0</td>\n",
       "      <td>82</td>\n",
       "      <td>1</td>\n",
       "      <td>0</td>\n",
       "      <td>0</td>\n",
       "      <td>44</td>\n",
       "      <td>40</td>\n",
       "      <td>51</td>\n",
       "      <td>...</td>\n",
       "      <td>0</td>\n",
       "      <td>0</td>\n",
       "      <td>0</td>\n",
       "      <td>0</td>\n",
       "      <td>0</td>\n",
       "      <td>0</td>\n",
       "      <td>0</td>\n",
       "      <td>0</td>\n",
       "      <td>0</td>\n",
       "      <td>0</td>\n",
       "    </tr>\n",
       "    <tr>\n",
       "      <th>4</th>\n",
       "      <td>154033</td>\n",
       "      <td>1</td>\n",
       "      <td>55</td>\n",
       "      <td>78</td>\n",
       "      <td>0</td>\n",
       "      <td>2</td>\n",
       "      <td>0</td>\n",
       "      <td>42</td>\n",
       "      <td>36</td>\n",
       "      <td>48</td>\n",
       "      <td>...</td>\n",
       "      <td>0</td>\n",
       "      <td>0</td>\n",
       "      <td>0</td>\n",
       "      <td>0</td>\n",
       "      <td>0</td>\n",
       "      <td>0</td>\n",
       "      <td>0</td>\n",
       "      <td>0</td>\n",
       "      <td>0</td>\n",
       "      <td>0</td>\n",
       "    </tr>\n",
       "  </tbody>\n",
       "</table>\n",
       "<p>5 rows × 152 columns</p>\n",
       "</div>\n",
       "      <button class=\"colab-df-convert\" onclick=\"convertToInteractive('df-fe5d0f2b-b185-490c-b43b-9756938f3a48')\"\n",
       "              title=\"Convert this dataframe to an interactive table.\"\n",
       "              style=\"display:none;\">\n",
       "        \n",
       "  <svg xmlns=\"http://www.w3.org/2000/svg\" height=\"24px\"viewBox=\"0 0 24 24\"\n",
       "       width=\"24px\">\n",
       "    <path d=\"M0 0h24v24H0V0z\" fill=\"none\"/>\n",
       "    <path d=\"M18.56 5.44l.94 2.06.94-2.06 2.06-.94-2.06-.94-.94-2.06-.94 2.06-2.06.94zm-11 1L8.5 8.5l.94-2.06 2.06-.94-2.06-.94L8.5 2.5l-.94 2.06-2.06.94zm10 10l.94 2.06.94-2.06 2.06-.94-2.06-.94-.94-2.06-.94 2.06-2.06.94z\"/><path d=\"M17.41 7.96l-1.37-1.37c-.4-.4-.92-.59-1.43-.59-.52 0-1.04.2-1.43.59L10.3 9.45l-7.72 7.72c-.78.78-.78 2.05 0 2.83L4 21.41c.39.39.9.59 1.41.59.51 0 1.02-.2 1.41-.59l7.78-7.78 2.81-2.81c.8-.78.8-2.07 0-2.86zM5.41 20L4 18.59l7.72-7.72 1.47 1.35L5.41 20z\"/>\n",
       "  </svg>\n",
       "      </button>\n",
       "      \n",
       "  <style>\n",
       "    .colab-df-container {\n",
       "      display:flex;\n",
       "      flex-wrap:wrap;\n",
       "      gap: 12px;\n",
       "    }\n",
       "\n",
       "    .colab-df-convert {\n",
       "      background-color: #E8F0FE;\n",
       "      border: none;\n",
       "      border-radius: 50%;\n",
       "      cursor: pointer;\n",
       "      display: none;\n",
       "      fill: #1967D2;\n",
       "      height: 32px;\n",
       "      padding: 0 0 0 0;\n",
       "      width: 32px;\n",
       "    }\n",
       "\n",
       "    .colab-df-convert:hover {\n",
       "      background-color: #E2EBFA;\n",
       "      box-shadow: 0px 1px 2px rgba(60, 64, 67, 0.3), 0px 1px 3px 1px rgba(60, 64, 67, 0.15);\n",
       "      fill: #174EA6;\n",
       "    }\n",
       "\n",
       "    [theme=dark] .colab-df-convert {\n",
       "      background-color: #3B4455;\n",
       "      fill: #D2E3FC;\n",
       "    }\n",
       "\n",
       "    [theme=dark] .colab-df-convert:hover {\n",
       "      background-color: #434B5C;\n",
       "      box-shadow: 0px 1px 3px 1px rgba(0, 0, 0, 0.15);\n",
       "      filter: drop-shadow(0px 1px 2px rgba(0, 0, 0, 0.3));\n",
       "      fill: #FFFFFF;\n",
       "    }\n",
       "  </style>\n",
       "\n",
       "      <script>\n",
       "        const buttonEl =\n",
       "          document.querySelector('#df-fe5d0f2b-b185-490c-b43b-9756938f3a48 button.colab-df-convert');\n",
       "        buttonEl.style.display =\n",
       "          google.colab.kernel.accessAllowed ? 'block' : 'none';\n",
       "\n",
       "        async function convertToInteractive(key) {\n",
       "          const element = document.querySelector('#df-fe5d0f2b-b185-490c-b43b-9756938f3a48');\n",
       "          const dataTable =\n",
       "            await google.colab.kernel.invokeFunction('convertToInteractive',\n",
       "                                                     [key], {});\n",
       "          if (!dataTable) return;\n",
       "\n",
       "          const docLinkHtml = 'Like what you see? Visit the ' +\n",
       "            '<a target=\"_blank\" href=https://colab.research.google.com/notebooks/data_table.ipynb>data table notebook</a>'\n",
       "            + ' to learn more about interactive tables.';\n",
       "          element.innerHTML = '';\n",
       "          dataTable['output_type'] = 'display_data';\n",
       "          await google.colab.output.renderOutput(dataTable, element);\n",
       "          const docLink = document.createElement('div');\n",
       "          docLink.innerHTML = docLinkHtml;\n",
       "          element.appendChild(docLink);\n",
       "        }\n",
       "      </script>\n",
       "    </div>\n",
       "  </div>\n",
       "  "
      ],
      "text/plain": [
       "   VOTER_ID  SET_NO  OPP_SEX  AGE  HH_ND  HH_NR  HH_NI  MED_AGE  MED_AGE_M  \\\n",
       "0     84508       3        0   25      4      0      0       38         39   \n",
       "1     35758       2        0   45      3      0      1       34         33   \n",
       "2     32007       2        0   23      1      1      0       37         34   \n",
       "3    631210       1        0   82      1      0      0       44         40   \n",
       "4    154033       1       55   78      0      2      0       42         36   \n",
       "\n",
       "   MED_AGE_F  ...  MOVED_RDMA  MOVED_DRMA  MOVED_AWMA  MOVED_ADMA  MOVED_ARMA  \\\n",
       "0         38  ...           0           0           0           0           0   \n",
       "1         35  ...           0           0           0           0           0   \n",
       "2         51  ...           0           0           0           0           0   \n",
       "3         51  ...           0           0           0           0           0   \n",
       "4         48  ...           0           0           0           0           0   \n",
       "\n",
       "   MOVED_RDMB  MOVED_DRMB  MOVED_AWMB  MOVED_ADMB  MOVED_ARMB  \n",
       "0           0           0           0           0           0  \n",
       "1           0           0           0           0           0  \n",
       "2           0           0           0           0           0  \n",
       "3           0           0           0           0           0  \n",
       "4           0           0           0           0           0  \n",
       "\n",
       "[5 rows x 152 columns]"
      ]
     },
     "execution_count": 106,
     "metadata": {},
     "output_type": "execute_result"
    }
   ],
   "source": [
    "small_df.head()"
   ]
  },
  {
   "cell_type": "code",
   "execution_count": 107,
   "metadata": {
    "id": "47sLZPq3gZHz"
   },
   "outputs": [],
   "source": [
    "small_df.drop(small_df[~small_df['PARTY_D'].isin([0, 1,'0','1'])].index, inplace=True)"
   ]
  },
  {
   "cell_type": "code",
   "execution_count": 108,
   "metadata": {
    "id": "2jshoAFYhwFp"
   },
   "outputs": [],
   "source": [
    "X = pd.get_dummies(small_df.drop(['PARTY_D', 'PARTY_I', 'PARTY_R', 'D3', 'D2', 'R2', 'R3','I3', 'VG_10'], axis=1))\n",
    "# X = voter_df[predictors]\n",
    "y = small_df[outcome]\n",
    "y=y.astype('int')"
   ]
  },
  {
   "cell_type": "code",
   "execution_count": 109,
   "metadata": {
    "id": "zbqyQv-Zh7W2"
   },
   "outputs": [],
   "source": [
    "# partition the data\n",
    "X_train, X_valid, y_train, y_valid = train_test_split(X, y, test_size = 0.4, random_state = 1)"
   ]
  },
  {
   "cell_type": "code",
   "execution_count": 110,
   "metadata": {
    "colab": {
     "base_uri": "https://localhost:8080/",
     "height": 75
    },
    "id": "INV2rfsJh7zU",
    "outputId": "e3a88278-aa3a-4ddd-e8b7-61827901b00c"
   },
   "outputs": [
    {
     "data": {
      "text/html": [
       "<style>#sk-container-id-7 {color: black;background-color: white;}#sk-container-id-7 pre{padding: 0;}#sk-container-id-7 div.sk-toggleable {background-color: white;}#sk-container-id-7 label.sk-toggleable__label {cursor: pointer;display: block;width: 100%;margin-bottom: 0;padding: 0.3em;box-sizing: border-box;text-align: center;}#sk-container-id-7 label.sk-toggleable__label-arrow:before {content: \"▸\";float: left;margin-right: 0.25em;color: #696969;}#sk-container-id-7 label.sk-toggleable__label-arrow:hover:before {color: black;}#sk-container-id-7 div.sk-estimator:hover label.sk-toggleable__label-arrow:before {color: black;}#sk-container-id-7 div.sk-toggleable__content {max-height: 0;max-width: 0;overflow: hidden;text-align: left;background-color: #f0f8ff;}#sk-container-id-7 div.sk-toggleable__content pre {margin: 0.2em;color: black;border-radius: 0.25em;background-color: #f0f8ff;}#sk-container-id-7 input.sk-toggleable__control:checked~div.sk-toggleable__content {max-height: 200px;max-width: 100%;overflow: auto;}#sk-container-id-7 input.sk-toggleable__control:checked~label.sk-toggleable__label-arrow:before {content: \"▾\";}#sk-container-id-7 div.sk-estimator input.sk-toggleable__control:checked~label.sk-toggleable__label {background-color: #d4ebff;}#sk-container-id-7 div.sk-label input.sk-toggleable__control:checked~label.sk-toggleable__label {background-color: #d4ebff;}#sk-container-id-7 input.sk-hidden--visually {border: 0;clip: rect(1px 1px 1px 1px);clip: rect(1px, 1px, 1px, 1px);height: 1px;margin: -1px;overflow: hidden;padding: 0;position: absolute;width: 1px;}#sk-container-id-7 div.sk-estimator {font-family: monospace;background-color: #f0f8ff;border: 1px dotted black;border-radius: 0.25em;box-sizing: border-box;margin-bottom: 0.5em;}#sk-container-id-7 div.sk-estimator:hover {background-color: #d4ebff;}#sk-container-id-7 div.sk-parallel-item::after {content: \"\";width: 100%;border-bottom: 1px solid gray;flex-grow: 1;}#sk-container-id-7 div.sk-label:hover label.sk-toggleable__label {background-color: #d4ebff;}#sk-container-id-7 div.sk-serial::before {content: \"\";position: absolute;border-left: 1px solid gray;box-sizing: border-box;top: 0;bottom: 0;left: 50%;z-index: 0;}#sk-container-id-7 div.sk-serial {display: flex;flex-direction: column;align-items: center;background-color: white;padding-right: 0.2em;padding-left: 0.2em;position: relative;}#sk-container-id-7 div.sk-item {position: relative;z-index: 1;}#sk-container-id-7 div.sk-parallel {display: flex;align-items: stretch;justify-content: center;background-color: white;position: relative;}#sk-container-id-7 div.sk-item::before, #sk-container-id-7 div.sk-parallel-item::before {content: \"\";position: absolute;border-left: 1px solid gray;box-sizing: border-box;top: 0;bottom: 0;left: 50%;z-index: -1;}#sk-container-id-7 div.sk-parallel-item {display: flex;flex-direction: column;z-index: 1;position: relative;background-color: white;}#sk-container-id-7 div.sk-parallel-item:first-child::after {align-self: flex-end;width: 50%;}#sk-container-id-7 div.sk-parallel-item:last-child::after {align-self: flex-start;width: 50%;}#sk-container-id-7 div.sk-parallel-item:only-child::after {width: 0;}#sk-container-id-7 div.sk-dashed-wrapped {border: 1px dashed gray;margin: 0 0.4em 0.5em 0.4em;box-sizing: border-box;padding-bottom: 0.4em;background-color: white;}#sk-container-id-7 div.sk-label label {font-family: monospace;font-weight: bold;display: inline-block;line-height: 1.2em;}#sk-container-id-7 div.sk-label-container {text-align: center;}#sk-container-id-7 div.sk-container {/* jupyter's `normalize.less` sets `[hidden] { display: none; }` but bootstrap.min.css set `[hidden] { display: none !important; }` so we also need the `!important` here to be able to override the default hidden behavior on the sphinx rendered scikit-learn.org. See: https://github.com/scikit-learn/scikit-learn/issues/21755 */display: inline-block !important;position: relative;}#sk-container-id-7 div.sk-text-repr-fallback {display: none;}</style><div id=\"sk-container-id-7\" class=\"sk-top-container\"><div class=\"sk-text-repr-fallback\"><pre>DecisionTreeClassifier(max_depth=20, random_state=1)</pre><b>In a Jupyter environment, please rerun this cell to show the HTML representation or trust the notebook. <br />On GitHub, the HTML representation is unable to render, please try loading this page with nbviewer.org.</b></div><div class=\"sk-container\" hidden><div class=\"sk-item\"><div class=\"sk-estimator sk-toggleable\"><input class=\"sk-toggleable__control sk-hidden--visually\" id=\"sk-estimator-id-7\" type=\"checkbox\" checked><label for=\"sk-estimator-id-7\" class=\"sk-toggleable__label sk-toggleable__label-arrow\">DecisionTreeClassifier</label><div class=\"sk-toggleable__content\"><pre>DecisionTreeClassifier(max_depth=20, random_state=1)</pre></div></div></div></div></div>"
      ],
      "text/plain": [
       "DecisionTreeClassifier(max_depth=20, random_state=1)"
      ]
     },
     "execution_count": 110,
     "metadata": {},
     "output_type": "execute_result"
    }
   ],
   "source": [
    "# train the model\n",
    "dtc.fit(X_train, y_train)"
   ]
  },
  {
   "cell_type": "code",
   "execution_count": 111,
   "metadata": {
    "colab": {
     "base_uri": "https://localhost:8080/"
    },
    "id": "4zoPVeJgiDM8",
    "outputId": "d6a0b1a7-d0c1-4c31-e835-044bd9b42df6"
   },
   "outputs": [
    {
     "name": "stdout",
     "output_type": "stream",
     "text": [
      "Confusion Matrix (Accuracy 1.0000)\n",
      "\n",
      "       Prediction\n",
      "Actual    0    1\n",
      "     0 5932    0\n",
      "     1    0   68\n"
     ]
    }
   ],
   "source": [
    "classificationSummary(y_train, dtc.predict(X_train))"
   ]
  },
  {
   "cell_type": "code",
   "execution_count": 112,
   "metadata": {
    "colab": {
     "base_uri": "https://localhost:8080/"
    },
    "id": "AoRwxx5ZiGnC",
    "outputId": "41cd3785-c388-4476-a87d-a06835ca2911"
   },
   "outputs": [
    {
     "name": "stdout",
     "output_type": "stream",
     "text": [
      "Confusion Matrix (Accuracy 1.0000)\n",
      "\n",
      "       Prediction\n",
      "Actual    0    1\n",
      "     0 3952    0\n",
      "     1    0   48\n"
     ]
    }
   ],
   "source": [
    "classificationSummary(y_valid, dtc.predict(X_valid))"
   ]
  },
  {
   "cell_type": "code",
   "execution_count": 113,
   "metadata": {
    "id": "tHWeyXCapDs-"
   },
   "outputs": [],
   "source": [
    "importances = dtc.feature_importances_"
   ]
  },
  {
   "cell_type": "code",
   "execution_count": 114,
   "metadata": {
    "colab": {
     "base_uri": "https://localhost:8080/"
    },
    "id": "zKcLk_RspD4Y",
    "outputId": "09f6c41b-d258-4230-c4e1-7835466bb124"
   },
   "outputs": [
    {
     "name": "stdout",
     "output_type": "stream",
     "text": [
      "        feature  importance\n",
      "0      VOTER_ID         0.0\n",
      "104      CAND2S         0.0\n",
      "103      CAND1S         0.0\n",
      "102       MSG_B         0.0\n",
      "101       MSG_A         0.0\n",
      "..          ...         ...\n",
      "49     H_MFDLN2         0.0\n",
      "50    H_MFDLN3P         0.0\n",
      "51     H_MFSLN2         0.0\n",
      "70        VG_08         0.0\n",
      "141  MOVED_ADMB         1.0\n",
      "\n",
      "[143 rows x 2 columns]\n"
     ]
    }
   ],
   "source": [
    "importance_df = pd.DataFrame({'feature': X_train.columns, 'importance':importances})\n",
    "importance_df = importance_df.sort_values('importance')\n",
    "print(importance_df)"
   ]
  },
  {
   "cell_type": "code",
   "execution_count": 115,
   "metadata": {
    "id": "LpWZRDOGpGTC"
   },
   "outputs": [],
   "source": [
    "voter_ids = X_valid['VOTER_ID']\n",
    "model_scores = dtc.predict_proba(X_valid)[:, 1] * 100\n",
    "output = pd.DataFrame({'VOTER_ID': voter_ids, 'model_score': model_scores, 'partisanship': y_valid})"
   ]
  },
  {
   "cell_type": "code",
   "execution_count": 116,
   "metadata": {
    "colab": {
     "base_uri": "https://localhost:8080/"
    },
    "id": "hkHAbLEGxvrZ",
    "outputId": "a4f0d53a-887a-4965-a558-0ef16a066e72"
   },
   "outputs": [
    {
     "data": {
      "text/plain": [
       "0.0"
      ]
     },
     "execution_count": 116,
     "metadata": {},
     "output_type": "execute_result"
    }
   ],
   "source": [
    "output['model_score'].min()"
   ]
  },
  {
   "cell_type": "code",
   "execution_count": 117,
   "metadata": {
    "colab": {
     "base_uri": "https://localhost:8080/"
    },
    "id": "9aKDh6dLxwen",
    "outputId": "2dbed3f5-e728-4806-ed6f-7d304bf98efb"
   },
   "outputs": [
    {
     "data": {
      "text/plain": [
       "100.0"
      ]
     },
     "execution_count": 117,
     "metadata": {},
     "output_type": "execute_result"
    }
   ],
   "source": [
    "output['model_score'].max()"
   ]
  },
  {
   "cell_type": "code",
   "execution_count": 118,
   "metadata": {
    "colab": {
     "base_uri": "https://localhost:8080/"
    },
    "id": "zPeTKZlqxw5V",
    "outputId": "64f9eb62-a4be-485a-d6bc-5d1e85284f09"
   },
   "outputs": [
    {
     "data": {
      "text/plain": [
       "0.0      3952\n",
       "100.0      48\n",
       "Name: model_score, dtype: int64"
      ]
     },
     "execution_count": 118,
     "metadata": {},
     "output_type": "execute_result"
    }
   ],
   "source": [
    "output['model_score'].value_counts()"
   ]
  },
  {
   "cell_type": "code",
   "execution_count": 119,
   "metadata": {
    "colab": {
     "base_uri": "https://localhost:8080/"
    },
    "id": "-WRzKZpkNJjn",
    "outputId": "8b1bd9da-0b14-4b92-ba2e-9e26391b200b"
   },
   "outputs": [
    {
     "data": {
      "text/plain": [
       "0.0      3952\n",
       "100.0      48\n",
       "Name: model_score, dtype: int64"
      ]
     },
     "execution_count": 119,
     "metadata": {},
     "output_type": "execute_result"
    }
   ],
   "source": [
    "output['model_score'].value_counts()"
   ]
  },
  {
   "cell_type": "code",
   "execution_count": 120,
   "metadata": {
    "id": "7weyMMEVNLlp"
   },
   "outputs": [],
   "source": [
    "# introduce a small amount of noise in order to prevent an error that arises when bin edges are not unique\n",
    "output['model_score'] += np.random.normal(0, 0.0001, len(output))"
   ]
  },
  {
   "cell_type": "code",
   "execution_count": 121,
   "metadata": {
    "colab": {
     "base_uri": "https://localhost:8080/"
    },
    "id": "p0YqpR0bNPX0",
    "outputId": "dd928197-64c1-434d-c939-1d1d9d33f96c"
   },
   "outputs": [
    {
     "name": "stdout",
     "output_type": "stream",
     "text": [
      "      VOTER_ID  model_score  partisanship    quintile\n",
      "9953    490806    -0.000121             0  Quintile 1\n",
      "3850    263092     0.000230             0  Quintile 5\n",
      "4962    137807    -0.000035             0  Quintile 2\n",
      "3886     63543     0.000089             0  Quintile 5\n",
      "5437    255245     0.000081             0  Quintile 4\n"
     ]
    }
   ],
   "source": [
    "output['quintile'] = pd.qcut(output['model_score'], q=5, labels=['Quintile 1', 'Quintile 2', 'Quintile 3', 'Quintile 4', 'Quintile 5'])\n",
    "\n",
    "print(output.head())"
   ]
  },
  {
   "cell_type": "code",
   "execution_count": 122,
   "metadata": {
    "id": "qXukY7L0NSW8"
   },
   "outputs": [],
   "source": [
    "# calculate y percentage for each quantile in the test set\n",
    "test_set_y_percent = output.groupby('quintile')['partisanship'].mean()"
   ]
  },
  {
   "cell_type": "code",
   "execution_count": 123,
   "metadata": {
    "id": "tJfm4kL7NSUz"
   },
   "outputs": [],
   "source": [
    "# calculate y percentage for the whole test set\n",
    "test_set_y_total_percent = y_valid.mean()"
   ]
  },
  {
   "cell_type": "code",
   "execution_count": 124,
   "metadata": {
    "colab": {
     "base_uri": "https://localhost:8080/"
    },
    "id": "SDpvaMuxNSRL",
    "outputId": "73803cc0-416e-4c6f-fff3-233feea59664"
   },
   "outputs": [
    {
     "name": "stdout",
     "output_type": "stream",
     "text": [
      "quintile\n",
      "Quintile 1    0.00\n",
      "Quintile 2    0.00\n",
      "Quintile 3    0.00\n",
      "Quintile 4    0.00\n",
      "Quintile 5    0.06\n",
      "Name: partisanship, dtype: float64\n",
      "Test set Y percentage for entire test set: 0.012\n"
     ]
    }
   ],
   "source": [
    "print(test_set_y_percent)\n",
    "print('Test set Y percentage for entire test set:', test_set_y_total_percent)"
   ]
  },
  {
   "cell_type": "code",
   "execution_count": 125,
   "metadata": {
    "id": "OUAr5MdlNSNZ"
   },
   "outputs": [],
   "source": [
    "lift = test_set_y_percent / test_set_y_total_percent"
   ]
  },
  {
   "cell_type": "code",
   "execution_count": 126,
   "metadata": {
    "colab": {
     "base_uri": "https://localhost:8080/"
    },
    "id": "n1NNJo7oNR9d",
    "outputId": "b034f688-3c6d-43f1-861d-07f5efefe0f6"
   },
   "outputs": [
    {
     "name": "stdout",
     "output_type": "stream",
     "text": [
      "quintile\n",
      "Quintile 1    0.0\n",
      "Quintile 2    0.0\n",
      "Quintile 3    0.0\n",
      "Quintile 4    0.0\n",
      "Quintile 5    5.0\n",
      "Name: partisanship, dtype: float64\n"
     ]
    }
   ],
   "source": [
    "print(lift)"
   ]
  },
  {
   "cell_type": "code",
   "execution_count": 127,
   "metadata": {
    "id": "CS1B1pIMs0W3"
   },
   "outputs": [],
   "source": [
    "# training logistic regression model\n",
    "lr = LogisticRegression()"
   ]
  },
  {
   "cell_type": "code",
   "execution_count": 128,
   "metadata": {
    "colab": {
     "base_uri": "https://localhost:8080/",
     "height": 75
    },
    "id": "bcEScTRas4lE",
    "outputId": "d683e6f1-5cc4-47f8-9101-6b141840dbc7"
   },
   "outputs": [
    {
     "data": {
      "text/html": [
       "<style>#sk-container-id-8 {color: black;background-color: white;}#sk-container-id-8 pre{padding: 0;}#sk-container-id-8 div.sk-toggleable {background-color: white;}#sk-container-id-8 label.sk-toggleable__label {cursor: pointer;display: block;width: 100%;margin-bottom: 0;padding: 0.3em;box-sizing: border-box;text-align: center;}#sk-container-id-8 label.sk-toggleable__label-arrow:before {content: \"▸\";float: left;margin-right: 0.25em;color: #696969;}#sk-container-id-8 label.sk-toggleable__label-arrow:hover:before {color: black;}#sk-container-id-8 div.sk-estimator:hover label.sk-toggleable__label-arrow:before {color: black;}#sk-container-id-8 div.sk-toggleable__content {max-height: 0;max-width: 0;overflow: hidden;text-align: left;background-color: #f0f8ff;}#sk-container-id-8 div.sk-toggleable__content pre {margin: 0.2em;color: black;border-radius: 0.25em;background-color: #f0f8ff;}#sk-container-id-8 input.sk-toggleable__control:checked~div.sk-toggleable__content {max-height: 200px;max-width: 100%;overflow: auto;}#sk-container-id-8 input.sk-toggleable__control:checked~label.sk-toggleable__label-arrow:before {content: \"▾\";}#sk-container-id-8 div.sk-estimator input.sk-toggleable__control:checked~label.sk-toggleable__label {background-color: #d4ebff;}#sk-container-id-8 div.sk-label input.sk-toggleable__control:checked~label.sk-toggleable__label {background-color: #d4ebff;}#sk-container-id-8 input.sk-hidden--visually {border: 0;clip: rect(1px 1px 1px 1px);clip: rect(1px, 1px, 1px, 1px);height: 1px;margin: -1px;overflow: hidden;padding: 0;position: absolute;width: 1px;}#sk-container-id-8 div.sk-estimator {font-family: monospace;background-color: #f0f8ff;border: 1px dotted black;border-radius: 0.25em;box-sizing: border-box;margin-bottom: 0.5em;}#sk-container-id-8 div.sk-estimator:hover {background-color: #d4ebff;}#sk-container-id-8 div.sk-parallel-item::after {content: \"\";width: 100%;border-bottom: 1px solid gray;flex-grow: 1;}#sk-container-id-8 div.sk-label:hover label.sk-toggleable__label {background-color: #d4ebff;}#sk-container-id-8 div.sk-serial::before {content: \"\";position: absolute;border-left: 1px solid gray;box-sizing: border-box;top: 0;bottom: 0;left: 50%;z-index: 0;}#sk-container-id-8 div.sk-serial {display: flex;flex-direction: column;align-items: center;background-color: white;padding-right: 0.2em;padding-left: 0.2em;position: relative;}#sk-container-id-8 div.sk-item {position: relative;z-index: 1;}#sk-container-id-8 div.sk-parallel {display: flex;align-items: stretch;justify-content: center;background-color: white;position: relative;}#sk-container-id-8 div.sk-item::before, #sk-container-id-8 div.sk-parallel-item::before {content: \"\";position: absolute;border-left: 1px solid gray;box-sizing: border-box;top: 0;bottom: 0;left: 50%;z-index: -1;}#sk-container-id-8 div.sk-parallel-item {display: flex;flex-direction: column;z-index: 1;position: relative;background-color: white;}#sk-container-id-8 div.sk-parallel-item:first-child::after {align-self: flex-end;width: 50%;}#sk-container-id-8 div.sk-parallel-item:last-child::after {align-self: flex-start;width: 50%;}#sk-container-id-8 div.sk-parallel-item:only-child::after {width: 0;}#sk-container-id-8 div.sk-dashed-wrapped {border: 1px dashed gray;margin: 0 0.4em 0.5em 0.4em;box-sizing: border-box;padding-bottom: 0.4em;background-color: white;}#sk-container-id-8 div.sk-label label {font-family: monospace;font-weight: bold;display: inline-block;line-height: 1.2em;}#sk-container-id-8 div.sk-label-container {text-align: center;}#sk-container-id-8 div.sk-container {/* jupyter's `normalize.less` sets `[hidden] { display: none; }` but bootstrap.min.css set `[hidden] { display: none !important; }` so we also need the `!important` here to be able to override the default hidden behavior on the sphinx rendered scikit-learn.org. See: https://github.com/scikit-learn/scikit-learn/issues/21755 */display: inline-block !important;position: relative;}#sk-container-id-8 div.sk-text-repr-fallback {display: none;}</style><div id=\"sk-container-id-8\" class=\"sk-top-container\"><div class=\"sk-text-repr-fallback\"><pre>LogisticRegression()</pre><b>In a Jupyter environment, please rerun this cell to show the HTML representation or trust the notebook. <br />On GitHub, the HTML representation is unable to render, please try loading this page with nbviewer.org.</b></div><div class=\"sk-container\" hidden><div class=\"sk-item\"><div class=\"sk-estimator sk-toggleable\"><input class=\"sk-toggleable__control sk-hidden--visually\" id=\"sk-estimator-id-8\" type=\"checkbox\" checked><label for=\"sk-estimator-id-8\" class=\"sk-toggleable__label sk-toggleable__label-arrow\">LogisticRegression</label><div class=\"sk-toggleable__content\"><pre>LogisticRegression()</pre></div></div></div></div></div>"
      ],
      "text/plain": [
       "LogisticRegression()"
      ]
     },
     "execution_count": 128,
     "metadata": {},
     "output_type": "execute_result"
    }
   ],
   "source": [
    "lr.fit(X_train, y_train)"
   ]
  },
  {
   "cell_type": "code",
   "execution_count": 129,
   "metadata": {
    "colab": {
     "base_uri": "https://localhost:8080/"
    },
    "id": "xb5eGPEztA2Q",
    "outputId": "a4d3979b-98f3-4660-a7bb-89b863c55e51"
   },
   "outputs": [
    {
     "name": "stdout",
     "output_type": "stream",
     "text": [
      "Confusion Matrix (Accuracy 0.9887)\n",
      "\n",
      "       Prediction\n",
      "Actual    0    1\n",
      "     0 5932    0\n",
      "     1   68    0\n"
     ]
    }
   ],
   "source": [
    "classificationSummary(y_train, lr.predict(X_train))"
   ]
  },
  {
   "cell_type": "code",
   "execution_count": 130,
   "metadata": {
    "colab": {
     "base_uri": "https://localhost:8080/"
    },
    "id": "OB60RVNTtDmy",
    "outputId": "e05c3745-38a0-4d67-cda4-841093b65e88"
   },
   "outputs": [
    {
     "name": "stdout",
     "output_type": "stream",
     "text": [
      "Confusion Matrix (Accuracy 0.9880)\n",
      "\n",
      "       Prediction\n",
      "Actual    0    1\n",
      "     0 3952    0\n",
      "     1   48    0\n"
     ]
    }
   ],
   "source": [
    "classificationSummary(y_valid, lr.predict(X_valid))"
   ]
  },
  {
   "cell_type": "code",
   "execution_count": 141,
   "metadata": {
    "id": "fBcD3HZotF_f"
   },
   "outputs": [],
   "source": [
    "voter_ids = X_valid['VOTER_ID']\n",
    "model_scores = lr.predict_proba(X_valid)[:, 1] * 100\n",
    "output = pd.DataFrame({'VOTER_ID': voter_ids, 'model_score': model_scores, 'partisanship': y_valid})"
   ]
  },
  {
   "cell_type": "code",
   "execution_count": 142,
   "metadata": {
    "colab": {
     "base_uri": "https://localhost:8080/"
    },
    "id": "SyQejGv4u6NW",
    "outputId": "9ef9521f-9aa4-4f9a-9c94-af98d4ac6f2c"
   },
   "outputs": [
    {
     "data": {
      "text/plain": [
       "0.23932981644299595"
      ]
     },
     "execution_count": 142,
     "metadata": {},
     "output_type": "execute_result"
    }
   ],
   "source": [
    "output['model_score'].min()"
   ]
  },
  {
   "cell_type": "code",
   "execution_count": 143,
   "metadata": {
    "colab": {
     "base_uri": "https://localhost:8080/"
    },
    "id": "vB5jyl8Lxi6-",
    "outputId": "010adf9d-7b25-43a5-f2ce-dbef7e436d11"
   },
   "outputs": [
    {
     "data": {
      "text/plain": [
       "4.026334486066209"
      ]
     },
     "execution_count": 143,
     "metadata": {},
     "output_type": "execute_result"
    }
   ],
   "source": [
    "output['model_score'].max()"
   ]
  },
  {
   "cell_type": "code",
   "execution_count": 144,
   "metadata": {
    "colab": {
     "base_uri": "https://localhost:8080/"
    },
    "id": "cNS7YqToxkar",
    "outputId": "01311e91-e4dc-4048-ad68-e13215c72bac"
   },
   "outputs": [
    {
     "data": {
      "text/plain": [
       "1.160556    1\n",
       "0.912713    1\n",
       "0.737289    1\n",
       "0.860941    1\n",
       "1.009293    1\n",
       "           ..\n",
       "1.222559    1\n",
       "0.988428    1\n",
       "1.165308    1\n",
       "0.705895    1\n",
       "0.631179    1\n",
       "Name: model_score, Length: 4000, dtype: int64"
      ]
     },
     "execution_count": 144,
     "metadata": {},
     "output_type": "execute_result"
    }
   ],
   "source": [
    "output['model_score'].value_counts()"
   ]
  },
  {
   "cell_type": "code",
   "execution_count": 145,
   "metadata": {
    "id": "EkwDTjjfxpvC"
   },
   "outputs": [],
   "source": [
    "# introduce a small amount of noise in order to prevent an error that arises when bin edges are not unique\n",
    "output['model_score'] += np.random.normal(0, 0.0001, len(output))"
   ]
  },
  {
   "cell_type": "code",
   "execution_count": 146,
   "metadata": {
    "colab": {
     "base_uri": "https://localhost:8080/"
    },
    "id": "qWlrYx6hN031",
    "outputId": "055e195b-a963-49e3-9c11-b26bcbe0bca3"
   },
   "outputs": [
    {
     "name": "stdout",
     "output_type": "stream",
     "text": [
      "      VOTER_ID  model_score  partisanship    quintile\n",
      "9953    490806     1.160779             0  Quintile 4\n",
      "3850    263092     1.313196             0  Quintile 4\n",
      "4962    137807     1.182765             0  Quintile 4\n",
      "3886     63543     2.545763             0  Quintile 5\n",
      "5437    255245     0.644683             0  Quintile 1\n"
     ]
    }
   ],
   "source": [
    "output['quintile'] = pd.qcut(output['model_score'], q=5, labels=['Quintile 1', 'Quintile 2', 'Quintile 3', 'Quintile 4', 'Quintile 5'])\n",
    "\n",
    "print(output.head())"
   ]
  },
  {
   "cell_type": "code",
   "execution_count": 147,
   "metadata": {
    "id": "M-5lS01YN13h"
   },
   "outputs": [],
   "source": [
    "# calculate y percentage for each quantile in the test set\n",
    "test_set_y_percent = output.groupby('quintile')['partisanship'].mean()"
   ]
  },
  {
   "cell_type": "code",
   "execution_count": 148,
   "metadata": {
    "colab": {
     "base_uri": "https://localhost:8080/"
    },
    "id": "apVLb6GDN3FG",
    "outputId": "8795a446-8406-44d4-dbe8-67e02420055a"
   },
   "outputs": [
    {
     "name": "stdout",
     "output_type": "stream",
     "text": [
      "quintile\n",
      "Quintile 1    0.00875\n",
      "Quintile 2    0.01375\n",
      "Quintile 3    0.01375\n",
      "Quintile 4    0.01375\n",
      "Quintile 5    0.01000\n",
      "Name: partisanship, dtype: float64\n",
      "Test set Y percentage for entire test set: 0.012\n"
     ]
    }
   ],
   "source": [
    "print(test_set_y_percent)\n",
    "print('Test set Y percentage for entire test set:', test_set_y_total_percent)"
   ]
  },
  {
   "cell_type": "code",
   "execution_count": 149,
   "metadata": {
    "id": "lEUP3GqtN5Mq"
   },
   "outputs": [],
   "source": [
    "lift = test_set_y_percent / test_set_y_total_percent"
   ]
  },
  {
   "cell_type": "code",
   "execution_count": 150,
   "metadata": {
    "colab": {
     "base_uri": "https://localhost:8080/"
    },
    "id": "tcklBNEjN6VW",
    "outputId": "4104eab0-3a52-4280-a0ef-d8690c32ad43"
   },
   "outputs": [
    {
     "name": "stdout",
     "output_type": "stream",
     "text": [
      "quintile\n",
      "Quintile 1    0.729167\n",
      "Quintile 2    1.145833\n",
      "Quintile 3    1.145833\n",
      "Quintile 4    1.145833\n",
      "Quintile 5    0.833333\n",
      "Name: partisanship, dtype: float64\n"
     ]
    }
   ],
   "source": [
    "print(lift)"
   ]
  },
  {
   "cell_type": "code",
   "execution_count": null,
   "metadata": {
    "id": "0UGYLX_jN9Df"
   },
   "outputs": [],
   "source": []
  }
 ],
 "metadata": {
  "colab": {
   "provenance": []
  },
  "kernelspec": {
   "display_name": "Python 3",
   "language": "python",
   "name": "python3"
  },
  "language_info": {
   "codemirror_mode": {
    "name": "ipython",
    "version": 3
   },
   "file_extension": ".py",
   "mimetype": "text/x-python",
   "name": "python",
   "nbconvert_exporter": "python",
   "pygments_lexer": "ipython3",
   "version": "3.8.5"
  }
 },
 "nbformat": 4,
 "nbformat_minor": 1
}
