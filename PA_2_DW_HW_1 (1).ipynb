{
 "cells": [
  {
   "cell_type": "code",
   "execution_count": 2,
   "metadata": {
    "colab": {
     "base_uri": "https://localhost:8080/"
    },
    "id": "tWfXeFWXmqmo",
    "outputId": "91317aa6-53cc-47cf-f8e0-a878751c66be"
   },
   "outputs": [
    {
     "name": "stdout",
     "output_type": "stream",
     "text": [
      "Collecting dmba\n",
      "  Downloading dmba-0.1.0-py3-none-any.whl (11.8 MB)\n",
      "\u001b[K     |████████████████████████████████| 11.8 MB 7.9 MB/s \n",
      "\u001b[?25hInstalling collected packages: dmba\n",
      "Successfully installed dmba-0.1.0\n"
     ]
    },
    {
     "name": "stderr",
     "output_type": "stream",
     "text": [
      "/usr/local/lib/python3.7/dist-packages/statsmodels/tools/_testing.py:19: FutureWarning: pandas.util.testing is deprecated. Use the functions in the public API at pandas.testing instead.\n",
      "  import pandas.util.testing as tm\n"
     ]
    },
    {
     "name": "stdout",
     "output_type": "stream",
     "text": [
      "no display found. Using non-interactive Agg backend\n"
     ]
    }
   ],
   "source": [
    "!pip install dmba\n",
    "import pandas as pd\n",
    "from sklearn.model_selection import train_test_split\n",
    "from sklearn.linear_model import LinearRegression, Lasso, Ridge, LassoCV, BayesianRidge\n",
    "import statsmodels.formula.api as sm\n",
    "import matplotlib.pylab as plt\n",
    "from dmba import regressionSummary, exhaustive_search\n",
    "from dmba import backward_elimination, forward_selection, stepwise_selection\n",
    "from dmba import adjusted_r2_score, AIC_score, BIC_score"
   ]
  },
  {
   "cell_type": "code",
   "execution_count": 3,
   "metadata": {
    "id": "H2NOctHyuCEW"
   },
   "outputs": [],
   "source": [
    "df = pd.read_csv('Airfares.csv')"
   ]
  },
  {
   "cell_type": "code",
   "execution_count": 4,
   "metadata": {
    "colab": {
     "base_uri": "https://localhost:8080/",
     "height": 206
    },
    "id": "7FMwQFjXz0tX",
    "outputId": "f2a45169-2fff-48c3-8fc0-5d091f970ab0"
   },
   "outputs": [
    {
     "data": {
      "text/html": [
       "\n",
       "  <div id=\"df-3bd7776f-9612-4dab-a583-36456f465a2a\">\n",
       "    <div class=\"colab-df-container\">\n",
       "      <div>\n",
       "<style scoped>\n",
       "    .dataframe tbody tr th:only-of-type {\n",
       "        vertical-align: middle;\n",
       "    }\n",
       "\n",
       "    .dataframe tbody tr th {\n",
       "        vertical-align: top;\n",
       "    }\n",
       "\n",
       "    .dataframe thead th {\n",
       "        text-align: right;\n",
       "    }\n",
       "</style>\n",
       "<table border=\"1\" class=\"dataframe\">\n",
       "  <thead>\n",
       "    <tr style=\"text-align: right;\">\n",
       "      <th></th>\n",
       "      <th>S_CODE</th>\n",
       "      <th>S_CITY</th>\n",
       "      <th>E_CODE</th>\n",
       "      <th>E_CITY</th>\n",
       "      <th>COUPON</th>\n",
       "      <th>NEW</th>\n",
       "      <th>VACATION</th>\n",
       "      <th>SW</th>\n",
       "      <th>HI</th>\n",
       "      <th>S_INCOME</th>\n",
       "      <th>E_INCOME</th>\n",
       "      <th>S_POP</th>\n",
       "      <th>E_POP</th>\n",
       "      <th>SLOT</th>\n",
       "      <th>GATE</th>\n",
       "      <th>DISTANCE</th>\n",
       "      <th>PAX</th>\n",
       "      <th>FARE</th>\n",
       "    </tr>\n",
       "  </thead>\n",
       "  <tbody>\n",
       "    <tr>\n",
       "      <th>0</th>\n",
       "      <td>*</td>\n",
       "      <td>Dallas/Fort Worth   TX</td>\n",
       "      <td>*</td>\n",
       "      <td>Amarillo            TX</td>\n",
       "      <td>1.00</td>\n",
       "      <td>3</td>\n",
       "      <td>No</td>\n",
       "      <td>Yes</td>\n",
       "      <td>5291.99</td>\n",
       "      <td>28637.0</td>\n",
       "      <td>21112.0</td>\n",
       "      <td>3036732</td>\n",
       "      <td>205711</td>\n",
       "      <td>Free</td>\n",
       "      <td>Free</td>\n",
       "      <td>312</td>\n",
       "      <td>7864</td>\n",
       "      <td>64.11</td>\n",
       "    </tr>\n",
       "    <tr>\n",
       "      <th>1</th>\n",
       "      <td>*</td>\n",
       "      <td>Atlanta             GA</td>\n",
       "      <td>*</td>\n",
       "      <td>Baltimore/Wash Intl MD</td>\n",
       "      <td>1.06</td>\n",
       "      <td>3</td>\n",
       "      <td>No</td>\n",
       "      <td>No</td>\n",
       "      <td>5419.16</td>\n",
       "      <td>26993.0</td>\n",
       "      <td>29838.0</td>\n",
       "      <td>3532657</td>\n",
       "      <td>7145897</td>\n",
       "      <td>Free</td>\n",
       "      <td>Free</td>\n",
       "      <td>576</td>\n",
       "      <td>8820</td>\n",
       "      <td>174.47</td>\n",
       "    </tr>\n",
       "    <tr>\n",
       "      <th>2</th>\n",
       "      <td>*</td>\n",
       "      <td>Boston              MA</td>\n",
       "      <td>*</td>\n",
       "      <td>Baltimore/Wash Intl MD</td>\n",
       "      <td>1.06</td>\n",
       "      <td>3</td>\n",
       "      <td>No</td>\n",
       "      <td>No</td>\n",
       "      <td>9185.28</td>\n",
       "      <td>30124.0</td>\n",
       "      <td>29838.0</td>\n",
       "      <td>5787293</td>\n",
       "      <td>7145897</td>\n",
       "      <td>Free</td>\n",
       "      <td>Free</td>\n",
       "      <td>364</td>\n",
       "      <td>6452</td>\n",
       "      <td>207.76</td>\n",
       "    </tr>\n",
       "    <tr>\n",
       "      <th>3</th>\n",
       "      <td>ORD</td>\n",
       "      <td>Chicago             IL</td>\n",
       "      <td>*</td>\n",
       "      <td>Baltimore/Wash Intl MD</td>\n",
       "      <td>1.06</td>\n",
       "      <td>3</td>\n",
       "      <td>No</td>\n",
       "      <td>Yes</td>\n",
       "      <td>2657.35</td>\n",
       "      <td>29260.0</td>\n",
       "      <td>29838.0</td>\n",
       "      <td>7830332</td>\n",
       "      <td>7145897</td>\n",
       "      <td>Controlled</td>\n",
       "      <td>Free</td>\n",
       "      <td>612</td>\n",
       "      <td>25144</td>\n",
       "      <td>85.47</td>\n",
       "    </tr>\n",
       "    <tr>\n",
       "      <th>4</th>\n",
       "      <td>MDW</td>\n",
       "      <td>Chicago             IL</td>\n",
       "      <td>*</td>\n",
       "      <td>Baltimore/Wash Intl MD</td>\n",
       "      <td>1.06</td>\n",
       "      <td>3</td>\n",
       "      <td>No</td>\n",
       "      <td>Yes</td>\n",
       "      <td>2657.35</td>\n",
       "      <td>29260.0</td>\n",
       "      <td>29838.0</td>\n",
       "      <td>7830332</td>\n",
       "      <td>7145897</td>\n",
       "      <td>Free</td>\n",
       "      <td>Free</td>\n",
       "      <td>612</td>\n",
       "      <td>25144</td>\n",
       "      <td>85.47</td>\n",
       "    </tr>\n",
       "  </tbody>\n",
       "</table>\n",
       "</div>\n",
       "      <button class=\"colab-df-convert\" onclick=\"convertToInteractive('df-3bd7776f-9612-4dab-a583-36456f465a2a')\"\n",
       "              title=\"Convert this dataframe to an interactive table.\"\n",
       "              style=\"display:none;\">\n",
       "        \n",
       "  <svg xmlns=\"http://www.w3.org/2000/svg\" height=\"24px\"viewBox=\"0 0 24 24\"\n",
       "       width=\"24px\">\n",
       "    <path d=\"M0 0h24v24H0V0z\" fill=\"none\"/>\n",
       "    <path d=\"M18.56 5.44l.94 2.06.94-2.06 2.06-.94-2.06-.94-.94-2.06-.94 2.06-2.06.94zm-11 1L8.5 8.5l.94-2.06 2.06-.94-2.06-.94L8.5 2.5l-.94 2.06-2.06.94zm10 10l.94 2.06.94-2.06 2.06-.94-2.06-.94-.94-2.06-.94 2.06-2.06.94z\"/><path d=\"M17.41 7.96l-1.37-1.37c-.4-.4-.92-.59-1.43-.59-.52 0-1.04.2-1.43.59L10.3 9.45l-7.72 7.72c-.78.78-.78 2.05 0 2.83L4 21.41c.39.39.9.59 1.41.59.51 0 1.02-.2 1.41-.59l7.78-7.78 2.81-2.81c.8-.78.8-2.07 0-2.86zM5.41 20L4 18.59l7.72-7.72 1.47 1.35L5.41 20z\"/>\n",
       "  </svg>\n",
       "      </button>\n",
       "      \n",
       "  <style>\n",
       "    .colab-df-container {\n",
       "      display:flex;\n",
       "      flex-wrap:wrap;\n",
       "      gap: 12px;\n",
       "    }\n",
       "\n",
       "    .colab-df-convert {\n",
       "      background-color: #E8F0FE;\n",
       "      border: none;\n",
       "      border-radius: 50%;\n",
       "      cursor: pointer;\n",
       "      display: none;\n",
       "      fill: #1967D2;\n",
       "      height: 32px;\n",
       "      padding: 0 0 0 0;\n",
       "      width: 32px;\n",
       "    }\n",
       "\n",
       "    .colab-df-convert:hover {\n",
       "      background-color: #E2EBFA;\n",
       "      box-shadow: 0px 1px 2px rgba(60, 64, 67, 0.3), 0px 1px 3px 1px rgba(60, 64, 67, 0.15);\n",
       "      fill: #174EA6;\n",
       "    }\n",
       "\n",
       "    [theme=dark] .colab-df-convert {\n",
       "      background-color: #3B4455;\n",
       "      fill: #D2E3FC;\n",
       "    }\n",
       "\n",
       "    [theme=dark] .colab-df-convert:hover {\n",
       "      background-color: #434B5C;\n",
       "      box-shadow: 0px 1px 3px 1px rgba(0, 0, 0, 0.15);\n",
       "      filter: drop-shadow(0px 1px 2px rgba(0, 0, 0, 0.3));\n",
       "      fill: #FFFFFF;\n",
       "    }\n",
       "  </style>\n",
       "\n",
       "      <script>\n",
       "        const buttonEl =\n",
       "          document.querySelector('#df-3bd7776f-9612-4dab-a583-36456f465a2a button.colab-df-convert');\n",
       "        buttonEl.style.display =\n",
       "          google.colab.kernel.accessAllowed ? 'block' : 'none';\n",
       "\n",
       "        async function convertToInteractive(key) {\n",
       "          const element = document.querySelector('#df-3bd7776f-9612-4dab-a583-36456f465a2a');\n",
       "          const dataTable =\n",
       "            await google.colab.kernel.invokeFunction('convertToInteractive',\n",
       "                                                     [key], {});\n",
       "          if (!dataTable) return;\n",
       "\n",
       "          const docLinkHtml = 'Like what you see? Visit the ' +\n",
       "            '<a target=\"_blank\" href=https://colab.research.google.com/notebooks/data_table.ipynb>data table notebook</a>'\n",
       "            + ' to learn more about interactive tables.';\n",
       "          element.innerHTML = '';\n",
       "          dataTable['output_type'] = 'display_data';\n",
       "          await google.colab.output.renderOutput(dataTable, element);\n",
       "          const docLink = document.createElement('div');\n",
       "          docLink.innerHTML = docLinkHtml;\n",
       "          element.appendChild(docLink);\n",
       "        }\n",
       "      </script>\n",
       "    </div>\n",
       "  </div>\n",
       "  "
      ],
      "text/plain": [
       "  S_CODE                  S_CITY E_CODE                  E_CITY  COUPON  NEW  \\\n",
       "0      *  Dallas/Fort Worth   TX      *  Amarillo            TX    1.00    3   \n",
       "1      *  Atlanta             GA      *  Baltimore/Wash Intl MD    1.06    3   \n",
       "2      *  Boston              MA      *  Baltimore/Wash Intl MD    1.06    3   \n",
       "3    ORD  Chicago             IL      *  Baltimore/Wash Intl MD    1.06    3   \n",
       "4    MDW  Chicago             IL      *  Baltimore/Wash Intl MD    1.06    3   \n",
       "\n",
       "  VACATION   SW       HI  S_INCOME  E_INCOME    S_POP    E_POP        SLOT  \\\n",
       "0       No  Yes  5291.99   28637.0   21112.0  3036732   205711        Free   \n",
       "1       No   No  5419.16   26993.0   29838.0  3532657  7145897        Free   \n",
       "2       No   No  9185.28   30124.0   29838.0  5787293  7145897        Free   \n",
       "3       No  Yes  2657.35   29260.0   29838.0  7830332  7145897  Controlled   \n",
       "4       No  Yes  2657.35   29260.0   29838.0  7830332  7145897        Free   \n",
       "\n",
       "   GATE  DISTANCE    PAX    FARE  \n",
       "0  Free       312   7864   64.11  \n",
       "1  Free       576   8820  174.47  \n",
       "2  Free       364   6452  207.76  \n",
       "3  Free       612  25144   85.47  \n",
       "4  Free       612  25144   85.47  "
      ]
     },
     "execution_count": 4,
     "metadata": {},
     "output_type": "execute_result"
    }
   ],
   "source": [
    "df.head()"
   ]
  },
  {
   "cell_type": "code",
   "execution_count": 5,
   "metadata": {
    "colab": {
     "base_uri": "https://localhost:8080/"
    },
    "id": "bGjLQwF-3Rzt",
    "outputId": "0dc05296-aa2e-4f86-a9f3-3ebff98fef97"
   },
   "outputs": [
    {
     "name": "stdout",
     "output_type": "stream",
     "text": [
      "<class 'pandas.core.frame.DataFrame'>\n",
      "RangeIndex: 638 entries, 0 to 637\n",
      "Data columns (total 18 columns):\n",
      " #   Column    Non-Null Count  Dtype  \n",
      "---  ------    --------------  -----  \n",
      " 0   S_CODE    638 non-null    object \n",
      " 1   S_CITY    638 non-null    object \n",
      " 2   E_CODE    638 non-null    object \n",
      " 3   E_CITY    638 non-null    object \n",
      " 4   COUPON    638 non-null    float64\n",
      " 5   NEW       638 non-null    int64  \n",
      " 6   VACATION  638 non-null    object \n",
      " 7   SW        638 non-null    object \n",
      " 8   HI        638 non-null    float64\n",
      " 9   S_INCOME  638 non-null    float64\n",
      " 10  E_INCOME  638 non-null    float64\n",
      " 11  S_POP     638 non-null    int64  \n",
      " 12  E_POP     638 non-null    int64  \n",
      " 13  SLOT      638 non-null    object \n",
      " 14  GATE      638 non-null    object \n",
      " 15  DISTANCE  638 non-null    int64  \n",
      " 16  PAX       638 non-null    int64  \n",
      " 17  FARE      638 non-null    float64\n",
      "dtypes: float64(5), int64(5), object(8)\n",
      "memory usage: 89.8+ KB\n"
     ]
    }
   ],
   "source": [
    "df.info()"
   ]
  },
  {
   "cell_type": "code",
   "execution_count": 6,
   "metadata": {
    "id": "ZuBpIRA0uuU-"
   },
   "outputs": [],
   "source": [
    "df['VACATION'] = [1 if v == 'Yes' else 0 for v in df['VACATION']]"
   ]
  },
  {
   "cell_type": "code",
   "execution_count": 7,
   "metadata": {
    "id": "Cou-DDapuyLH"
   },
   "outputs": [],
   "source": [
    "df['SW'] = [1 if v == 'Yes' else 0 for v in df['SW']]"
   ]
  },
  {
   "cell_type": "code",
   "execution_count": 8,
   "metadata": {
    "id": "2SjFq_8zva1i"
   },
   "outputs": [],
   "source": [
    "df['SLOT'] = [1 if v == 'Free' else 0 for v in df['SLOT']]"
   ]
  },
  {
   "cell_type": "code",
   "execution_count": 9,
   "metadata": {
    "id": "hsdZ24U_va7m"
   },
   "outputs": [],
   "source": [
    "df['GATE'] = [1 if v == 'Free' else 0 for v in df['GATE']]"
   ]
  },
  {
   "cell_type": "code",
   "execution_count": 10,
   "metadata": {
    "colab": {
     "base_uri": "https://localhost:8080/",
     "height": 488
    },
    "id": "vwgDZiSj5Qpo",
    "outputId": "5f830535-5dd9-4279-8f2f-a22a04667f6a"
   },
   "outputs": [
    {
     "data": {
      "text/html": [
       "\n",
       "  <div id=\"df-d8d71744-a986-4e99-9f14-c40e678e632a\">\n",
       "    <div class=\"colab-df-container\">\n",
       "      <div>\n",
       "<style scoped>\n",
       "    .dataframe tbody tr th:only-of-type {\n",
       "        vertical-align: middle;\n",
       "    }\n",
       "\n",
       "    .dataframe tbody tr th {\n",
       "        vertical-align: top;\n",
       "    }\n",
       "\n",
       "    .dataframe thead th {\n",
       "        text-align: right;\n",
       "    }\n",
       "</style>\n",
       "<table border=\"1\" class=\"dataframe\">\n",
       "  <thead>\n",
       "    <tr style=\"text-align: right;\">\n",
       "      <th></th>\n",
       "      <th>COUPON</th>\n",
       "      <th>NEW</th>\n",
       "      <th>VACATION</th>\n",
       "      <th>SW</th>\n",
       "      <th>HI</th>\n",
       "      <th>S_INCOME</th>\n",
       "      <th>E_INCOME</th>\n",
       "      <th>S_POP</th>\n",
       "      <th>E_POP</th>\n",
       "      <th>SLOT</th>\n",
       "      <th>GATE</th>\n",
       "      <th>DISTANCE</th>\n",
       "      <th>PAX</th>\n",
       "      <th>FARE</th>\n",
       "    </tr>\n",
       "  </thead>\n",
       "  <tbody>\n",
       "    <tr>\n",
       "      <th>COUPON</th>\n",
       "      <td>1.000000</td>\n",
       "      <td>0.020223</td>\n",
       "      <td>0.071424</td>\n",
       "      <td>-0.188098</td>\n",
       "      <td>-0.347252</td>\n",
       "      <td>-0.088403</td>\n",
       "      <td>0.046889</td>\n",
       "      <td>-0.107763</td>\n",
       "      <td>0.094970</td>\n",
       "      <td>-0.021901</td>\n",
       "      <td>0.064369</td>\n",
       "      <td>0.746805</td>\n",
       "      <td>-0.336974</td>\n",
       "      <td>0.496537</td>\n",
       "    </tr>\n",
       "    <tr>\n",
       "      <th>NEW</th>\n",
       "      <td>0.020223</td>\n",
       "      <td>1.000000</td>\n",
       "      <td>-0.047433</td>\n",
       "      <td>-0.081881</td>\n",
       "      <td>0.054147</td>\n",
       "      <td>0.026597</td>\n",
       "      <td>0.113377</td>\n",
       "      <td>-0.016672</td>\n",
       "      <td>0.058568</td>\n",
       "      <td>-0.058414</td>\n",
       "      <td>-0.013106</td>\n",
       "      <td>0.080965</td>\n",
       "      <td>0.010495</td>\n",
       "      <td>0.091730</td>\n",
       "    </tr>\n",
       "    <tr>\n",
       "      <th>VACATION</th>\n",
       "      <td>0.071424</td>\n",
       "      <td>-0.047433</td>\n",
       "      <td>1.000000</td>\n",
       "      <td>0.025488</td>\n",
       "      <td>-0.151625</td>\n",
       "      <td>-0.216393</td>\n",
       "      <td>-0.076288</td>\n",
       "      <td>-0.208549</td>\n",
       "      <td>-0.167054</td>\n",
       "      <td>0.129514</td>\n",
       "      <td>0.116838</td>\n",
       "      <td>0.093198</td>\n",
       "      <td>-0.017747</td>\n",
       "      <td>-0.276868</td>\n",
       "    </tr>\n",
       "    <tr>\n",
       "      <th>SW</th>\n",
       "      <td>-0.188098</td>\n",
       "      <td>-0.081881</td>\n",
       "      <td>0.025488</td>\n",
       "      <td>1.000000</td>\n",
       "      <td>-0.040172</td>\n",
       "      <td>-0.272269</td>\n",
       "      <td>-0.281160</td>\n",
       "      <td>-0.089282</td>\n",
       "      <td>-0.221272</td>\n",
       "      <td>0.251593</td>\n",
       "      <td>0.255782</td>\n",
       "      <td>-0.240485</td>\n",
       "      <td>-0.052468</td>\n",
       "      <td>-0.543813</td>\n",
       "    </tr>\n",
       "    <tr>\n",
       "      <th>HI</th>\n",
       "      <td>-0.347252</td>\n",
       "      <td>0.054147</td>\n",
       "      <td>-0.151625</td>\n",
       "      <td>-0.040172</td>\n",
       "      <td>1.000000</td>\n",
       "      <td>-0.027382</td>\n",
       "      <td>0.082393</td>\n",
       "      <td>-0.172495</td>\n",
       "      <td>-0.062456</td>\n",
       "      <td>0.185179</td>\n",
       "      <td>-0.155182</td>\n",
       "      <td>-0.312375</td>\n",
       "      <td>-0.168961</td>\n",
       "      <td>0.025195</td>\n",
       "    </tr>\n",
       "    <tr>\n",
       "      <th>S_INCOME</th>\n",
       "      <td>-0.088403</td>\n",
       "      <td>0.026597</td>\n",
       "      <td>-0.216393</td>\n",
       "      <td>-0.272269</td>\n",
       "      <td>-0.027382</td>\n",
       "      <td>1.000000</td>\n",
       "      <td>-0.138864</td>\n",
       "      <td>0.517187</td>\n",
       "      <td>-0.272280</td>\n",
       "      <td>-0.231868</td>\n",
       "      <td>-0.108193</td>\n",
       "      <td>0.028153</td>\n",
       "      <td>0.138197</td>\n",
       "      <td>0.209135</td>\n",
       "    </tr>\n",
       "    <tr>\n",
       "      <th>E_INCOME</th>\n",
       "      <td>0.046889</td>\n",
       "      <td>0.113377</td>\n",
       "      <td>-0.076288</td>\n",
       "      <td>-0.281160</td>\n",
       "      <td>0.082393</td>\n",
       "      <td>-0.138864</td>\n",
       "      <td>1.000000</td>\n",
       "      <td>-0.144059</td>\n",
       "      <td>0.458418</td>\n",
       "      <td>-0.197481</td>\n",
       "      <td>-0.062807</td>\n",
       "      <td>0.176531</td>\n",
       "      <td>0.259961</td>\n",
       "      <td>0.326092</td>\n",
       "    </tr>\n",
       "    <tr>\n",
       "      <th>S_POP</th>\n",
       "      <td>-0.107763</td>\n",
       "      <td>-0.016672</td>\n",
       "      <td>-0.208549</td>\n",
       "      <td>-0.089282</td>\n",
       "      <td>-0.172495</td>\n",
       "      <td>0.517187</td>\n",
       "      <td>-0.144059</td>\n",
       "      <td>1.000000</td>\n",
       "      <td>-0.280143</td>\n",
       "      <td>-0.281576</td>\n",
       "      <td>-0.085900</td>\n",
       "      <td>0.018437</td>\n",
       "      <td>0.284611</td>\n",
       "      <td>0.145097</td>\n",
       "    </tr>\n",
       "    <tr>\n",
       "      <th>E_POP</th>\n",
       "      <td>0.094970</td>\n",
       "      <td>0.058568</td>\n",
       "      <td>-0.167054</td>\n",
       "      <td>-0.221272</td>\n",
       "      <td>-0.062456</td>\n",
       "      <td>-0.272280</td>\n",
       "      <td>0.458418</td>\n",
       "      <td>-0.280143</td>\n",
       "      <td>1.000000</td>\n",
       "      <td>-0.246216</td>\n",
       "      <td>-0.149666</td>\n",
       "      <td>0.115640</td>\n",
       "      <td>0.314698</td>\n",
       "      <td>0.285043</td>\n",
       "    </tr>\n",
       "    <tr>\n",
       "      <th>SLOT</th>\n",
       "      <td>-0.021901</td>\n",
       "      <td>-0.058414</td>\n",
       "      <td>0.129514</td>\n",
       "      <td>0.251593</td>\n",
       "      <td>0.185179</td>\n",
       "      <td>-0.231868</td>\n",
       "      <td>-0.197481</td>\n",
       "      <td>-0.281576</td>\n",
       "      <td>-0.246216</td>\n",
       "      <td>1.000000</td>\n",
       "      <td>-0.143628</td>\n",
       "      <td>-0.009483</td>\n",
       "      <td>-0.243143</td>\n",
       "      <td>-0.209438</td>\n",
       "    </tr>\n",
       "    <tr>\n",
       "      <th>GATE</th>\n",
       "      <td>0.064369</td>\n",
       "      <td>-0.013106</td>\n",
       "      <td>0.116838</td>\n",
       "      <td>0.255782</td>\n",
       "      <td>-0.155182</td>\n",
       "      <td>-0.108193</td>\n",
       "      <td>-0.062807</td>\n",
       "      <td>-0.085900</td>\n",
       "      <td>-0.149666</td>\n",
       "      <td>-0.143628</td>\n",
       "      <td>1.000000</td>\n",
       "      <td>0.065218</td>\n",
       "      <td>-0.040288</td>\n",
       "      <td>-0.208540</td>\n",
       "    </tr>\n",
       "    <tr>\n",
       "      <th>DISTANCE</th>\n",
       "      <td>0.746805</td>\n",
       "      <td>0.080965</td>\n",
       "      <td>0.093198</td>\n",
       "      <td>-0.240485</td>\n",
       "      <td>-0.312375</td>\n",
       "      <td>0.028153</td>\n",
       "      <td>0.176531</td>\n",
       "      <td>0.018437</td>\n",
       "      <td>0.115640</td>\n",
       "      <td>-0.009483</td>\n",
       "      <td>0.065218</td>\n",
       "      <td>1.000000</td>\n",
       "      <td>-0.102482</td>\n",
       "      <td>0.670016</td>\n",
       "    </tr>\n",
       "    <tr>\n",
       "      <th>PAX</th>\n",
       "      <td>-0.336974</td>\n",
       "      <td>0.010495</td>\n",
       "      <td>-0.017747</td>\n",
       "      <td>-0.052468</td>\n",
       "      <td>-0.168961</td>\n",
       "      <td>0.138197</td>\n",
       "      <td>0.259961</td>\n",
       "      <td>0.284611</td>\n",
       "      <td>0.314698</td>\n",
       "      <td>-0.243143</td>\n",
       "      <td>-0.040288</td>\n",
       "      <td>-0.102482</td>\n",
       "      <td>1.000000</td>\n",
       "      <td>-0.090705</td>\n",
       "    </tr>\n",
       "    <tr>\n",
       "      <th>FARE</th>\n",
       "      <td>0.496537</td>\n",
       "      <td>0.091730</td>\n",
       "      <td>-0.276868</td>\n",
       "      <td>-0.543813</td>\n",
       "      <td>0.025195</td>\n",
       "      <td>0.209135</td>\n",
       "      <td>0.326092</td>\n",
       "      <td>0.145097</td>\n",
       "      <td>0.285043</td>\n",
       "      <td>-0.209438</td>\n",
       "      <td>-0.208540</td>\n",
       "      <td>0.670016</td>\n",
       "      <td>-0.090705</td>\n",
       "      <td>1.000000</td>\n",
       "    </tr>\n",
       "  </tbody>\n",
       "</table>\n",
       "</div>\n",
       "      <button class=\"colab-df-convert\" onclick=\"convertToInteractive('df-d8d71744-a986-4e99-9f14-c40e678e632a')\"\n",
       "              title=\"Convert this dataframe to an interactive table.\"\n",
       "              style=\"display:none;\">\n",
       "        \n",
       "  <svg xmlns=\"http://www.w3.org/2000/svg\" height=\"24px\"viewBox=\"0 0 24 24\"\n",
       "       width=\"24px\">\n",
       "    <path d=\"M0 0h24v24H0V0z\" fill=\"none\"/>\n",
       "    <path d=\"M18.56 5.44l.94 2.06.94-2.06 2.06-.94-2.06-.94-.94-2.06-.94 2.06-2.06.94zm-11 1L8.5 8.5l.94-2.06 2.06-.94-2.06-.94L8.5 2.5l-.94 2.06-2.06.94zm10 10l.94 2.06.94-2.06 2.06-.94-2.06-.94-.94-2.06-.94 2.06-2.06.94z\"/><path d=\"M17.41 7.96l-1.37-1.37c-.4-.4-.92-.59-1.43-.59-.52 0-1.04.2-1.43.59L10.3 9.45l-7.72 7.72c-.78.78-.78 2.05 0 2.83L4 21.41c.39.39.9.59 1.41.59.51 0 1.02-.2 1.41-.59l7.78-7.78 2.81-2.81c.8-.78.8-2.07 0-2.86zM5.41 20L4 18.59l7.72-7.72 1.47 1.35L5.41 20z\"/>\n",
       "  </svg>\n",
       "      </button>\n",
       "      \n",
       "  <style>\n",
       "    .colab-df-container {\n",
       "      display:flex;\n",
       "      flex-wrap:wrap;\n",
       "      gap: 12px;\n",
       "    }\n",
       "\n",
       "    .colab-df-convert {\n",
       "      background-color: #E8F0FE;\n",
       "      border: none;\n",
       "      border-radius: 50%;\n",
       "      cursor: pointer;\n",
       "      display: none;\n",
       "      fill: #1967D2;\n",
       "      height: 32px;\n",
       "      padding: 0 0 0 0;\n",
       "      width: 32px;\n",
       "    }\n",
       "\n",
       "    .colab-df-convert:hover {\n",
       "      background-color: #E2EBFA;\n",
       "      box-shadow: 0px 1px 2px rgba(60, 64, 67, 0.3), 0px 1px 3px 1px rgba(60, 64, 67, 0.15);\n",
       "      fill: #174EA6;\n",
       "    }\n",
       "\n",
       "    [theme=dark] .colab-df-convert {\n",
       "      background-color: #3B4455;\n",
       "      fill: #D2E3FC;\n",
       "    }\n",
       "\n",
       "    [theme=dark] .colab-df-convert:hover {\n",
       "      background-color: #434B5C;\n",
       "      box-shadow: 0px 1px 3px 1px rgba(0, 0, 0, 0.15);\n",
       "      filter: drop-shadow(0px 1px 2px rgba(0, 0, 0, 0.3));\n",
       "      fill: #FFFFFF;\n",
       "    }\n",
       "  </style>\n",
       "\n",
       "      <script>\n",
       "        const buttonEl =\n",
       "          document.querySelector('#df-d8d71744-a986-4e99-9f14-c40e678e632a button.colab-df-convert');\n",
       "        buttonEl.style.display =\n",
       "          google.colab.kernel.accessAllowed ? 'block' : 'none';\n",
       "\n",
       "        async function convertToInteractive(key) {\n",
       "          const element = document.querySelector('#df-d8d71744-a986-4e99-9f14-c40e678e632a');\n",
       "          const dataTable =\n",
       "            await google.colab.kernel.invokeFunction('convertToInteractive',\n",
       "                                                     [key], {});\n",
       "          if (!dataTable) return;\n",
       "\n",
       "          const docLinkHtml = 'Like what you see? Visit the ' +\n",
       "            '<a target=\"_blank\" href=https://colab.research.google.com/notebooks/data_table.ipynb>data table notebook</a>'\n",
       "            + ' to learn more about interactive tables.';\n",
       "          element.innerHTML = '';\n",
       "          dataTable['output_type'] = 'display_data';\n",
       "          await google.colab.output.renderOutput(dataTable, element);\n",
       "          const docLink = document.createElement('div');\n",
       "          docLink.innerHTML = docLinkHtml;\n",
       "          element.appendChild(docLink);\n",
       "        }\n",
       "      </script>\n",
       "    </div>\n",
       "  </div>\n",
       "  "
      ],
      "text/plain": [
       "            COUPON       NEW  VACATION        SW        HI  S_INCOME  \\\n",
       "COUPON    1.000000  0.020223  0.071424 -0.188098 -0.347252 -0.088403   \n",
       "NEW       0.020223  1.000000 -0.047433 -0.081881  0.054147  0.026597   \n",
       "VACATION  0.071424 -0.047433  1.000000  0.025488 -0.151625 -0.216393   \n",
       "SW       -0.188098 -0.081881  0.025488  1.000000 -0.040172 -0.272269   \n",
       "HI       -0.347252  0.054147 -0.151625 -0.040172  1.000000 -0.027382   \n",
       "S_INCOME -0.088403  0.026597 -0.216393 -0.272269 -0.027382  1.000000   \n",
       "E_INCOME  0.046889  0.113377 -0.076288 -0.281160  0.082393 -0.138864   \n",
       "S_POP    -0.107763 -0.016672 -0.208549 -0.089282 -0.172495  0.517187   \n",
       "E_POP     0.094970  0.058568 -0.167054 -0.221272 -0.062456 -0.272280   \n",
       "SLOT     -0.021901 -0.058414  0.129514  0.251593  0.185179 -0.231868   \n",
       "GATE      0.064369 -0.013106  0.116838  0.255782 -0.155182 -0.108193   \n",
       "DISTANCE  0.746805  0.080965  0.093198 -0.240485 -0.312375  0.028153   \n",
       "PAX      -0.336974  0.010495 -0.017747 -0.052468 -0.168961  0.138197   \n",
       "FARE      0.496537  0.091730 -0.276868 -0.543813  0.025195  0.209135   \n",
       "\n",
       "          E_INCOME     S_POP     E_POP      SLOT      GATE  DISTANCE  \\\n",
       "COUPON    0.046889 -0.107763  0.094970 -0.021901  0.064369  0.746805   \n",
       "NEW       0.113377 -0.016672  0.058568 -0.058414 -0.013106  0.080965   \n",
       "VACATION -0.076288 -0.208549 -0.167054  0.129514  0.116838  0.093198   \n",
       "SW       -0.281160 -0.089282 -0.221272  0.251593  0.255782 -0.240485   \n",
       "HI        0.082393 -0.172495 -0.062456  0.185179 -0.155182 -0.312375   \n",
       "S_INCOME -0.138864  0.517187 -0.272280 -0.231868 -0.108193  0.028153   \n",
       "E_INCOME  1.000000 -0.144059  0.458418 -0.197481 -0.062807  0.176531   \n",
       "S_POP    -0.144059  1.000000 -0.280143 -0.281576 -0.085900  0.018437   \n",
       "E_POP     0.458418 -0.280143  1.000000 -0.246216 -0.149666  0.115640   \n",
       "SLOT     -0.197481 -0.281576 -0.246216  1.000000 -0.143628 -0.009483   \n",
       "GATE     -0.062807 -0.085900 -0.149666 -0.143628  1.000000  0.065218   \n",
       "DISTANCE  0.176531  0.018437  0.115640 -0.009483  0.065218  1.000000   \n",
       "PAX       0.259961  0.284611  0.314698 -0.243143 -0.040288 -0.102482   \n",
       "FARE      0.326092  0.145097  0.285043 -0.209438 -0.208540  0.670016   \n",
       "\n",
       "               PAX      FARE  \n",
       "COUPON   -0.336974  0.496537  \n",
       "NEW       0.010495  0.091730  \n",
       "VACATION -0.017747 -0.276868  \n",
       "SW       -0.052468 -0.543813  \n",
       "HI       -0.168961  0.025195  \n",
       "S_INCOME  0.138197  0.209135  \n",
       "E_INCOME  0.259961  0.326092  \n",
       "S_POP     0.284611  0.145097  \n",
       "E_POP     0.314698  0.285043  \n",
       "SLOT     -0.243143 -0.209438  \n",
       "GATE     -0.040288 -0.208540  \n",
       "DISTANCE -0.102482  0.670016  \n",
       "PAX       1.000000 -0.090705  \n",
       "FARE     -0.090705  1.000000  "
      ]
     },
     "execution_count": 10,
     "metadata": {},
     "output_type": "execute_result"
    }
   ],
   "source": [
    "df.corr()"
   ]
  },
  {
   "cell_type": "code",
   "execution_count": 11,
   "metadata": {
    "id": "qSxR4lEn6EpQ"
   },
   "outputs": [],
   "source": [
    "plt.scatter(df['COUPON'], df['FARE'])\n",
    "plt.show()"
   ]
  },
  {
   "cell_type": "code",
   "execution_count": 12,
   "metadata": {
    "id": "GXwz0CSB6E0_"
   },
   "outputs": [],
   "source": [
    "plt.scatter(df['HI'], df['FARE'])\n",
    "plt.show()"
   ]
  },
  {
   "cell_type": "code",
   "execution_count": 13,
   "metadata": {
    "id": "nHyQ1Tr48muS"
   },
   "outputs": [],
   "source": [
    "plt.scatter(df['S_INCOME'], df['FARE'])\n",
    "plt.show()"
   ]
  },
  {
   "cell_type": "code",
   "execution_count": 14,
   "metadata": {
    "id": "p3P_LDvP8m1f"
   },
   "outputs": [],
   "source": [
    "plt.scatter(df['E_INCOME'], df['FARE'])\n",
    "plt.show()"
   ]
  },
  {
   "cell_type": "code",
   "execution_count": 15,
   "metadata": {
    "id": "tKZ2TE9H8m4x"
   },
   "outputs": [],
   "source": [
    "plt.scatter(df['S_POP'], df['FARE'])\n",
    "plt.show()"
   ]
  },
  {
   "cell_type": "code",
   "execution_count": 16,
   "metadata": {
    "id": "xdy1USVW8m7h"
   },
   "outputs": [],
   "source": [
    "plt.scatter(df['E_POP'], df['FARE'])\n",
    "plt.show()"
   ]
  },
  {
   "cell_type": "code",
   "execution_count": 17,
   "metadata": {
    "id": "Hr8znuTF8m99"
   },
   "outputs": [],
   "source": [
    "plt.scatter(df['DISTANCE'], df['FARE'])\n",
    "plt.show()"
   ]
  },
  {
   "cell_type": "code",
   "execution_count": 18,
   "metadata": {
    "id": "07ccm4wb8nAU"
   },
   "outputs": [],
   "source": [
    "plt.scatter(df['PAX'], df['FARE'])\n",
    "plt.show()"
   ]
  },
  {
   "cell_type": "code",
   "execution_count": 19,
   "metadata": {
    "id": "syyyb76Z5jKj"
   },
   "outputs": [],
   "source": [
    "# Q1 The best predictor of FARE seems to be distance, which isn't very surprising. The farther the distance, the higher the fuel used, and therefore the higher the fare should be."
   ]
  },
  {
   "cell_type": "code",
   "execution_count": 20,
   "metadata": {
    "id": "RmwVvh4iz1ni"
   },
   "outputs": [],
   "source": [
    "predictors = ['COUPON','NEW','VACATION','SW','HI','S_INCOME','E_INCOME','S_POP','E_POP','SLOT','GATE','DISTANCE','PAX']\n",
    "outcome = 'FARE'"
   ]
  },
  {
   "cell_type": "code",
   "execution_count": 21,
   "metadata": {
    "id": "8UOqF8mM0Wvg"
   },
   "outputs": [],
   "source": [
    "# partition data\n",
    "X = pd.get_dummies(df[predictors], drop_first=True)\n",
    "y = df[outcome]\n",
    "X_train, X_valid, y_train, y_valid = train_test_split(X, y, test_size = 0.4, random_state = 1)\n"
   ]
  },
  {
   "cell_type": "code",
   "execution_count": 22,
   "metadata": {
    "colab": {
     "base_uri": "https://localhost:8080/"
    },
    "id": "peVpJLr4107-",
    "outputId": "7a555229-1931-4feb-b510-c1a0d30a0f84"
   },
   "outputs": [
    {
     "data": {
      "text/plain": [
       "LinearRegression()"
      ]
     },
     "execution_count": 22,
     "metadata": {},
     "output_type": "execute_result"
    }
   ],
   "source": [
    "fare_lrm = LinearRegression()\n",
    "fare_lrm.fit(X_train, y_train)"
   ]
  },
  {
   "cell_type": "code",
   "execution_count": 23,
   "metadata": {
    "colab": {
     "base_uri": "https://localhost:8080/"
    },
    "id": "MZLtIQXzCdjB",
    "outputId": "97cbb8ce-3f07-4393-e822-b63f4d0e20aa"
   },
   "outputs": [
    {
     "name": "stdout",
     "output_type": "stream",
     "text": [
      "\n",
      "Regression statistics\n",
      "\n",
      "                      Mean Error (ME) : -1.8231\n",
      "       Root Mean Squared Error (RMSE) : 36.0002\n",
      "            Mean Absolute Error (MAE) : 28.5002\n",
      "          Mean Percentage Error (MPE) : -6.6037\n",
      "Mean Absolute Percentage Error (MAPE) : 21.6048\n"
     ]
    }
   ],
   "source": [
    "# evaluate the model\n",
    "regressionSummary(y_valid, fare_lrm.predict(X_valid))"
   ]
  },
  {
   "cell_type": "code",
   "execution_count": 24,
   "metadata": {
    "id": "oQNUgraH3FdI"
   },
   "outputs": [],
   "source": [
    "from sklearn.preprocessing import StandardScaler"
   ]
  },
  {
   "cell_type": "code",
   "execution_count": 25,
   "metadata": {
    "id": "P-2qpYCa9tFZ"
   },
   "outputs": [],
   "source": [
    "scaler = StandardScaler()"
   ]
  },
  {
   "cell_type": "code",
   "execution_count": 26,
   "metadata": {
    "id": "4YmIvEPA9xlp"
   },
   "outputs": [],
   "source": [
    "# partition data\n",
    "trainData, validData = train_test_split(df, test_size = 0.4, random_state = 1)"
   ]
  },
  {
   "cell_type": "code",
   "execution_count": 28,
   "metadata": {
    "colab": {
     "base_uri": "https://localhost:8080/"
    },
    "id": "j_7h92sO98Eb",
    "outputId": "d56231ed-756d-4037-86ad-49fc1fdf7f60"
   },
   "outputs": [
    {
     "data": {
      "text/plain": [
       "StandardScaler()"
      ]
     },
     "execution_count": 28,
     "metadata": {},
     "output_type": "execute_result"
    }
   ],
   "source": [
    "# standardize the data\n",
    "scaler.fit(trainData[['COUPON','NEW','VACATION','SW','HI','S_INCOME','E_INCOME','S_POP','E_POP','SLOT','GATE','DISTANCE','PAX']])"
   ]
  },
  {
   "cell_type": "code",
   "execution_count": 31,
   "metadata": {
    "id": "FXnJQuAfDMB1"
   },
   "outputs": [],
   "source": [
    "fareNorm = pd.concat([pd.DataFrame(scaler.transform(df[['COUPON','NEW','VACATION','SW','HI','S_INCOME','E_INCOME','S_POP','E_POP','SLOT','GATE','DISTANCE','PAX']]),\n",
    "                                  columns = ['zCOUPON','zNEW','zVACATION','zSW','zHI','zS_INCOME','zE_INCOME','zS_POP','zE_POP','zSLOT','zGATE','zDISTANCE','zPAX']),\n",
    "                     df[['FARE']]], axis = 1)"
   ]
  },
  {
   "cell_type": "code",
   "execution_count": 32,
   "metadata": {
    "id": "c0NiLsXpEatl"
   },
   "outputs": [],
   "source": [
    "trainNorm = fareNorm.iloc[trainData.index]\n",
    "validNorm = fareNorm.iloc[validData.index]"
   ]
  },
  {
   "cell_type": "code",
   "execution_count": 33,
   "metadata": {
    "id": "1Lg8iVZpE8h1"
   },
   "outputs": [],
   "source": [
    "train_X = trainNorm[['zCOUPON','zNEW','zHI','zS_INCOME','zE_INCOME','zS_POP','zE_POP','zDISTANCE','zPAX']]\n",
    "train_Y = trainNorm[['FARE']]\n",
    "valid_X = validNorm[['zCOUPON','zNEW','zHI','zS_INCOME','zE_INCOME','zS_POP','zE_POP','zDISTANCE','zPAX']]\n",
    "valid_Y = validNorm[['FARE']]"
   ]
  },
  {
   "cell_type": "code",
   "execution_count": 34,
   "metadata": {
    "colab": {
     "base_uri": "https://localhost:8080/"
    },
    "id": "P68imKLLFNHX",
    "outputId": "4ffa0bb6-ff79-47ef-aba3-9d3e2df89bbc"
   },
   "outputs": [
    {
     "data": {
      "text/plain": [
       "LinearRegression()"
      ]
     },
     "execution_count": 34,
     "metadata": {},
     "output_type": "execute_result"
    }
   ],
   "source": [
    "fare_lrm_standard = LinearRegression()\n",
    "fare_lrm_standard.fit(train_X, train_Y)"
   ]
  },
  {
   "cell_type": "code",
   "execution_count": 35,
   "metadata": {
    "colab": {
     "base_uri": "https://localhost:8080/"
    },
    "id": "y6FfTv6ZFgYd",
    "outputId": "061839e2-a5f1-4592-fe71-0e06f0bcedb1"
   },
   "outputs": [
    {
     "name": "stdout",
     "output_type": "stream",
     "text": [
      "\n",
      "Regression statistics\n",
      "\n",
      "                      Mean Error (ME) : -1.0048\n",
      "       Root Mean Squared Error (RMSE) : 42.8813\n",
      "            Mean Absolute Error (MAE) : 34.5181\n",
      "          Mean Percentage Error (MPE) : -10.4026\n",
      "Mean Absolute Percentage Error (MAPE) : 26.7294\n"
     ]
    }
   ],
   "source": [
    "# evaluate the model\n",
    "regressionSummary(valid_Y, fare_lrm_standard.predict(valid_X))"
   ]
  },
  {
   "cell_type": "code",
   "execution_count": null,
   "metadata": {
    "id": "s7PIGz84FnmY"
   },
   "outputs": [],
   "source": [
    "# Q2 Surprisingly enough, the model that used standardized data performed slightly worse than when it was used on unprocessed data"
   ]
  },
  {
   "cell_type": "code",
   "execution_count": 36,
   "metadata": {
    "id": "LYdc0cx7qg0E"
   },
   "outputs": [],
   "source": [
    "predict = {'COUPON':[1.202], 'NEW':[3], 'VACATION':[0],'SW':[0],'HI':[4442.141],'S_INCOME':[28760],'E_INCOME':[27664],'S_POP':[4557004],'E_POP':[3195503],'SLOT':[1],'GATE':[1],'DISTANCE':[1976],'PAX':[12782]}"
   ]
  },
  {
   "cell_type": "code",
   "execution_count": 37,
   "metadata": {
    "id": "wLJLYU-dqg8w"
   },
   "outputs": [],
   "source": [
    "predict_df = pd.DataFrame(predict)"
   ]
  },
  {
   "cell_type": "code",
   "execution_count": 38,
   "metadata": {
    "colab": {
     "base_uri": "https://localhost:8080/",
     "height": 81
    },
    "id": "LSm1BRDStozr",
    "outputId": "24fe3b43-6cd5-4b86-c090-26c1126d0cac"
   },
   "outputs": [
    {
     "data": {
      "text/html": [
       "\n",
       "  <div id=\"df-85697628-465b-49af-92bd-59799630a1e6\">\n",
       "    <div class=\"colab-df-container\">\n",
       "      <div>\n",
       "<style scoped>\n",
       "    .dataframe tbody tr th:only-of-type {\n",
       "        vertical-align: middle;\n",
       "    }\n",
       "\n",
       "    .dataframe tbody tr th {\n",
       "        vertical-align: top;\n",
       "    }\n",
       "\n",
       "    .dataframe thead th {\n",
       "        text-align: right;\n",
       "    }\n",
       "</style>\n",
       "<table border=\"1\" class=\"dataframe\">\n",
       "  <thead>\n",
       "    <tr style=\"text-align: right;\">\n",
       "      <th></th>\n",
       "      <th>COUPON</th>\n",
       "      <th>NEW</th>\n",
       "      <th>VACATION</th>\n",
       "      <th>SW</th>\n",
       "      <th>HI</th>\n",
       "      <th>S_INCOME</th>\n",
       "      <th>E_INCOME</th>\n",
       "      <th>S_POP</th>\n",
       "      <th>E_POP</th>\n",
       "      <th>SLOT</th>\n",
       "      <th>GATE</th>\n",
       "      <th>DISTANCE</th>\n",
       "      <th>PAX</th>\n",
       "    </tr>\n",
       "  </thead>\n",
       "  <tbody>\n",
       "    <tr>\n",
       "      <th>0</th>\n",
       "      <td>1.202</td>\n",
       "      <td>3</td>\n",
       "      <td>0</td>\n",
       "      <td>0</td>\n",
       "      <td>4442.141</td>\n",
       "      <td>28760</td>\n",
       "      <td>27664</td>\n",
       "      <td>4557004</td>\n",
       "      <td>3195503</td>\n",
       "      <td>1</td>\n",
       "      <td>1</td>\n",
       "      <td>1976</td>\n",
       "      <td>12782</td>\n",
       "    </tr>\n",
       "  </tbody>\n",
       "</table>\n",
       "</div>\n",
       "      <button class=\"colab-df-convert\" onclick=\"convertToInteractive('df-85697628-465b-49af-92bd-59799630a1e6')\"\n",
       "              title=\"Convert this dataframe to an interactive table.\"\n",
       "              style=\"display:none;\">\n",
       "        \n",
       "  <svg xmlns=\"http://www.w3.org/2000/svg\" height=\"24px\"viewBox=\"0 0 24 24\"\n",
       "       width=\"24px\">\n",
       "    <path d=\"M0 0h24v24H0V0z\" fill=\"none\"/>\n",
       "    <path d=\"M18.56 5.44l.94 2.06.94-2.06 2.06-.94-2.06-.94-.94-2.06-.94 2.06-2.06.94zm-11 1L8.5 8.5l.94-2.06 2.06-.94-2.06-.94L8.5 2.5l-.94 2.06-2.06.94zm10 10l.94 2.06.94-2.06 2.06-.94-2.06-.94-.94-2.06-.94 2.06-2.06.94z\"/><path d=\"M17.41 7.96l-1.37-1.37c-.4-.4-.92-.59-1.43-.59-.52 0-1.04.2-1.43.59L10.3 9.45l-7.72 7.72c-.78.78-.78 2.05 0 2.83L4 21.41c.39.39.9.59 1.41.59.51 0 1.02-.2 1.41-.59l7.78-7.78 2.81-2.81c.8-.78.8-2.07 0-2.86zM5.41 20L4 18.59l7.72-7.72 1.47 1.35L5.41 20z\"/>\n",
       "  </svg>\n",
       "      </button>\n",
       "      \n",
       "  <style>\n",
       "    .colab-df-container {\n",
       "      display:flex;\n",
       "      flex-wrap:wrap;\n",
       "      gap: 12px;\n",
       "    }\n",
       "\n",
       "    .colab-df-convert {\n",
       "      background-color: #E8F0FE;\n",
       "      border: none;\n",
       "      border-radius: 50%;\n",
       "      cursor: pointer;\n",
       "      display: none;\n",
       "      fill: #1967D2;\n",
       "      height: 32px;\n",
       "      padding: 0 0 0 0;\n",
       "      width: 32px;\n",
       "    }\n",
       "\n",
       "    .colab-df-convert:hover {\n",
       "      background-color: #E2EBFA;\n",
       "      box-shadow: 0px 1px 2px rgba(60, 64, 67, 0.3), 0px 1px 3px 1px rgba(60, 64, 67, 0.15);\n",
       "      fill: #174EA6;\n",
       "    }\n",
       "\n",
       "    [theme=dark] .colab-df-convert {\n",
       "      background-color: #3B4455;\n",
       "      fill: #D2E3FC;\n",
       "    }\n",
       "\n",
       "    [theme=dark] .colab-df-convert:hover {\n",
       "      background-color: #434B5C;\n",
       "      box-shadow: 0px 1px 3px 1px rgba(0, 0, 0, 0.15);\n",
       "      filter: drop-shadow(0px 1px 2px rgba(0, 0, 0, 0.3));\n",
       "      fill: #FFFFFF;\n",
       "    }\n",
       "  </style>\n",
       "\n",
       "      <script>\n",
       "        const buttonEl =\n",
       "          document.querySelector('#df-85697628-465b-49af-92bd-59799630a1e6 button.colab-df-convert');\n",
       "        buttonEl.style.display =\n",
       "          google.colab.kernel.accessAllowed ? 'block' : 'none';\n",
       "\n",
       "        async function convertToInteractive(key) {\n",
       "          const element = document.querySelector('#df-85697628-465b-49af-92bd-59799630a1e6');\n",
       "          const dataTable =\n",
       "            await google.colab.kernel.invokeFunction('convertToInteractive',\n",
       "                                                     [key], {});\n",
       "          if (!dataTable) return;\n",
       "\n",
       "          const docLinkHtml = 'Like what you see? Visit the ' +\n",
       "            '<a target=\"_blank\" href=https://colab.research.google.com/notebooks/data_table.ipynb>data table notebook</a>'\n",
       "            + ' to learn more about interactive tables.';\n",
       "          element.innerHTML = '';\n",
       "          dataTable['output_type'] = 'display_data';\n",
       "          await google.colab.output.renderOutput(dataTable, element);\n",
       "          const docLink = document.createElement('div');\n",
       "          docLink.innerHTML = docLinkHtml;\n",
       "          element.appendChild(docLink);\n",
       "        }\n",
       "      </script>\n",
       "    </div>\n",
       "  </div>\n",
       "  "
      ],
      "text/plain": [
       "   COUPON  NEW  VACATION  SW        HI  S_INCOME  E_INCOME    S_POP    E_POP  \\\n",
       "0   1.202    3         0   0  4442.141     28760     27664  4557004  3195503   \n",
       "\n",
       "   SLOT  GATE  DISTANCE    PAX  \n",
       "0     1     1      1976  12782  "
      ]
     },
     "execution_count": 38,
     "metadata": {},
     "output_type": "execute_result"
    }
   ],
   "source": [
    "predict_df"
   ]
  },
  {
   "cell_type": "code",
   "execution_count": 39,
   "metadata": {
    "id": "UE5i-Xfes_gW"
   },
   "outputs": [],
   "source": [
    "X = pd.get_dummies(predict_df[predictors])"
   ]
  },
  {
   "cell_type": "code",
   "execution_count": 40,
   "metadata": {
    "colab": {
     "base_uri": "https://localhost:8080/"
    },
    "id": "MtxkK8N_tXOQ",
    "outputId": "ba629273-75a8-48ca-a665-773eb3355bfe"
   },
   "outputs": [
    {
     "data": {
      "text/plain": [
       "array([253.6962435])"
      ]
     },
     "execution_count": 40,
     "metadata": {},
     "output_type": "execute_result"
    }
   ],
   "source": [
    "fare_lrm.predict(X)"
   ]
  },
  {
   "cell_type": "code",
   "execution_count": 41,
   "metadata": {
    "id": "IU7LgGA5Kpew"
   },
   "outputs": [],
   "source": [
    "# Q3: The model predicts the fare to be roughly 254 dollars."
   ]
  },
  {
   "cell_type": "code",
   "execution_count": 42,
   "metadata": {
    "id": "SQvUCEyZxUdr"
   },
   "outputs": [],
   "source": [
    "# Q4: S_CODE, E_CODE, HI, E_INCOME, E_POP, GATE, S_CITY, E_CITY, S_INCOME, S_POP, SLOT, and DISTANCE are all variables that can be known in the real world.\n",
    "# In the situation of a new airport (as in the question given), since it is a new route, COUPON, VACATION, PAX, NEW, and SW variables might not be available in a real-world situation."
   ]
  },
  {
   "cell_type": "code",
   "execution_count": 42,
   "metadata": {
    "id": "8YTMGU7-yVp0"
   },
   "outputs": [],
   "source": []
  }
 ],
 "metadata": {
  "colab": {
   "name": "PA 2 DW HW 1.ipynb",
   "provenance": []
  },
  "kernelspec": {
   "display_name": "Python 3",
   "language": "python",
   "name": "python3"
  },
  "language_info": {
   "codemirror_mode": {
    "name": "ipython",
    "version": 3
   },
   "file_extension": ".py",
   "mimetype": "text/x-python",
   "name": "python",
   "nbconvert_exporter": "python",
   "pygments_lexer": "ipython3",
   "version": "3.8.5"
  }
 },
 "nbformat": 4,
 "nbformat_minor": 1
}
