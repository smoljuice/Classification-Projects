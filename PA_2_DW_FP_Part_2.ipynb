{
  "nbformat": 4,
  "nbformat_minor": 0,
  "metadata": {
    "colab": {
      "name": "PA 2 DW FP Part 2.ipynb",
      "provenance": []
    },
    "kernelspec": {
      "name": "python3",
      "display_name": "Python 3"
    },
    "language_info": {
      "name": "python"
    }
  },
  "cells": [
    {
      "cell_type": "code",
      "execution_count": 1,
      "metadata": {
        "colab": {
          "base_uri": "https://localhost:8080/"
        },
        "id": "W3oPpEKhrZ7C",
        "outputId": "8a2cde5e-b6ec-4b1c-c0c8-4ebe5129d72c"
      },
      "outputs": [
        {
          "output_type": "stream",
          "name": "stdout",
          "text": [
            "Requirement already satisfied: dmba in /usr/local/lib/python3.7/dist-packages (0.1.0)\n",
            "no display found. Using non-interactive Agg backend\n"
          ]
        }
      ],
      "source": [
        "!pip install dmba\n",
        "import dmba\n",
        "import pandas as pd\n",
        "from sklearn.model_selection import train_test_split\n",
        "from sklearn.metrics import accuracy_score\n",
        "from sklearn.neural_network import MLPClassifier\n",
        "from sklearn.discriminant_analysis import LinearDiscriminantAnalysis\n",
        "from sklearn.linear_model import LogisticRegression\n",
        "from sklearn.neighbors import NearestNeighbors, KNeighborsClassifier\n",
        "from sklearn.tree import DecisionTreeClassifier\n",
        "from sklearn.ensemble import RandomForestClassifier\n",
        "import matplotlib.pylab as plt\n",
        "from dmba import classificationSummary, liftChart, gainsChart"
      ]
    },
    {
      "cell_type": "code",
      "source": [
        "cabs_df = pd.read_csv('Taxi-cancellation-case.csv')"
      ],
      "metadata": {
        "id": "Qri10SeesvxV"
      },
      "execution_count": 2,
      "outputs": []
    },
    {
      "cell_type": "code",
      "source": [
        "cabs_df.info()"
      ],
      "metadata": {
        "colab": {
          "base_uri": "https://localhost:8080/"
        },
        "id": "eAG4uxads49Y",
        "outputId": "c2fe93ad-83e3-4094-d98f-f669a4b7281d"
      },
      "execution_count": 3,
      "outputs": [
        {
          "output_type": "stream",
          "name": "stdout",
          "text": [
            "<class 'pandas.core.frame.DataFrame'>\n",
            "RangeIndex: 10000 entries, 0 to 9999\n",
            "Data columns (total 19 columns):\n",
            " #   Column               Non-Null Count  Dtype  \n",
            "---  ------               --------------  -----  \n",
            " 0   row#                 10000 non-null  int64  \n",
            " 1   user_id              10000 non-null  int64  \n",
            " 2   vehicle_model_id     10000 non-null  int64  \n",
            " 3   package_id           1752 non-null   float64\n",
            " 4   travel_type_id       10000 non-null  int64  \n",
            " 5   from_area_id         9985 non-null   float64\n",
            " 6   to_area_id           7909 non-null   float64\n",
            " 7   from_city_id         3706 non-null   float64\n",
            " 8   to_city_id           339 non-null    float64\n",
            " 9   from_date            10000 non-null  object \n",
            " 10  to_date              5822 non-null   object \n",
            " 11  online_booking       10000 non-null  int64  \n",
            " 12  mobile_site_booking  10000 non-null  int64  \n",
            " 13  booking_created      10000 non-null  object \n",
            " 14  from_lat             9985 non-null   float64\n",
            " 15  from_long            9985 non-null   float64\n",
            " 16  to_lat               7909 non-null   float64\n",
            " 17  to_long              7909 non-null   float64\n",
            " 18  Car_Cancellation     10000 non-null  int64  \n",
            "dtypes: float64(9), int64(7), object(3)\n",
            "memory usage: 1.4+ MB\n"
          ]
        }
      ]
    },
    {
      "cell_type": "code",
      "source": [
        "cabs_df.head()"
      ],
      "metadata": {
        "colab": {
          "base_uri": "https://localhost:8080/",
          "height": 357
        },
        "id": "P6vgqnIauVDk",
        "outputId": "83d5011d-c4d3-4402-b826-8c3d9df3cfcd"
      },
      "execution_count": 4,
      "outputs": [
        {
          "output_type": "execute_result",
          "data": {
            "text/plain": [
              "   row#  user_id  vehicle_model_id  package_id  travel_type_id  from_area_id  \\\n",
              "0     1    17712                12         NaN               2        1021.0   \n",
              "1     2    17037                12         NaN               2         455.0   \n",
              "2     3      761                12         NaN               2         814.0   \n",
              "3     4      868                12         NaN               2         297.0   \n",
              "4     5    21716                28         NaN               2        1237.0   \n",
              "\n",
              "   to_area_id  from_city_id  to_city_id     from_date      to_date  \\\n",
              "0      1323.0           NaN         NaN  1/1/13 22:33          NaN   \n",
              "1      1330.0           NaN         NaN  1/1/13 12:43          NaN   \n",
              "2       393.0           NaN         NaN   1/2/13 0:28  1/3/13 0:00   \n",
              "3       212.0           NaN         NaN  1/1/13 13:12          NaN   \n",
              "4       330.0           NaN         NaN  1/1/13 16:33          NaN   \n",
              "\n",
              "   online_booking  mobile_site_booking booking_created   from_lat  from_long  \\\n",
              "0               0                    0     1/1/13 8:01  13.028530   77.54625   \n",
              "1               0                    0     1/1/13 9:59  12.999874   77.67812   \n",
              "2               1                    0    1/1/13 12:14  12.908993   77.68890   \n",
              "3               0                    0    1/1/13 12:42  12.997890   77.61488   \n",
              "4               0                    0    1/1/13 15:07  12.926450   77.61206   \n",
              "\n",
              "      to_lat    to_long  Car_Cancellation  \n",
              "0  12.869805  77.653211                 0  \n",
              "1  12.953434  77.706510                 0  \n",
              "2  13.199560  77.706880                 0  \n",
              "3  12.994740  77.607970                 0  \n",
              "4  12.858833  77.589127                 0  "
            ],
            "text/html": [
              "\n",
              "  <div id=\"df-0eef2941-a67b-4e24-ae7f-aa76633f9a2b\">\n",
              "    <div class=\"colab-df-container\">\n",
              "      <div>\n",
              "<style scoped>\n",
              "    .dataframe tbody tr th:only-of-type {\n",
              "        vertical-align: middle;\n",
              "    }\n",
              "\n",
              "    .dataframe tbody tr th {\n",
              "        vertical-align: top;\n",
              "    }\n",
              "\n",
              "    .dataframe thead th {\n",
              "        text-align: right;\n",
              "    }\n",
              "</style>\n",
              "<table border=\"1\" class=\"dataframe\">\n",
              "  <thead>\n",
              "    <tr style=\"text-align: right;\">\n",
              "      <th></th>\n",
              "      <th>row#</th>\n",
              "      <th>user_id</th>\n",
              "      <th>vehicle_model_id</th>\n",
              "      <th>package_id</th>\n",
              "      <th>travel_type_id</th>\n",
              "      <th>from_area_id</th>\n",
              "      <th>to_area_id</th>\n",
              "      <th>from_city_id</th>\n",
              "      <th>to_city_id</th>\n",
              "      <th>from_date</th>\n",
              "      <th>to_date</th>\n",
              "      <th>online_booking</th>\n",
              "      <th>mobile_site_booking</th>\n",
              "      <th>booking_created</th>\n",
              "      <th>from_lat</th>\n",
              "      <th>from_long</th>\n",
              "      <th>to_lat</th>\n",
              "      <th>to_long</th>\n",
              "      <th>Car_Cancellation</th>\n",
              "    </tr>\n",
              "  </thead>\n",
              "  <tbody>\n",
              "    <tr>\n",
              "      <th>0</th>\n",
              "      <td>1</td>\n",
              "      <td>17712</td>\n",
              "      <td>12</td>\n",
              "      <td>NaN</td>\n",
              "      <td>2</td>\n",
              "      <td>1021.0</td>\n",
              "      <td>1323.0</td>\n",
              "      <td>NaN</td>\n",
              "      <td>NaN</td>\n",
              "      <td>1/1/13 22:33</td>\n",
              "      <td>NaN</td>\n",
              "      <td>0</td>\n",
              "      <td>0</td>\n",
              "      <td>1/1/13 8:01</td>\n",
              "      <td>13.028530</td>\n",
              "      <td>77.54625</td>\n",
              "      <td>12.869805</td>\n",
              "      <td>77.653211</td>\n",
              "      <td>0</td>\n",
              "    </tr>\n",
              "    <tr>\n",
              "      <th>1</th>\n",
              "      <td>2</td>\n",
              "      <td>17037</td>\n",
              "      <td>12</td>\n",
              "      <td>NaN</td>\n",
              "      <td>2</td>\n",
              "      <td>455.0</td>\n",
              "      <td>1330.0</td>\n",
              "      <td>NaN</td>\n",
              "      <td>NaN</td>\n",
              "      <td>1/1/13 12:43</td>\n",
              "      <td>NaN</td>\n",
              "      <td>0</td>\n",
              "      <td>0</td>\n",
              "      <td>1/1/13 9:59</td>\n",
              "      <td>12.999874</td>\n",
              "      <td>77.67812</td>\n",
              "      <td>12.953434</td>\n",
              "      <td>77.706510</td>\n",
              "      <td>0</td>\n",
              "    </tr>\n",
              "    <tr>\n",
              "      <th>2</th>\n",
              "      <td>3</td>\n",
              "      <td>761</td>\n",
              "      <td>12</td>\n",
              "      <td>NaN</td>\n",
              "      <td>2</td>\n",
              "      <td>814.0</td>\n",
              "      <td>393.0</td>\n",
              "      <td>NaN</td>\n",
              "      <td>NaN</td>\n",
              "      <td>1/2/13 0:28</td>\n",
              "      <td>1/3/13 0:00</td>\n",
              "      <td>1</td>\n",
              "      <td>0</td>\n",
              "      <td>1/1/13 12:14</td>\n",
              "      <td>12.908993</td>\n",
              "      <td>77.68890</td>\n",
              "      <td>13.199560</td>\n",
              "      <td>77.706880</td>\n",
              "      <td>0</td>\n",
              "    </tr>\n",
              "    <tr>\n",
              "      <th>3</th>\n",
              "      <td>4</td>\n",
              "      <td>868</td>\n",
              "      <td>12</td>\n",
              "      <td>NaN</td>\n",
              "      <td>2</td>\n",
              "      <td>297.0</td>\n",
              "      <td>212.0</td>\n",
              "      <td>NaN</td>\n",
              "      <td>NaN</td>\n",
              "      <td>1/1/13 13:12</td>\n",
              "      <td>NaN</td>\n",
              "      <td>0</td>\n",
              "      <td>0</td>\n",
              "      <td>1/1/13 12:42</td>\n",
              "      <td>12.997890</td>\n",
              "      <td>77.61488</td>\n",
              "      <td>12.994740</td>\n",
              "      <td>77.607970</td>\n",
              "      <td>0</td>\n",
              "    </tr>\n",
              "    <tr>\n",
              "      <th>4</th>\n",
              "      <td>5</td>\n",
              "      <td>21716</td>\n",
              "      <td>28</td>\n",
              "      <td>NaN</td>\n",
              "      <td>2</td>\n",
              "      <td>1237.0</td>\n",
              "      <td>330.0</td>\n",
              "      <td>NaN</td>\n",
              "      <td>NaN</td>\n",
              "      <td>1/1/13 16:33</td>\n",
              "      <td>NaN</td>\n",
              "      <td>0</td>\n",
              "      <td>0</td>\n",
              "      <td>1/1/13 15:07</td>\n",
              "      <td>12.926450</td>\n",
              "      <td>77.61206</td>\n",
              "      <td>12.858833</td>\n",
              "      <td>77.589127</td>\n",
              "      <td>0</td>\n",
              "    </tr>\n",
              "  </tbody>\n",
              "</table>\n",
              "</div>\n",
              "      <button class=\"colab-df-convert\" onclick=\"convertToInteractive('df-0eef2941-a67b-4e24-ae7f-aa76633f9a2b')\"\n",
              "              title=\"Convert this dataframe to an interactive table.\"\n",
              "              style=\"display:none;\">\n",
              "        \n",
              "  <svg xmlns=\"http://www.w3.org/2000/svg\" height=\"24px\"viewBox=\"0 0 24 24\"\n",
              "       width=\"24px\">\n",
              "    <path d=\"M0 0h24v24H0V0z\" fill=\"none\"/>\n",
              "    <path d=\"M18.56 5.44l.94 2.06.94-2.06 2.06-.94-2.06-.94-.94-2.06-.94 2.06-2.06.94zm-11 1L8.5 8.5l.94-2.06 2.06-.94-2.06-.94L8.5 2.5l-.94 2.06-2.06.94zm10 10l.94 2.06.94-2.06 2.06-.94-2.06-.94-.94-2.06-.94 2.06-2.06.94z\"/><path d=\"M17.41 7.96l-1.37-1.37c-.4-.4-.92-.59-1.43-.59-.52 0-1.04.2-1.43.59L10.3 9.45l-7.72 7.72c-.78.78-.78 2.05 0 2.83L4 21.41c.39.39.9.59 1.41.59.51 0 1.02-.2 1.41-.59l7.78-7.78 2.81-2.81c.8-.78.8-2.07 0-2.86zM5.41 20L4 18.59l7.72-7.72 1.47 1.35L5.41 20z\"/>\n",
              "  </svg>\n",
              "      </button>\n",
              "      \n",
              "  <style>\n",
              "    .colab-df-container {\n",
              "      display:flex;\n",
              "      flex-wrap:wrap;\n",
              "      gap: 12px;\n",
              "    }\n",
              "\n",
              "    .colab-df-convert {\n",
              "      background-color: #E8F0FE;\n",
              "      border: none;\n",
              "      border-radius: 50%;\n",
              "      cursor: pointer;\n",
              "      display: none;\n",
              "      fill: #1967D2;\n",
              "      height: 32px;\n",
              "      padding: 0 0 0 0;\n",
              "      width: 32px;\n",
              "    }\n",
              "\n",
              "    .colab-df-convert:hover {\n",
              "      background-color: #E2EBFA;\n",
              "      box-shadow: 0px 1px 2px rgba(60, 64, 67, 0.3), 0px 1px 3px 1px rgba(60, 64, 67, 0.15);\n",
              "      fill: #174EA6;\n",
              "    }\n",
              "\n",
              "    [theme=dark] .colab-df-convert {\n",
              "      background-color: #3B4455;\n",
              "      fill: #D2E3FC;\n",
              "    }\n",
              "\n",
              "    [theme=dark] .colab-df-convert:hover {\n",
              "      background-color: #434B5C;\n",
              "      box-shadow: 0px 1px 3px 1px rgba(0, 0, 0, 0.15);\n",
              "      filter: drop-shadow(0px 1px 2px rgba(0, 0, 0, 0.3));\n",
              "      fill: #FFFFFF;\n",
              "    }\n",
              "  </style>\n",
              "\n",
              "      <script>\n",
              "        const buttonEl =\n",
              "          document.querySelector('#df-0eef2941-a67b-4e24-ae7f-aa76633f9a2b button.colab-df-convert');\n",
              "        buttonEl.style.display =\n",
              "          google.colab.kernel.accessAllowed ? 'block' : 'none';\n",
              "\n",
              "        async function convertToInteractive(key) {\n",
              "          const element = document.querySelector('#df-0eef2941-a67b-4e24-ae7f-aa76633f9a2b');\n",
              "          const dataTable =\n",
              "            await google.colab.kernel.invokeFunction('convertToInteractive',\n",
              "                                                     [key], {});\n",
              "          if (!dataTable) return;\n",
              "\n",
              "          const docLinkHtml = 'Like what you see? Visit the ' +\n",
              "            '<a target=\"_blank\" href=https://colab.research.google.com/notebooks/data_table.ipynb>data table notebook</a>'\n",
              "            + ' to learn more about interactive tables.';\n",
              "          element.innerHTML = '';\n",
              "          dataTable['output_type'] = 'display_data';\n",
              "          await google.colab.output.renderOutput(dataTable, element);\n",
              "          const docLink = document.createElement('div');\n",
              "          docLink.innerHTML = docLinkHtml;\n",
              "          element.appendChild(docLink);\n",
              "        }\n",
              "      </script>\n",
              "    </div>\n",
              "  </div>\n",
              "  "
            ]
          },
          "metadata": {},
          "execution_count": 4
        }
      ]
    },
    {
      "cell_type": "code",
      "source": [
        "cabs_df.dropna(subset=['from_area_id','to_area_id'], inplace = True)"
      ],
      "metadata": {
        "id": "xEoQYW6E1ge3"
      },
      "execution_count": 5,
      "outputs": []
    },
    {
      "cell_type": "code",
      "source": [
        "predictors = ['from_area_id','to_area_id','travel_type_id','online_booking','mobile_site_booking']\n",
        "outcome = 'Car_Cancellation'"
      ],
      "metadata": {
        "id": "XtXK5HkCuWhn"
      },
      "execution_count": 6,
      "outputs": []
    },
    {
      "cell_type": "code",
      "source": [
        "# partition data\n",
        "X = cabs_df[predictors]\n",
        "y = cabs_df[outcome]\n",
        "X_train, X_valid, y_train, y_valid = train_test_split(X, y, test_size = 0.4, random_state = 1)"
      ],
      "metadata": {
        "id": "hNlEjLZdyIDo"
      },
      "execution_count": 7,
      "outputs": []
    },
    {
      "cell_type": "code",
      "source": [
        "# Logistic Regression model\n",
        "logit_reg = LogisticRegression()"
      ],
      "metadata": {
        "id": "bhmHl0_TyK2Y"
      },
      "execution_count": 8,
      "outputs": []
    },
    {
      "cell_type": "code",
      "source": [
        "logit_reg.fit(X_train, y_train)"
      ],
      "metadata": {
        "colab": {
          "base_uri": "https://localhost:8080/"
        },
        "id": "WTwoBZT6zNyo",
        "outputId": "b936ae51-5b1c-437b-ce32-dc1293c80748"
      },
      "execution_count": 9,
      "outputs": [
        {
          "output_type": "execute_result",
          "data": {
            "text/plain": [
              "LogisticRegression()"
            ]
          },
          "metadata": {},
          "execution_count": 9
        }
      ]
    },
    {
      "cell_type": "code",
      "source": [
        "classificationSummary(y_valid, logit_reg.predict(X_valid))"
      ],
      "metadata": {
        "colab": {
          "base_uri": "https://localhost:8080/"
        },
        "id": "FvEvayAnzTRw",
        "outputId": "84d0790d-9712-4115-f216-866d93ae1c6b"
      },
      "execution_count": 10,
      "outputs": [
        {
          "output_type": "stream",
          "name": "stdout",
          "text": [
            "Confusion Matrix (Accuracy 0.9241)\n",
            "\n",
            "       Prediction\n",
            "Actual    0    1\n",
            "     0 2924    0\n",
            "     1  240    0\n"
          ]
        }
      ]
    },
    {
      "cell_type": "code",
      "source": [
        "# While the accuracy is high, the model is not very useful as it does not classify any entries as a 1"
      ],
      "metadata": {
        "id": "-97MEr5Ozcy3"
      },
      "execution_count": 11,
      "outputs": []
    },
    {
      "cell_type": "code",
      "source": [
        "# Linear Discriminant Analysis model\n",
        "lda = LinearDiscriminantAnalysis()"
      ],
      "metadata": {
        "id": "ELIkYE-czr5I"
      },
      "execution_count": 12,
      "outputs": []
    },
    {
      "cell_type": "code",
      "source": [
        "lda.fit(X_train, y_train)"
      ],
      "metadata": {
        "colab": {
          "base_uri": "https://localhost:8080/"
        },
        "id": "R_qnGbgiz0yb",
        "outputId": "189cb615-a618-42a4-9786-50f45fbf48e2"
      },
      "execution_count": 13,
      "outputs": [
        {
          "output_type": "execute_result",
          "data": {
            "text/plain": [
              "LinearDiscriminantAnalysis()"
            ]
          },
          "metadata": {},
          "execution_count": 13
        }
      ]
    },
    {
      "cell_type": "code",
      "source": [
        "classificationSummary(y_valid, lda.predict(X_valid))"
      ],
      "metadata": {
        "colab": {
          "base_uri": "https://localhost:8080/"
        },
        "id": "JYjZJZ470hMl",
        "outputId": "e37fa073-e6c6-459b-ea0b-8cc5766416fa"
      },
      "execution_count": 14,
      "outputs": [
        {
          "output_type": "stream",
          "name": "stdout",
          "text": [
            "Confusion Matrix (Accuracy 0.9241)\n",
            "\n",
            "       Prediction\n",
            "Actual    0    1\n",
            "     0 2924    0\n",
            "     1  240    0\n"
          ]
        }
      ]
    },
    {
      "cell_type": "code",
      "source": [
        "# While the accuracy is high, the model is not very useful as it does not classify any entries as a 1"
      ],
      "metadata": {
        "id": "UGQiRq3M0jdK"
      },
      "execution_count": 15,
      "outputs": []
    },
    {
      "cell_type": "code",
      "source": [
        "# Neural Net model\n",
        "mlpc = MLPClassifier()"
      ],
      "metadata": {
        "id": "JlbKW_oJ11tC"
      },
      "execution_count": 16,
      "outputs": []
    },
    {
      "cell_type": "code",
      "source": [
        "mlpc.fit(X_train, y_train)"
      ],
      "metadata": {
        "colab": {
          "base_uri": "https://localhost:8080/"
        },
        "id": "-aEhJdVT6dx5",
        "outputId": "ff10ee2b-8390-48fc-9bdc-ee55220d1dfa"
      },
      "execution_count": 17,
      "outputs": [
        {
          "output_type": "execute_result",
          "data": {
            "text/plain": [
              "MLPClassifier()"
            ]
          },
          "metadata": {},
          "execution_count": 17
        }
      ]
    },
    {
      "cell_type": "code",
      "source": [
        "classificationSummary(y_valid, mlpc.predict(X_valid))"
      ],
      "metadata": {
        "colab": {
          "base_uri": "https://localhost:8080/"
        },
        "id": "bvRTM2M46fo7",
        "outputId": "89d0da7b-f0ea-454e-a379-bc2acca9d844"
      },
      "execution_count": 18,
      "outputs": [
        {
          "output_type": "stream",
          "name": "stdout",
          "text": [
            "Confusion Matrix (Accuracy 0.9207)\n",
            "\n",
            "       Prediction\n",
            "Actual    0    1\n",
            "     0 2909   15\n",
            "     1  236    4\n"
          ]
        }
      ]
    },
    {
      "cell_type": "code",
      "source": [
        "# This is some progress! Although the accuracy is ower than the other 2 models, this model does correctly identify some records as being 1!"
      ],
      "metadata": {
        "id": "RDz08tgp6jWj"
      },
      "execution_count": 32,
      "outputs": []
    },
    {
      "cell_type": "code",
      "source": [
        "# k-nearest neighbors model, 3 neighbors\n",
        "knn = KNeighborsClassifier(n_neighbors=3)"
      ],
      "metadata": {
        "id": "geu1zhC07CKR"
      },
      "execution_count": 20,
      "outputs": []
    },
    {
      "cell_type": "code",
      "source": [
        "knn.fit(X_train, y_train)"
      ],
      "metadata": {
        "colab": {
          "base_uri": "https://localhost:8080/"
        },
        "id": "mGDUw5Zp7t_-",
        "outputId": "96d4f130-4edb-4731-8d54-3af92bf85606"
      },
      "execution_count": 21,
      "outputs": [
        {
          "output_type": "execute_result",
          "data": {
            "text/plain": [
              "KNeighborsClassifier(n_neighbors=3)"
            ]
          },
          "metadata": {},
          "execution_count": 21
        }
      ]
    },
    {
      "cell_type": "code",
      "source": [
        "classificationSummary(y_valid, knn.predict(X_valid))"
      ],
      "metadata": {
        "colab": {
          "base_uri": "https://localhost:8080/"
        },
        "id": "jqpeBGDa7v6L",
        "outputId": "df0e487b-8e82-407f-c0d0-a912271f3dba"
      },
      "execution_count": 22,
      "outputs": [
        {
          "output_type": "stream",
          "name": "stdout",
          "text": [
            "Confusion Matrix (Accuracy 0.9080)\n",
            "\n",
            "       Prediction\n",
            "Actual    0    1\n",
            "     0 2854   70\n",
            "     1  221   19\n"
          ]
        }
      ]
    },
    {
      "cell_type": "code",
      "source": [
        "# k-nearest neighbors model, 1 neighbors\n",
        "knn1 = KNeighborsClassifier(n_neighbors=1)"
      ],
      "metadata": {
        "id": "yJmHmxER7xbt"
      },
      "execution_count": 35,
      "outputs": []
    },
    {
      "cell_type": "code",
      "source": [
        "knn1.fit(X_train, y_train)"
      ],
      "metadata": {
        "colab": {
          "base_uri": "https://localhost:8080/"
        },
        "id": "CxBjPj93758B",
        "outputId": "dc774496-b43d-4ced-d364-ba00aa5c5c1a"
      },
      "execution_count": 36,
      "outputs": [
        {
          "output_type": "execute_result",
          "data": {
            "text/plain": [
              "KNeighborsClassifier(n_neighbors=1)"
            ]
          },
          "metadata": {},
          "execution_count": 36
        }
      ]
    },
    {
      "cell_type": "code",
      "source": [
        "classificationSummary(y_valid, knn1.predict(X_valid))"
      ],
      "metadata": {
        "colab": {
          "base_uri": "https://localhost:8080/"
        },
        "id": "7Yryhdmj76oT",
        "outputId": "216903f8-3955-40a2-9b5c-cda5ddf3d9e1"
      },
      "execution_count": 37,
      "outputs": [
        {
          "output_type": "stream",
          "name": "stdout",
          "text": [
            "Confusion Matrix (Accuracy 0.8723)\n",
            "\n",
            "       Prediction\n",
            "Actual    0    1\n",
            "     0 2718  206\n",
            "     1  198   42\n"
          ]
        }
      ]
    },
    {
      "cell_type": "code",
      "source": [
        "# Decision Tree Classifier\n",
        "dec_tree = DecisionTreeClassifier()"
      ],
      "metadata": {
        "id": "NiA0fPIa78P2"
      },
      "execution_count": 38,
      "outputs": []
    },
    {
      "cell_type": "code",
      "source": [
        "dec_tree.fit(X_train, y_train)"
      ],
      "metadata": {
        "colab": {
          "base_uri": "https://localhost:8080/"
        },
        "id": "HIVHGYIK9zNU",
        "outputId": "50468199-4bef-404b-e146-de22d15f89a9"
      },
      "execution_count": 39,
      "outputs": [
        {
          "output_type": "execute_result",
          "data": {
            "text/plain": [
              "DecisionTreeClassifier()"
            ]
          },
          "metadata": {},
          "execution_count": 39
        }
      ]
    },
    {
      "cell_type": "code",
      "source": [
        "classificationSummary(y_valid, dec_tree.predict(X_valid))"
      ],
      "metadata": {
        "colab": {
          "base_uri": "https://localhost:8080/"
        },
        "id": "2FG2yho091bq",
        "outputId": "54f1213b-96c1-40e5-990b-38eb2c623f23"
      },
      "execution_count": 40,
      "outputs": [
        {
          "output_type": "stream",
          "name": "stdout",
          "text": [
            "Confusion Matrix (Accuracy 0.8812)\n",
            "\n",
            "       Prediction\n",
            "Actual    0    1\n",
            "     0 2748  176\n",
            "     1  200   40\n"
          ]
        }
      ]
    },
    {
      "cell_type": "code",
      "source": [
        "# Random Forest model\n",
        "rdm_for = RandomForestClassifier()"
      ],
      "metadata": {
        "id": "9-mcEwdE945a"
      },
      "execution_count": 41,
      "outputs": []
    },
    {
      "cell_type": "code",
      "source": [
        "rdm_for.fit(X_train, y_train)"
      ],
      "metadata": {
        "colab": {
          "base_uri": "https://localhost:8080/"
        },
        "id": "A1twi_uK-S1U",
        "outputId": "81e83c8c-d343-400f-82a5-257f9a1fd540"
      },
      "execution_count": 42,
      "outputs": [
        {
          "output_type": "execute_result",
          "data": {
            "text/plain": [
              "RandomForestClassifier()"
            ]
          },
          "metadata": {},
          "execution_count": 42
        }
      ]
    },
    {
      "cell_type": "code",
      "source": [
        "classificationSummary(y_valid, rdm_for.predict(X_valid))"
      ],
      "metadata": {
        "colab": {
          "base_uri": "https://localhost:8080/"
        },
        "id": "tW2Y7fUl-U67",
        "outputId": "b2f40580-1c1c-491d-99d4-54a4949dec48"
      },
      "execution_count": 43,
      "outputs": [
        {
          "output_type": "stream",
          "name": "stdout",
          "text": [
            "Confusion Matrix (Accuracy 0.9027)\n",
            "\n",
            "       Prediction\n",
            "Actual    0    1\n",
            "     0 2835   89\n",
            "     1  219   21\n"
          ]
        }
      ]
    },
    {
      "cell_type": "code",
      "source": [
        ""
      ],
      "metadata": {
        "id": "dnA1j3wR-XGe"
      },
      "execution_count": 31,
      "outputs": []
    }
  ]
}