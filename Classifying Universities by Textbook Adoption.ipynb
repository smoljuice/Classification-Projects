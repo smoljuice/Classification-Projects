{
  "nbformat": 4,
  "nbformat_minor": 0,
  "metadata": {
    "colab": {
      "name": "PA 2 DW HW 10.ipynb",
      "provenance": []
    },
    "kernelspec": {
      "name": "python3",
      "display_name": "Python 3"
    },
    "language_info": {
      "name": "python"
    }
  },
  "cells": [
    {
      "cell_type": "code",
      "execution_count": 1,
      "metadata": {
        "id": "CFaPaXyzpskx",
        "colab": {
          "base_uri": "https://localhost:8080/"
        },
        "outputId": "a76c71d5-fcbb-40c7-f1b7-97c41041d178"
      },
      "outputs": [
        {
          "output_type": "stream",
          "name": "stdout",
          "text": [
            "Requirement already satisfied: dmba in /usr/local/lib/python3.7/dist-packages (0.1.0)\n",
            "no display found. Using non-interactive Agg backend\n"
          ]
        }
      ],
      "source": [
        "!pip install dmba\n",
        "import pandas as pd\n",
        "from sklearn.model_selection import train_test_split\n",
        "from sklearn.linear_model import LogisticRegression\n",
        "from sklearn.metrics import accuracy_score\n",
        "from sklearn.neighbors import NearestNeighbors, KNeighborsClassifier\n",
        "from sklearn.neural_network import MLPClassifier\n",
        "import matplotlib.pylab as plt\n",
        "from dmba import classificationSummary, liftChart, gainsChart"
      ]
    },
    {
      "cell_type": "code",
      "source": [
        "df = pd.read_csv('Textbook adoption 3 groups.csv')"
      ],
      "metadata": {
        "id": "7D7M7i0s2_5D"
      },
      "execution_count": 2,
      "outputs": []
    },
    {
      "cell_type": "code",
      "source": [
        "df.head()"
      ],
      "metadata": {
        "colab": {
          "base_uri": "https://localhost:8080/",
          "height": 206
        },
        "id": "Yi8To18t3IEG",
        "outputId": "209c35df-c767-4d51-f324-a892554dca27"
      },
      "execution_count": 3,
      "outputs": [
        {
          "output_type": "execute_result",
          "data": {
            "text/plain": [
              "   University  Enrollment  AvgSAT  PctTenure  PCLabs  PctOwnPC  Tuition Status\n",
              "0           1       17455    1068      0.793     154     0.465    17400  Never\n",
              "1           2       14445    1173      0.846     162     0.506    16300  Never\n",
              "2           3       14773    1122      0.809     158     0.680    15600  Never\n",
              "3           4       16138     992      0.634     133     0.542    10100  Never\n",
              "4           5       16717    1141      0.807     123     0.644    16500  Never"
            ],
            "text/html": [
              "\n",
              "  <div id=\"df-22c3f47e-3e9b-403c-b3bb-6bc2a7d3b843\">\n",
              "    <div class=\"colab-df-container\">\n",
              "      <div>\n",
              "<style scoped>\n",
              "    .dataframe tbody tr th:only-of-type {\n",
              "        vertical-align: middle;\n",
              "    }\n",
              "\n",
              "    .dataframe tbody tr th {\n",
              "        vertical-align: top;\n",
              "    }\n",
              "\n",
              "    .dataframe thead th {\n",
              "        text-align: right;\n",
              "    }\n",
              "</style>\n",
              "<table border=\"1\" class=\"dataframe\">\n",
              "  <thead>\n",
              "    <tr style=\"text-align: right;\">\n",
              "      <th></th>\n",
              "      <th>University</th>\n",
              "      <th>Enrollment</th>\n",
              "      <th>AvgSAT</th>\n",
              "      <th>PctTenure</th>\n",
              "      <th>PCLabs</th>\n",
              "      <th>PctOwnPC</th>\n",
              "      <th>Tuition</th>\n",
              "      <th>Status</th>\n",
              "    </tr>\n",
              "  </thead>\n",
              "  <tbody>\n",
              "    <tr>\n",
              "      <th>0</th>\n",
              "      <td>1</td>\n",
              "      <td>17455</td>\n",
              "      <td>1068</td>\n",
              "      <td>0.793</td>\n",
              "      <td>154</td>\n",
              "      <td>0.465</td>\n",
              "      <td>17400</td>\n",
              "      <td>Never</td>\n",
              "    </tr>\n",
              "    <tr>\n",
              "      <th>1</th>\n",
              "      <td>2</td>\n",
              "      <td>14445</td>\n",
              "      <td>1173</td>\n",
              "      <td>0.846</td>\n",
              "      <td>162</td>\n",
              "      <td>0.506</td>\n",
              "      <td>16300</td>\n",
              "      <td>Never</td>\n",
              "    </tr>\n",
              "    <tr>\n",
              "      <th>2</th>\n",
              "      <td>3</td>\n",
              "      <td>14773</td>\n",
              "      <td>1122</td>\n",
              "      <td>0.809</td>\n",
              "      <td>158</td>\n",
              "      <td>0.680</td>\n",
              "      <td>15600</td>\n",
              "      <td>Never</td>\n",
              "    </tr>\n",
              "    <tr>\n",
              "      <th>3</th>\n",
              "      <td>4</td>\n",
              "      <td>16138</td>\n",
              "      <td>992</td>\n",
              "      <td>0.634</td>\n",
              "      <td>133</td>\n",
              "      <td>0.542</td>\n",
              "      <td>10100</td>\n",
              "      <td>Never</td>\n",
              "    </tr>\n",
              "    <tr>\n",
              "      <th>4</th>\n",
              "      <td>5</td>\n",
              "      <td>16717</td>\n",
              "      <td>1141</td>\n",
              "      <td>0.807</td>\n",
              "      <td>123</td>\n",
              "      <td>0.644</td>\n",
              "      <td>16500</td>\n",
              "      <td>Never</td>\n",
              "    </tr>\n",
              "  </tbody>\n",
              "</table>\n",
              "</div>\n",
              "      <button class=\"colab-df-convert\" onclick=\"convertToInteractive('df-22c3f47e-3e9b-403c-b3bb-6bc2a7d3b843')\"\n",
              "              title=\"Convert this dataframe to an interactive table.\"\n",
              "              style=\"display:none;\">\n",
              "        \n",
              "  <svg xmlns=\"http://www.w3.org/2000/svg\" height=\"24px\"viewBox=\"0 0 24 24\"\n",
              "       width=\"24px\">\n",
              "    <path d=\"M0 0h24v24H0V0z\" fill=\"none\"/>\n",
              "    <path d=\"M18.56 5.44l.94 2.06.94-2.06 2.06-.94-2.06-.94-.94-2.06-.94 2.06-2.06.94zm-11 1L8.5 8.5l.94-2.06 2.06-.94-2.06-.94L8.5 2.5l-.94 2.06-2.06.94zm10 10l.94 2.06.94-2.06 2.06-.94-2.06-.94-.94-2.06-.94 2.06-2.06.94z\"/><path d=\"M17.41 7.96l-1.37-1.37c-.4-.4-.92-.59-1.43-.59-.52 0-1.04.2-1.43.59L10.3 9.45l-7.72 7.72c-.78.78-.78 2.05 0 2.83L4 21.41c.39.39.9.59 1.41.59.51 0 1.02-.2 1.41-.59l7.78-7.78 2.81-2.81c.8-.78.8-2.07 0-2.86zM5.41 20L4 18.59l7.72-7.72 1.47 1.35L5.41 20z\"/>\n",
              "  </svg>\n",
              "      </button>\n",
              "      \n",
              "  <style>\n",
              "    .colab-df-container {\n",
              "      display:flex;\n",
              "      flex-wrap:wrap;\n",
              "      gap: 12px;\n",
              "    }\n",
              "\n",
              "    .colab-df-convert {\n",
              "      background-color: #E8F0FE;\n",
              "      border: none;\n",
              "      border-radius: 50%;\n",
              "      cursor: pointer;\n",
              "      display: none;\n",
              "      fill: #1967D2;\n",
              "      height: 32px;\n",
              "      padding: 0 0 0 0;\n",
              "      width: 32px;\n",
              "    }\n",
              "\n",
              "    .colab-df-convert:hover {\n",
              "      background-color: #E2EBFA;\n",
              "      box-shadow: 0px 1px 2px rgba(60, 64, 67, 0.3), 0px 1px 3px 1px rgba(60, 64, 67, 0.15);\n",
              "      fill: #174EA6;\n",
              "    }\n",
              "\n",
              "    [theme=dark] .colab-df-convert {\n",
              "      background-color: #3B4455;\n",
              "      fill: #D2E3FC;\n",
              "    }\n",
              "\n",
              "    [theme=dark] .colab-df-convert:hover {\n",
              "      background-color: #434B5C;\n",
              "      box-shadow: 0px 1px 3px 1px rgba(0, 0, 0, 0.15);\n",
              "      filter: drop-shadow(0px 1px 2px rgba(0, 0, 0, 0.3));\n",
              "      fill: #FFFFFF;\n",
              "    }\n",
              "  </style>\n",
              "\n",
              "      <script>\n",
              "        const buttonEl =\n",
              "          document.querySelector('#df-22c3f47e-3e9b-403c-b3bb-6bc2a7d3b843 button.colab-df-convert');\n",
              "        buttonEl.style.display =\n",
              "          google.colab.kernel.accessAllowed ? 'block' : 'none';\n",
              "\n",
              "        async function convertToInteractive(key) {\n",
              "          const element = document.querySelector('#df-22c3f47e-3e9b-403c-b3bb-6bc2a7d3b843');\n",
              "          const dataTable =\n",
              "            await google.colab.kernel.invokeFunction('convertToInteractive',\n",
              "                                                     [key], {});\n",
              "          if (!dataTable) return;\n",
              "\n",
              "          const docLinkHtml = 'Like what you see? Visit the ' +\n",
              "            '<a target=\"_blank\" href=https://colab.research.google.com/notebooks/data_table.ipynb>data table notebook</a>'\n",
              "            + ' to learn more about interactive tables.';\n",
              "          element.innerHTML = '';\n",
              "          dataTable['output_type'] = 'display_data';\n",
              "          await google.colab.output.renderOutput(dataTable, element);\n",
              "          const docLink = document.createElement('div');\n",
              "          docLink.innerHTML = docLinkHtml;\n",
              "          element.appendChild(docLink);\n",
              "        }\n",
              "      </script>\n",
              "    </div>\n",
              "  </div>\n",
              "  "
            ]
          },
          "metadata": {},
          "execution_count": 3
        }
      ]
    },
    {
      "cell_type": "code",
      "source": [
        "df['Status'].value_counts()"
      ],
      "metadata": {
        "colab": {
          "base_uri": "https://localhost:8080/"
        },
        "id": "kYCkD03m3I_n",
        "outputId": "dfcfde8d-e320-4711-d1f6-78c0849d3b3d"
      },
      "execution_count": 4,
      "outputs": [
        {
          "output_type": "execute_result",
          "data": {
            "text/plain": [
              "Still     42\n",
              "Never     40\n",
              "NoMore    37\n",
              "Name: Status, dtype: int64"
            ]
          },
          "metadata": {},
          "execution_count": 4
        }
      ]
    },
    {
      "cell_type": "code",
      "source": [
        "# Create new column that groups the data into 2 metaclasses of NoMore against other classes\n",
        "df['NoMore'] = [1 if x =='NoMore' else 0 for x in df['Status']]"
      ],
      "metadata": {
        "id": "pe-5H_wl3U7N"
      },
      "execution_count": 5,
      "outputs": []
    },
    {
      "cell_type": "code",
      "source": [
        "predictors = ['Enrollment','AvgSAT','PctTenure','PCLabs','PctOwnPC','Tuition']\n",
        "outcome = 'NoMore'"
      ],
      "metadata": {
        "id": "oTlRFpz34CBo"
      },
      "execution_count": 6,
      "outputs": []
    },
    {
      "cell_type": "code",
      "source": [
        "# partition data\n",
        "X = df[predictors]\n",
        "y = df[outcome]\n",
        "X_train, X_valid, y_train, y_valid = train_test_split(X, y, test_size = 0.4, random_state = 202)"
      ],
      "metadata": {
        "id": "fLQAZlmq4DNy"
      },
      "execution_count": 7,
      "outputs": []
    },
    {
      "cell_type": "code",
      "source": [
        "# Run a logistic regression\n",
        "logit_reg = LogisticRegression(penalty='l2',C=1e42, solver='liblinear')"
      ],
      "metadata": {
        "id": "5UQKXVl54Nws"
      },
      "execution_count": 8,
      "outputs": []
    },
    {
      "cell_type": "code",
      "source": [
        "logit_reg.fit(X_train, y_train)"
      ],
      "metadata": {
        "colab": {
          "base_uri": "https://localhost:8080/"
        },
        "id": "RCTMqqsR6F7l",
        "outputId": "906cfa64-c63d-47e9-da5c-2263a30c02e9"
      },
      "execution_count": 9,
      "outputs": [
        {
          "output_type": "execute_result",
          "data": {
            "text/plain": [
              "LogisticRegression(C=1e+42, solver='liblinear')"
            ]
          },
          "metadata": {},
          "execution_count": 9
        }
      ]
    },
    {
      "cell_type": "code",
      "source": [
        "classificationSummary(y_valid, logit_reg.predict(X_valid))"
      ],
      "metadata": {
        "colab": {
          "base_uri": "https://localhost:8080/"
        },
        "id": "Q9ziQ0z86JdP",
        "outputId": "769a4b91-9ec1-410d-8ace-6b6a9e5f6d2e"
      },
      "execution_count": 10,
      "outputs": [
        {
          "output_type": "stream",
          "name": "stdout",
          "text": [
            "Confusion Matrix (Accuracy 0.7708)\n",
            "\n",
            "       Prediction\n",
            "Actual  0  1\n",
            "     0 32  7\n",
            "     1  4  5\n"
          ]
        }
      ]
    },
    {
      "cell_type": "code",
      "source": [
        "# Run a k-nearest neighbors model\n",
        "knn = KNeighborsClassifier(n_neighbors=3)"
      ],
      "metadata": {
        "id": "Zd5D2Rvl6NyC"
      },
      "execution_count": 11,
      "outputs": []
    },
    {
      "cell_type": "code",
      "source": [
        "knn.fit(X_train, y_train)"
      ],
      "metadata": {
        "colab": {
          "base_uri": "https://localhost:8080/"
        },
        "id": "PktbsIFo7rEH",
        "outputId": "d0671962-f849-45ae-c3c1-ceb8ef8c56d7"
      },
      "execution_count": 12,
      "outputs": [
        {
          "output_type": "execute_result",
          "data": {
            "text/plain": [
              "KNeighborsClassifier(n_neighbors=3)"
            ]
          },
          "metadata": {},
          "execution_count": 12
        }
      ]
    },
    {
      "cell_type": "code",
      "source": [
        "classificationSummary(y_valid, knn.predict(X_valid))"
      ],
      "metadata": {
        "colab": {
          "base_uri": "https://localhost:8080/"
        },
        "id": "KmtuWJ2Q7tR0",
        "outputId": "bf3e1d03-b391-422a-9138-67ebb81a6cb2"
      },
      "execution_count": 13,
      "outputs": [
        {
          "output_type": "stream",
          "name": "stdout",
          "text": [
            "Confusion Matrix (Accuracy 0.7708)\n",
            "\n",
            "       Prediction\n",
            "Actual  0  1\n",
            "     0 30  9\n",
            "     1  2  7\n"
          ]
        }
      ]
    },
    {
      "cell_type": "code",
      "source": [
        "# Run a neural net\n",
        "n_net = MLPClassifier(hidden_layer_sizes=(3), activation='logistic',solver='lbfgs')"
      ],
      "metadata": {
        "id": "Nj3f1n8y7wTJ"
      },
      "execution_count": 14,
      "outputs": []
    },
    {
      "cell_type": "code",
      "source": [
        "n_net.fit(X_train, y_train)"
      ],
      "metadata": {
        "colab": {
          "base_uri": "https://localhost:8080/"
        },
        "id": "0OwSsGi29SZa",
        "outputId": "bc4df96e-cb6b-409a-a744-0f374e70e00f"
      },
      "execution_count": 15,
      "outputs": [
        {
          "output_type": "execute_result",
          "data": {
            "text/plain": [
              "MLPClassifier(activation='logistic', hidden_layer_sizes=3, solver='lbfgs')"
            ]
          },
          "metadata": {},
          "execution_count": 15
        }
      ]
    },
    {
      "cell_type": "code",
      "source": [
        "classificationSummary(y_valid, n_net.predict(X_valid))"
      ],
      "metadata": {
        "colab": {
          "base_uri": "https://localhost:8080/"
        },
        "id": "mXLgDaMp9aSg",
        "outputId": "c383e5f9-7561-4f37-da15-d007727664ae"
      },
      "execution_count": 16,
      "outputs": [
        {
          "output_type": "stream",
          "name": "stdout",
          "text": [
            "Confusion Matrix (Accuracy 0.8125)\n",
            "\n",
            "       Prediction\n",
            "Actual  0  1\n",
            "     0 39  0\n",
            "     1  9  0\n"
          ]
        }
      ]
    },
    {
      "cell_type": "code",
      "source": [
        "# Q3 the neural net had the highest accuracy, but the model is not particularly useful because it predicted every record as a 0, resulting in all 1s being incorrectly predicted as 0s.\n",
        "# K-nearest neighbors and Logistic regression models had similar accuracy rates, but k-nearest neighbors may be slightly more useful as it predicted more true positives than the Logistic regression model."
      ],
      "metadata": {
        "id": "wSt5DOU99iWh"
      },
      "execution_count": 17,
      "outputs": []
    },
    {
      "cell_type": "code",
      "source": [
        "lr_predictiondf = pd.DataFrame({'predicted': logit_reg.predict(X_valid), 'actual': y_valid})\n",
        "knn_predictiondf = pd.DataFrame({'predicted': knn.predict(X_valid), 'actual': y_valid})\n",
        "n_net_predictiondf = pd.DataFrame({'predicted': n_net.predict(X_valid), 'actual': y_valid})"
      ],
      "metadata": {
        "id": "ITEYPEHLBywc"
      },
      "execution_count": 18,
      "outputs": []
    },
    {
      "cell_type": "code",
      "source": [
        "lr_df = lr_predictiondf.sort_values(by=['predicted'], ascending=False)\n",
        "knn_df = knn_predictiondf.sort_values(by=['predicted'], ascending=False)\n",
        "n_net_df = n_net_predictiondf.sort_values(by=['predicted'], ascending=False)"
      ],
      "metadata": {
        "id": "IOr9vaGrECjZ"
      },
      "execution_count": 19,
      "outputs": []
    },
    {
      "cell_type": "code",
      "source": [
        "fig, axes = plt.subplots(nrows=1, ncols=2)\n",
        "ax = gainsChart(lr_df['actual'], ax=axes[0])\n",
        "ax.set_title('Logistic Regression Gains Chart')\n",
        "\n",
        "ax = liftChart(lr_df['actual'], ax=axes[1], labelBars=False)\n",
        "ax.set_ylabel('Lift')\n",
        "\n",
        "plt.tight_layout()\n",
        "plt.show()"
      ],
      "metadata": {
        "colab": {
          "base_uri": "https://localhost:8080/",
          "height": 297
        },
        "id": "Iqu1iZFNF-5-",
        "outputId": "b3134a52-511d-46b5-f3fd-d017f4d78c56"
      },
      "execution_count": 20,
      "outputs": [
        {
          "output_type": "display_data",
          "data": {
            "text/plain": [
              "<Figure size 432x288 with 2 Axes>"
            ],
            "image/png": "[encoded data removed]"
          },
          "metadata": {
            "needs_background": "light"
          }
        }
      ]
    },
    {
      "cell_type": "code",
      "source": [
        "fig, axes = plt.subplots(nrows=1, ncols=2)\n",
        "ax = gainsChart(knn_df['actual'], ax=axes[0])\n",
        "ax.set_title('Logistic Regression Gains Chart')\n",
        "\n",
        "ax = liftChart(knn_df['actual'], ax=axes[1], labelBars=False)\n",
        "ax.set_ylabel('Lift')\n",
        "\n",
        "plt.tight_layout()\n",
        "plt.show()"
      ],
      "metadata": {
        "colab": {
          "base_uri": "https://localhost:8080/",
          "height": 297
        },
        "id": "PHfbw64sG059",
        "outputId": "bb955bcc-b5ac-4ba7-e408-1c163571bcb5"
      },
      "execution_count": 21,
      "outputs": [
        {
          "output_type": "display_data",
          "data": {
            "text/plain": [
              "<Figure size 432x288 with 2 Axes>"
            ],
            "image/png": "[encoded data removed]"
          },
          "metadata": {
            "needs_background": "light"
          }
        }
      ]
    },
    {
      "cell_type": "code",
      "source": [
        "fig, axes = plt.subplots(nrows=1, ncols=2)\n",
        "ax = gainsChart(n_net_df['actual'], ax=axes[0])\n",
        "ax.set_title('Logistic Regression Gains Chart')\n",
        "\n",
        "ax = liftChart(n_net_df['actual'], ax=axes[1], labelBars=False)\n",
        "ax.set_ylabel('Lift')\n",
        "\n",
        "plt.tight_layout()\n",
        "plt.show()"
      ],
      "metadata": {
        "colab": {
          "base_uri": "https://localhost:8080/",
          "height": 297
        },
        "id": "AAtPXMQdHCi0",
        "outputId": "b9648082-e920-4ab0-d7c8-4746169f1e0e"
      },
      "execution_count": 22,
      "outputs": [
        {
          "output_type": "display_data",
          "data": {
            "text/plain": [
              "<Figure size 432x288 with 2 Axes>"
            ],
            "image/png": "[encoded data removed]"
          },
          "metadata": {
            "needs_background": "light"
          }
        }
      ]
    },
    {
      "cell_type": "code",
      "source": [
        "# Q4 The logistic regression model had the highest lift on the first decile, while the neural net model had the lowest. \n",
        "# The neural net model's gains falling under the baseline indicates that the neural net model might not be a good fit for the data.\n",
        "# On the other hand, the Logistic regression and k-nearest neighbors both seem to perform acceptably based on their gains and lift charts."
      ],
      "metadata": {
        "id": "i-ZuAZ_nHIcE"
      },
      "execution_count": 23,
      "outputs": []
    },
    {
      "cell_type": "code",
      "source": [
        ""
      ],
      "metadata": {
        "id": "hdzCHvbpMM-y"
      },
      "execution_count": 23,
      "outputs": []
    }
  ]
}
