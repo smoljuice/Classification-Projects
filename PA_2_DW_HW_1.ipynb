{
  "nbformat": 4,
  "nbformat_minor": 0,
  "metadata": {
    "colab": {
      "name": "PA 2 DW HW 1.ipynb",
      "provenance": []
    },
    "kernelspec": {
      "name": "python3",
      "display_name": "Python 3"
    },
    "language_info": {
      "name": "python"
    }
  },
  "cells": [
    {
      "cell_type": "code",
      "execution_count": 1,
      "metadata": {
        "colab": {
          "base_uri": "https://localhost:8080/"
        },
        "id": "tWfXeFWXmqmo",
        "outputId": "e0bf5c1f-54a4-48a8-ce94-ef325e4d5c3c"
      },
      "outputs": [
        {
          "output_type": "stream",
          "name": "stdout",
          "text": [
            "Requirement already satisfied: dmba in /usr/local/lib/python3.7/dist-packages (0.1.0)\n",
            "no display found. Using non-interactive Agg backend\n"
          ]
        },
        {
          "output_type": "stream",
          "name": "stderr",
          "text": [
            "/usr/local/lib/python3.7/dist-packages/statsmodels/tools/_testing.py:19: FutureWarning: pandas.util.testing is deprecated. Use the functions in the public API at pandas.testing instead.\n",
            "  import pandas.util.testing as tm\n"
          ]
        }
      ],
      "source": [
        "!pip install dmba\n",
        "import pandas as pd\n",
        "from sklearn.model_selection import train_test_split\n",
        "from sklearn.linear_model import LinearRegression, Lasso, Ridge, LassoCV, BayesianRidge\n",
        "import statsmodels.formula.api as sm\n",
        "import matplotlib.pylab as plt\n",
        "from dmba import regressionSummary, exhaustive_search\n",
        "from dmba import backward_elimination, forward_selection, stepwise_selection\n",
        "from dmba import adjusted_r2_score, AIC_score, BIC_score"
      ]
    },
    {
      "cell_type": "code",
      "source": [
        "df = pd.read_csv('Airfares.csv')"
      ],
      "metadata": {
        "id": "H2NOctHyuCEW"
      },
      "execution_count": 2,
      "outputs": []
    },
    {
      "cell_type": "code",
      "source": [
        "df.head()"
      ],
      "metadata": {
        "colab": {
          "base_uri": "https://localhost:8080/",
          "height": 206
        },
        "id": "7FMwQFjXz0tX",
        "outputId": "d9c562ef-e306-49e9-ce58-f4995c228068"
      },
      "execution_count": 3,
      "outputs": [
        {
          "output_type": "execute_result",
          "data": {
            "text/plain": [
              "  S_CODE                  S_CITY E_CODE                  E_CITY  COUPON  NEW  \\\n",
              "0      *  Dallas/Fort Worth   TX      *  Amarillo            TX    1.00    3   \n",
              "1      *  Atlanta             GA      *  Baltimore/Wash Intl MD    1.06    3   \n",
              "2      *  Boston              MA      *  Baltimore/Wash Intl MD    1.06    3   \n",
              "3    ORD  Chicago             IL      *  Baltimore/Wash Intl MD    1.06    3   \n",
              "4    MDW  Chicago             IL      *  Baltimore/Wash Intl MD    1.06    3   \n",
              "\n",
              "  VACATION   SW       HI  S_INCOME  E_INCOME    S_POP    E_POP        SLOT  \\\n",
              "0       No  Yes  5291.99   28637.0   21112.0  3036732   205711        Free   \n",
              "1       No   No  5419.16   26993.0   29838.0  3532657  7145897        Free   \n",
              "2       No   No  9185.28   30124.0   29838.0  5787293  7145897        Free   \n",
              "3       No  Yes  2657.35   29260.0   29838.0  7830332  7145897  Controlled   \n",
              "4       No  Yes  2657.35   29260.0   29838.0  7830332  7145897        Free   \n",
              "\n",
              "   GATE  DISTANCE    PAX    FARE  \n",
              "0  Free       312   7864   64.11  \n",
              "1  Free       576   8820  174.47  \n",
              "2  Free       364   6452  207.76  \n",
              "3  Free       612  25144   85.47  \n",
              "4  Free       612  25144   85.47  "
            ],
            "text/html": [
              "\n",
              "  <div id=\"df-62baac99-90c1-40b1-a555-24f11a3150f6\">\n",
              "    <div class=\"colab-df-container\">\n",
              "      <div>\n",
              "<style scoped>\n",
              "    .dataframe tbody tr th:only-of-type {\n",
              "        vertical-align: middle;\n",
              "    }\n",
              "\n",
              "    .dataframe tbody tr th {\n",
              "        vertical-align: top;\n",
              "    }\n",
              "\n",
              "    .dataframe thead th {\n",
              "        text-align: right;\n",
              "    }\n",
              "</style>\n",
              "<table border=\"1\" class=\"dataframe\">\n",
              "  <thead>\n",
              "    <tr style=\"text-align: right;\">\n",
              "      <th></th>\n",
              "      <th>S_CODE</th>\n",
              "      <th>S_CITY</th>\n",
              "      <th>E_CODE</th>\n",
              "      <th>E_CITY</th>\n",
              "      <th>COUPON</th>\n",
              "      <th>NEW</th>\n",
              "      <th>VACATION</th>\n",
              "      <th>SW</th>\n",
              "      <th>HI</th>\n",
              "      <th>S_INCOME</th>\n",
              "      <th>E_INCOME</th>\n",
              "      <th>S_POP</th>\n",
              "      <th>E_POP</th>\n",
              "      <th>SLOT</th>\n",
              "      <th>GATE</th>\n",
              "      <th>DISTANCE</th>\n",
              "      <th>PAX</th>\n",
              "      <th>FARE</th>\n",
              "    </tr>\n",
              "  </thead>\n",
              "  <tbody>\n",
              "    <tr>\n",
              "      <th>0</th>\n",
              "      <td>*</td>\n",
              "      <td>Dallas/Fort Worth   TX</td>\n",
              "      <td>*</td>\n",
              "      <td>Amarillo            TX</td>\n",
              "      <td>1.00</td>\n",
              "      <td>3</td>\n",
              "      <td>No</td>\n",
              "      <td>Yes</td>\n",
              "      <td>5291.99</td>\n",
              "      <td>28637.0</td>\n",
              "      <td>21112.0</td>\n",
              "      <td>3036732</td>\n",
              "      <td>205711</td>\n",
              "      <td>Free</td>\n",
              "      <td>Free</td>\n",
              "      <td>312</td>\n",
              "      <td>7864</td>\n",
              "      <td>64.11</td>\n",
              "    </tr>\n",
              "    <tr>\n",
              "      <th>1</th>\n",
              "      <td>*</td>\n",
              "      <td>Atlanta             GA</td>\n",
              "      <td>*</td>\n",
              "      <td>Baltimore/Wash Intl MD</td>\n",
              "      <td>1.06</td>\n",
              "      <td>3</td>\n",
              "      <td>No</td>\n",
              "      <td>No</td>\n",
              "      <td>5419.16</td>\n",
              "      <td>26993.0</td>\n",
              "      <td>29838.0</td>\n",
              "      <td>3532657</td>\n",
              "      <td>7145897</td>\n",
              "      <td>Free</td>\n",
              "      <td>Free</td>\n",
              "      <td>576</td>\n",
              "      <td>8820</td>\n",
              "      <td>174.47</td>\n",
              "    </tr>\n",
              "    <tr>\n",
              "      <th>2</th>\n",
              "      <td>*</td>\n",
              "      <td>Boston              MA</td>\n",
              "      <td>*</td>\n",
              "      <td>Baltimore/Wash Intl MD</td>\n",
              "      <td>1.06</td>\n",
              "      <td>3</td>\n",
              "      <td>No</td>\n",
              "      <td>No</td>\n",
              "      <td>9185.28</td>\n",
              "      <td>30124.0</td>\n",
              "      <td>29838.0</td>\n",
              "      <td>5787293</td>\n",
              "      <td>7145897</td>\n",
              "      <td>Free</td>\n",
              "      <td>Free</td>\n",
              "      <td>364</td>\n",
              "      <td>6452</td>\n",
              "      <td>207.76</td>\n",
              "    </tr>\n",
              "    <tr>\n",
              "      <th>3</th>\n",
              "      <td>ORD</td>\n",
              "      <td>Chicago             IL</td>\n",
              "      <td>*</td>\n",
              "      <td>Baltimore/Wash Intl MD</td>\n",
              "      <td>1.06</td>\n",
              "      <td>3</td>\n",
              "      <td>No</td>\n",
              "      <td>Yes</td>\n",
              "      <td>2657.35</td>\n",
              "      <td>29260.0</td>\n",
              "      <td>29838.0</td>\n",
              "      <td>7830332</td>\n",
              "      <td>7145897</td>\n",
              "      <td>Controlled</td>\n",
              "      <td>Free</td>\n",
              "      <td>612</td>\n",
              "      <td>25144</td>\n",
              "      <td>85.47</td>\n",
              "    </tr>\n",
              "    <tr>\n",
              "      <th>4</th>\n",
              "      <td>MDW</td>\n",
              "      <td>Chicago             IL</td>\n",
              "      <td>*</td>\n",
              "      <td>Baltimore/Wash Intl MD</td>\n",
              "      <td>1.06</td>\n",
              "      <td>3</td>\n",
              "      <td>No</td>\n",
              "      <td>Yes</td>\n",
              "      <td>2657.35</td>\n",
              "      <td>29260.0</td>\n",
              "      <td>29838.0</td>\n",
              "      <td>7830332</td>\n",
              "      <td>7145897</td>\n",
              "      <td>Free</td>\n",
              "      <td>Free</td>\n",
              "      <td>612</td>\n",
              "      <td>25144</td>\n",
              "      <td>85.47</td>\n",
              "    </tr>\n",
              "  </tbody>\n",
              "</table>\n",
              "</div>\n",
              "      <button class=\"colab-df-convert\" onclick=\"convertToInteractive('df-62baac99-90c1-40b1-a555-24f11a3150f6')\"\n",
              "              title=\"Convert this dataframe to an interactive table.\"\n",
              "              style=\"display:none;\">\n",
              "        \n",
              "  <svg xmlns=\"http://www.w3.org/2000/svg\" height=\"24px\"viewBox=\"0 0 24 24\"\n",
              "       width=\"24px\">\n",
              "    <path d=\"M0 0h24v24H0V0z\" fill=\"none\"/>\n",
              "    <path d=\"M18.56 5.44l.94 2.06.94-2.06 2.06-.94-2.06-.94-.94-2.06-.94 2.06-2.06.94zm-11 1L8.5 8.5l.94-2.06 2.06-.94-2.06-.94L8.5 2.5l-.94 2.06-2.06.94zm10 10l.94 2.06.94-2.06 2.06-.94-2.06-.94-.94-2.06-.94 2.06-2.06.94z\"/><path d=\"M17.41 7.96l-1.37-1.37c-.4-.4-.92-.59-1.43-.59-.52 0-1.04.2-1.43.59L10.3 9.45l-7.72 7.72c-.78.78-.78 2.05 0 2.83L4 21.41c.39.39.9.59 1.41.59.51 0 1.02-.2 1.41-.59l7.78-7.78 2.81-2.81c.8-.78.8-2.07 0-2.86zM5.41 20L4 18.59l7.72-7.72 1.47 1.35L5.41 20z\"/>\n",
              "  </svg>\n",
              "      </button>\n",
              "      \n",
              "  <style>\n",
              "    .colab-df-container {\n",
              "      display:flex;\n",
              "      flex-wrap:wrap;\n",
              "      gap: 12px;\n",
              "    }\n",
              "\n",
              "    .colab-df-convert {\n",
              "      background-color: #E8F0FE;\n",
              "      border: none;\n",
              "      border-radius: 50%;\n",
              "      cursor: pointer;\n",
              "      display: none;\n",
              "      fill: #1967D2;\n",
              "      height: 32px;\n",
              "      padding: 0 0 0 0;\n",
              "      width: 32px;\n",
              "    }\n",
              "\n",
              "    .colab-df-convert:hover {\n",
              "      background-color: #E2EBFA;\n",
              "      box-shadow: 0px 1px 2px rgba(60, 64, 67, 0.3), 0px 1px 3px 1px rgba(60, 64, 67, 0.15);\n",
              "      fill: #174EA6;\n",
              "    }\n",
              "\n",
              "    [theme=dark] .colab-df-convert {\n",
              "      background-color: #3B4455;\n",
              "      fill: #D2E3FC;\n",
              "    }\n",
              "\n",
              "    [theme=dark] .colab-df-convert:hover {\n",
              "      background-color: #434B5C;\n",
              "      box-shadow: 0px 1px 3px 1px rgba(0, 0, 0, 0.15);\n",
              "      filter: drop-shadow(0px 1px 2px rgba(0, 0, 0, 0.3));\n",
              "      fill: #FFFFFF;\n",
              "    }\n",
              "  </style>\n",
              "\n",
              "      <script>\n",
              "        const buttonEl =\n",
              "          document.querySelector('#df-62baac99-90c1-40b1-a555-24f11a3150f6 button.colab-df-convert');\n",
              "        buttonEl.style.display =\n",
              "          google.colab.kernel.accessAllowed ? 'block' : 'none';\n",
              "\n",
              "        async function convertToInteractive(key) {\n",
              "          const element = document.querySelector('#df-62baac99-90c1-40b1-a555-24f11a3150f6');\n",
              "          const dataTable =\n",
              "            await google.colab.kernel.invokeFunction('convertToInteractive',\n",
              "                                                     [key], {});\n",
              "          if (!dataTable) return;\n",
              "\n",
              "          const docLinkHtml = 'Like what you see? Visit the ' +\n",
              "            '<a target=\"_blank\" href=https://colab.research.google.com/notebooks/data_table.ipynb>data table notebook</a>'\n",
              "            + ' to learn more about interactive tables.';\n",
              "          element.innerHTML = '';\n",
              "          dataTable['output_type'] = 'display_data';\n",
              "          await google.colab.output.renderOutput(dataTable, element);\n",
              "          const docLink = document.createElement('div');\n",
              "          docLink.innerHTML = docLinkHtml;\n",
              "          element.appendChild(docLink);\n",
              "        }\n",
              "      </script>\n",
              "    </div>\n",
              "  </div>\n",
              "  "
            ]
          },
          "metadata": {},
          "execution_count": 3
        }
      ]
    },
    {
      "cell_type": "code",
      "source": [
        "df.info()"
      ],
      "metadata": {
        "colab": {
          "base_uri": "https://localhost:8080/"
        },
        "id": "bGjLQwF-3Rzt",
        "outputId": "f6a79123-ce78-4a8f-a045-a65a3764b548"
      },
      "execution_count": 4,
      "outputs": [
        {
          "output_type": "stream",
          "name": "stdout",
          "text": [
            "<class 'pandas.core.frame.DataFrame'>\n",
            "RangeIndex: 638 entries, 0 to 637\n",
            "Data columns (total 18 columns):\n",
            " #   Column    Non-Null Count  Dtype  \n",
            "---  ------    --------------  -----  \n",
            " 0   S_CODE    638 non-null    object \n",
            " 1   S_CITY    638 non-null    object \n",
            " 2   E_CODE    638 non-null    object \n",
            " 3   E_CITY    638 non-null    object \n",
            " 4   COUPON    638 non-null    float64\n",
            " 5   NEW       638 non-null    int64  \n",
            " 6   VACATION  638 non-null    object \n",
            " 7   SW        638 non-null    object \n",
            " 8   HI        638 non-null    float64\n",
            " 9   S_INCOME  638 non-null    float64\n",
            " 10  E_INCOME  638 non-null    float64\n",
            " 11  S_POP     638 non-null    int64  \n",
            " 12  E_POP     638 non-null    int64  \n",
            " 13  SLOT      638 non-null    object \n",
            " 14  GATE      638 non-null    object \n",
            " 15  DISTANCE  638 non-null    int64  \n",
            " 16  PAX       638 non-null    int64  \n",
            " 17  FARE      638 non-null    float64\n",
            "dtypes: float64(5), int64(5), object(8)\n",
            "memory usage: 89.8+ KB\n"
          ]
        }
      ]
    },
    {
      "cell_type": "code",
      "source": [
        "df['VACATION'] = [1 if v == 'Yes' else 0 for v in df['VACATION']]"
      ],
      "metadata": {
        "id": "ZuBpIRA0uuU-"
      },
      "execution_count": 5,
      "outputs": []
    },
    {
      "cell_type": "code",
      "source": [
        "df['SW'] = [1 if v == 'Yes' else 0 for v in df['SW']]"
      ],
      "metadata": {
        "id": "Cou-DDapuyLH"
      },
      "execution_count": 6,
      "outputs": []
    },
    {
      "cell_type": "code",
      "source": [
        "df['SLOT'] = [1 if v == 'Free' else 0 for v in df['SLOT']]"
      ],
      "metadata": {
        "id": "2SjFq_8zva1i"
      },
      "execution_count": 7,
      "outputs": []
    },
    {
      "cell_type": "code",
      "source": [
        "df['GATE'] = [1 if v == 'Free' else 0 for v in df['GATE']]"
      ],
      "metadata": {
        "id": "hsdZ24U_va7m"
      },
      "execution_count": 8,
      "outputs": []
    },
    {
      "cell_type": "code",
      "source": [
        "df.corr()"
      ],
      "metadata": {
        "colab": {
          "base_uri": "https://localhost:8080/",
          "height": 488
        },
        "id": "vwgDZiSj5Qpo",
        "outputId": "e0b51086-35b2-4950-b2be-6e0b918f5359"
      },
      "execution_count": 9,
      "outputs": [
        {
          "output_type": "execute_result",
          "data": {
            "text/plain": [
              "            COUPON       NEW  VACATION        SW        HI  S_INCOME  \\\n",
              "COUPON    1.000000  0.020223  0.071424 -0.188098 -0.347252 -0.088403   \n",
              "NEW       0.020223  1.000000 -0.047433 -0.081881  0.054147  0.026597   \n",
              "VACATION  0.071424 -0.047433  1.000000  0.025488 -0.151625 -0.216393   \n",
              "SW       -0.188098 -0.081881  0.025488  1.000000 -0.040172 -0.272269   \n",
              "HI       -0.347252  0.054147 -0.151625 -0.040172  1.000000 -0.027382   \n",
              "S_INCOME -0.088403  0.026597 -0.216393 -0.272269 -0.027382  1.000000   \n",
              "E_INCOME  0.046889  0.113377 -0.076288 -0.281160  0.082393 -0.138864   \n",
              "S_POP    -0.107763 -0.016672 -0.208549 -0.089282 -0.172495  0.517187   \n",
              "E_POP     0.094970  0.058568 -0.167054 -0.221272 -0.062456 -0.272280   \n",
              "SLOT     -0.021901 -0.058414  0.129514  0.251593  0.185179 -0.231868   \n",
              "GATE      0.064369 -0.013106  0.116838  0.255782 -0.155182 -0.108193   \n",
              "DISTANCE  0.746805  0.080965  0.093198 -0.240485 -0.312375  0.028153   \n",
              "PAX      -0.336974  0.010495 -0.017747 -0.052468 -0.168961  0.138197   \n",
              "FARE      0.496537  0.091730 -0.276868 -0.543813  0.025195  0.209135   \n",
              "\n",
              "          E_INCOME     S_POP     E_POP      SLOT      GATE  DISTANCE  \\\n",
              "COUPON    0.046889 -0.107763  0.094970 -0.021901  0.064369  0.746805   \n",
              "NEW       0.113377 -0.016672  0.058568 -0.058414 -0.013106  0.080965   \n",
              "VACATION -0.076288 -0.208549 -0.167054  0.129514  0.116838  0.093198   \n",
              "SW       -0.281160 -0.089282 -0.221272  0.251593  0.255782 -0.240485   \n",
              "HI        0.082393 -0.172495 -0.062456  0.185179 -0.155182 -0.312375   \n",
              "S_INCOME -0.138864  0.517187 -0.272280 -0.231868 -0.108193  0.028153   \n",
              "E_INCOME  1.000000 -0.144059  0.458418 -0.197481 -0.062807  0.176531   \n",
              "S_POP    -0.144059  1.000000 -0.280143 -0.281576 -0.085900  0.018437   \n",
              "E_POP     0.458418 -0.280143  1.000000 -0.246216 -0.149666  0.115640   \n",
              "SLOT     -0.197481 -0.281576 -0.246216  1.000000 -0.143628 -0.009483   \n",
              "GATE     -0.062807 -0.085900 -0.149666 -0.143628  1.000000  0.065218   \n",
              "DISTANCE  0.176531  0.018437  0.115640 -0.009483  0.065218  1.000000   \n",
              "PAX       0.259961  0.284611  0.314698 -0.243143 -0.040288 -0.102482   \n",
              "FARE      0.326092  0.145097  0.285043 -0.209438 -0.208540  0.670016   \n",
              "\n",
              "               PAX      FARE  \n",
              "COUPON   -0.336974  0.496537  \n",
              "NEW       0.010495  0.091730  \n",
              "VACATION -0.017747 -0.276868  \n",
              "SW       -0.052468 -0.543813  \n",
              "HI       -0.168961  0.025195  \n",
              "S_INCOME  0.138197  0.209135  \n",
              "E_INCOME  0.259961  0.326092  \n",
              "S_POP     0.284611  0.145097  \n",
              "E_POP     0.314698  0.285043  \n",
              "SLOT     -0.243143 -0.209438  \n",
              "GATE     -0.040288 -0.208540  \n",
              "DISTANCE -0.102482  0.670016  \n",
              "PAX       1.000000 -0.090705  \n",
              "FARE     -0.090705  1.000000  "
            ],
            "text/html": [
              "\n",
              "  <div id=\"df-43a6084f-1c58-4076-aa8b-388eb62e6847\">\n",
              "    <div class=\"colab-df-container\">\n",
              "      <div>\n",
              "<style scoped>\n",
              "    .dataframe tbody tr th:only-of-type {\n",
              "        vertical-align: middle;\n",
              "    }\n",
              "\n",
              "    .dataframe tbody tr th {\n",
              "        vertical-align: top;\n",
              "    }\n",
              "\n",
              "    .dataframe thead th {\n",
              "        text-align: right;\n",
              "    }\n",
              "</style>\n",
              "<table border=\"1\" class=\"dataframe\">\n",
              "  <thead>\n",
              "    <tr style=\"text-align: right;\">\n",
              "      <th></th>\n",
              "      <th>COUPON</th>\n",
              "      <th>NEW</th>\n",
              "      <th>VACATION</th>\n",
              "      <th>SW</th>\n",
              "      <th>HI</th>\n",
              "      <th>S_INCOME</th>\n",
              "      <th>E_INCOME</th>\n",
              "      <th>S_POP</th>\n",
              "      <th>E_POP</th>\n",
              "      <th>SLOT</th>\n",
              "      <th>GATE</th>\n",
              "      <th>DISTANCE</th>\n",
              "      <th>PAX</th>\n",
              "      <th>FARE</th>\n",
              "    </tr>\n",
              "  </thead>\n",
              "  <tbody>\n",
              "    <tr>\n",
              "      <th>COUPON</th>\n",
              "      <td>1.000000</td>\n",
              "      <td>0.020223</td>\n",
              "      <td>0.071424</td>\n",
              "      <td>-0.188098</td>\n",
              "      <td>-0.347252</td>\n",
              "      <td>-0.088403</td>\n",
              "      <td>0.046889</td>\n",
              "      <td>-0.107763</td>\n",
              "      <td>0.094970</td>\n",
              "      <td>-0.021901</td>\n",
              "      <td>0.064369</td>\n",
              "      <td>0.746805</td>\n",
              "      <td>-0.336974</td>\n",
              "      <td>0.496537</td>\n",
              "    </tr>\n",
              "    <tr>\n",
              "      <th>NEW</th>\n",
              "      <td>0.020223</td>\n",
              "      <td>1.000000</td>\n",
              "      <td>-0.047433</td>\n",
              "      <td>-0.081881</td>\n",
              "      <td>0.054147</td>\n",
              "      <td>0.026597</td>\n",
              "      <td>0.113377</td>\n",
              "      <td>-0.016672</td>\n",
              "      <td>0.058568</td>\n",
              "      <td>-0.058414</td>\n",
              "      <td>-0.013106</td>\n",
              "      <td>0.080965</td>\n",
              "      <td>0.010495</td>\n",
              "      <td>0.091730</td>\n",
              "    </tr>\n",
              "    <tr>\n",
              "      <th>VACATION</th>\n",
              "      <td>0.071424</td>\n",
              "      <td>-0.047433</td>\n",
              "      <td>1.000000</td>\n",
              "      <td>0.025488</td>\n",
              "      <td>-0.151625</td>\n",
              "      <td>-0.216393</td>\n",
              "      <td>-0.076288</td>\n",
              "      <td>-0.208549</td>\n",
              "      <td>-0.167054</td>\n",
              "      <td>0.129514</td>\n",
              "      <td>0.116838</td>\n",
              "      <td>0.093198</td>\n",
              "      <td>-0.017747</td>\n",
              "      <td>-0.276868</td>\n",
              "    </tr>\n",
              "    <tr>\n",
              "      <th>SW</th>\n",
              "      <td>-0.188098</td>\n",
              "      <td>-0.081881</td>\n",
              "      <td>0.025488</td>\n",
              "      <td>1.000000</td>\n",
              "      <td>-0.040172</td>\n",
              "      <td>-0.272269</td>\n",
              "      <td>-0.281160</td>\n",
              "      <td>-0.089282</td>\n",
              "      <td>-0.221272</td>\n",
              "      <td>0.251593</td>\n",
              "      <td>0.255782</td>\n",
              "      <td>-0.240485</td>\n",
              "      <td>-0.052468</td>\n",
              "      <td>-0.543813</td>\n",
              "    </tr>\n",
              "    <tr>\n",
              "      <th>HI</th>\n",
              "      <td>-0.347252</td>\n",
              "      <td>0.054147</td>\n",
              "      <td>-0.151625</td>\n",
              "      <td>-0.040172</td>\n",
              "      <td>1.000000</td>\n",
              "      <td>-0.027382</td>\n",
              "      <td>0.082393</td>\n",
              "      <td>-0.172495</td>\n",
              "      <td>-0.062456</td>\n",
              "      <td>0.185179</td>\n",
              "      <td>-0.155182</td>\n",
              "      <td>-0.312375</td>\n",
              "      <td>-0.168961</td>\n",
              "      <td>0.025195</td>\n",
              "    </tr>\n",
              "    <tr>\n",
              "      <th>S_INCOME</th>\n",
              "      <td>-0.088403</td>\n",
              "      <td>0.026597</td>\n",
              "      <td>-0.216393</td>\n",
              "      <td>-0.272269</td>\n",
              "      <td>-0.027382</td>\n",
              "      <td>1.000000</td>\n",
              "      <td>-0.138864</td>\n",
              "      <td>0.517187</td>\n",
              "      <td>-0.272280</td>\n",
              "      <td>-0.231868</td>\n",
              "      <td>-0.108193</td>\n",
              "      <td>0.028153</td>\n",
              "      <td>0.138197</td>\n",
              "      <td>0.209135</td>\n",
              "    </tr>\n",
              "    <tr>\n",
              "      <th>E_INCOME</th>\n",
              "      <td>0.046889</td>\n",
              "      <td>0.113377</td>\n",
              "      <td>-0.076288</td>\n",
              "      <td>-0.281160</td>\n",
              "      <td>0.082393</td>\n",
              "      <td>-0.138864</td>\n",
              "      <td>1.000000</td>\n",
              "      <td>-0.144059</td>\n",
              "      <td>0.458418</td>\n",
              "      <td>-0.197481</td>\n",
              "      <td>-0.062807</td>\n",
              "      <td>0.176531</td>\n",
              "      <td>0.259961</td>\n",
              "      <td>0.326092</td>\n",
              "    </tr>\n",
              "    <tr>\n",
              "      <th>S_POP</th>\n",
              "      <td>-0.107763</td>\n",
              "      <td>-0.016672</td>\n",
              "      <td>-0.208549</td>\n",
              "      <td>-0.089282</td>\n",
              "      <td>-0.172495</td>\n",
              "      <td>0.517187</td>\n",
              "      <td>-0.144059</td>\n",
              "      <td>1.000000</td>\n",
              "      <td>-0.280143</td>\n",
              "      <td>-0.281576</td>\n",
              "      <td>-0.085900</td>\n",
              "      <td>0.018437</td>\n",
              "      <td>0.284611</td>\n",
              "      <td>0.145097</td>\n",
              "    </tr>\n",
              "    <tr>\n",
              "      <th>E_POP</th>\n",
              "      <td>0.094970</td>\n",
              "      <td>0.058568</td>\n",
              "      <td>-0.167054</td>\n",
              "      <td>-0.221272</td>\n",
              "      <td>-0.062456</td>\n",
              "      <td>-0.272280</td>\n",
              "      <td>0.458418</td>\n",
              "      <td>-0.280143</td>\n",
              "      <td>1.000000</td>\n",
              "      <td>-0.246216</td>\n",
              "      <td>-0.149666</td>\n",
              "      <td>0.115640</td>\n",
              "      <td>0.314698</td>\n",
              "      <td>0.285043</td>\n",
              "    </tr>\n",
              "    <tr>\n",
              "      <th>SLOT</th>\n",
              "      <td>-0.021901</td>\n",
              "      <td>-0.058414</td>\n",
              "      <td>0.129514</td>\n",
              "      <td>0.251593</td>\n",
              "      <td>0.185179</td>\n",
              "      <td>-0.231868</td>\n",
              "      <td>-0.197481</td>\n",
              "      <td>-0.281576</td>\n",
              "      <td>-0.246216</td>\n",
              "      <td>1.000000</td>\n",
              "      <td>-0.143628</td>\n",
              "      <td>-0.009483</td>\n",
              "      <td>-0.243143</td>\n",
              "      <td>-0.209438</td>\n",
              "    </tr>\n",
              "    <tr>\n",
              "      <th>GATE</th>\n",
              "      <td>0.064369</td>\n",
              "      <td>-0.013106</td>\n",
              "      <td>0.116838</td>\n",
              "      <td>0.255782</td>\n",
              "      <td>-0.155182</td>\n",
              "      <td>-0.108193</td>\n",
              "      <td>-0.062807</td>\n",
              "      <td>-0.085900</td>\n",
              "      <td>-0.149666</td>\n",
              "      <td>-0.143628</td>\n",
              "      <td>1.000000</td>\n",
              "      <td>0.065218</td>\n",
              "      <td>-0.040288</td>\n",
              "      <td>-0.208540</td>\n",
              "    </tr>\n",
              "    <tr>\n",
              "      <th>DISTANCE</th>\n",
              "      <td>0.746805</td>\n",
              "      <td>0.080965</td>\n",
              "      <td>0.093198</td>\n",
              "      <td>-0.240485</td>\n",
              "      <td>-0.312375</td>\n",
              "      <td>0.028153</td>\n",
              "      <td>0.176531</td>\n",
              "      <td>0.018437</td>\n",
              "      <td>0.115640</td>\n",
              "      <td>-0.009483</td>\n",
              "      <td>0.065218</td>\n",
              "      <td>1.000000</td>\n",
              "      <td>-0.102482</td>\n",
              "      <td>0.670016</td>\n",
              "    </tr>\n",
              "    <tr>\n",
              "      <th>PAX</th>\n",
              "      <td>-0.336974</td>\n",
              "      <td>0.010495</td>\n",
              "      <td>-0.017747</td>\n",
              "      <td>-0.052468</td>\n",
              "      <td>-0.168961</td>\n",
              "      <td>0.138197</td>\n",
              "      <td>0.259961</td>\n",
              "      <td>0.284611</td>\n",
              "      <td>0.314698</td>\n",
              "      <td>-0.243143</td>\n",
              "      <td>-0.040288</td>\n",
              "      <td>-0.102482</td>\n",
              "      <td>1.000000</td>\n",
              "      <td>-0.090705</td>\n",
              "    </tr>\n",
              "    <tr>\n",
              "      <th>FARE</th>\n",
              "      <td>0.496537</td>\n",
              "      <td>0.091730</td>\n",
              "      <td>-0.276868</td>\n",
              "      <td>-0.543813</td>\n",
              "      <td>0.025195</td>\n",
              "      <td>0.209135</td>\n",
              "      <td>0.326092</td>\n",
              "      <td>0.145097</td>\n",
              "      <td>0.285043</td>\n",
              "      <td>-0.209438</td>\n",
              "      <td>-0.208540</td>\n",
              "      <td>0.670016</td>\n",
              "      <td>-0.090705</td>\n",
              "      <td>1.000000</td>\n",
              "    </tr>\n",
              "  </tbody>\n",
              "</table>\n",
              "</div>\n",
              "      <button class=\"colab-df-convert\" onclick=\"convertToInteractive('df-43a6084f-1c58-4076-aa8b-388eb62e6847')\"\n",
              "              title=\"Convert this dataframe to an interactive table.\"\n",
              "              style=\"display:none;\">\n",
              "        \n",
              "  <svg xmlns=\"http://www.w3.org/2000/svg\" height=\"24px\"viewBox=\"0 0 24 24\"\n",
              "       width=\"24px\">\n",
              "    <path d=\"M0 0h24v24H0V0z\" fill=\"none\"/>\n",
              "    <path d=\"M18.56 5.44l.94 2.06.94-2.06 2.06-.94-2.06-.94-.94-2.06-.94 2.06-2.06.94zm-11 1L8.5 8.5l.94-2.06 2.06-.94-2.06-.94L8.5 2.5l-.94 2.06-2.06.94zm10 10l.94 2.06.94-2.06 2.06-.94-2.06-.94-.94-2.06-.94 2.06-2.06.94z\"/><path d=\"M17.41 7.96l-1.37-1.37c-.4-.4-.92-.59-1.43-.59-.52 0-1.04.2-1.43.59L10.3 9.45l-7.72 7.72c-.78.78-.78 2.05 0 2.83L4 21.41c.39.39.9.59 1.41.59.51 0 1.02-.2 1.41-.59l7.78-7.78 2.81-2.81c.8-.78.8-2.07 0-2.86zM5.41 20L4 18.59l7.72-7.72 1.47 1.35L5.41 20z\"/>\n",
              "  </svg>\n",
              "      </button>\n",
              "      \n",
              "  <style>\n",
              "    .colab-df-container {\n",
              "      display:flex;\n",
              "      flex-wrap:wrap;\n",
              "      gap: 12px;\n",
              "    }\n",
              "\n",
              "    .colab-df-convert {\n",
              "      background-color: #E8F0FE;\n",
              "      border: none;\n",
              "      border-radius: 50%;\n",
              "      cursor: pointer;\n",
              "      display: none;\n",
              "      fill: #1967D2;\n",
              "      height: 32px;\n",
              "      padding: 0 0 0 0;\n",
              "      width: 32px;\n",
              "    }\n",
              "\n",
              "    .colab-df-convert:hover {\n",
              "      background-color: #E2EBFA;\n",
              "      box-shadow: 0px 1px 2px rgba(60, 64, 67, 0.3), 0px 1px 3px 1px rgba(60, 64, 67, 0.15);\n",
              "      fill: #174EA6;\n",
              "    }\n",
              "\n",
              "    [theme=dark] .colab-df-convert {\n",
              "      background-color: #3B4455;\n",
              "      fill: #D2E3FC;\n",
              "    }\n",
              "\n",
              "    [theme=dark] .colab-df-convert:hover {\n",
              "      background-color: #434B5C;\n",
              "      box-shadow: 0px 1px 3px 1px rgba(0, 0, 0, 0.15);\n",
              "      filter: drop-shadow(0px 1px 2px rgba(0, 0, 0, 0.3));\n",
              "      fill: #FFFFFF;\n",
              "    }\n",
              "  </style>\n",
              "\n",
              "      <script>\n",
              "        const buttonEl =\n",
              "          document.querySelector('#df-43a6084f-1c58-4076-aa8b-388eb62e6847 button.colab-df-convert');\n",
              "        buttonEl.style.display =\n",
              "          google.colab.kernel.accessAllowed ? 'block' : 'none';\n",
              "\n",
              "        async function convertToInteractive(key) {\n",
              "          const element = document.querySelector('#df-43a6084f-1c58-4076-aa8b-388eb62e6847');\n",
              "          const dataTable =\n",
              "            await google.colab.kernel.invokeFunction('convertToInteractive',\n",
              "                                                     [key], {});\n",
              "          if (!dataTable) return;\n",
              "\n",
              "          const docLinkHtml = 'Like what you see? Visit the ' +\n",
              "            '<a target=\"_blank\" href=https://colab.research.google.com/notebooks/data_table.ipynb>data table notebook</a>'\n",
              "            + ' to learn more about interactive tables.';\n",
              "          element.innerHTML = '';\n",
              "          dataTable['output_type'] = 'display_data';\n",
              "          await google.colab.output.renderOutput(dataTable, element);\n",
              "          const docLink = document.createElement('div');\n",
              "          docLink.innerHTML = docLinkHtml;\n",
              "          element.appendChild(docLink);\n",
              "        }\n",
              "      </script>\n",
              "    </div>\n",
              "  </div>\n",
              "  "
            ]
          },
          "metadata": {},
          "execution_count": 9
        }
      ]
    },
    {
      "cell_type": "code",
      "source": [
        "plt.scatter(df['COUPON'], df['FARE'])\n",
        "plt.show()"
      ],
      "metadata": {
        "id": "qSxR4lEn6EpQ",
        "colab": {
          "base_uri": "https://localhost:8080/",
          "height": 265
        },
        "outputId": "a370af89-0410-4be8-da1f-7e34044ff567"
      },
      "execution_count": 10,
      "outputs": [
        {
          "output_type": "display_data",
          "data": {
            "text/plain": [
              "<Figure size 432x288 with 1 Axes>"
            ],
            "image/png": "[encoded data removed]"
          },
          "metadata": {
            "needs_background": "light"
          }
        }
      ]
    },
    {
      "cell_type": "code",
      "source": [
        "plt.scatter(df['HI'], df['FARE'])\n",
        "plt.show()"
      ],
      "metadata": {
        "id": "GXwz0CSB6E0_",
        "colab": {
          "base_uri": "https://localhost:8080/",
          "height": 265
        },
        "outputId": "ef259c09-f3aa-4bd3-8aa0-58503861b90f"
      },
      "execution_count": 11,
      "outputs": [
        {
          "output_type": "display_data",
          "data": {
            "text/plain": [
              "<Figure size 432x288 with 1 Axes>"
            ],
            "image/png": "[encoded data removed]"
          },
          "metadata": {
            "needs_background": "light"
          }
        }
      ]
    },
    {
      "cell_type": "code",
      "source": [
        "plt.scatter(df['S_INCOME'], df['FARE'])\n",
        "plt.show()"
      ],
      "metadata": {
        "colab": {
          "base_uri": "https://localhost:8080/",
          "height": 265
        },
        "id": "nHyQ1Tr48muS",
        "outputId": "fc68d81a-342a-40c6-d7b9-b913c8ac6ae9"
      },
      "execution_count": 12,
      "outputs": [
        {
          "output_type": "display_data",
          "data": {
            "text/plain": [
              "<Figure size 432x288 with 1 Axes>"
            ],
            "image/png": "[encoded data removed]"
          },
          "metadata": {
            "needs_background": "light"
          }
        }
      ]
    },
    {
      "cell_type": "code",
      "source": [
        "plt.scatter(df['E_INCOME'], df['FARE'])\n",
        "plt.show()"
      ],
      "metadata": {
        "colab": {
          "base_uri": "https://localhost:8080/",
          "height": 265
        },
        "id": "p3P_LDvP8m1f",
        "outputId": "e64ec4e4-fa42-485b-a429-b215d7d535f9"
      },
      "execution_count": 13,
      "outputs": [
        {
          "output_type": "display_data",
          "data": {
            "text/plain": [
              "<Figure size 432x288 with 1 Axes>"
            ],
            "image/png": "[encoded data removed]"
          },
          "metadata": {
            "needs_background": "light"
          }
        }
      ]
    },
    {
      "cell_type": "code",
      "source": [
        "plt.scatter(df['S_POP'], df['FARE'])\n",
        "plt.show()"
      ],
      "metadata": {
        "colab": {
          "base_uri": "https://localhost:8080/",
          "height": 278
        },
        "id": "tKZ2TE9H8m4x",
        "outputId": "e9183436-e11d-4bfc-e826-412f2ce44ac5"
      },
      "execution_count": 14,
      "outputs": [
        {
          "output_type": "display_data",
          "data": {
            "text/plain": [
              "<Figure size 432x288 with 1 Axes>"
            ],
            "image/png": "[encoded data removed]"
          },
          "metadata": {
            "needs_background": "light"
          }
        }
      ]
    },
    {
      "cell_type": "code",
      "source": [
        "plt.scatter(df['E_POP'], df['FARE'])\n",
        "plt.show()"
      ],
      "metadata": {
        "colab": {
          "base_uri": "https://localhost:8080/",
          "height": 278
        },
        "id": "xdy1USVW8m7h",
        "outputId": "6a982621-a15b-4360-f274-8a7c6c73be63"
      },
      "execution_count": 15,
      "outputs": [
        {
          "output_type": "display_data",
          "data": {
            "text/plain": [
              "<Figure size 432x288 with 1 Axes>"
            ],
            "image/png": "[encoded data removed]"
          },
          "metadata": {
            "needs_background": "light"
          }
        }
      ]
    },
    {
      "cell_type": "code",
      "source": [
        "plt.scatter(df['DISTANCE'], df['FARE'])\n",
        "plt.show()"
      ],
      "metadata": {
        "colab": {
          "base_uri": "https://localhost:8080/",
          "height": 265
        },
        "id": "Hr8znuTF8m99",
        "outputId": "29c78dea-99d3-4083-ee6d-a211c276c342"
      },
      "execution_count": 16,
      "outputs": [
        {
          "output_type": "display_data",
          "data": {
            "text/plain": [
              "<Figure size 432x288 with 1 Axes>"
            ],
            "image/png": "[encoded data removed]"
          },
          "metadata": {
            "needs_background": "light"
          }
        }
      ]
    },
    {
      "cell_type": "code",
      "source": [
        "plt.scatter(df['PAX'], df['FARE'])\n",
        "plt.show()"
      ],
      "metadata": {
        "colab": {
          "base_uri": "https://localhost:8080/",
          "height": 265
        },
        "id": "07ccm4wb8nAU",
        "outputId": "92d41404-28a2-4d9a-f749-15317ea25674"
      },
      "execution_count": 17,
      "outputs": [
        {
          "output_type": "display_data",
          "data": {
            "text/plain": [
              "<Figure size 432x288 with 1 Axes>"
            ],
            "image/png": "[encoded data removed]"
          },
          "metadata": {
            "needs_background": "light"
          }
        }
      ]
    },
    {
      "cell_type": "code",
      "source": [
        "# Q1 The best predictor of FARE seems to be distance, which isn't very surprising. The farther the distance, the higher the fuel used, and therefore the higher the fare should be."
      ],
      "metadata": {
        "id": "syyyb76Z5jKj"
      },
      "execution_count": 18,
      "outputs": []
    },
    {
      "cell_type": "code",
      "source": [
        "predictors = ['COUPON','NEW','VACATION','SW','HI','S_INCOME','E_INCOME','S_POP','E_POP','SLOT','GATE','DISTANCE','PAX']\n",
        "outcome = 'FARE'"
      ],
      "metadata": {
        "id": "RmwVvh4iz1ni"
      },
      "execution_count": 19,
      "outputs": []
    },
    {
      "cell_type": "code",
      "source": [
        "# partition data\n",
        "X = pd.get_dummies(df[predictors], drop_first=True)\n",
        "y = df[outcome]\n",
        "X_train, X_valid, y_train, y_valid = train_test_split(X, y, test_size = 0.4, random_state = 1)\n"
      ],
      "metadata": {
        "id": "8UOqF8mM0Wvg"
      },
      "execution_count": 20,
      "outputs": []
    },
    {
      "cell_type": "code",
      "source": [
        "fare_lrm = LinearRegression()\n",
        "fare_lrm.fit(X_train, y_train)"
      ],
      "metadata": {
        "colab": {
          "base_uri": "https://localhost:8080/"
        },
        "id": "peVpJLr4107-",
        "outputId": "9ce85a69-2bff-46a3-d518-f54cd340b88c"
      },
      "execution_count": 21,
      "outputs": [
        {
          "output_type": "execute_result",
          "data": {
            "text/plain": [
              "LinearRegression()"
            ]
          },
          "metadata": {},
          "execution_count": 21
        }
      ]
    },
    {
      "cell_type": "code",
      "source": [
        "# evaluate the model\n",
        "regressionSummary(y_valid, fare_lrm.predict(X_valid))"
      ],
      "metadata": {
        "colab": {
          "base_uri": "https://localhost:8080/"
        },
        "id": "MZLtIQXzCdjB",
        "outputId": "77d4acf8-49a1-40e6-fc03-bc20f01721b8"
      },
      "execution_count": 22,
      "outputs": [
        {
          "output_type": "stream",
          "name": "stdout",
          "text": [
            "\n",
            "Regression statistics\n",
            "\n",
            "                      Mean Error (ME) : -1.8231\n",
            "       Root Mean Squared Error (RMSE) : 36.0002\n",
            "            Mean Absolute Error (MAE) : 28.5002\n",
            "          Mean Percentage Error (MPE) : -6.6037\n",
            "Mean Absolute Percentage Error (MAPE) : 21.6048\n"
          ]
        }
      ]
    },
    {
      "cell_type": "code",
      "source": [
        "from sklearn.preprocessing import StandardScaler"
      ],
      "metadata": {
        "id": "oQNUgraH3FdI"
      },
      "execution_count": 23,
      "outputs": []
    },
    {
      "cell_type": "code",
      "source": [
        "scaler = StandardScaler()"
      ],
      "metadata": {
        "id": "P-2qpYCa9tFZ"
      },
      "execution_count": 24,
      "outputs": []
    },
    {
      "cell_type": "code",
      "source": [
        "# partition data\n",
        "trainData, validData = train_test_split(df, test_size = 0.4, random_state = 1)"
      ],
      "metadata": {
        "id": "4YmIvEPA9xlp"
      },
      "execution_count": 25,
      "outputs": []
    },
    {
      "cell_type": "code",
      "source": [
        "# standardize the data\n",
        "scaler.fit(trainData[['COUPON','NEW','HI','S_INCOME','E_INCOME','S_POP','E_POP','DISTANCE','PAX']])"
      ],
      "metadata": {
        "colab": {
          "base_uri": "https://localhost:8080/"
        },
        "id": "j_7h92sO98Eb",
        "outputId": "32d73ae2-6cc0-4f19-9568-968e43c84963"
      },
      "execution_count": 26,
      "outputs": [
        {
          "output_type": "execute_result",
          "data": {
            "text/plain": [
              "StandardScaler()"
            ]
          },
          "metadata": {},
          "execution_count": 26
        }
      ]
    },
    {
      "cell_type": "code",
      "source": [
        "fareNorm = pd.concat([pd.DataFrame(scaler.transform(df[['COUPON','NEW','HI','S_INCOME','E_INCOME','S_POP','E_POP','DISTANCE','PAX']]),\n",
        "                                  columns = ['zCOUPON','zNEW','zHI','zS_INCOME','zE_INCOME','zS_POP','zE_POP','zDISTANCE','zPAX']),\n",
        "                     df[['FARE']]], axis = 1)"
      ],
      "metadata": {
        "id": "FXnJQuAfDMB1"
      },
      "execution_count": 27,
      "outputs": []
    },
    {
      "cell_type": "code",
      "source": [
        "trainNorm = fareNorm.iloc[trainData.index]\n",
        "validNorm = fareNorm.iloc[validData.index]"
      ],
      "metadata": {
        "id": "c0NiLsXpEatl"
      },
      "execution_count": 28,
      "outputs": []
    },
    {
      "cell_type": "code",
      "source": [
        "train_X = trainNorm[['zCOUPON','zNEW','zHI','zS_INCOME','zE_INCOME','zS_POP','zE_POP','zDISTANCE','zPAX']]\n",
        "train_Y = trainNorm[['FARE']]\n",
        "valid_X = validNorm[['zCOUPON','zNEW','zHI','zS_INCOME','zE_INCOME','zS_POP','zE_POP','zDISTANCE','zPAX']]\n",
        "valid_Y = validNorm[['FARE']]"
      ],
      "metadata": {
        "id": "1Lg8iVZpE8h1"
      },
      "execution_count": 29,
      "outputs": []
    },
    {
      "cell_type": "code",
      "source": [
        "fare_lrm_standard = LinearRegression()\n",
        "fare_lrm_standard.fit(train_X, train_Y)"
      ],
      "metadata": {
        "colab": {
          "base_uri": "https://localhost:8080/"
        },
        "id": "P68imKLLFNHX",
        "outputId": "8d0d66a2-a59e-4490-a6d5-c0e828687aa2"
      },
      "execution_count": 30,
      "outputs": [
        {
          "output_type": "execute_result",
          "data": {
            "text/plain": [
              "LinearRegression()"
            ]
          },
          "metadata": {},
          "execution_count": 30
        }
      ]
    },
    {
      "cell_type": "code",
      "source": [
        "# evaluate the model\n",
        "regressionSummary(valid_Y, fare_lrm_standard.predict(valid_X))"
      ],
      "metadata": {
        "colab": {
          "base_uri": "https://localhost:8080/"
        },
        "id": "y6FfTv6ZFgYd",
        "outputId": "49d70623-d40f-42b3-cafc-029909a3497f"
      },
      "execution_count": 31,
      "outputs": [
        {
          "output_type": "stream",
          "name": "stdout",
          "text": [
            "\n",
            "Regression statistics\n",
            "\n",
            "                      Mean Error (ME) : -1.0048\n",
            "       Root Mean Squared Error (RMSE) : 42.8813\n",
            "            Mean Absolute Error (MAE) : 34.5181\n",
            "          Mean Percentage Error (MPE) : -10.4026\n",
            "Mean Absolute Percentage Error (MAPE) : 26.7294\n"
          ]
        }
      ]
    },
    {
      "cell_type": "code",
      "source": [
        "# Q2 Surprisingly enough, the model that used standardized data performed slightly worse than when it was used on unprocessed data"
      ],
      "metadata": {
        "id": "s7PIGz84FnmY"
      },
      "execution_count": 32,
      "outputs": []
    },
    {
      "cell_type": "code",
      "source": [
        "predict = {'COUPON':[1.202], 'NEW':[3], 'VACATION':[0],'SW':[0],'HI':[4442.141],'S_INCOME':[28760],'E_INCOME':[27664],'S_POP':[4557004],'E_POP':[3195503],'SLOT':[1],'GATE':[1],'DISTANCE':[1976],'PAX':[12782]}"
      ],
      "metadata": {
        "id": "LYdc0cx7qg0E"
      },
      "execution_count": 33,
      "outputs": []
    },
    {
      "cell_type": "code",
      "source": [
        "predict_df = pd.DataFrame(predict)"
      ],
      "metadata": {
        "id": "wLJLYU-dqg8w"
      },
      "execution_count": 34,
      "outputs": []
    },
    {
      "cell_type": "code",
      "source": [
        "predict_df"
      ],
      "metadata": {
        "colab": {
          "base_uri": "https://localhost:8080/",
          "height": 81
        },
        "id": "LSm1BRDStozr",
        "outputId": "cb83b02b-7fc3-400e-d569-e6fa13dba284"
      },
      "execution_count": 35,
      "outputs": [
        {
          "output_type": "execute_result",
          "data": {
            "text/plain": [
              "   COUPON  NEW  VACATION  SW        HI  S_INCOME  E_INCOME    S_POP    E_POP  \\\n",
              "0   1.202    3         0   0  4442.141     28760     27664  4557004  3195503   \n",
              "\n",
              "   SLOT  GATE  DISTANCE    PAX  \n",
              "0     1     1      1976  12782  "
            ],
            "text/html": [
              "\n",
              "  <div id=\"df-35c70358-d6d6-4d42-bcc1-3839767739be\">\n",
              "    <div class=\"colab-df-container\">\n",
              "      <div>\n",
              "<style scoped>\n",
              "    .dataframe tbody tr th:only-of-type {\n",
              "        vertical-align: middle;\n",
              "    }\n",
              "\n",
              "    .dataframe tbody tr th {\n",
              "        vertical-align: top;\n",
              "    }\n",
              "\n",
              "    .dataframe thead th {\n",
              "        text-align: right;\n",
              "    }\n",
              "</style>\n",
              "<table border=\"1\" class=\"dataframe\">\n",
              "  <thead>\n",
              "    <tr style=\"text-align: right;\">\n",
              "      <th></th>\n",
              "      <th>COUPON</th>\n",
              "      <th>NEW</th>\n",
              "      <th>VACATION</th>\n",
              "      <th>SW</th>\n",
              "      <th>HI</th>\n",
              "      <th>S_INCOME</th>\n",
              "      <th>E_INCOME</th>\n",
              "      <th>S_POP</th>\n",
              "      <th>E_POP</th>\n",
              "      <th>SLOT</th>\n",
              "      <th>GATE</th>\n",
              "      <th>DISTANCE</th>\n",
              "      <th>PAX</th>\n",
              "    </tr>\n",
              "  </thead>\n",
              "  <tbody>\n",
              "    <tr>\n",
              "      <th>0</th>\n",
              "      <td>1.202</td>\n",
              "      <td>3</td>\n",
              "      <td>0</td>\n",
              "      <td>0</td>\n",
              "      <td>4442.141</td>\n",
              "      <td>28760</td>\n",
              "      <td>27664</td>\n",
              "      <td>4557004</td>\n",
              "      <td>3195503</td>\n",
              "      <td>1</td>\n",
              "      <td>1</td>\n",
              "      <td>1976</td>\n",
              "      <td>12782</td>\n",
              "    </tr>\n",
              "  </tbody>\n",
              "</table>\n",
              "</div>\n",
              "      <button class=\"colab-df-convert\" onclick=\"convertToInteractive('df-35c70358-d6d6-4d42-bcc1-3839767739be')\"\n",
              "              title=\"Convert this dataframe to an interactive table.\"\n",
              "              style=\"display:none;\">\n",
              "        \n",
              "  <svg xmlns=\"http://www.w3.org/2000/svg\" height=\"24px\"viewBox=\"0 0 24 24\"\n",
              "       width=\"24px\">\n",
              "    <path d=\"M0 0h24v24H0V0z\" fill=\"none\"/>\n",
              "    <path d=\"M18.56 5.44l.94 2.06.94-2.06 2.06-.94-2.06-.94-.94-2.06-.94 2.06-2.06.94zm-11 1L8.5 8.5l.94-2.06 2.06-.94-2.06-.94L8.5 2.5l-.94 2.06-2.06.94zm10 10l.94 2.06.94-2.06 2.06-.94-2.06-.94-.94-2.06-.94 2.06-2.06.94z\"/><path d=\"M17.41 7.96l-1.37-1.37c-.4-.4-.92-.59-1.43-.59-.52 0-1.04.2-1.43.59L10.3 9.45l-7.72 7.72c-.78.78-.78 2.05 0 2.83L4 21.41c.39.39.9.59 1.41.59.51 0 1.02-.2 1.41-.59l7.78-7.78 2.81-2.81c.8-.78.8-2.07 0-2.86zM5.41 20L4 18.59l7.72-7.72 1.47 1.35L5.41 20z\"/>\n",
              "  </svg>\n",
              "      </button>\n",
              "      \n",
              "  <style>\n",
              "    .colab-df-container {\n",
              "      display:flex;\n",
              "      flex-wrap:wrap;\n",
              "      gap: 12px;\n",
              "    }\n",
              "\n",
              "    .colab-df-convert {\n",
              "      background-color: #E8F0FE;\n",
              "      border: none;\n",
              "      border-radius: 50%;\n",
              "      cursor: pointer;\n",
              "      display: none;\n",
              "      fill: #1967D2;\n",
              "      height: 32px;\n",
              "      padding: 0 0 0 0;\n",
              "      width: 32px;\n",
              "    }\n",
              "\n",
              "    .colab-df-convert:hover {\n",
              "      background-color: #E2EBFA;\n",
              "      box-shadow: 0px 1px 2px rgba(60, 64, 67, 0.3), 0px 1px 3px 1px rgba(60, 64, 67, 0.15);\n",
              "      fill: #174EA6;\n",
              "    }\n",
              "\n",
              "    [theme=dark] .colab-df-convert {\n",
              "      background-color: #3B4455;\n",
              "      fill: #D2E3FC;\n",
              "    }\n",
              "\n",
              "    [theme=dark] .colab-df-convert:hover {\n",
              "      background-color: #434B5C;\n",
              "      box-shadow: 0px 1px 3px 1px rgba(0, 0, 0, 0.15);\n",
              "      filter: drop-shadow(0px 1px 2px rgba(0, 0, 0, 0.3));\n",
              "      fill: #FFFFFF;\n",
              "    }\n",
              "  </style>\n",
              "\n",
              "      <script>\n",
              "        const buttonEl =\n",
              "          document.querySelector('#df-35c70358-d6d6-4d42-bcc1-3839767739be button.colab-df-convert');\n",
              "        buttonEl.style.display =\n",
              "          google.colab.kernel.accessAllowed ? 'block' : 'none';\n",
              "\n",
              "        async function convertToInteractive(key) {\n",
              "          const element = document.querySelector('#df-35c70358-d6d6-4d42-bcc1-3839767739be');\n",
              "          const dataTable =\n",
              "            await google.colab.kernel.invokeFunction('convertToInteractive',\n",
              "                                                     [key], {});\n",
              "          if (!dataTable) return;\n",
              "\n",
              "          const docLinkHtml = 'Like what you see? Visit the ' +\n",
              "            '<a target=\"_blank\" href=https://colab.research.google.com/notebooks/data_table.ipynb>data table notebook</a>'\n",
              "            + ' to learn more about interactive tables.';\n",
              "          element.innerHTML = '';\n",
              "          dataTable['output_type'] = 'display_data';\n",
              "          await google.colab.output.renderOutput(dataTable, element);\n",
              "          const docLink = document.createElement('div');\n",
              "          docLink.innerHTML = docLinkHtml;\n",
              "          element.appendChild(docLink);\n",
              "        }\n",
              "      </script>\n",
              "    </div>\n",
              "  </div>\n",
              "  "
            ]
          },
          "metadata": {},
          "execution_count": 35
        }
      ]
    },
    {
      "cell_type": "code",
      "source": [
        "X = pd.get_dummies(predict_df[predictors])"
      ],
      "metadata": {
        "id": "UE5i-Xfes_gW"
      },
      "execution_count": 36,
      "outputs": []
    },
    {
      "cell_type": "code",
      "source": [
        "fare_lrm.predict(X)"
      ],
      "metadata": {
        "colab": {
          "base_uri": "https://localhost:8080/"
        },
        "id": "MtxkK8N_tXOQ",
        "outputId": "70ec79a1-691d-4a5b-e255-deacd865494b"
      },
      "execution_count": 37,
      "outputs": [
        {
          "output_type": "execute_result",
          "data": {
            "text/plain": [
              "array([253.6962435])"
            ]
          },
          "metadata": {},
          "execution_count": 37
        }
      ]
    },
    {
      "cell_type": "code",
      "source": [
        "# Q3: The model predicts the fare to be roughly 254 dollars."
      ],
      "metadata": {
        "id": "IU7LgGA5Kpew"
      },
      "execution_count": 38,
      "outputs": []
    },
    {
      "cell_type": "code",
      "source": [
        "# Q4: S_CODE, E_CODE, HI, E_INCOME, E_POP, GATE, S_CITY, E_CITY, S_INCOME, S_POP, SLOT, and DISTANCE are all variables that can be known in the real world.\n",
        "# In the situation of a new airport (as in the question given), since it is a new route, COUPON, VACATION, PAX, NEW, and SW variables might not be available in a real-world situation."
      ],
      "metadata": {
        "id": "SQvUCEyZxUdr"
      },
      "execution_count": 39,
      "outputs": []
    },
    {
      "cell_type": "code",
      "source": [
        ""
      ],
      "metadata": {
        "id": "8YTMGU7-yVp0"
      },
      "execution_count": null,
      "outputs": []
    }
  ]
}