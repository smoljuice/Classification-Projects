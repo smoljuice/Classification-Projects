{
  "nbformat": 4,
  "nbformat_minor": 0,
  "metadata": {
    "colab": {
      "name": "PA 2 DW HW 9.ipynb",
      "provenance": [],
      "collapsed_sections": []
    },
    "kernelspec": {
      "name": "python3",
      "display_name": "Python 3"
    },
    "language_info": {
      "name": "python"
    }
  },
  "cells": [
    {
      "cell_type": "code",
      "execution_count": null,
      "metadata": {
        "colab": {
          "base_uri": "https://localhost:8080/"
        },
        "id": "xSa5GTSykrq_",
        "outputId": "63d2c587-6921-4188-dd18-d36e035b6149"
      },
      "outputs": [
        {
          "output_type": "stream",
          "name": "stdout",
          "text": [
            "Requirement already satisfied: dmba in /usr/local/lib/python3.7/dist-packages (0.1.0)\n",
            "no display found. Using non-interactive Agg backend\n",
            "[nltk_data] Downloading package punkt to /root/nltk_data...\n",
            "[nltk_data]   Package punkt is already up-to-date!\n"
          ]
        },
        {
          "output_type": "execute_result",
          "data": {
            "text/plain": [
              "True"
            ]
          },
          "metadata": {},
          "execution_count": 1
        }
      ],
      "source": [
        "!pip install dmba\n",
        "import pandas as pd\n",
        "from sklearn.model_selection import train_test_split\n",
        "from sklearn.feature_extraction.text import CountVectorizer\n",
        "from sklearn.feature_extraction.text import TfidfTransformer\n",
        "from sklearn.decomposition import TruncatedSVD\n",
        "from sklearn.preprocessing import Normalizer\n",
        "from sklearn.pipeline import make_pipeline\n",
        "from sklearn.linear_model import LogisticRegression\n",
        "import nltk\n",
        "from nltk import word_tokenize\n",
        "from nltk.stem.snowball import EnglishStemmer\n",
        "import matplotlib.pylab as plt\n",
        "from dmba import printTermDocumentMatrix, classificationSummary, liftChart\n",
        "nltk.download('punkt')"
      ]
    },
    {
      "cell_type": "code",
      "source": [
        "df = pd.read_csv('farm-ads.csv', names=['relevance', 'text'])"
      ],
      "metadata": {
        "id": "OqXgDJUZnZWO"
      },
      "execution_count": null,
      "outputs": []
    },
    {
      "cell_type": "code",
      "source": [
        "df.head()"
      ],
      "metadata": {
        "colab": {
          "base_uri": "https://localhost:8080/",
          "height": 206
        },
        "id": "KheE3aO7oncr",
        "outputId": "a2ef0ac2-a06e-48c3-eaf4-817db9f4bd3e"
      },
      "execution_count": null,
      "outputs": [
        {
          "output_type": "execute_result",
          "data": {
            "text/plain": [
              "   relevance                                               text\n",
              "0         -1   ad-abdominal ad-aortic ad-aneurysm ad-doctorf...\n",
              "1         -1   ad-abdominal ad-aortic ad-aneurysm ad-million...\n",
              "2         -1   ad-absorbent ad-oil ad-snar ad-factory ad-dir...\n",
              "3         -1   ad-acid ad-reflux ad-relief ad-top ad-treatme...\n",
              "4         -1   ad-acid ad-reflux ad-symptom ad-acid ad-reflu..."
            ],
            "text/html": [
              "\n",
              "  <div id=\"df-483bb4db-e580-4787-9676-40fef1b12bc6\">\n",
              "    <div class=\"colab-df-container\">\n",
              "      <div>\n",
              "<style scoped>\n",
              "    .dataframe tbody tr th:only-of-type {\n",
              "        vertical-align: middle;\n",
              "    }\n",
              "\n",
              "    .dataframe tbody tr th {\n",
              "        vertical-align: top;\n",
              "    }\n",
              "\n",
              "    .dataframe thead th {\n",
              "        text-align: right;\n",
              "    }\n",
              "</style>\n",
              "<table border=\"1\" class=\"dataframe\">\n",
              "  <thead>\n",
              "    <tr style=\"text-align: right;\">\n",
              "      <th></th>\n",
              "      <th>relevance</th>\n",
              "      <th>text</th>\n",
              "    </tr>\n",
              "  </thead>\n",
              "  <tbody>\n",
              "    <tr>\n",
              "      <th>0</th>\n",
              "      <td>-1</td>\n",
              "      <td>ad-abdominal ad-aortic ad-aneurysm ad-doctorf...</td>\n",
              "    </tr>\n",
              "    <tr>\n",
              "      <th>1</th>\n",
              "      <td>-1</td>\n",
              "      <td>ad-abdominal ad-aortic ad-aneurysm ad-million...</td>\n",
              "    </tr>\n",
              "    <tr>\n",
              "      <th>2</th>\n",
              "      <td>-1</td>\n",
              "      <td>ad-absorbent ad-oil ad-snar ad-factory ad-dir...</td>\n",
              "    </tr>\n",
              "    <tr>\n",
              "      <th>3</th>\n",
              "      <td>-1</td>\n",
              "      <td>ad-acid ad-reflux ad-relief ad-top ad-treatme...</td>\n",
              "    </tr>\n",
              "    <tr>\n",
              "      <th>4</th>\n",
              "      <td>-1</td>\n",
              "      <td>ad-acid ad-reflux ad-symptom ad-acid ad-reflu...</td>\n",
              "    </tr>\n",
              "  </tbody>\n",
              "</table>\n",
              "</div>\n",
              "      <button class=\"colab-df-convert\" onclick=\"convertToInteractive('df-483bb4db-e580-4787-9676-40fef1b12bc6')\"\n",
              "              title=\"Convert this dataframe to an interactive table.\"\n",
              "              style=\"display:none;\">\n",
              "        \n",
              "  <svg xmlns=\"http://www.w3.org/2000/svg\" height=\"24px\"viewBox=\"0 0 24 24\"\n",
              "       width=\"24px\">\n",
              "    <path d=\"M0 0h24v24H0V0z\" fill=\"none\"/>\n",
              "    <path d=\"M18.56 5.44l.94 2.06.94-2.06 2.06-.94-2.06-.94-.94-2.06-.94 2.06-2.06.94zm-11 1L8.5 8.5l.94-2.06 2.06-.94-2.06-.94L8.5 2.5l-.94 2.06-2.06.94zm10 10l.94 2.06.94-2.06 2.06-.94-2.06-.94-.94-2.06-.94 2.06-2.06.94z\"/><path d=\"M17.41 7.96l-1.37-1.37c-.4-.4-.92-.59-1.43-.59-.52 0-1.04.2-1.43.59L10.3 9.45l-7.72 7.72c-.78.78-.78 2.05 0 2.83L4 21.41c.39.39.9.59 1.41.59.51 0 1.02-.2 1.41-.59l7.78-7.78 2.81-2.81c.8-.78.8-2.07 0-2.86zM5.41 20L4 18.59l7.72-7.72 1.47 1.35L5.41 20z\"/>\n",
              "  </svg>\n",
              "      </button>\n",
              "      \n",
              "  <style>\n",
              "    .colab-df-container {\n",
              "      display:flex;\n",
              "      flex-wrap:wrap;\n",
              "      gap: 12px;\n",
              "    }\n",
              "\n",
              "    .colab-df-convert {\n",
              "      background-color: #E8F0FE;\n",
              "      border: none;\n",
              "      border-radius: 50%;\n",
              "      cursor: pointer;\n",
              "      display: none;\n",
              "      fill: #1967D2;\n",
              "      height: 32px;\n",
              "      padding: 0 0 0 0;\n",
              "      width: 32px;\n",
              "    }\n",
              "\n",
              "    .colab-df-convert:hover {\n",
              "      background-color: #E2EBFA;\n",
              "      box-shadow: 0px 1px 2px rgba(60, 64, 67, 0.3), 0px 1px 3px 1px rgba(60, 64, 67, 0.15);\n",
              "      fill: #174EA6;\n",
              "    }\n",
              "\n",
              "    [theme=dark] .colab-df-convert {\n",
              "      background-color: #3B4455;\n",
              "      fill: #D2E3FC;\n",
              "    }\n",
              "\n",
              "    [theme=dark] .colab-df-convert:hover {\n",
              "      background-color: #434B5C;\n",
              "      box-shadow: 0px 1px 3px 1px rgba(0, 0, 0, 0.15);\n",
              "      filter: drop-shadow(0px 1px 2px rgba(0, 0, 0, 0.3));\n",
              "      fill: #FFFFFF;\n",
              "    }\n",
              "  </style>\n",
              "\n",
              "      <script>\n",
              "        const buttonEl =\n",
              "          document.querySelector('#df-483bb4db-e580-4787-9676-40fef1b12bc6 button.colab-df-convert');\n",
              "        buttonEl.style.display =\n",
              "          google.colab.kernel.accessAllowed ? 'block' : 'none';\n",
              "\n",
              "        async function convertToInteractive(key) {\n",
              "          const element = document.querySelector('#df-483bb4db-e580-4787-9676-40fef1b12bc6');\n",
              "          const dataTable =\n",
              "            await google.colab.kernel.invokeFunction('convertToInteractive',\n",
              "                                                     [key], {});\n",
              "          if (!dataTable) return;\n",
              "\n",
              "          const docLinkHtml = 'Like what you see? Visit the ' +\n",
              "            '<a target=\"_blank\" href=https://colab.research.google.com/notebooks/data_table.ipynb>data table notebook</a>'\n",
              "            + ' to learn more about interactive tables.';\n",
              "          element.innerHTML = '';\n",
              "          dataTable['output_type'] = 'display_data';\n",
              "          await google.colab.output.renderOutput(dataTable, element);\n",
              "          const docLink = document.createElement('div');\n",
              "          docLink.innerHTML = docLinkHtml;\n",
              "          element.appendChild(docLink);\n",
              "        }\n",
              "      </script>\n",
              "    </div>\n",
              "  </div>\n",
              "  "
            ]
          },
          "metadata": {},
          "execution_count": 3
        }
      ]
    },
    {
      "cell_type": "code",
      "source": [
        "df.info()"
      ],
      "metadata": {
        "colab": {
          "base_uri": "https://localhost:8080/"
        },
        "id": "TzBOfKwioobs",
        "outputId": "b53e8b10-b81b-4f6e-e09e-8b537cc20aaf"
      },
      "execution_count": null,
      "outputs": [
        {
          "output_type": "stream",
          "name": "stdout",
          "text": [
            "<class 'pandas.core.frame.DataFrame'>\n",
            "RangeIndex: 4143 entries, 0 to 4142\n",
            "Data columns (total 2 columns):\n",
            " #   Column     Non-Null Count  Dtype \n",
            "---  ------     --------------  ----- \n",
            " 0   relevance  4143 non-null   int64 \n",
            " 1   text       4143 non-null   object\n",
            "dtypes: int64(1), object(1)\n",
            "memory usage: 64.9+ KB\n"
          ]
        }
      ]
    },
    {
      "cell_type": "code",
      "source": [
        "cv = CountVectorizer()"
      ],
      "metadata": {
        "id": "IgzUIJQgpTvL"
      },
      "execution_count": null,
      "outputs": []
    },
    {
      "cell_type": "code",
      "source": [
        "counts = cv.fit_transform(df['text'])"
      ],
      "metadata": {
        "id": "xWq3FNj0p8od"
      },
      "execution_count": null,
      "outputs": []
    },
    {
      "cell_type": "code",
      "source": [
        "printTermDocumentMatrix(cv, counts)"
      ],
      "metadata": {
        "colab": {
          "base_uri": "https://localhost:8080/"
        },
        "id": "VsGZ9Ouaqk4M",
        "outputId": "b7d09bd4-46de-42b2-f3e6-3b6e6b410182"
      },
      "execution_count": null,
      "outputs": [
        {
          "output_type": "stream",
          "name": "stdout",
          "text": [
            "             S1  S2  S3  S4  S5  S6  S7  S8  S9  S10  ...  S4134  S4135  \\\n",
            "aa            0   0   0   0   0   0   0   0   0    0  ...      0      0   \n",
            "aaa           1   1   0   0   0   0   0   0   0    0  ...      0      0   \n",
            "aaaa          0   0   0   0   0   0   0   0   0    0  ...      0      0   \n",
            "aaaaa         0   0   0   0   0   0   0   0   0    0  ...      0      0   \n",
            "aaaaaaaaaew   0   0   0   0   0   0   0   0   0    0  ...      0      0   \n",
            "...          ..  ..  ..  ..  ..  ..  ..  ..  ..  ...  ...    ...    ...   \n",
            "zydeco        0   0   0   0   0   0   0   0   0    0  ...      0      0   \n",
            "zyla          0   0   0   0   0   0   0   0   0    0  ...      0      0   \n",
            "zymosine      0   0   0   0   0   0   0   0   0    0  ...      0      0   \n",
            "zyrtec        0   0   0   0   0   0   0   0   0    0  ...      0      0   \n",
            "zzay          0   0   0   0   0   0   0   0   0    0  ...      0      0   \n",
            "\n",
            "             S4136  S4137  S4138  S4139  S4140  S4141  S4142  S4143  \n",
            "aa               0      0      0      0      0      0      0      0  \n",
            "aaa              0      0      0      0      0      0      0      0  \n",
            "aaaa             0      0      0      0      0      0      0      0  \n",
            "aaaaa            0      0      0      0      0      0      0      0  \n",
            "aaaaaaaaaew      0      0      0      0      0      0      0      0  \n",
            "...            ...    ...    ...    ...    ...    ...    ...    ...  \n",
            "zydeco           0      0      0      0      0      0      0      0  \n",
            "zyla             0      0      0      0      0      0      0      0  \n",
            "zymosine         0      0      0      0      0      0      0      0  \n",
            "zyrtec           0      0      0      0      0      0      0      0  \n",
            "zzay             0      0      0      0      0      0      0      0  \n",
            "\n",
            "[47513 rows x 4143 columns]\n"
          ]
        }
      ]
    },
    {
      "cell_type": "code",
      "source": [
        "counts.count_nonzero()"
      ],
      "metadata": {
        "colab": {
          "base_uri": "https://localhost:8080/"
        },
        "id": "st9yHjfX1S-W",
        "outputId": "188b3d14-e5e9-487b-9015-fc8dbe493f77"
      },
      "execution_count": null,
      "outputs": [
        {
          "output_type": "execute_result",
          "data": {
            "text/plain": [
              "604441"
            ]
          },
          "metadata": {},
          "execution_count": 8
        }
      ]
    },
    {
      "cell_type": "code",
      "source": [
        "counts.shape"
      ],
      "metadata": {
        "colab": {
          "base_uri": "https://localhost:8080/"
        },
        "id": "9LaszdwL1jw_",
        "outputId": "b5f93819-81f3-4f37-8a3e-fa6533c57246"
      },
      "execution_count": null,
      "outputs": [
        {
          "output_type": "execute_result",
          "data": {
            "text/plain": [
              "(4143, 47513)"
            ]
          },
          "metadata": {},
          "execution_count": 9
        }
      ]
    },
    {
      "cell_type": "code",
      "source": [
        "# Q1 I would say that the term-document matrix is dense. This is because most of the entries in the matrix are non-zeroes and there are zero entries. A sparse matrix would have mostly zeroes.\n",
        "# Non-zero elements mean that in that document, that term is found n times. For example, in ads 1 and 2, we have the term 'aaa' once in each."
      ],
      "metadata": {
        "id": "dZN2PQQxqnvl"
      },
      "execution_count": null,
      "outputs": []
    },
    {
      "cell_type": "code",
      "source": [
        "tfidfTransformer = TfidfTransformer()"
      ],
      "metadata": {
        "id": "9Wqsa2m9s23v"
      },
      "execution_count": null,
      "outputs": []
    },
    {
      "cell_type": "code",
      "source": [
        "tfidf = tfidfTransformer.fit_transform(counts)"
      ],
      "metadata": {
        "id": "84w81cSiuJs1"
      },
      "execution_count": null,
      "outputs": []
    },
    {
      "cell_type": "code",
      "source": [
        "svd = TruncatedSVD(20)\n",
        "normalizer = Normalizer(copy=False)"
      ],
      "metadata": {
        "id": "Ywv9vExXuNyt"
      },
      "execution_count": null,
      "outputs": []
    },
    {
      "cell_type": "code",
      "source": [
        "lsa = make_pipeline(svd, normalizer)"
      ],
      "metadata": {
        "id": "U1mzCWu7uV0R"
      },
      "execution_count": null,
      "outputs": []
    },
    {
      "cell_type": "code",
      "source": [
        "lsa_tfidf = lsa.fit_transform(tfidf)"
      ],
      "metadata": {
        "id": "VFY7YATeu4lT"
      },
      "execution_count": null,
      "outputs": []
    },
    {
      "cell_type": "code",
      "source": [
        "# Q2 The brief explanation is that when terms are often used in the same document, they represent the same concept. \n",
        "# The concept-document matrix, rather than just being a matrix of terms, is a matrix of combinations of the terms that are correlated with one another."
      ],
      "metadata": {
        "id": "1MuhxCZou7pF"
      },
      "execution_count": null,
      "outputs": []
    },
    {
      "cell_type": "code",
      "source": [
        "X = lsa_tfidf\n",
        "y = df['relevance']"
      ],
      "metadata": {
        "id": "mLwUza5evRxS"
      },
      "execution_count": null,
      "outputs": []
    },
    {
      "cell_type": "code",
      "source": [
        "X_train, X_test, y_train, y_test = train_test_split(X, y, test_size = .4, random_state=1)"
      ],
      "metadata": {
        "id": "-QcYRH8t22k8"
      },
      "execution_count": null,
      "outputs": []
    },
    {
      "cell_type": "code",
      "source": [
        "logit_reg = LogisticRegression(solver='lbfgs')"
      ],
      "metadata": {
        "id": "3lZfqmLy3KWC"
      },
      "execution_count": null,
      "outputs": []
    },
    {
      "cell_type": "code",
      "source": [
        "logit_reg.fit(X_train, y_train)"
      ],
      "metadata": {
        "colab": {
          "base_uri": "https://localhost:8080/"
        },
        "id": "Oc3UpxAW394W",
        "outputId": "930ecc6d-51c1-40de-8607-9cf8ba92179f"
      },
      "execution_count": null,
      "outputs": [
        {
          "output_type": "execute_result",
          "data": {
            "text/plain": [
              "LogisticRegression()"
            ]
          },
          "metadata": {},
          "execution_count": 20
        }
      ]
    },
    {
      "cell_type": "code",
      "source": [
        "classificationSummary(y_test, logit_reg.predict(X_test))"
      ],
      "metadata": {
        "colab": {
          "base_uri": "https://localhost:8080/"
        },
        "id": "LallVBXw4BIv",
        "outputId": "f22d09f0-39cf-40a8-c00e-90aba680fe8a"
      },
      "execution_count": null,
      "outputs": [
        {
          "output_type": "stream",
          "name": "stdout",
          "text": [
            "Confusion Matrix (Accuracy 0.8818)\n",
            "\n",
            "       Prediction\n",
            "Actual   0   1\n",
            "     0 679 111\n",
            "     1  85 783\n"
          ]
        }
      ]
    },
    {
      "cell_type": "code",
      "source": [
        "# Q3 For the problem at hand, the model did pretty well with classifying the ads. However, there is room to improve with the model and with adjustments perhaps a higher accuracy could be obtained."
      ],
      "metadata": {
        "id": "HBREAwcc4HR7"
      },
      "execution_count": null,
      "outputs": []
    },
    {
      "cell_type": "code",
      "source": [
        "# Q4 Using a concept-document matrix is very important for a dataset of this size. \n",
        "# Instead of using the 47,000 unique terms as predictors, which would require a large amount of time and processing power, we can build the model on 20 concepts instead."
      ],
      "metadata": {
        "id": "6ZOIQFay_CR7"
      },
      "execution_count": null,
      "outputs": []
    }
  ]
}